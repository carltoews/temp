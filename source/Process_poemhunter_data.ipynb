{
 "cells": [
  {
   "cell_type": "markdown",
   "metadata": {},
   "source": [
    "## Process_poemhunter_data\n",
    "\n",
    "**Description:**  Process and database the scraped poems from Poemhunter\n",
    "\n",
    "The poems for this project were scraped from various sources.  One of these sources was \"poemhunter.com\", and the source code I used to scrape was largely borrowed from Chaim Gluck (https://github.com/chaimgluck.)  Here I clean the poems, separate them by sentence, and store various subsets in a database for use with my \"PoeML\" app."
   ]
  },
  {
   "cell_type": "code",
   "execution_count": 3,
   "metadata": {},
   "outputs": [],
   "source": [
    "import pandas as pd\n",
    "import sqlalchemy # pandas-mysql interface library\n",
    "import glob # for file manipulation\n",
    "import sys # for defining behavior under errors\n",
    "import numpy as np\n",
    "import csv\n",
    "import nltk\n",
    "import re\n",
    "import time\n",
    "import re\n",
    "import string\n",
    "import spacy\n",
    "from textblob import TextBlob\n",
    "from sklearn.feature_extraction.text import CountVectorizer, TfidfTransformer\n",
    "from sklearn.decomposition import LatentDirichletAllocation, TruncatedSVD, NMF\n",
    "from sklearn.linear_model import LogisticRegression\n",
    "from sklearn.metrics import precision_recall_curve, roc_auc_score, roc_curve, auc\n",
    "from sklearn.metrics.pairwise import euclidean_distances, cosine_distances, cosine_similarity\n",
    "from sklearn import preprocessing\n",
    "from sklearn.cluster import AgglomerativeClustering, spectral_clustering\n",
    "from sklearn.preprocessing import normalize\n",
    "from collections import Counter, OrderedDict\n",
    "from sklearn.base import TransformerMixin\n",
    "from sklearn.pipeline import Pipeline\n",
    "from sklearn.feature_extraction.stop_words import ENGLISH_STOP_WORDS\n",
    "from sklearn.metrics import accuracy_score\n",
    "from nltk.corpus import stopwords\n",
    "from nltk import SnowballStemmer\n",
    "import matplotlib\n",
    "from matplotlib import pyplot as plt\n",
    "%matplotlib inline"
   ]
  },
  {
   "cell_type": "markdown",
   "metadata": {},
   "source": [
    "### Load and view the data"
   ]
  },
  {
   "cell_type": "code",
   "execution_count": 2,
   "metadata": {},
   "outputs": [],
   "source": [
    "# path and file names for both full poetry set and also cleaned set\n",
    "datapath = \"/Users/ctoews/Documents/Insight/Project/data/poems/\"\n",
    "filename = \"full_df.csv\""
   ]
  },
  {
   "cell_type": "code",
   "execution_count": 5,
   "metadata": {},
   "outputs": [
    {
     "data": {
      "text/html": [
       "<div>\n",
       "<style scoped>\n",
       "    .dataframe tbody tr th:only-of-type {\n",
       "        vertical-align: middle;\n",
       "    }\n",
       "\n",
       "    .dataframe tbody tr th {\n",
       "        vertical-align: top;\n",
       "    }\n",
       "\n",
       "    .dataframe thead th {\n",
       "        text-align: right;\n",
       "    }\n",
       "</style>\n",
       "<table border=\"1\" class=\"dataframe\">\n",
       "  <thead>\n",
       "    <tr style=\"text-align: right;\">\n",
       "      <th></th>\n",
       "      <th>name</th>\n",
       "      <th>full_poem</th>\n",
       "      <th>number</th>\n",
       "      <th>birth</th>\n",
       "      <th>death</th>\n",
       "    </tr>\n",
       "  </thead>\n",
       "  <tbody>\n",
       "    <tr>\n",
       "      <th>0</th>\n",
       "      <td>Deborah Ager</td>\n",
       "      <td>When I knew, it was raining. Winter in decline...</td>\n",
       "      <td>10</td>\n",
       "      <td>1971</td>\n",
       "      <td>2016</td>\n",
       "    </tr>\n",
       "    <tr>\n",
       "      <th>1</th>\n",
       "      <td>Deborah Ager</td>\n",
       "      <td>The yard half a yard,  half a lake blue as a c...</td>\n",
       "      <td>10</td>\n",
       "      <td>1971</td>\n",
       "      <td>2016</td>\n",
       "    </tr>\n",
       "    <tr>\n",
       "      <th>2</th>\n",
       "      <td>Deborah Ager</td>\n",
       "      <td>They tell me that your heart has been found in...</td>\n",
       "      <td>10</td>\n",
       "      <td>1971</td>\n",
       "      <td>2016</td>\n",
       "    </tr>\n",
       "    <tr>\n",
       "      <th>3</th>\n",
       "      <td>Deborah Ager</td>\n",
       "      <td>The city is closing for the night. Stores draw...</td>\n",
       "      <td>10</td>\n",
       "      <td>1971</td>\n",
       "      <td>2016</td>\n",
       "    </tr>\n",
       "    <tr>\n",
       "      <th>4</th>\n",
       "      <td>Deborah Ager</td>\n",
       "      <td>Rain drenches the patio stones. All night was ...</td>\n",
       "      <td>10</td>\n",
       "      <td>1971</td>\n",
       "      <td>2016</td>\n",
       "    </tr>\n",
       "  </tbody>\n",
       "</table>\n",
       "</div>"
      ],
      "text/plain": [
       "           name                                          full_poem  number  \\\n",
       "0  Deborah Ager  When I knew, it was raining. Winter in decline...      10   \n",
       "1  Deborah Ager  The yard half a yard,  half a lake blue as a c...      10   \n",
       "2  Deborah Ager  They tell me that your heart has been found in...      10   \n",
       "3  Deborah Ager  The city is closing for the night. Stores draw...      10   \n",
       "4  Deborah Ager  Rain drenches the patio stones. All night was ...      10   \n",
       "\n",
       "   birth  death  \n",
       "0   1971   2016  \n",
       "1   1971   2016  \n",
       "2   1971   2016  \n",
       "3   1971   2016  \n",
       "4   1971   2016  "
      ]
     },
     "execution_count": 5,
     "metadata": {},
     "output_type": "execute_result"
    }
   ],
   "source": [
    "#  store the poetry as a datafame\n",
    "poetry = pd.read_csv(datapath+filename)\n",
    "poetry.head()"
   ]
  },
  {
   "cell_type": "markdown",
   "metadata": {},
   "source": [
    "Some of these poems are rather long.  We'll focus on shorter poems, so no single poem unbalances the dataset."
   ]
  },
  {
   "cell_type": "code",
   "execution_count": 27,
   "metadata": {},
   "outputs": [],
   "source": [
    "# calculate length for each poem, and plot it in a histogram\n",
    "poetry['lengths'] = poetry['full_poem'].map(lambda x: len(x))"
   ]
  },
  {
   "cell_type": "code",
   "execution_count": 29,
   "metadata": {},
   "outputs": [
    {
     "data": {
      "text/plain": [
       "34330"
      ]
     },
     "execution_count": 29,
     "metadata": {},
     "output_type": "execute_result"
    },
    {
     "data": {
      "image/png": "[encoded data removed]",
      "text/plain": [
       "<matplotlib.figure.Figure at 0x11510a5f8>"
      ]
     },
     "metadata": {},
     "output_type": "display_data"
    }
   ],
   "source": [
    "max_length = 1200\n",
    "plt.hist(poetry.lengths.loc[poetry.lengths<max_length],20)\n",
    "len(poetry.lengths.loc[poetry.lengths<max_length])\n",
    "len(poetry)"
   ]
  },
  {
   "cell_type": "code",
   "execution_count": 31,
   "metadata": {},
   "outputs": [],
   "source": [
    "# we'll store the short poems in \"df\"\n",
    "df = poetry.loc[poetry.lengths<max_length,:]"
   ]
  },
  {
   "cell_type": "code",
   "execution_count": null,
   "metadata": {},
   "outputs": [],
   "source": []
  },
  {
   "cell_type": "code",
   "execution_count": null,
   "metadata": {},
   "outputs": [],
   "source": []
  },
  {
   "cell_type": "code",
   "execution_count": null,
   "metadata": {},
   "outputs": [],
   "source": []
  },
  {
   "cell_type": "code",
   "execution_count": null,
   "metadata": {},
   "outputs": [],
   "source": []
  },
  {
   "cell_type": "code",
   "execution_count": 7,
   "metadata": {},
   "outputs": [],
   "source": [
    "engine = pml.connect_db()"
   ]
  },
  {
   "cell_type": "markdown",
   "metadata": {},
   "source": [
    "*Display existing tables*"
   ]
  },
  {
   "cell_type": "code",
   "execution_count": 8,
   "metadata": {},
   "outputs": [
    {
     "name": "stdout",
     "output_type": "stream",
     "text": [
      "[('sonnet_vector',), ('sonnet_full',), ('sonnet_lines',), ('sonnet_sentences',), ('poem_embeddings',)]\n"
     ]
    }
   ],
   "source": [
    "tables = engine.execute(\"select relname from pg_class where relkind='r' and relname !~ '^(pg_|sql_)';\")\n",
    "print(tables.fetchall())"
   ]
  },
  {
   "cell_type": "markdown",
   "metadata": {},
   "source": [
    "*Extract both full sonnets, sonnet sentences, and sonnet lines.*"
   ]
  },
  {
   "cell_type": "code",
   "execution_count": 9,
   "metadata": {},
   "outputs": [
    {
     "data": {
      "text/html": [
       "<div>\n",
       "<style scoped>\n",
       "    .dataframe tbody tr th:only-of-type {\n",
       "        vertical-align: middle;\n",
       "    }\n",
       "\n",
       "    .dataframe tbody tr th {\n",
       "        vertical-align: top;\n",
       "    }\n",
       "\n",
       "    .dataframe thead th {\n",
       "        text-align: right;\n",
       "    }\n",
       "</style>\n",
       "<table border=\"1\" class=\"dataframe\">\n",
       "  <thead>\n",
       "    <tr style=\"text-align: right;\">\n",
       "      <th></th>\n",
       "      <th>index</th>\n",
       "      <th>title</th>\n",
       "      <th>poem</th>\n",
       "    </tr>\n",
       "  </thead>\n",
       "  <tbody>\n",
       "    <tr>\n",
       "      <th>0</th>\n",
       "      <td>0</td>\n",
       "      <td>I</td>\n",
       "      <td>From fairest creatures we desire increase, Tha...</td>\n",
       "    </tr>\n",
       "    <tr>\n",
       "      <th>1</th>\n",
       "      <td>1</td>\n",
       "      <td>II</td>\n",
       "      <td>When forty winters shall besiege thy brow, And...</td>\n",
       "    </tr>\n",
       "    <tr>\n",
       "      <th>2</th>\n",
       "      <td>2</td>\n",
       "      <td>III</td>\n",
       "      <td>Look in thy glass and tell the face thou viewe...</td>\n",
       "    </tr>\n",
       "    <tr>\n",
       "      <th>3</th>\n",
       "      <td>3</td>\n",
       "      <td>IV</td>\n",
       "      <td>Unthrifty loveliness, why dost thou spend Upon...</td>\n",
       "    </tr>\n",
       "    <tr>\n",
       "      <th>4</th>\n",
       "      <td>4</td>\n",
       "      <td>V</td>\n",
       "      <td>Those hours, that with gentle work did frame T...</td>\n",
       "    </tr>\n",
       "  </tbody>\n",
       "</table>\n",
       "</div>"
      ],
      "text/plain": [
       "   index title                                               poem\n",
       "0      0     I  From fairest creatures we desire increase, Tha...\n",
       "1      1    II  When forty winters shall besiege thy brow, And...\n",
       "2      2   III  Look in thy glass and tell the face thou viewe...\n",
       "3      3    IV  Unthrifty loveliness, why dost thou spend Upon...\n",
       "4      4     V  Those hours, that with gentle work did frame T..."
      ]
     },
     "execution_count": 9,
     "metadata": {},
     "output_type": "execute_result"
    }
   ],
   "source": [
    "query = \"select * from sonnet_full;\"\n",
    "sonnet_full = pd.read_sql(query,engine)\n",
    "sonnet_full.head()"
   ]
  },
  {
   "cell_type": "code",
   "execution_count": 11,
   "metadata": {},
   "outputs": [
    {
     "data": {
      "text/html": [
       "<div>\n",
       "<style scoped>\n",
       "    .dataframe tbody tr th:only-of-type {\n",
       "        vertical-align: middle;\n",
       "    }\n",
       "\n",
       "    .dataframe tbody tr th {\n",
       "        vertical-align: top;\n",
       "    }\n",
       "\n",
       "    .dataframe thead th {\n",
       "        text-align: right;\n",
       "    }\n",
       "</style>\n",
       "<table border=\"1\" class=\"dataframe\">\n",
       "  <thead>\n",
       "    <tr style=\"text-align: right;\">\n",
       "      <th></th>\n",
       "      <th>index</th>\n",
       "      <th>title</th>\n",
       "      <th>line</th>\n",
       "    </tr>\n",
       "  </thead>\n",
       "  <tbody>\n",
       "    <tr>\n",
       "      <th>0</th>\n",
       "      <td>0</td>\n",
       "      <td>I</td>\n",
       "      <td>From fairest creatures we desire increase,</td>\n",
       "    </tr>\n",
       "    <tr>\n",
       "      <th>1</th>\n",
       "      <td>1</td>\n",
       "      <td>I</td>\n",
       "      <td>That thereby beauty's rose might never die,</td>\n",
       "    </tr>\n",
       "    <tr>\n",
       "      <th>2</th>\n",
       "      <td>2</td>\n",
       "      <td>I</td>\n",
       "      <td>But as the riper should by time decease,</td>\n",
       "    </tr>\n",
       "    <tr>\n",
       "      <th>3</th>\n",
       "      <td>3</td>\n",
       "      <td>I</td>\n",
       "      <td>His tender heir might bear his memory:</td>\n",
       "    </tr>\n",
       "    <tr>\n",
       "      <th>4</th>\n",
       "      <td>4</td>\n",
       "      <td>I</td>\n",
       "      <td>But thou, contracted to thine own bright eyes,</td>\n",
       "    </tr>\n",
       "  </tbody>\n",
       "</table>\n",
       "</div>"
      ],
      "text/plain": [
       "   index title                                            line\n",
       "0      0     I      From fairest creatures we desire increase,\n",
       "1      1     I     That thereby beauty's rose might never die,\n",
       "2      2     I        But as the riper should by time decease,\n",
       "3      3     I          His tender heir might bear his memory:\n",
       "4      4     I  But thou, contracted to thine own bright eyes,"
      ]
     },
     "execution_count": 11,
     "metadata": {},
     "output_type": "execute_result"
    }
   ],
   "source": [
    "query = \"select * from sonnet_lines;\"\n",
    "sonnet_lines = pd.read_sql(query,engine)\n",
    "sonnet_lines.head()"
   ]
  },
  {
   "cell_type": "code",
   "execution_count": 12,
   "metadata": {},
   "outputs": [
    {
     "data": {
      "text/html": [
       "<div>\n",
       "<style scoped>\n",
       "    .dataframe tbody tr th:only-of-type {\n",
       "        vertical-align: middle;\n",
       "    }\n",
       "\n",
       "    .dataframe tbody tr th {\n",
       "        vertical-align: top;\n",
       "    }\n",
       "\n",
       "    .dataframe thead th {\n",
       "        text-align: right;\n",
       "    }\n",
       "</style>\n",
       "<table border=\"1\" class=\"dataframe\">\n",
       "  <thead>\n",
       "    <tr style=\"text-align: right;\">\n",
       "      <th></th>\n",
       "      <th>index</th>\n",
       "      <th>title</th>\n",
       "      <th>sentence</th>\n",
       "    </tr>\n",
       "  </thead>\n",
       "  <tbody>\n",
       "    <tr>\n",
       "      <th>0</th>\n",
       "      <td>0</td>\n",
       "      <td>I</td>\n",
       "      <td>From fairest creatures we desire increase, Tha...</td>\n",
       "    </tr>\n",
       "    <tr>\n",
       "      <th>1</th>\n",
       "      <td>1</td>\n",
       "      <td>I</td>\n",
       "      <td>But thou, contracted to thine own bright eyes...</td>\n",
       "    </tr>\n",
       "    <tr>\n",
       "      <th>2</th>\n",
       "      <td>2</td>\n",
       "      <td>I</td>\n",
       "      <td>Thou that art now the world's fresh ornament,...</td>\n",
       "    </tr>\n",
       "    <tr>\n",
       "      <th>3</th>\n",
       "      <td>3</td>\n",
       "      <td>I</td>\n",
       "      <td>Pity the world, or else this glutton be, To e...</td>\n",
       "    </tr>\n",
       "    <tr>\n",
       "      <th>4</th>\n",
       "      <td>4</td>\n",
       "      <td>II</td>\n",
       "      <td>When forty winters shall besiege thy brow, And...</td>\n",
       "    </tr>\n",
       "  </tbody>\n",
       "</table>\n",
       "</div>"
      ],
      "text/plain": [
       "   index title                                           sentence\n",
       "0      0     I  From fairest creatures we desire increase, Tha...\n",
       "1      1     I   But thou, contracted to thine own bright eyes...\n",
       "2      2     I   Thou that art now the world's fresh ornament,...\n",
       "3      3     I   Pity the world, or else this glutton be, To e...\n",
       "4      4    II  When forty winters shall besiege thy brow, And..."
      ]
     },
     "execution_count": 12,
     "metadata": {},
     "output_type": "execute_result"
    }
   ],
   "source": [
    "query = \"select * from sonnet_sentences order by index;\"\n",
    "sonnet_sentences = pd.read_sql(query,engine)\n",
    "len(sonnet_sentences)\n",
    "sonnet_sentences.head()"
   ]
  },
  {
   "cell_type": "code",
   "execution_count": 978,
   "metadata": {},
   "outputs": [],
   "source": [
    "#query = \"drop table sonnet_sentences;\"\n",
    "#engine.execute(query)\n",
    "#sonnet_sentences.to_sql('sonnet_sentences',engine)\n",
    "#del sonnet_sentences['index']"
   ]
  },
  {
   "cell_type": "markdown",
   "metadata": {},
   "source": [
    "## Clean, tokenize, and transform the text\n",
    "\n"
   ]
  },
  {
   "cell_type": "code",
   "execution_count": 13,
   "metadata": {},
   "outputs": [],
   "source": [
    "# borrow parser from spacy\n",
    "parser = spacy.load('en')\n",
    "data = sonnet_sentences['sentence']"
   ]
  },
  {
   "cell_type": "code",
   "execution_count": 14,
   "metadata": {},
   "outputs": [],
   "source": [
    "# load up shakespeare's stopwords\n",
    "shakespeares_stopwords = []\n",
    "f = open(\"../data/Shakespeare/shakespeares_stopwords.txt\",\"r\")\n",
    "for line in f:\n",
    "    if len(line)>1:\n",
    "        shakespeares_stopwords.append(line.strip('\\n'))"
   ]
  },
  {
   "cell_type": "code",
   "execution_count": 15,
   "metadata": {},
   "outputs": [],
   "source": [
    "# A custom stoplist\n",
    "STOPLIST = set(stopwords.words('english') + list(shakespeares_stopwords))\n",
    "# List of symbols we don't care about\n",
    "SYMBOLS = \" \".join(string.punctuation).split(\" \") + \\\n",
    "          [\"-----\", \"---\", \"...\", \"“\", \"”\", \"'s\"]"
   ]
  },
  {
   "cell_type": "code",
   "execution_count": 16,
   "metadata": {},
   "outputs": [],
   "source": [
    "# Every step in a pipeline needs to be a \"transformer\". \n",
    "# Define a custom transformer to clean text using spaCy\n",
    "class CleanTextTransformer(TransformerMixin):\n",
    "    \"\"\"\n",
    "    Convert text to cleaned text\n",
    "    \"\"\"\n",
    "\n",
    "    def transform(self, X, **transform_params):\n",
    "        return [cleanText(text) for text in X]\n",
    "\n",
    "    def fit(self, X, y=None, **fit_params):\n",
    "        return self\n",
    "\n",
    "    def get_params(self, deep=True):\n",
    "        return {}"
   ]
  },
  {
   "cell_type": "code",
   "execution_count": 26,
   "metadata": {},
   "outputs": [],
   "source": [
    "# A custom function to clean the text before sending it into the vectorizer\n",
    "def cleanText(text):\n",
    "    \n",
    "    # import a dictionary of English contractions from another file\n",
    "    from contractions import contractions_dict\n",
    "    \n",
    "    # replace the contractions with their expanded form\n",
    "    for contraction, expansion in contractions_dict.items():\n",
    "        text = text.replace(contraction.lower(),expansion.lower())\n",
    "    \n",
    "    # get rid of newlines\n",
    "    text = text.strip().replace(\"\\n\", \" \").replace(\"\\r\", \" \").replace(\"-\",\" \").replace(\"\\'st\",\" \")\n",
    "    \n",
    "    # lowercase\n",
    "    text = text.lower()\n",
    "\n",
    "    return text"
   ]
  },
  {
   "cell_type": "code",
   "execution_count": 27,
   "metadata": {},
   "outputs": [],
   "source": [
    "# A custom function to tokenize the text using spaCy\n",
    "# and convert to lemmas\n",
    "def tokenizeText(sample):\n",
    "\n",
    "    # get the tokens using spaCy\n",
    "    tokens = parser(sample)\n",
    "\n",
    "    # lemmatize\n",
    "    lemmas = []\n",
    "    for tok in tokens:\n",
    "        lemmas.append(tok.lemma_.lower().strip() \n",
    "                      if tok.lemma_ != \"-PRON-\" else tok.lower_)\n",
    "    tokens = lemmas\n",
    "\n",
    "    # stoplist the tokens\n",
    "    tokens = [tok for tok in tokens if tok not in STOPLIST]\n",
    "\n",
    "    # stoplist symbols\n",
    "    tokens = [tok for tok in tokens if tok not in SYMBOLS]\n",
    "\n",
    "    # remove large strings of whitespace\n",
    "    while \"\" in tokens:\n",
    "        tokens.remove(\"\")\n",
    "    while \" \" in tokens:\n",
    "        tokens.remove(\" \")\n",
    "    while \"\\n\" in tokens:\n",
    "        tokens.remove(\"\\n\")\n",
    "    while \"\\n\\n\" in tokens:\n",
    "        tokens.remove(\"\\n\\n\")\n",
    "    \n",
    "    \n",
    "    return tokens"
   ]
  },
  {
   "cell_type": "markdown",
   "metadata": {},
   "source": [
    "## Cluser using NMF"
   ]
  },
  {
   "cell_type": "code",
   "execution_count": 52,
   "metadata": {},
   "outputs": [],
   "source": [
    "# define the number features, topics, and how many \n",
    "# words/documents to display later on\n",
    "n_features      = 1000\n",
    "n_topics        = 5\n",
    "n_top_words     = 5\n",
    "n_top_documents = 5\n",
    "\n",
    "# Use tf-idf vectorizer\n",
    "vectorizer = TfidfVectorizer(max_features=n_features,\n",
    "                             tokenizer=tokenizeText,\n",
    "                             stop_words='english')\n",
    "#vectorizer = CountVectorizer(max_features=n_features,\n",
    "#                             tokenizer=tokenizeText,\n",
    "#                             stop_words='english')\n",
    "\n",
    "        \n",
    "# use NMF model with the Frobenius norm\n",
    "nmf = NMF(n_components=n_topics, random_state=1, \n",
    "          solver='mu', beta_loss='frobenius')\n",
    "\n",
    "# use NMF model with the Frobenius norm\n",
    "#nmf = NMF(n_components=n_topics, random_state=1)\n",
    "\n",
    "# put it all in a pipeline\n",
    "pipe = Pipeline([('cleanText', CleanTextTransformer()), \n",
    "                 ('vectorizer', vectorizer), ('nmf', nmf)])"
   ]
  },
  {
   "cell_type": "code",
   "execution_count": 53,
   "metadata": {},
   "outputs": [],
   "source": [
    "# grab term-document matrix\n",
    "transform = pipe.fit_transform(data)"
   ]
  },
  {
   "cell_type": "code",
   "execution_count": 54,
   "metadata": {},
   "outputs": [
    {
     "name": "stdout",
     "output_type": "stream",
     "text": [
      "Topic #01: love know true hate make \n",
      "Line:  No love, my love, that thou mayst true love call; All mine was thine, before thou hadst this more (with polarity 0.32) \n",
      "\n",
      "Line:  Make but my name thy love, and love that still, And then thou lov'st me for my name is 'Will (with polarity 0.5) \n",
      "\n",
      "Line: Take all my loves, my love, yea take them all; What hast thou then more than thou hadst before (with polarity 0.5) \n",
      "\n",
      "Line:  If it be not, then love doth well denote Love's eye is not so true as all men's (with polarity 0.45) \n",
      "\n",
      "Line:  O! love's best habit is in seeming trust, And age in love, loves not to have years told (with polarity 0.6666666666666666) \n",
      "\n",
      "Average polarity: 0.49\n",
      "\n",
      "Topic #02: beauty fair sweet make old \n",
      "Line: -- Hers by thy beauty tempting her to thee, Thine by thy beauty being false to me (with polarity -0.4000000000000001) \n",
      "\n",
      "Line: When in the chronicle of wasted time I see descriptions of the fairest wights, And beauty making beautiful old rime, In praise of ladies dead and lovely knights, Then, in the blazon of sweet beauty's best, Of hand, of foot, of lip, of eye, of brow, I see their antique pen would have express'd Even such a beauty as you master now (with polarity 0.3) \n",
      "\n",
      "Line: In the old age black was not counted fair, Or if it were, it bore not beauty's name; But now is black beauty's successive heir, And beauty slander'd with a bastard shame (with polarity 0.11666666666666667) \n",
      "\n",
      "Line:  How much more praise deserv'd thy beauty's use, If thou couldst answer 'This fair child of mine Shall sum my count, and make my old excuse,' Proving his beauty by succession thine! This were to be new made when thou art old, And see thy blood warm when thou feel'st it cold (with polarity 0.18423295454545457) \n",
      "\n",
      "Line: To me, fair friend, you never can be old, For as you were when first your eye I ey'd, Such seems your beauty still (with polarity 0.26249999999999996) \n",
      "\n",
      "Average polarity: 0.09\n",
      "\n",
      "Topic #03: eye heart good look turn \n",
      "Line: Betwixt mine eye and heart a league is took, And each doth good turns now unto the other (with polarity 0.2875) \n",
      "\n",
      "Line: Mine eye and heart are at a mortal war, How to divide the conquest of thy sight; Mine eye my heart thy picture's sight would bar, My heart mine eye the freedom of that right (with polarity 0.2857142857142857) \n",
      "\n",
      "Line:  When that mine eye is famish'd for a look, Or heart in love with sighs himself doth smother, With my love's picture then my eye doth feast, And to the painted banquet bids my heart; Another time mine eye is my heart's guest, And in his thoughts of love doth share a part (with polarity 0.5) \n",
      "\n",
      "Line:  As thus; mine eye's due is thy outward part, And my heart's right, thy inward love of heart (with polarity 0.22023809523809523) \n",
      "\n",
      "Line:  Now see what good turns eyes for eyes have done (with polarity 0.7) \n",
      "\n",
      "Average polarity: 0.40\n",
      "\n",
      "Topic #04: self live sweet deny cruel \n",
      "Line:  For having traffic with thy self alone, Thou of thy self thy sweet self dost deceive (with polarity 0.35) \n",
      "\n",
      "Line: O! that you were your self; but, love you are No longer yours, than you your self here live (with polarity 0.3181818181818182) \n",
      "\n",
      "Line:  But thou, contracted to thine own bright eyes, Feed'st thy light's flame with self-substantial fuel, Making a famine where abundance lies, Thy self thy foe, to thy sweet self too cruel (with polarity 0.21000000000000005) \n",
      "\n",
      "Line:  But when my glass shows me myself indeed Beated and chopp'd with tanned antiquity, Mine own self-love quite contrary I read; Self so self-loving were iniquity (with polarity 0.6) \n",
      "\n",
      "Line: Unthrifty loveliness, why dost thou spend Upon thy self thy beauty's legacy (with polarity 0.0) \n",
      "\n",
      "Average polarity: 0.30\n",
      "\n",
      "Topic #05: shall time live life day \n",
      "Line:  And yet to times in hope, my verse shall stand (with polarity 0.0) \n",
      "\n",
      "Line:  Your monument shall be my gentle verse, Which eyes not yet created shall o'er-read; And tongues to be, your being shall rehearse, When all the breathers of this world are dead; You still shall live,--such virtue hath my pen,-- Where breath most breathes, even in the mouths of men (with polarity 0.16666666666666666) \n",
      "\n",
      "Line:  Your name from hence immortal life shall have, Though I, once gone, to all the world must die (with polarity 0.0) \n",
      "\n",
      "Line:  when that fell arrest Without all bail shall carry me away, My life hath in this line some interest, Which for memorial still with thee shall stay (with polarity -0.05) \n",
      "\n",
      "Line:  O fearful meditation! where, alack, Shall Time's best jewel from Time's chest lie hid (with polarity 0.0) \n",
      "\n",
      "Average polarity: 0.02\n",
      "\n"
     ]
    }
   ],
   "source": [
    "def display_topics(vectorizer, nmf, W, df, n_top_words, n_top_documents):\n",
    "    ''' Print out topics discovered by a model '''\n",
    "    \n",
    "    feature_names = vectorizer.get_feature_names()\n",
    "    \n",
    "    for topic_id, topic in enumerate(nmf.components_):\n",
    "        print('Topic #%02d: %s ' % (topic_id+1, ' '.join([str(feature_names[i])\n",
    "                        for i in topic.argsort()[:-n_top_words - 1:-1]])))\n",
    "        \n",
    "        top_doc_indices = np.argsort( W[:,topic_id] )[::-1][0:n_top_documents]\n",
    "        avg_polarity = 0\n",
    "        for doc_index in top_doc_indices:\n",
    "            doc = TextBlob(data.iloc[doc_index])\n",
    "            avg_polarity += doc.sentiment[0]\n",
    "            print('Line: {} (with polarity {}) \\n'.format(data.iloc[doc_index], \n",
    "                                     doc.sentiment[0]))\n",
    "            #print(df['reviewText'].iloc[doc_index]+\"\\n\")\n",
    "        print(\"Average polarity: %4.2f\" % (avg_polarity / n_top_documents))\n",
    "        print()\n",
    "\n",
    "display_topics(vectorizer, nmf, transform, data, n_top_words, n_top_documents)"
   ]
  },
  {
   "cell_type": "markdown",
   "metadata": {},
   "source": [
    "## Visualization of topic clusters"
   ]
  },
  {
   "cell_type": "code",
   "execution_count": 31,
   "metadata": {},
   "outputs": [
    {
     "data": {
      "text/html": [
       "\n",
       "    <div class=\"bk-root\">\n",
       "        <a href=\"https://bokeh.pydata.org\" target=\"_blank\" class=\"bk-logo bk-logo-small bk-logo-notebook\"></a>\n",
       "        <span id=\"1db4a4fa-528d-4ee1-ae88-cf197f2da9cc\">Loading BokehJS ...</span>\n",
       "    </div>"
      ]
     },
     "metadata": {},
     "output_type": "display_data"
    },
    {
     "data": {
      "application/javascript": [
       "\n",
       "(function(root) {\n",
       "  function now() {\n",
       "    return new Date();\n",
       "  }\n",
       "\n",
       "  var force = true;\n",
       "\n",
       "  if (typeof (root._bokeh_onload_callbacks) === \"undefined\" || force === true) {\n",
       "    root._bokeh_onload_callbacks = [];\n",
       "    root._bokeh_is_loading = undefined;\n",
       "  }\n",
       "\n",
       "  var JS_MIME_TYPE = 'application/javascript';\n",
       "  var HTML_MIME_TYPE = 'text/html';\n",
       "  var EXEC_MIME_TYPE = 'application/vnd.bokehjs_exec.v0+json';\n",
       "  var CLASS_NAME = 'output_bokeh rendered_html';\n",
       "\n",
       "  /**\n",
       "   * Render data to the DOM node\n",
       "   */\n",
       "  function render(props, node) {\n",
       "    var script = document.createElement(\"script\");\n",
       "    node.appendChild(script);\n",
       "  }\n",
       "\n",
       "  /**\n",
       "   * Handle when an output is cleared or removed\n",
       "   */\n",
       "  function handleClearOutput(event, handle) {\n",
       "    var cell = handle.cell;\n",
       "\n",
       "    var id = cell.output_area._bokeh_element_id;\n",
       "    var server_id = cell.output_area._bokeh_server_id;\n",
       "    // Clean up Bokeh references\n",
       "    if (id !== undefined) {\n",
       "      Bokeh.index[id].model.document.clear();\n",
       "      delete Bokeh.index[id];\n",
       "    }\n",
       "\n",
       "    if (server_id !== undefined) {\n",
       "      // Clean up Bokeh references\n",
       "      var cmd = \"from bokeh.io.state import curstate; print(curstate().uuid_to_server['\" + server_id + \"'].get_sessions()[0].document.roots[0]._id)\";\n",
       "      cell.notebook.kernel.execute(cmd, {\n",
       "        iopub: {\n",
       "          output: function(msg) {\n",
       "            var element_id = msg.content.text.trim();\n",
       "            Bokeh.index[element_id].model.document.clear();\n",
       "            delete Bokeh.index[element_id];\n",
       "          }\n",
       "        }\n",
       "      });\n",
       "      // Destroy server and session\n",
       "      var cmd = \"import bokeh.io.notebook as ion; ion.destroy_server('\" + server_id + \"')\";\n",
       "      cell.notebook.kernel.execute(cmd);\n",
       "    }\n",
       "  }\n",
       "\n",
       "  /**\n",
       "   * Handle when a new output is added\n",
       "   */\n",
       "  function handleAddOutput(event, handle) {\n",
       "    var output_area = handle.output_area;\n",
       "    var output = handle.output;\n",
       "\n",
       "    // limit handleAddOutput to display_data with EXEC_MIME_TYPE content only\n",
       "    if ((output.output_type != \"display_data\") || (!output.data.hasOwnProperty(EXEC_MIME_TYPE))) {\n",
       "      return\n",
       "    }\n",
       "\n",
       "    var toinsert = output_area.element.find(\".\" + CLASS_NAME.split(' ')[0]);\n",
       "\n",
       "    if (output.metadata[EXEC_MIME_TYPE][\"id\"] !== undefined) {\n",
       "      toinsert[0].firstChild.textContent = output.data[JS_MIME_TYPE];\n",
       "      // store reference to embed id on output_area\n",
       "      output_area._bokeh_element_id = output.metadata[EXEC_MIME_TYPE][\"id\"];\n",
       "    }\n",
       "    if (output.metadata[EXEC_MIME_TYPE][\"server_id\"] !== undefined) {\n",
       "      var bk_div = document.createElement(\"div\");\n",
       "      bk_div.innerHTML = output.data[HTML_MIME_TYPE];\n",
       "      var script_attrs = bk_div.children[0].attributes;\n",
       "      for (var i = 0; i < script_attrs.length; i++) {\n",
       "        toinsert[0].firstChild.setAttribute(script_attrs[i].name, script_attrs[i].value);\n",
       "      }\n",
       "      // store reference to server id on output_area\n",
       "      output_area._bokeh_server_id = output.metadata[EXEC_MIME_TYPE][\"server_id\"];\n",
       "    }\n",
       "  }\n",
       "\n",
       "  function register_renderer(events, OutputArea) {\n",
       "\n",
       "    function append_mime(data, metadata, element) {\n",
       "      // create a DOM node to render to\n",
       "      var toinsert = this.create_output_subarea(\n",
       "        metadata,\n",
       "        CLASS_NAME,\n",
       "        EXEC_MIME_TYPE\n",
       "      );\n",
       "      this.keyboard_manager.register_events(toinsert);\n",
       "      // Render to node\n",
       "      var props = {data: data, metadata: metadata[EXEC_MIME_TYPE]};\n",
       "      render(props, toinsert[0]);\n",
       "      element.append(toinsert);\n",
       "      return toinsert\n",
       "    }\n",
       "\n",
       "    /* Handle when an output is cleared or removed */\n",
       "    events.on('clear_output.CodeCell', handleClearOutput);\n",
       "    events.on('delete.Cell', handleClearOutput);\n",
       "\n",
       "    /* Handle when a new output is added */\n",
       "    events.on('output_added.OutputArea', handleAddOutput);\n",
       "\n",
       "    /**\n",
       "     * Register the mime type and append_mime function with output_area\n",
       "     */\n",
       "    OutputArea.prototype.register_mime_type(EXEC_MIME_TYPE, append_mime, {\n",
       "      /* Is output safe? */\n",
       "      safe: true,\n",
       "      /* Index of renderer in `output_area.display_order` */\n",
       "      index: 0\n",
       "    });\n",
       "  }\n",
       "\n",
       "  // register the mime type if in Jupyter Notebook environment and previously unregistered\n",
       "  if (root.Jupyter !== undefined) {\n",
       "    var events = require('base/js/events');\n",
       "    var OutputArea = require('notebook/js/outputarea').OutputArea;\n",
       "\n",
       "    if (OutputArea.prototype.mime_types().indexOf(EXEC_MIME_TYPE) == -1) {\n",
       "      register_renderer(events, OutputArea);\n",
       "    }\n",
       "  }\n",
       "\n",
       "  \n",
       "  if (typeof (root._bokeh_timeout) === \"undefined\" || force === true) {\n",
       "    root._bokeh_timeout = Date.now() + 5000;\n",
       "    root._bokeh_failed_load = false;\n",
       "  }\n",
       "\n",
       "  var NB_LOAD_WARNING = {'data': {'text/html':\n",
       "     \"<div style='background-color: #fdd'>\\n\"+\n",
       "     \"<p>\\n\"+\n",
       "     \"BokehJS does not appear to have successfully loaded. If loading BokehJS from CDN, this \\n\"+\n",
       "     \"may be due to a slow or bad network connection. Possible fixes:\\n\"+\n",
       "     \"</p>\\n\"+\n",
       "     \"<ul>\\n\"+\n",
       "     \"<li>re-rerun `output_notebook()` to attempt to load from CDN again, or</li>\\n\"+\n",
       "     \"<li>use INLINE resources instead, as so:</li>\\n\"+\n",
       "     \"</ul>\\n\"+\n",
       "     \"<code>\\n\"+\n",
       "     \"from bokeh.resources import INLINE\\n\"+\n",
       "     \"output_notebook(resources=INLINE)\\n\"+\n",
       "     \"</code>\\n\"+\n",
       "     \"</div>\"}};\n",
       "\n",
       "  function display_loaded() {\n",
       "    var el = document.getElementById(\"1db4a4fa-528d-4ee1-ae88-cf197f2da9cc\");\n",
       "    if (el != null) {\n",
       "      el.textContent = \"BokehJS is loading...\";\n",
       "    }\n",
       "    if (root.Bokeh !== undefined) {\n",
       "      if (el != null) {\n",
       "        el.textContent = \"BokehJS \" + root.Bokeh.version + \" successfully loaded.\";\n",
       "      }\n",
       "    } else if (Date.now() < root._bokeh_timeout) {\n",
       "      setTimeout(display_loaded, 100)\n",
       "    }\n",
       "  }\n",
       "\n",
       "\n",
       "  function run_callbacks() {\n",
       "    try {\n",
       "      root._bokeh_onload_callbacks.forEach(function(callback) { callback() });\n",
       "    }\n",
       "    finally {\n",
       "      delete root._bokeh_onload_callbacks\n",
       "    }\n",
       "    console.info(\"Bokeh: all callbacks have finished\");\n",
       "  }\n",
       "\n",
       "  function load_libs(js_urls, callback) {\n",
       "    root._bokeh_onload_callbacks.push(callback);\n",
       "    if (root._bokeh_is_loading > 0) {\n",
       "      console.log(\"Bokeh: BokehJS is being loaded, scheduling callback at\", now());\n",
       "      return null;\n",
       "    }\n",
       "    if (js_urls == null || js_urls.length === 0) {\n",
       "      run_callbacks();\n",
       "      return null;\n",
       "    }\n",
       "    console.log(\"Bokeh: BokehJS not loaded, scheduling load and callback at\", now());\n",
       "    root._bokeh_is_loading = js_urls.length;\n",
       "    for (var i = 0; i < js_urls.length; i++) {\n",
       "      var url = js_urls[i];\n",
       "      var s = document.createElement('script');\n",
       "      s.src = url;\n",
       "      s.async = false;\n",
       "      s.onreadystatechange = s.onload = function() {\n",
       "        root._bokeh_is_loading--;\n",
       "        if (root._bokeh_is_loading === 0) {\n",
       "          console.log(\"Bokeh: all BokehJS libraries loaded\");\n",
       "          run_callbacks()\n",
       "        }\n",
       "      };\n",
       "      s.onerror = function() {\n",
       "        console.warn(\"failed to load library \" + url);\n",
       "      };\n",
       "      console.log(\"Bokeh: injecting script tag for BokehJS library: \", url);\n",
       "      document.getElementsByTagName(\"head\")[0].appendChild(s);\n",
       "    }\n",
       "  };var element = document.getElementById(\"1db4a4fa-528d-4ee1-ae88-cf197f2da9cc\");\n",
       "  if (element == null) {\n",
       "    console.log(\"Bokeh: ERROR: autoload.js configured with elementid '1db4a4fa-528d-4ee1-ae88-cf197f2da9cc' but no matching script tag was found. \")\n",
       "    return false;\n",
       "  }\n",
       "\n",
       "  var js_urls = [\"https://cdn.pydata.org/bokeh/release/bokeh-0.12.13.min.js\", \"https://cdn.pydata.org/bokeh/release/bokeh-widgets-0.12.13.min.js\", \"https://cdn.pydata.org/bokeh/release/bokeh-tables-0.12.13.min.js\", \"https://cdn.pydata.org/bokeh/release/bokeh-gl-0.12.13.min.js\"];\n",
       "\n",
       "  var inline_js = [\n",
       "    function(Bokeh) {\n",
       "      Bokeh.set_log_level(\"info\");\n",
       "    },\n",
       "    \n",
       "    function(Bokeh) {\n",
       "      \n",
       "    },\n",
       "    function(Bokeh) {\n",
       "      console.log(\"Bokeh: injecting CSS: https://cdn.pydata.org/bokeh/release/bokeh-0.12.13.min.css\");\n",
       "      Bokeh.embed.inject_css(\"https://cdn.pydata.org/bokeh/release/bokeh-0.12.13.min.css\");\n",
       "      console.log(\"Bokeh: injecting CSS: https://cdn.pydata.org/bokeh/release/bokeh-widgets-0.12.13.min.css\");\n",
       "      Bokeh.embed.inject_css(\"https://cdn.pydata.org/bokeh/release/bokeh-widgets-0.12.13.min.css\");\n",
       "      console.log(\"Bokeh: injecting CSS: https://cdn.pydata.org/bokeh/release/bokeh-tables-0.12.13.min.css\");\n",
       "      Bokeh.embed.inject_css(\"https://cdn.pydata.org/bokeh/release/bokeh-tables-0.12.13.min.css\");\n",
       "    }\n",
       "  ];\n",
       "\n",
       "  function run_inline_js() {\n",
       "    \n",
       "    if ((root.Bokeh !== undefined) || (force === true)) {\n",
       "      for (var i = 0; i < inline_js.length; i++) {\n",
       "        inline_js[i].call(root, root.Bokeh);\n",
       "      }if (force === true) {\n",
       "        display_loaded();\n",
       "      }} else if (Date.now() < root._bokeh_timeout) {\n",
       "      setTimeout(run_inline_js, 100);\n",
       "    } else if (!root._bokeh_failed_load) {\n",
       "      console.log(\"Bokeh: BokehJS failed to load within specified timeout.\");\n",
       "      root._bokeh_failed_load = true;\n",
       "    } else if (force !== true) {\n",
       "      var cell = $(document.getElementById(\"1db4a4fa-528d-4ee1-ae88-cf197f2da9cc\")).parents('.cell').data().cell;\n",
       "      cell.output_area.append_execute_result(NB_LOAD_WARNING)\n",
       "    }\n",
       "\n",
       "  }\n",
       "\n",
       "  if (root._bokeh_is_loading === 0) {\n",
       "    console.log(\"Bokeh: BokehJS loaded, going straight to plotting\");\n",
       "    run_inline_js();\n",
       "  } else {\n",
       "    load_libs(js_urls, function() {\n",
       "      console.log(\"Bokeh: BokehJS plotting callback run at\", now());\n",
       "      run_inline_js();\n",
       "    });\n",
       "  }\n",
       "}(window));"
      ],
      "application/vnd.bokehjs_load.v0+json": "\n(function(root) {\n  function now() {\n    return new Date();\n  }\n\n  var force = true;\n\n  if (typeof (root._bokeh_onload_callbacks) === \"undefined\" || force === true) {\n    root._bokeh_onload_callbacks = [];\n    root._bokeh_is_loading = undefined;\n  }\n\n  \n\n  \n  if (typeof (root._bokeh_timeout) === \"undefined\" || force === true) {\n    root._bokeh_timeout = Date.now() + 5000;\n    root._bokeh_failed_load = false;\n  }\n\n  var NB_LOAD_WARNING = {'data': {'text/html':\n     \"<div style='background-color: #fdd'>\\n\"+\n     \"<p>\\n\"+\n     \"BokehJS does not appear to have successfully loaded. If loading BokehJS from CDN, this \\n\"+\n     \"may be due to a slow or bad network connection. Possible fixes:\\n\"+\n     \"</p>\\n\"+\n     \"<ul>\\n\"+\n     \"<li>re-rerun `output_notebook()` to attempt to load from CDN again, or</li>\\n\"+\n     \"<li>use INLINE resources instead, as so:</li>\\n\"+\n     \"</ul>\\n\"+\n     \"<code>\\n\"+\n     \"from bokeh.resources import INLINE\\n\"+\n     \"output_notebook(resources=INLINE)\\n\"+\n     \"</code>\\n\"+\n     \"</div>\"}};\n\n  function display_loaded() {\n    var el = document.getElementById(\"1db4a4fa-528d-4ee1-ae88-cf197f2da9cc\");\n    if (el != null) {\n      el.textContent = \"BokehJS is loading...\";\n    }\n    if (root.Bokeh !== undefined) {\n      if (el != null) {\n        el.textContent = \"BokehJS \" + root.Bokeh.version + \" successfully loaded.\";\n      }\n    } else if (Date.now() < root._bokeh_timeout) {\n      setTimeout(display_loaded, 100)\n    }\n  }\n\n\n  function run_callbacks() {\n    try {\n      root._bokeh_onload_callbacks.forEach(function(callback) { callback() });\n    }\n    finally {\n      delete root._bokeh_onload_callbacks\n    }\n    console.info(\"Bokeh: all callbacks have finished\");\n  }\n\n  function load_libs(js_urls, callback) {\n    root._bokeh_onload_callbacks.push(callback);\n    if (root._bokeh_is_loading > 0) {\n      console.log(\"Bokeh: BokehJS is being loaded, scheduling callback at\", now());\n      return null;\n    }\n    if (js_urls == null || js_urls.length === 0) {\n      run_callbacks();\n      return null;\n    }\n    console.log(\"Bokeh: BokehJS not loaded, scheduling load and callback at\", now());\n    root._bokeh_is_loading = js_urls.length;\n    for (var i = 0; i < js_urls.length; i++) {\n      var url = js_urls[i];\n      var s = document.createElement('script');\n      s.src = url;\n      s.async = false;\n      s.onreadystatechange = s.onload = function() {\n        root._bokeh_is_loading--;\n        if (root._bokeh_is_loading === 0) {\n          console.log(\"Bokeh: all BokehJS libraries loaded\");\n          run_callbacks()\n        }\n      };\n      s.onerror = function() {\n        console.warn(\"failed to load library \" + url);\n      };\n      console.log(\"Bokeh: injecting script tag for BokehJS library: \", url);\n      document.getElementsByTagName(\"head\")[0].appendChild(s);\n    }\n  };var element = document.getElementById(\"1db4a4fa-528d-4ee1-ae88-cf197f2da9cc\");\n  if (element == null) {\n    console.log(\"Bokeh: ERROR: autoload.js configured with elementid '1db4a4fa-528d-4ee1-ae88-cf197f2da9cc' but no matching script tag was found. \")\n    return false;\n  }\n\n  var js_urls = [\"https://cdn.pydata.org/bokeh/release/bokeh-0.12.13.min.js\", \"https://cdn.pydata.org/bokeh/release/bokeh-widgets-0.12.13.min.js\", \"https://cdn.pydata.org/bokeh/release/bokeh-tables-0.12.13.min.js\", \"https://cdn.pydata.org/bokeh/release/bokeh-gl-0.12.13.min.js\"];\n\n  var inline_js = [\n    function(Bokeh) {\n      Bokeh.set_log_level(\"info\");\n    },\n    \n    function(Bokeh) {\n      \n    },\n    function(Bokeh) {\n      console.log(\"Bokeh: injecting CSS: https://cdn.pydata.org/bokeh/release/bokeh-0.12.13.min.css\");\n      Bokeh.embed.inject_css(\"https://cdn.pydata.org/bokeh/release/bokeh-0.12.13.min.css\");\n      console.log(\"Bokeh: injecting CSS: https://cdn.pydata.org/bokeh/release/bokeh-widgets-0.12.13.min.css\");\n      Bokeh.embed.inject_css(\"https://cdn.pydata.org/bokeh/release/bokeh-widgets-0.12.13.min.css\");\n      console.log(\"Bokeh: injecting CSS: https://cdn.pydata.org/bokeh/release/bokeh-tables-0.12.13.min.css\");\n      Bokeh.embed.inject_css(\"https://cdn.pydata.org/bokeh/release/bokeh-tables-0.12.13.min.css\");\n    }\n  ];\n\n  function run_inline_js() {\n    \n    if ((root.Bokeh !== undefined) || (force === true)) {\n      for (var i = 0; i < inline_js.length; i++) {\n        inline_js[i].call(root, root.Bokeh);\n      }if (force === true) {\n        display_loaded();\n      }} else if (Date.now() < root._bokeh_timeout) {\n      setTimeout(run_inline_js, 100);\n    } else if (!root._bokeh_failed_load) {\n      console.log(\"Bokeh: BokehJS failed to load within specified timeout.\");\n      root._bokeh_failed_load = true;\n    } else if (force !== true) {\n      var cell = $(document.getElementById(\"1db4a4fa-528d-4ee1-ae88-cf197f2da9cc\")).parents('.cell').data().cell;\n      cell.output_area.append_execute_result(NB_LOAD_WARNING)\n    }\n\n  }\n\n  if (root._bokeh_is_loading === 0) {\n    console.log(\"Bokeh: BokehJS loaded, going straight to plotting\");\n    run_inline_js();\n  } else {\n    load_libs(js_urls, function() {\n      console.log(\"Bokeh: BokehJS plotting callback run at\", now());\n      run_inline_js();\n    });\n  }\n}(window));"
     },
     "metadata": {},
     "output_type": "display_data"
    }
   ],
   "source": [
    "from bokeh.io import push_notebook, show, output_notebook\n",
    "from bokeh.plotting import figure\n",
    "from bokeh.models import ColumnDataSource, LabelSet\n",
    "output_notebook()"
   ]
  },
  {
   "cell_type": "code",
   "execution_count": 32,
   "metadata": {},
   "outputs": [],
   "source": [
    "data_vectorized = vectorizer.fit_transform(data)"
   ]
  },
  {
   "cell_type": "code",
   "execution_count": 33,
   "metadata": {},
   "outputs": [
    {
     "data": {
      "text/html": [
       "\n",
       "<div class=\"bk-root\">\n",
       "    <div class=\"bk-plotdiv\" id=\"b6c959c3-fe4c-42a8-8c22-4161af9bd02b\"></div>\n",
       "</div>"
      ]
     },
     "metadata": {},
     "output_type": "display_data"
    },
    {
     "data": {
      "application/javascript": [
       "(function(root) {\n",
       "  function embed_document(root) {\n",
       "    \n",
       "  var docs_json = {\"a82348c3-946e-40bf-a87e-0eea86a53c28\":{\"roots\":{\"references\":[{\"attributes\":{},\"id\":\"79180dff-3f5e-44bf-90ae-438c2959d2b9\",\"type\":\"WheelZoomTool\"},{\"attributes\":{\"callback\":null},\"id\":\"1266f4ae-2a4b-4663-83f0-6d447cfa5594\",\"type\":\"DataRange1d\"},{\"attributes\":{\"plot\":null,\"text\":\"\"},\"id\":\"f01400c3-6d25-4ba3-90f9-05b88b0b808a\",\"type\":\"Title\"},{\"attributes\":{\"formatter\":{\"id\":\"a3fd0f20-bed0-4c27-9689-18dfdf492619\",\"type\":\"BasicTickFormatter\"},\"plot\":{\"id\":\"6a01c514-7a1f-49f8-b9a9-d99048b287d1\",\"subtype\":\"Figure\",\"type\":\"Plot\"},\"ticker\":{\"id\":\"f4ae7414-4b68-4120-ad50-2bd7096d7be9\",\"type\":\"BasicTicker\"}},\"id\":\"f8f7fb38-4ade-4eb0-a378-873cf5cd6d25\",\"type\":\"LinearAxis\"},{\"attributes\":{},\"id\":\"af025e61-144a-4a70-a2ce-ae9f07d10a13\",\"type\":\"PanTool\"},{\"attributes\":{\"plot\":{\"id\":\"6a01c514-7a1f-49f8-b9a9-d99048b287d1\",\"subtype\":\"Figure\",\"type\":\"Plot\"},\"source\":{\"id\":\"43e295d4-dcb0-4083-b24b-7702cb115ef8\",\"type\":\"ColumnDataSource\"},\"text\":{\"field\":\"document\"},\"text_align\":\"center\",\"text_color\":{\"value\":\"#555555\"},\"text_font_size\":{\"value\":\"8pt\"},\"x\":{\"field\":\"x\"},\"y\":{\"field\":\"y\"},\"y_offset\":{\"value\":8}},\"id\":\"6d0580e5-e729-4565-8f36-8bff44bfc19f\",\"type\":\"LabelSet\"},{\"attributes\":{\"callback\":null,\"column_names\":[\"x\",\"y\",\"document\",\"index\"],\"data\":{\"document\":[0,1,2,3,4,5,6,7,8,9,10,11,12,13,14,15,16,17,18,19,20,21,22,23,24,25,26,27,28,29,30,31,32,33,34,35,36,37,38,39,40,41,42,43,44,45,46,47,48,49,50,51,52,53,54,55,56,57,58,59,60,61,62,63,64,65,66,67,68,69,70,71,72,73,74,75,76,77,78,79,80,81,82,83,84,85,86,87,88,89,90,91,92,93,94,95,96,97,98,99,100,101,102,103,104,105,106,107,108,109,110,111,112,113,114,115,116,117,118,119,120,121,122,123,124,125,126,127,128,129,130,131,132,133,134,135,136,137,138,139,140,141,142,143,144,145,146,147,148,149,150,151,152,153,154,155,156,157,158,159,160,161,162,163,164,165,166,167,168,169,170,171,172,173,174,175,176,177,178,179,180,181,182,183,184,185,186,187,188,189,190,191,192,193,194,195,196,197,198,199,200,201,202,203,204,205,206,207,208,209,210,211,212,213,214,215,216,217,218,219,220,221,222,223,224,225,226,227,228,229,230,231,232,233,234,235,236,237,238,239,240,241,242,243,244,245,246,247,248,249,250,251,252,253,254,255,256,257,258,259,260,261,262,263,264,265,266,267,268,269,270,271,272,273,274,275,276,277,278,279,280,281,282,283,284,285,286,287,288,289,290,291,292,293,294,295,296,297,298,299,300,301,302,303,304,305,306,307,308,309,310,311,312,313,314,315,316,317,318,319,320,321,322,323,324,325,326,327,328,329,330,331,332,333,334,335,336,337,338,339,340,341,342,343,344,345,346,347,348,349,350,351,352,353,354,355,356,357,358,359,360,361,362,363,364,365,366,367,368,369,370,371,372,373,374,375,376,377,378,379,380,381,382,383,384,385,386,387,388,389,390,391,392,393,394,395,396,397,398,399,400,401,402,403,404,405,406,407,408,409,410,411,412,413,414,415,416,417,418,419,420,421,422,423,424,425,426,427,428,429,430,431,432,433,434,435,436,437,438,439,440,441,442,443,444,445,446,447,448,449,450,451,452,453,454,455,456,457,458,459,460,461,462,463,464,465,466,467,468,469,470,471,472,473,474,475,476,477,478,479,480,481,482,483,484,485,486,487,488,489,490,491,492,493,494,495,496,497,498,499,500,501,502,503,504,505,506,507,508,509,510,511,512,513,514,515,516,517,518,519,520,521,522,523,524,525,526,527,528,529,530,531,532,533,534,535,536,537,538,539,540,541,542,543,544,545,546,547,548,549,550,551,552,553,554,555,556,557,558,559,560,561,562,563,564,565,566,567,568,569,570,571,572,573,574,575,576,577,578,579,580,581,582,583,584,585,586,587,588,589,590,591,592,593,594,595,596,597,598,599,600,601,602,603,604,605,606,607,608,609,610,611,612,613,614,615,616,617,618,619,620,621,622,623,624,625,626,627,628,629,630,631,632,633,634,635,636],\"index\":[0,1,2,3,4,5,6,7,8,9,10,11,12,13,14,15,16,17,18,19,20,21,22,23,24,25,26,27,28,29,30,31,32,33,34,35,36,37,38,39,40,41,42,43,44,45,46,47,48,49,50,51,52,53,54,55,56,57,58,59,60,61,62,63,64,65,66,67,68,69,70,71,72,73,74,75,76,77,78,79,80,81,82,83,84,85,86,87,88,89,90,91,92,93,94,95,96,97,98,99,100,101,102,103,104,105,106,107,108,109,110,111,112,113,114,115,116,117,118,119,120,121,122,123,124,125,126,127,128,129,130,131,132,133,134,135,136,137,138,139,140,141,142,143,144,145,146,147,148,149,150,151,152,153,154,155,156,157,158,159,160,161,162,163,164,165,166,167,168,169,170,171,172,173,174,175,176,177,178,179,180,181,182,183,184,185,186,187,188,189,190,191,192,193,194,195,196,197,198,199,200,201,202,203,204,205,206,207,208,209,210,211,212,213,214,215,216,217,218,219,220,221,222,223,224,225,226,227,228,229,230,231,232,233,234,235,236,237,238,239,240,241,242,243,244,245,246,247,248,249,250,251,252,253,254,255,256,257,258,259,260,261,262,263,264,265,266,267,268,269,270,271,272,273,274,275,276,277,278,279,280,281,282,283,284,285,286,287,288,289,290,291,292,293,294,295,296,297,298,299,300,301,302,303,304,305,306,307,308,309,310,311,312,313,314,315,316,317,318,319,320,321,322,323,324,325,326,327,328,329,330,331,332,333,334,335,336,337,338,339,340,341,342,343,344,345,346,347,348,349,350,351,352,353,354,355,356,357,358,359,360,361,362,363,364,365,366,367,368,369,370,371,372,373,374,375,376,377,378,379,380,381,382,383,384,385,386,387,388,389,390,391,392,393,394,395,396,397,398,399,400,401,402,403,404,405,406,407,408,409,410,411,412,413,414,415,416,417,418,419,420,421,422,423,424,425,426,427,428,429,430,431,432,433,434,435,436,437,438,439,440,441,442,443,444,445,446,447,448,449,450,451,452,453,454,455,456,457,458,459,460,461,462,463,464,465,466,467,468,469,470,471,472,473,474,475,476,477,478,479,480,481,482,483,484,485,486,487,488,489,490,491,492,493,494,495,496,497,498,499,500,501,502,503,504,505,506,507,508,509,510,511,512,513,514,515,516,517,518,519,520,521,522,523,524,525,526,527,528,529,530,531,532,533,534,535,536,537,538,539,540,541,542,543,544,545,546,547,548,549,550,551,552,553,554,555,556,557,558,559,560,561,562,563,564,565,566,567,568,569,570,571,572,573,574,575,576,577,578,579,580,581,582,583,584,585,586,587,588,589,590,591,592,593,594,595,596,597,598,599,600,601,602,603,604,605,606,607,608,609,610,611,612,613,614,615,616,617,618,619,620,621,622,623,624,625,626,627,628,629,630,631,632,633,634,635,636],\"x\":{\"__ndarray__\":\"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\",\"dtype\":\"float64\",\"shape\":[637]},\"y\":{\"__ndarray__\":\"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\",\"dtype\":\"float64\",\"shape\":[637]}}},\"id\":\"43e295d4-dcb0-4083-b24b-7702cb115ef8\",\"type\":\"ColumnDataSource\"},{\"attributes\":{\"source\":{\"id\":\"43e295d4-dcb0-4083-b24b-7702cb115ef8\",\"type\":\"ColumnDataSource\"}},\"id\":\"daff6b36-e491-47af-9417-9726b80816b1\",\"type\":\"CDSView\"},{\"attributes\":{},\"id\":\"5f187ff3-59af-43e7-a29d-abf48609c6ae\",\"type\":\"HelpTool\"},{\"attributes\":{},\"id\":\"f129460f-d061-42f1-aa61-f5e6f3590c0f\",\"type\":\"LinearScale\"},{\"attributes\":{},\"id\":\"20a6f344-62f6-4f84-bc16-e5e3a86658ee\",\"type\":\"ResetTool\"},{\"attributes\":{\"data_source\":{\"id\":\"43e295d4-dcb0-4083-b24b-7702cb115ef8\",\"type\":\"ColumnDataSource\"},\"glyph\":{\"id\":\"c1546769-fdcb-4292-b91e-db8560e44216\",\"type\":\"Circle\"},\"hover_glyph\":null,\"muted_glyph\":null,\"nonselection_glyph\":{\"id\":\"f54a604f-106d-41c7-83a6-73c852dc717c\",\"type\":\"Circle\"},\"selection_glyph\":null,\"view\":{\"id\":\"daff6b36-e491-47af-9417-9726b80816b1\",\"type\":\"CDSView\"}},\"id\":\"822c974e-3cdd-4793-a163-a2d9f2b38891\",\"type\":\"GlyphRenderer\"},{\"attributes\":{\"fill_alpha\":{\"value\":0.1},\"fill_color\":{\"value\":\"#1f77b4\"},\"line_alpha\":{\"value\":0.1},\"line_color\":{\"value\":\"#1f77b4\"},\"size\":{\"units\":\"screen\",\"value\":12},\"x\":{\"field\":\"x\"},\"y\":{\"field\":\"y\"}},\"id\":\"f54a604f-106d-41c7-83a6-73c852dc717c\",\"type\":\"Circle\"},{\"attributes\":{\"below\":[{\"id\":\"f8f7fb38-4ade-4eb0-a378-873cf5cd6d25\",\"type\":\"LinearAxis\"}],\"left\":[{\"id\":\"2db740c9-45b3-47e6-a54d-a62239c721fa\",\"type\":\"LinearAxis\"}],\"renderers\":[{\"id\":\"f8f7fb38-4ade-4eb0-a378-873cf5cd6d25\",\"type\":\"LinearAxis\"},{\"id\":\"81848c62-b801-4eb1-a01b-047b2f9161ba\",\"type\":\"Grid\"},{\"id\":\"2db740c9-45b3-47e6-a54d-a62239c721fa\",\"type\":\"LinearAxis\"},{\"id\":\"7aac22de-76bd-407e-b510-cfd872995b8d\",\"type\":\"Grid\"},{\"id\":\"aa04f40d-5c94-4543-89be-a2e38211f003\",\"type\":\"BoxAnnotation\"},{\"id\":\"822c974e-3cdd-4793-a163-a2d9f2b38891\",\"type\":\"GlyphRenderer\"},{\"id\":\"6d0580e5-e729-4565-8f36-8bff44bfc19f\",\"type\":\"LabelSet\"}],\"title\":{\"id\":\"f01400c3-6d25-4ba3-90f9-05b88b0b808a\",\"type\":\"Title\"},\"toolbar\":{\"id\":\"233b77ce-7058-43e3-b851-713a17c38d8d\",\"type\":\"Toolbar\"},\"x_range\":{\"id\":\"18cc1c57-0abd-419d-b500-68f955e48dcd\",\"type\":\"DataRange1d\"},\"x_scale\":{\"id\":\"01c3f001-edc0-4958-a834-1a80c63e8001\",\"type\":\"LinearScale\"},\"y_range\":{\"id\":\"1266f4ae-2a4b-4663-83f0-6d447cfa5594\",\"type\":\"DataRange1d\"},\"y_scale\":{\"id\":\"f129460f-d061-42f1-aa61-f5e6f3590c0f\",\"type\":\"LinearScale\"}},\"id\":\"6a01c514-7a1f-49f8-b9a9-d99048b287d1\",\"subtype\":\"Figure\",\"type\":\"Plot\"},{\"attributes\":{},\"id\":\"01e17768-61fe-4fa8-b299-1b5b13b3bf24\",\"type\":\"BasicTickFormatter\"},{\"attributes\":{\"fill_alpha\":{\"value\":0.8},\"fill_color\":{\"value\":\"#1f77b4\"},\"size\":{\"units\":\"screen\",\"value\":12},\"x\":{\"field\":\"x\"},\"y\":{\"field\":\"y\"}},\"id\":\"c1546769-fdcb-4292-b91e-db8560e44216\",\"type\":\"Circle\"},{\"attributes\":{},\"id\":\"b604a8a7-cce5-4bf9-842d-9ad578d28228\",\"type\":\"SaveTool\"},{\"attributes\":{\"dimension\":1,\"plot\":{\"id\":\"6a01c514-7a1f-49f8-b9a9-d99048b287d1\",\"subtype\":\"Figure\",\"type\":\"Plot\"},\"ticker\":{\"id\":\"731a1822-b020-478f-a34d-13c584257c14\",\"type\":\"BasicTicker\"}},\"id\":\"7aac22de-76bd-407e-b510-cfd872995b8d\",\"type\":\"Grid\"},{\"attributes\":{\"active_drag\":\"auto\",\"active_inspect\":\"auto\",\"active_scroll\":\"auto\",\"active_tap\":\"auto\",\"tools\":[{\"id\":\"af025e61-144a-4a70-a2ce-ae9f07d10a13\",\"type\":\"PanTool\"},{\"id\":\"79180dff-3f5e-44bf-90ae-438c2959d2b9\",\"type\":\"WheelZoomTool\"},{\"id\":\"050e3897-aa17-4ba6-af8a-93ae2c977de9\",\"type\":\"BoxZoomTool\"},{\"id\":\"b604a8a7-cce5-4bf9-842d-9ad578d28228\",\"type\":\"SaveTool\"},{\"id\":\"20a6f344-62f6-4f84-bc16-e5e3a86658ee\",\"type\":\"ResetTool\"},{\"id\":\"5f187ff3-59af-43e7-a29d-abf48609c6ae\",\"type\":\"HelpTool\"}]},\"id\":\"233b77ce-7058-43e3-b851-713a17c38d8d\",\"type\":\"Toolbar\"},{\"attributes\":{},\"id\":\"f4ae7414-4b68-4120-ad50-2bd7096d7be9\",\"type\":\"BasicTicker\"},{\"attributes\":{\"bottom_units\":\"screen\",\"fill_alpha\":{\"value\":0.5},\"fill_color\":{\"value\":\"lightgrey\"},\"left_units\":\"screen\",\"level\":\"overlay\",\"line_alpha\":{\"value\":1.0},\"line_color\":{\"value\":\"black\"},\"line_dash\":[4,4],\"line_width\":{\"value\":2},\"plot\":null,\"render_mode\":\"css\",\"right_units\":\"screen\",\"top_units\":\"screen\"},\"id\":\"aa04f40d-5c94-4543-89be-a2e38211f003\",\"type\":\"BoxAnnotation\"},{\"attributes\":{\"overlay\":{\"id\":\"aa04f40d-5c94-4543-89be-a2e38211f003\",\"type\":\"BoxAnnotation\"}},\"id\":\"050e3897-aa17-4ba6-af8a-93ae2c977de9\",\"type\":\"BoxZoomTool\"},{\"attributes\":{},\"id\":\"01c3f001-edc0-4958-a834-1a80c63e8001\",\"type\":\"LinearScale\"},{\"attributes\":{\"formatter\":{\"id\":\"01e17768-61fe-4fa8-b299-1b5b13b3bf24\",\"type\":\"BasicTickFormatter\"},\"plot\":{\"id\":\"6a01c514-7a1f-49f8-b9a9-d99048b287d1\",\"subtype\":\"Figure\",\"type\":\"Plot\"},\"ticker\":{\"id\":\"731a1822-b020-478f-a34d-13c584257c14\",\"type\":\"BasicTicker\"}},\"id\":\"2db740c9-45b3-47e6-a54d-a62239c721fa\",\"type\":\"LinearAxis\"},{\"attributes\":{\"plot\":{\"id\":\"6a01c514-7a1f-49f8-b9a9-d99048b287d1\",\"subtype\":\"Figure\",\"type\":\"Plot\"},\"ticker\":{\"id\":\"f4ae7414-4b68-4120-ad50-2bd7096d7be9\",\"type\":\"BasicTicker\"}},\"id\":\"81848c62-b801-4eb1-a01b-047b2f9161ba\",\"type\":\"Grid\"},{\"attributes\":{},\"id\":\"731a1822-b020-478f-a34d-13c584257c14\",\"type\":\"BasicTicker\"},{\"attributes\":{\"callback\":null},\"id\":\"18cc1c57-0abd-419d-b500-68f955e48dcd\",\"type\":\"DataRange1d\"},{\"attributes\":{},\"id\":\"a3fd0f20-bed0-4c27-9689-18dfdf492619\",\"type\":\"BasicTickFormatter\"}],\"root_ids\":[\"6a01c514-7a1f-49f8-b9a9-d99048b287d1\"]},\"title\":\"Bokeh Application\",\"version\":\"0.12.13\"}};\n",
       "  var render_items = [{\"docid\":\"a82348c3-946e-40bf-a87e-0eea86a53c28\",\"elementid\":\"b6c959c3-fe4c-42a8-8c22-4161af9bd02b\",\"modelid\":\"6a01c514-7a1f-49f8-b9a9-d99048b287d1\",\"notebook_comms_target\":\"c0492d9a-a197-439d-9d86-00573b0e9142\"}];\n",
       "  root.Bokeh.embed.embed_items_notebook(docs_json, render_items);\n",
       "\n",
       "  }\n",
       "  if (root.Bokeh !== undefined) {\n",
       "    embed_document(root);\n",
       "  } else {\n",
       "    var attempts = 0;\n",
       "    var timer = setInterval(function(root) {\n",
       "      if (root.Bokeh !== undefined) {\n",
       "        embed_document(root);\n",
       "        clearInterval(timer);\n",
       "      }\n",
       "      attempts++;\n",
       "      if (attempts > 100) {\n",
       "        console.log(\"Bokeh: ERROR: Unable to run BokehJS code because BokehJS library is missing\")\n",
       "        clearInterval(timer);\n",
       "      }\n",
       "    }, 10, root)\n",
       "  }\n",
       "})(window);"
      ],
      "application/vnd.bokehjs_exec.v0+json": ""
     },
     "metadata": {
      "application/vnd.bokehjs_exec.v0+json": {
       "id": "6a01c514-7a1f-49f8-b9a9-d99048b287d1"
      }
     },
     "output_type": "display_data"
    },
    {
     "data": {
      "text/html": [
       "<p><code>&lt;Bokeh Notebook handle for <strong>In[33]</strong>&gt;</code></p>"
      ],
      "text/plain": [
       "<bokeh.io.notebook.CommsHandle at 0x131efac18>"
      ]
     },
     "execution_count": 33,
     "metadata": {},
     "output_type": "execute_result"
    }
   ],
   "source": [
    "svd = TruncatedSVD(n_components=2)\n",
    "svd = TruncatedSVD(n_components=2)\n",
    "documents_2d = svd.fit_transform(data_vectorized)\n",
    " \n",
    "df = pd.DataFrame(columns=['x', 'y', 'document'])\n",
    "df['x'], df['y'], df['document'] = documents_2d[:,0], documents_2d[:,1], range(len(data))\n",
    " \n",
    "source = ColumnDataSource(ColumnDataSource.from_df(df))\n",
    "labels = LabelSet(x=\"x\", y=\"y\", text=\"document\", y_offset=8,\n",
    "                  text_font_size=\"8pt\", text_color=\"#555555\",\n",
    "                  source=source, text_align='center')\n",
    " \n",
    "plot = figure(plot_width=600, plot_height=600)\n",
    "plot.circle(\"x\", \"y\", size=12, source=source, line_color=\"black\", fill_alpha=0.8)\n",
    "plot.add_layout(labels)\n",
    "show(plot, notebook_handle=True)"
   ]
  },
  {
   "cell_type": "code",
   "execution_count": 56,
   "metadata": {},
   "outputs": [
    {
     "data": {
      "text/plain": [
       "1000"
      ]
     },
     "execution_count": 56,
     "metadata": {},
     "output_type": "execute_result"
    }
   ],
   "source": [
    "len(df)"
   ]
  },
  {
   "cell_type": "code",
   "execution_count": 68,
   "metadata": {},
   "outputs": [
    {
     "data": {
      "text/html": [
       "\n",
       "<div class=\"bk-root\">\n",
       "    <div class=\"bk-plotdiv\" id=\"3cd7f4a7-5fe3-492a-8440-8f5ad0017d02\"></div>\n",
       "</div>"
      ]
     },
     "metadata": {},
     "output_type": "display_data"
    },
    {
     "data": {
      "application/javascript": [
       "(function(root) {\n",
       "  function embed_document(root) {\n",
       "    \n",
       "  var docs_json = {\"34c5147a-069d-41af-9672-efff9b22f90f\":{\"roots\":{\"references\":[{\"attributes\":{\"dimension\":1,\"plot\":{\"id\":\"02ed1041-9db6-4827-9129-c04917c0b71b\",\"subtype\":\"Figure\",\"type\":\"Plot\"},\"ticker\":{\"id\":\"0ad0541f-7269-4bdf-bddf-fbba2367a4a1\",\"type\":\"BasicTicker\"}},\"id\":\"3ae4a85b-02c5-436f-a339-11c6197b6f81\",\"type\":\"Grid\"},{\"attributes\":{\"plot\":{\"id\":\"02ed1041-9db6-4827-9129-c04917c0b71b\",\"subtype\":\"Figure\",\"type\":\"Plot\"},\"ticker\":{\"id\":\"88f393c0-e104-4330-aeb0-a471acf5360f\",\"type\":\"BasicTicker\"}},\"id\":\"08b846d5-0c1b-4132-804f-b65230551b7e\",\"type\":\"Grid\"},{\"attributes\":{},\"id\":\"627df1bb-db81-49d4-9e34-a1ff95155f89\",\"type\":\"LinearScale\"},{\"attributes\":{\"source\":{\"id\":\"0189037a-c08a-4eb2-a221-9937fbfd64fe\",\"type\":\"ColumnDataSource\"}},\"id\":\"be06492c-0110-42e5-a243-8beed78888ac\",\"type\":\"CDSView\"},{\"attributes\":{},\"id\":\"cdde822d-7a37-4d12-b979-62452b631801\",\"type\":\"ResetTool\"},{\"attributes\":{},\"id\":\"902fbbfc-baf0-4e97-835f-dd5738acd716\",\"type\":\"WheelZoomTool\"},{\"attributes\":{\"callback\":null},\"id\":\"dfbf9df4-dd84-4379-9041-632e51fde347\",\"type\":\"DataRange1d\"},{\"attributes\":{},\"id\":\"6347afdb-8002-4569-9d74-73ada1f6892f\",\"type\":\"LinearScale\"},{\"attributes\":{},\"id\":\"0ad0541f-7269-4bdf-bddf-fbba2367a4a1\",\"type\":\"BasicTicker\"},{\"attributes\":{\"fill_alpha\":{\"value\":0.1},\"fill_color\":{\"value\":\"#1f77b4\"},\"line_alpha\":{\"value\":0.1},\"line_color\":{\"value\":\"#1f77b4\"},\"size\":{\"units\":\"screen\",\"value\":12},\"x\":{\"field\":\"x\"},\"y\":{\"field\":\"y\"}},\"id\":\"447cdfb4-5cf3-4c0b-a1e8-61e5282ba89a\",\"type\":\"Circle\"},{\"attributes\":{},\"id\":\"3391caef-d32d-4b76-9237-78d6f26e36e9\",\"type\":\"BasicTickFormatter\"},{\"attributes\":{\"fill_alpha\":{\"value\":0.8},\"fill_color\":{\"value\":\"#1f77b4\"},\"size\":{\"units\":\"screen\",\"value\":12},\"x\":{\"field\":\"x\"},\"y\":{\"field\":\"y\"}},\"id\":\"fa8c652c-91cf-48d0-a882-33b2853ef70e\",\"type\":\"Circle\"},{\"attributes\":{\"bottom_units\":\"screen\",\"fill_alpha\":{\"value\":0.5},\"fill_color\":{\"value\":\"lightgrey\"},\"left_units\":\"screen\",\"level\":\"overlay\",\"line_alpha\":{\"value\":1.0},\"line_color\":{\"value\":\"black\"},\"line_dash\":[4,4],\"line_width\":{\"value\":2},\"plot\":null,\"render_mode\":\"css\",\"right_units\":\"screen\",\"top_units\":\"screen\"},\"id\":\"b959bb41-d0e3-409c-b05c-581f7bc739ea\",\"type\":\"BoxAnnotation\"},{\"attributes\":{\"plot\":{\"id\":\"02ed1041-9db6-4827-9129-c04917c0b71b\",\"subtype\":\"Figure\",\"type\":\"Plot\"},\"source\":{\"id\":\"0189037a-c08a-4eb2-a221-9937fbfd64fe\",\"type\":\"ColumnDataSource\"},\"text\":{\"field\":\"word\"},\"text_align\":\"center\",\"text_color\":{\"value\":\"#555555\"},\"text_font_size\":{\"value\":\"8pt\"},\"x\":{\"field\":\"x\"},\"y\":{\"field\":\"y\"},\"y_offset\":{\"value\":8}},\"id\":\"b04ad6d1-99a1-438d-9a5c-592af82b4a7d\",\"type\":\"LabelSet\"},{\"attributes\":{\"active_drag\":\"auto\",\"active_inspect\":\"auto\",\"active_scroll\":\"auto\",\"active_tap\":\"auto\",\"tools\":[{\"id\":\"740a37c4-a924-474e-84c7-b95a60c4c538\",\"type\":\"PanTool\"},{\"id\":\"902fbbfc-baf0-4e97-835f-dd5738acd716\",\"type\":\"WheelZoomTool\"},{\"id\":\"6bc521af-72c1-4f9e-b297-f241ebc1534a\",\"type\":\"BoxZoomTool\"},{\"id\":\"d4705d40-27ff-45a1-8e20-d96fe6d0d6c1\",\"type\":\"SaveTool\"},{\"id\":\"cdde822d-7a37-4d12-b979-62452b631801\",\"type\":\"ResetTool\"},{\"id\":\"b3ffde10-492f-4ae2-8152-b8ed76729e73\",\"type\":\"HelpTool\"}]},\"id\":\"7b00d0a7-52da-4f9d-a106-d9a910253c03\",\"type\":\"Toolbar\"},{\"attributes\":{},\"id\":\"88f393c0-e104-4330-aeb0-a471acf5360f\",\"type\":\"BasicTicker\"},{\"attributes\":{},\"id\":\"42089141-a457-4f5a-966a-582044f37d2e\",\"type\":\"BasicTickFormatter\"},{\"attributes\":{},\"id\":\"b3ffde10-492f-4ae2-8152-b8ed76729e73\",\"type\":\"HelpTool\"},{\"attributes\":{\"below\":[{\"id\":\"2d1122a4-7fe0-49a1-8449-a8865507aaca\",\"type\":\"LinearAxis\"}],\"left\":[{\"id\":\"8efd18cf-a0d5-45db-b8d6-8b71f2d112a7\",\"type\":\"LinearAxis\"}],\"renderers\":[{\"id\":\"2d1122a4-7fe0-49a1-8449-a8865507aaca\",\"type\":\"LinearAxis\"},{\"id\":\"08b846d5-0c1b-4132-804f-b65230551b7e\",\"type\":\"Grid\"},{\"id\":\"8efd18cf-a0d5-45db-b8d6-8b71f2d112a7\",\"type\":\"LinearAxis\"},{\"id\":\"3ae4a85b-02c5-436f-a339-11c6197b6f81\",\"type\":\"Grid\"},{\"id\":\"b959bb41-d0e3-409c-b05c-581f7bc739ea\",\"type\":\"BoxAnnotation\"},{\"id\":\"e5001974-a576-40c5-a96c-ef653e97c068\",\"type\":\"GlyphRenderer\"},{\"id\":\"b04ad6d1-99a1-438d-9a5c-592af82b4a7d\",\"type\":\"LabelSet\"}],\"title\":{\"id\":\"c1fcd0eb-45d4-4d15-b06d-89fdf529c223\",\"type\":\"Title\"},\"toolbar\":{\"id\":\"7b00d0a7-52da-4f9d-a106-d9a910253c03\",\"type\":\"Toolbar\"},\"x_range\":{\"id\":\"dfbf9df4-dd84-4379-9041-632e51fde347\",\"type\":\"DataRange1d\"},\"x_scale\":{\"id\":\"627df1bb-db81-49d4-9e34-a1ff95155f89\",\"type\":\"LinearScale\"},\"y_range\":{\"id\":\"1b45d77c-046b-4569-ae73-a15e4cc0c547\",\"type\":\"DataRange1d\"},\"y_scale\":{\"id\":\"6347afdb-8002-4569-9d74-73ada1f6892f\",\"type\":\"LinearScale\"}},\"id\":\"02ed1041-9db6-4827-9129-c04917c0b71b\",\"subtype\":\"Figure\",\"type\":\"Plot\"},{\"attributes\":{},\"id\":\"d4705d40-27ff-45a1-8e20-d96fe6d0d6c1\",\"type\":\"SaveTool\"},{\"attributes\":{\"formatter\":{\"id\":\"3391caef-d32d-4b76-9237-78d6f26e36e9\",\"type\":\"BasicTickFormatter\"},\"plot\":{\"id\":\"02ed1041-9db6-4827-9129-c04917c0b71b\",\"subtype\":\"Figure\",\"type\":\"Plot\"},\"ticker\":{\"id\":\"0ad0541f-7269-4bdf-bddf-fbba2367a4a1\",\"type\":\"BasicTicker\"}},\"id\":\"8efd18cf-a0d5-45db-b8d6-8b71f2d112a7\",\"type\":\"LinearAxis\"},{\"attributes\":{\"callback\":null},\"id\":\"1b45d77c-046b-4569-ae73-a15e4cc0c547\",\"type\":\"DataRange1d\"},{\"attributes\":{\"overlay\":{\"id\":\"b959bb41-d0e3-409c-b05c-581f7bc739ea\",\"type\":\"BoxAnnotation\"}},\"id\":\"6bc521af-72c1-4f9e-b297-f241ebc1534a\",\"type\":\"BoxZoomTool\"},{\"attributes\":{\"formatter\":{\"id\":\"42089141-a457-4f5a-966a-582044f37d2e\",\"type\":\"BasicTickFormatter\"},\"plot\":{\"id\":\"02ed1041-9db6-4827-9129-c04917c0b71b\",\"subtype\":\"Figure\",\"type\":\"Plot\"},\"ticker\":{\"id\":\"88f393c0-e104-4330-aeb0-a471acf5360f\",\"type\":\"BasicTicker\"}},\"id\":\"2d1122a4-7fe0-49a1-8449-a8865507aaca\",\"type\":\"LinearAxis\"},{\"attributes\":{\"plot\":null,\"text\":\"\"},\"id\":\"c1fcd0eb-45d4-4d15-b06d-89fdf529c223\",\"type\":\"Title\"},{\"attributes\":{\"callback\":null,\"column_names\":[\"x\",\"y\",\"word\",\"index\"],\"data\":{\"index\":[0,1,2,3,4,5,6,7,8,9,10,11,12,13,14,15,16,17,18,19,20,21,22,23,24,25,26,27,28,29,30,31,32,33,34,35,36,37,38,39,40,41,42,43,44,45,46,47,48,49,50,51,52,53,54,55,56,57,58,59,60,61,62,63,64,65,66,67,68,69,70,71,72,73,74,75,76,77,78,79,80,81,82,83,84,85,86,87,88,89,90,91,92,93,94,95,96,97,98,99,100,101,102,103,104,105,106,107,108,109,110,111,112,113,114,115,116,117,118,119,120,121,122,123,124,125,126,127,128,129,130,131,132,133,134,135,136,137,138,139,140,141,142,143,144,145,146,147,148,149,150,151,152,153,154,155,156,157,158,159,160,161,162,163,164,165,166,167,168,169,170,171,172,173,174,175,176,177,178,179,180,181,182,183,184,185,186,187,188,189,190,191,192,193,194,195,196,197,198,199,200,201,202,203,204,205,206,207,208,209,210,211,212,213,214,215,216,217,218,219,220,221,222,223,224,225,226,227,228,229,230,231,232,233,234,235,236,237,238,239,240,241,242,243,244,245,246,247,248,249,250,251,252,253,254,255,256,257,258,259,260,261,262,263,264,265,266,267,268,269,270,271,272,273,274,275,276,277,278,279,280,281,282,283,284,285,286,287,288,289,290,291,292,293,294,295,296,297,298,299,300,301,302,303,304,305,306,307,308,309,310,311,312,313,314,315,316,317,318,319,320,321,322,323,324,325,326,327,328,329,330,331,332,333,334,335,336,337,338,339,340,341,342,343,344,345,346,347,348,349,350,351,352,353,354,355,356,357,358,359,360,361,362,363,364,365,366,367,368,369,370,371,372,373,374,375,376,377,378,379,380,381,382,383,384,385,386,387,388,389,390,391,392,393,394,395,396,397,398,399,400,401,402,403,404,405,406,407,408,409,410,411,412,413,414,415,416,417,418,419,420,421,422,423,424,425,426,427,428,429,430,431,432,433,434,435,436,437,438,439,440,441,442,443,444,445,446,447,448,449,450,451,452,453,454,455,456,457,458,459,460,461,462,463,464,465,466,467,468,469,470,471,472,473,474,475,476,477,478,479,480,481,482,483,484,485,486,487,488,489,490,491,492,493,494,495,496,497,498,499,500,501,502,503,504,505,506,507,508,509,510,511,512,513,514,515,516,517,518,519,520,521,522,523,524,525,526,527,528,529,530,531,532,533,534,535,536,537,538,539,540,541,542,543,544,545,546,547,548,549,550,551,552,553,554,555,556,557,558,559,560,561,562,563,564,565,566,567,568,569,570,571,572,573,574,575,576,577,578,579,580,581,582,583,584,585,586,587,588,589,590,591,592,593,594,595,596,597,598,599,600,601,602,603,604,605,606,607,608,609,610,611,612,613,614,615,616,617,618,619,620,621,622,623,624,625,626,627,628,629,630,631,632,633,634,635,636,637,638,639,640,641,642,643,644,645,646,647,648,649,650,651,652,653,654,655,656,657,658,659,660,661,662,663,664,665,666,667,668,669,670,671,672,673,674,675,676,677,678,679,680,681,682,683,684,685,686,687,688,689,690,691,692,693,694,695,696,697,698,699,700,701,702,703,704,705,706,707,708,709,710,711,712,713,714,715,716,717,718,719,720,721,722,723,724,725,726,727,728,729,730,731,732,733,734,735,736,737,738,739,740,741,742,743,744,745,746,747,748,749,750,751,752,753,754,755,756,757,758,759,760,761,762,763,764,765,766,767,768,769,770,771,772,773,774,775,776,777,778,779,780,781,782,783,784,785,786,787,788,789,790,791,792,793,794,795,796,797,798,799,800,801,802,803,804,805,806,807,808,809,810,811,812,813,814,815,816,817,818,819,820,821,822,823,824,825,826,827,828,829,830,831,832,833,834,835,836,837,838,839,840,841,842,843,844,845,846,847,848,849,850,851,852,853,854,855,856,857,858,859,860,861,862,863,864,865,866,867,868,869,870,871,872,873,874,875,876,877,878,879,880,881,882,883,884,885,886,887,888,889,890,891,892,893,894,895,896,897,898,899,900,901,902,903,904,905,906,907,908,909,910,911,912,913,914,915,916,917,918,919,920,921,922,923,924,925,926,927,928,929,930,931,932,933,934,935,936,937,938,939,940,941,942,943,944,945,946,947,948,949,950,951,952,953,954,955,956,957,958,959,960,961,962,963,964,965,966,967,968,969,970,971,972,973,974,975,976,977,978,979,980,981,982,983,984,985,986,987,988,989,990,991,992,993,994,995,996,997,998,999],\"word\":[\"abhor\",\"abide\",\"absence\",\"absent\",\"abundance\",\"abuse\",\"accident\",\"account\",\"accuse\",\"acquaint\",\"acquaintance\",\"action\",\"add\",\"addition\",\"adjunct\",\"admire\",\"admit\",\"advantage\",\"affair\",\"afford\",\"age\",\"ah\",\"aid\",\"air\",\"alack\",\"alas\",\"alchemy\",\"alive\",\"alter\",\"amiss\",\"anew\",\"angel\",\"answer\",\"antique\",\"appear\",\"appetite\",\"approve\",\"april\",\"argument\",\"asleep\",\"assail'd\",\"assur'd\",\"assure\",\"attaint\",\"attend\",\"audit\",\"aught\",\"autumn\",\"awake\",\"away\",\"ay\",\"babe\",\"bad\",\"bail\",\"bar\",\"bare\",\"bareness\",\"bark\",\"barren\",\"base\",\"bastard\",\"bath\",\"bear\",\"beast\",\"beat\",\"beauteous\",\"beauty\",\"bed\",\"begin\",\"behold\",\"belie\",\"believe\",\"belong\",\"belov'd\",\"beloved\",\"bend\",\"benefit\",\"besiege\",\"best\",\"bestow\",\"betray\",\"better\",\"bid\",\"bide\",\"bind\",\"bird\",\"birth\",\"bitter\",\"bitterness\",\"black\",\"blam'd\",\"blame\",\"bless\",\"blessed\",\"blessing\",\"blest\",\"blind\",\"blood\",\"bloody\",\"blot\",\"blunt\",\"blush\",\"boast\",\"body\",\"bold\",\"bond\",\"book\",\"bosom\",\"bough\",\"bounteous\",\"bounty\",\"bow\",\"boy\",\"brain\",\"brand\",\"brass\",\"brave\",\"break\",\"breast\",\"breath\",\"breathe\",\"breed\",\"brief\",\"bright\",\"bring\",\"brow\",\"bud\",\"build\",\"burn\",\"burthen\",\"bury\",\"call'd\",\"canker\",\"canopy\",\"canst\",\"captain\",\"care\",\"careful\",\"cast\",\"catch\",\"change\",\"character\",\"check\",\"cheek\",\"cheer\",\"chest\",\"chide\",\"chief\",\"child\",\"choose\",\"churl\",\"clear\",\"clock\",\"cloud\",\"cold\",\"colour\",\"come\",\"comfort\",\"comment\",\"commit\",\"common\",\"compare\",\"complexion\",\"compound\",\"conceit\",\"concord\",\"confin'd\",\"confound\",\"conquest\",\"conscience\",\"constancy\",\"constant\",\"content\",\"control\",\"convert\",\"cool\",\"copy\",\"corrupt\",\"cost\",\"count\",\"counterfeit\",\"course\",\"cover\",\"create\",\"creation\",\"creature\",\"crime\",\"crooked\",\"cross\",\"crow\",\"crown\",\"crown'd\",\"cruel\",\"cunning\",\"cupid\",\"cure\",\"curse\",\"daily\",\"dare\",\"dark\",\"date\",\"dateless\",\"day\",\"dead\",\"dear\",\"dearer\",\"dearth\",\"death\",\"decay\",\"decease\",\"deceased\",\"deceive\",\"decree\",\"deed\",\"deem'd\",\"deep\",\"defeat\",\"defect\",\"defence\",\"delight\",\"deny\",\"depart\",\"depend\",\"desert\",\"deserve\",\"desire\",\"despair\",\"despise\",\"despite\",\"devise\",\"devour\",\"dial\",\"didst\",\"die\",\"discontent\",\"disdain\",\"diseas'd\",\"disgrace\",\"distill'd\",\"divide\",\"divine\",\"doom\",\"dote\",\"double\",\"doubt\",\"draw\",\"dream\",\"dress\",\"drink\",\"drop\",\"drown\",\"dull\",\"dumb\",\"dust\",\"duty\",\"dwell\",\"dy'd\",\"ear\",\"earth\",\"ease\",\"eat\",\"eclipse\",\"edge\",\"effect\",\"element\",\"end\",\"enemy\",\"engraft\",\"enjoy\",\"envy\",\"ere\",\"error\",\"esteem\",\"eternal\",\"eternity\",\"evermore\",\"evil\",\"exceed\",\"excuse\",\"expense\",\"express\",\"express'd\",\"eye\",\"face\",\"fade\",\"fair\",\"faith\",\"fall\",\"false\",\"fame\",\"far\",\"farth\",\"fast\",\"fault\",\"favour\",\"fear\",\"feast\",\"feed\",\"feeding\",\"feel\",\"feeling\",\"fever\",\"fiend\",\"fierce\",\"fight\",\"figure\",\"fill'd\",\"fine\",\"finger\",\"fit\",\"fix'd\",\"flame\",\"flat\",\"flattery\",\"flee\",\"flesh\",\"flower\",\"fly\",\"foe\",\"follow\",\"folly\",\"fond\",\"fool\",\"foot\",\"forbear\",\"forbid\",\"force\",\"fore\",\"forfeit\",\"forget\",\"form\",\"forsake\",\"forsworn\",\"forth\",\"fortify\",\"fortune\",\"forward\",\"foul\",\"fountain\",\"frailty\",\"frame\",\"free\",\"fresh\",\"friend\",\"frown\",\"fulfil\",\"gain\",\"gainst\",\"garment\",\"gate\",\"gav\",\"gay\",\"gaze\",\"general\",\"gentle\",\"gift\",\"gild\",\"glad\",\"glance\",\"glass\",\"glory\",\"glutton\",\"god\",\"goddess\",\"gold\",\"golden\",\"good\",\"goodness\",\"grace\",\"gracious\",\"grant\",\"grave\",\"great\",\"green\",\"greet\",\"grief\",\"groan\",\"gross\",\"ground\",\"grow\",\"growth\",\"guard\",\"guess\",\"guest\",\"guilty\",\"gust\",\"hadst\",\"hair\",\"half\",\"hand\",\"hang\",\"haply\",\"happy\",\"hard\",\"haste\",\"hate\",\"hawk\",\"head\",\"health\",\"healthful\",\"hear\",\"heart\",\"heat\",\"heaven\",\"heavenly\",\"heavily\",\"heavy\",\"height\",\"heir\",\"hell\",\"help\",\"hide\",\"hideous\",\"high\",\"hold\",\"holy\",\"home\",\"honour\",\"hope\",\"horse\",\"hot\",\"hour\",\"hue\",\"huge\",\"humble\",\"humour\",\"hungry\",\"husband\",\"husbandry\",\"hymn\",\"idle\",\"ignorance\",\"ill\",\"image\",\"imitate\",\"imprison'd\",\"inconstant\",\"increase\",\"infection\",\"influence\",\"injurious\",\"injury\",\"ink\",\"invent\",\"invention\",\"invite\",\"inward\",\"is't\",\"issue\",\"jack\",\"jewel\",\"journey\",\"joy\",\"judgement\",\"judgment\",\"keen\",\"kill\",\"kind\",\"kindness\",\"king\",\"kingdom\",\"kiss\",\"knife\",\"know\",\"knowledge\",\"lack\",\"lamb\",\"lame\",\"large\",\"lascivious\",\"lawful\",\"lay\",\"lead\",\"leaf\",\"leap\",\"learn\",\"lease\",\"leave\",\"leisure\",\"lend\",\"length\",\"lest\",\"let\",\"level\",\"liberty\",\"lie\",\"life\",\"light\",\"like\",\"lily\",\"limb\",\"limit\",\"line\",\"lip\",\"little\",\"liv'd\",\"live\",\"lively\",\"lo\",\"lofty\",\"long\",\"longer\",\"look\",\"lord\",\"lose\",\"loss\",\"lov\",\"lov'd\",\"love\",\"lovely\",\"lover\",\"loving\",\"lust\",\"lusty\",\"mad\",\"maiden\",\"main\",\"majesty\",\"mak\",\"make\",\"malady\",\"man\",\"manner\",\"mansion\",\"map\",\"mar\",\"mark\",\"mask'd\",\"master\",\"matter\",\"mayst\",\"mean\",\"measure\",\"meet\",\"memory\",\"mend\",\"merit\",\"methink\",\"mightst\",\"mile\",\"mind\",\"minute\",\"mistake\",\"mistress\",\"moan\",\"mock\",\"monument\",\"moon\",\"morn\",\"morning\",\"morrow\",\"mortal\",\"mother\",\"motion\",\"mountain\",\"mourn\",\"mourner\",\"murderous\",\"muse\",\"music\",\"mute\",\"mutual\",\"nature\",\"nay\",\"ne'er\",\"near\",\"need\",\"neglect\",\"new\",\"niggard\",\"night\",\"nightly\",\"nimble\",\"note\",\"nought\",\"number\",\"nurse\",\"o'er\",\"oath\",\"object\",\"obsequious\",\"ocean\",\"odour\",\"offence\",\"offender\",\"office\",\"old\",\"open\",\"oppress'd\",\"ornament\",\"outlive\",\"outward\",\"owe\",\"owner\",\"pace\",\"pain\",\"paint\",\"painter\",\"painting\",\"palate\",\"pale\",\"paper\",\"pass\",\"past\",\"patience\",\"pattern\",\"pay\",\"peace\",\"pen\",\"pencil\",\"perfect\",\"perfection\",\"perfume\",\"perjur'd\",\"perpetual\",\"physic\",\"physician\",\"picture\",\"pilgrimage\",\"pine\",\"pitch\",\"pity\",\"place\",\"plague\",\"play\",\"plea\",\"plead\",\"pleasing\",\"pleasure\",\"pluck\",\"poet\",\"point\",\"policy\",\"poor\",\"possess'd\",\"possession\",\"posterity\",\"potion\",\"poverty\",\"power\",\"powerful\",\"praise\",\"precious\",\"prepare\",\"presence\",\"present\",\"pretty\",\"prevent\",\"prey\",\"pride\",\"prime\",\"prince\",\"prize\",\"proceed\",\"profan'd\",\"proof\",\"proud\",\"prov'd\",\"prove\",\"public\",\"pure\",\"purge\",\"purpose\",\"pursuit\",\"quest\",\"question\",\"quick\",\"quill\",\"quite\",\"rage\",\"rain\",\"rank\",\"ransom\",\"rare\",\"raz'd\",\"read\",\"reason\",\"receiv\",\"receive\",\"reckon\",\"record\",\"red\",\"register\",\"rehearse\",\"reign\",\"remain\",\"remedy\",\"remember\",\"remember'd\",\"remembrance\",\"remov'd\",\"remove\",\"render\",\"renew\",\"rent\",\"repair\",\"replete\",\"report\",\"resemble\",\"reserve\",\"respect\",\"rest\",\"return\",\"rhyme\",\"rich\",\"ride\",\"right\",\"rime\",\"riper\",\"rise\",\"rob\",\"robbery\",\"root\",\"rose\",\"rotten\",\"rude\",\"ruin'd\",\"run\",\"sacred\",\"sad\",\"sail\",\"sake\",\"salve\",\"sap\",\"saucy\",\"save\",\"say\",\"scope\",\"scorn\",\"scythe\",\"sea\",\"seal\",\"season\",\"seat\",\"second\",\"seek\",\"seem'd\",\"seldom\",\"self\",\"sell\",\"send\",\"sense\",\"sensual\",\"servant\",\"serve\",\"service\",\"set\",\"shade\",\"shadow\",\"shake\",\"shall\",\"shalt\",\"shame\",\"shape\",\"sharp\",\"shift\",\"shin\",\"shine\",\"shore\",\"short\",\"shouldst\",\"shower\",\"shun\",\"sick\",\"sigh\",\"sight\",\"sightless\",\"silence\",\"silent\",\"silver\",\"simple\",\"sin\",\"sinful\",\"sing\",\"single\",\"sink\",\"sit\",\"skill\",\"slander\",\"slave\",\"slay\",\"sleep\",\"slight\",\"slow\",\"small\",\"smell\",\"soil\",\"son\",\"song\",\"soon\",\"sooner\",\"sorrow\",\"sort\",\"soul\",\"sound\",\"sour\",\"sourly\",\"sovereign\",\"speak\",\"speaking\",\"special\",\"speechless\",\"speed\",\"spend\",\"spirit\",\"spite\",\"spoil\",\"spring\",\"spur\",\"stage\",\"stain\",\"stand\",\"star\",\"state\",\"stay\",\"steal\",\"steel\",\"steep\",\"stol'n\",\"stone\",\"stop\",\"store\",\"story\",\"straight\",\"strange\",\"strength\",\"strive\",\"strong\",\"style\",\"subject\",\"substance\",\"suffer\",\"suit\",\"sullen\",\"sum\",\"summer\",\"sun\",\"suppose\",\"sure\",\"survey\",\"survive\",\"suspect\",\"sway\",\"swear\",\"sweet\",\"sweetly\",\"sweetness\",\"swift\",\"table\",\"tan\",\"taste\",\"tatter'd\",\"teach\",\"tear\",\"tell\",\"temptation\",\"tend\",\"tender\",\"term\",\"th\",\"thank\",\"thief\",\"thievish\",\"thing\",\"think\",\"thorn\",\"thought\",\"thousand\",\"thrall\",\"thrice\",\"thrive\",\"throw\",\"thrust\",\"thyself\",\"tie\",\"till\",\"time\",\"tir'd\",\"tired\",\"tis\",\"title\",\"toil\",\"tomb\",\"tongue\",\"torment\",\"torture\",\"touch\",\"translate\",\"travel\",\"treasure\",\"trespass\",\"trifle\",\"triumph\",\"triumphant\",\"true\",\"truly\",\"trust\",\"truth\",\"tune\",\"turn\",\"turn'd\",\"twain\",\"twice\",\"twixt\",\"tyrant\",\"unfather'd\",\"unkind\",\"unkindness\",\"unless\",\"unthrift\",\"untrue\",\"unused\",\"urge\",\"us'd\",\"use\",\"usurer\",\"vainly\",\"vanish\",\"vantage\",\"verse\",\"vice\",\"victor\",\"view\",\"vile\",\"violet\",\"virtue\",\"virtuous\",\"voice\",\"vouchsafe\",\"vow\",\"vulgar\",\"wail\",\"wait\",\"wake\",\"walk\",\"wall\",\"wander\",\"want\",\"war\",\"ward\",\"waste\",\"wasteful\",\"watch\",\"water\",\"way\",\"weak\",\"wealth\",\"wear\",\"weary\",\"weed\",\"weep\",\"weigh\",\"welcome\",\"wert\",\"west\",\"wh'r\",\"whate'er\",\"whereof\",\"whereon\",\"whilst\",\"white\",\"wide\",\"widow\",\"wilful\",\"willing\",\"wilt\",\"win\",\"wind\",\"window\",\"winter\",\"wish\",\"wit\",\"witness\",\"woe\",\"woman\",\"womb\",\"wonder\",\"woo\",\"wood\",\"word\",\"work\",\"world\",\"worm\",\"worth\",\"worthless\",\"worthy\",\"wouldst\",\"wound\",\"wretch\",\"wretched\",\"wrinkle\",\"writ\",\"write\",\"wrong\",\"year\",\"yellow\",\"yield\",\"young\",\"youth\",\"youthful\"],\"x\":{\"__ndarray__\":\"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\",\"dtype\":\"float64\",\"shape\":[1000]},\"y\":{\"__ndarray__\":\"kVcZrYOes79lLipFky+6v5hy76tdFKE/gBzzASdCnb9bOWv5sBmTv6LToMcsc3a/OufyGyeqij/x6H1qq4WBv2kqtIcKGJq/0IUjIntOcr9/RqM3mR2Cv7PUMMG9ZoW/Bfs3PyQClb9tyBivAfinv0oLAqyHEKC/3o3HVSvuUr+XYnALtlekv9BMNO4Pw5A/rA+2b3bYbz9ohn6SN02Dv2aupGPf8Kq/YRkslO0prb/3Pvknt9ByvyaexdZfK5u//qw9smi9i7+iOk6UOPuhv47/qAjh12u/1T4RQjwlhb9/CGanZT6Zv9Wc5eA2eE2/Ori+fEEbuT/+/GKNXKJ0P0wpb9ADa4+/XRIfnPuPm7+SLVUNi5Cfvx/r4Ablg4u/QKJBcmJQub9WjByyCDqyv5BBU5K+/6A/oPQRYTPDnD8/lSvTtNmlP3ZpvkH+z6Q/qDlI1Ug/mr94wpy7l/yVvzLwfGVK64K/+L8rFMITcz/cnWDBPOmSP97O05JjV42/dwl7AYQxkL/0HWMkoS2FvwziYTeMune/ofO16Eq1kr/4Wbf5SEWwP8isRetpbbu/y48E0GwrlT9aJ4pd8QqlP56lHxJadsK/V9BTTFiQmb+vIUsn10t6v4nqPvUSZJi/KGmmZvCUl7+bl7lewLGLv/E8W1ksd6e/wqYsmWa1qb/URQ67Mvelv0XATmLLHJw/rh5uH3bav78fVO5v7AFqv/cFZpRq+pE/FrvkgZm+vb8J5jXaCczuv5Jy41SDEog/WZ7MHZBsnD/DquI5cX+mv85BjiB7/W8/NfQH5iLSaD+ZDXRC2V+kP8a+xb5nSrc/VSKDqGZyij+XTl7NtbS1P2JwPV1gmWa/oIYBxOhCnb+3j6gzPKSTv540dNF7WI8/5LlvT1XSmb86q3apLIKDP8fy3N9Zr3S/cGIL5n+qkL8M7GazZvKgv99owfnZa34/cgvPdftXdr8nq9CkaPR9v7Zj/fq0uMG/mLXxfC5amT99Kt47ogaiP/ueyIHL9qC/g38kZLXDgb+g9frtbUufv2F46Mkg9Yi/2XZqMQE+tT+qrwlFzJO2v6JV4JhEC5a/H6FGY9BIo79zK5/aOJGav8+qurwzNJO/556Ds0wzcD/cPUB536iAPzmvSiJ9a5M/k3AJjDBJSb+Wraok13Gjv1nF5PuaoKs/DtC1e2Nnkb+9RLbRNNOBv8Pbs2/z642/fx3enVA5c7/+Lynt2c+lvzsopPJ3Vpy/4jqW8AFUaT9WhRWksnqav+RG+h/lWJ+/1rcDqxN8gb/byy6TkoWkv9NONz2GWq2/D+HfyEHFor9qYG2xhB+WvwUfb9hF4GO//Kax3uv4p78wTfomxgOhvxfNhq/DSbi/REkP3DP1rb/ZXh84NOB3v4dTRYULmZy/igbU9mPNWj/hln6bXh+sP0Cq3JmfLYg/lNlO3WUjq78mQr353OqQv2rKqVbQOpM/Mx0H6jlxh78E/vSNkydLv6LvOKUFu12/FxcHZi1LgD/AEspCFRmVvwdtKa2Gtru/QmrwCA5QjL84DS+Y1VSIv8CUiNQhF3a/HJvJGLyqe78ceVlEBzCmv/vf9WHJzYC/w38qnlsxpL/1OqrQvGKav/127A4sAaE/Qnk47gBgp79tONqTIS2PvxthkdFE85u/ccSHSo3OoL9YC+gLMoWRv9T+p45c2KK/6jaqmohWq7/LRhDqM2ynv4Sdnm5I/Z+/Jm/P0AmHlD8aSzbEQ3mdv1m1MbB4Zo8/ad5lzJ1noL+uTE1ZgV+vv8oSB/TBMZm/eCJtPSjAlb9/olQNfGR8P/DuDQhVEnS/EHoz7XuhmD+ra9as2cqkv6KQCQzggqC/DgOB6zL0tz8asL7GLzqCP4yDePOkl5e/WPMun3Iphr+janp5cYWjv07czmUqqoG/InT87p2XVT/m8SjhcryhvwHPtEx/Eps/nC4YFY4Zj79MlXDxnkCJv+10q7gkHmM/h9ZtIQcYvr+N02LgEjWevw15NUQJlKG/e4qddmy9qb8fHlpcQV+cvzwWuyUzW5W/JBVI6CO1ob8fF9T8laWkv6NMw8w+lmS/KGn34LyKcD+baD2jv4OZv38fgV7kwYS/gWn8rk07l79+lk2lpRegv4/nOg/wu4g/jmuZzU9WOz8iKBQl0sWSP7cZHfP0IZi/rmoXKpcjcT88AXcmlj2PPxEHDxgvMZu/4HhF6x3+ur/wp4vxWAWNP/kRW2OMP9e/8rJbjt1eur8FsitE/b6/P6Pi6GMQzZo/6AiMnUvHgb9G4yEFUV7Evzy7bsWJP6K/a9tM0LNarr/2Aq48bvFSvxea78rHLIq/ypaPLc9fU7+Ls900uXqUv65Spk13VGi/4Vu8wdIXtb/EGtRIWQiaP7T+X0Tzs52/VKdiA4p5lL9+VsHqkcKTv7eBOJt2PJs/EIrH7FpEnr+ECOIdwAiYP4nYBr/Pl4y/OsPYLQFYdD9uxi9L3HCev1GPCc7/yZw/Qx+iK3PuNb8kQdCVU0CRv+0hfuM+eKG/4zXqVfo6mr8AxRZy6geiv6gEbztvA4m/5/2wY4ySvb+DQdR+Y/t8v3roNkVGi18/bAmgopxAhT+8ndq/HBKrvz5AzF6vFZ6/MxxQh7u4iz8WucM24D+hv46Wuh51zaK/qQQ81CKnZb+wllNM61Z5P2fgu//NiJy/VjxYpZ2Csb8TI3seGA6HvyUXBoISuoG/EAwgUJ6Hc796UCdky7RmvyAUWAhwTly/J1nlC1EvkD/n93MzwDyiv8u+6d6g6YA/C5hQ6elHkj9VDK9w00eav7+iyjpy8pu/htV7M3EUiL8KR5uMPpm0vyWIVT6cyXW/AUH8b06XsL+67nWyOA6Rvxh+89cjVYI/YOZDgH9Zaz/hCRTeTX15v23bzkmtosK/3ke5GU0ucj+sF7XX9SeCvxotb3eqU5K/lg2Q52poh7+uBxmMMEWpv5xIxtsbmZg/ciBgdk+vor+uUqZNd1Rov/eqNlh4hqq/VpHjFFj5kr+8CELfqNGPvzbda363qYW/TFwj52Nfdb88UVt5NFuVv+SRlx41AC2/lyb1ZJQhpD9SlIZmfJpxv4UMlq0A4pk/0JpUFRFEoL+PnFtNBEzKv6mPwCIMNYC/cSf765z7ur9A6tIaeseiv+BEuiUP4eG/zVXodKjanz+A7B3flNpvv028Gx52QsG/5PCtSLIFfb9leiX7BgaKvyEzesq5sZq/Tiw6EesIgD8PPW23IWenv0d/hFmP44+/fRn24LJimL+qc1P8m35xP1MnRazB3HU/3NtbeFaMmr/4QgkjsShMPwLbUstzc5G/wyGJ4577Zr/VJ+QJxuiCv+kLTbb4rYi/XjoKfPo5mr8P6iXufd2SP/uMIJAn7oe/2RUasz3kjr/NwQkareSOvyRiZ5ykM5M/VocRTsyvgj/4CcAF8E27v1x6SMZOEaK/uUIM7eqDab/HCkLFYWmYvxHyMVMEcbM/LxWQX4Ocpr9ugudGQbe0v6wWlZ2/rYO/C+BVwtlZRj/X6xW3MK2yv0U4jgJJ55C/gi4DnD7Mlz+e+jigkCSZv6eMsQ+cA5u/5M0r63/msL8duyURE12dv+0yxajPlYS/gYApVpoKqb/6wBQplwRzP4w+3yPucIW/5xvvnT42pz/MQPphlVCcvwNmzuyni6a/4fyzKMV9fT9A4FpbckGfvxWfe9/aQFw/uT8jvKtGl78Cufsap5ahv7pJK+eTmnq/RCr0bcajtL/Th9u2J9ipvyUYHuWHvqG/wGiA2uebir+4h/wdhiyIv3w64t3iQ7e/tvQxMn5orb8Mt821F4yav3l0sThCnoA/XozqbMI1ab/bfQ/QgE1hv7z6s3RqXai/0kNRSnpetb8DiemlVfhxvwFAA+qPeLi/Dvn4bwUArL9dfwhUOrkJv7PdsRO6kIu/TmkMooaGvD/y7Z8nn+azvwKIdt3LBHu/M6D6ZryBrD9Et9ihAaGRv3cj419RdoE/AKasEANdmD9zLnvyEO+Uv/iEUOt6jKi/ttkazepemz/PvRCHj1Jyv/ANxzAtMJG/FwguaJ/Gjj/jb4i1ty6Dv2lc2s8q34+/ssZOGlJIzD/1WYLMGHd/v/6dRdse4Iq/SIv8woItvb+/ZFqjAbGPv+V2YfrV2JW/N5/E4+gVqL8TA4B0zEaTv6/bZV2X+oO/aPmC3icqxj/h/LMoxX19P7vXEbIOXpE/89nJ+snLbD8ipM8lmNKWP8zCWgwgOKs/UQ/Q4TGJnb9jGzmEw7+UPx8KgVLw7q6/AUgpjxoymb9HHdynDep1v9I84RpL3p6/q0pqVrUxj78FcKP+pYeyv5pfdBo6xpa/2raFWIRRlr/Nb3dP7gilv1XSuaFa0pi/ZP06rxbBi7+IbT7scznCv36B31nD8pm/ahDjV7eUtj9V2ktJbM2Yv0M4emZY66m/JGF/At0piT/vpQJsm0qXv8+xhxxjwqq/ZCt+3qDEsr/dgmda3q6Dv77Lvb0ug4G/wfUFynrDQj+6KW05Oz2SP86POtdeKGq/xUDhxpUCnb/+XcmdaL+Sv5zBgTOYO4W//Wv6mf5Ahr98hUO/yTa0PxsebSQg+Zu/SuZVZJkjn7/NNauAbI6Rv0EoF+NWnYy/vF/lXmN3p7+DwQEFPb6Xv0CN/6pS7JC/upYPbWBIhr9Df68tyguxP0QsJYys5pQ/KzegsdM8gL+ASUcrY7SZv5eNW234+Hq/mLFY/fD3VT9U9jMGv8edvwKE3m1956G/I+FEm6OseL8y29wc4sGvv3sV77YJina//BbPcPwRir8oUpJe+Bt2vy/kPZ7oX3G/Lmku+wjbjL+hCinqqxWIv9yTbC+1zK2/xB+UQnf3bL9gHOQ5/vyQv4ELupa6xYK/um9ao/63ib+nN5ri8KWSv1f3s2pmncI/8LYgI4WgjD/ZcB18tXOkv08Umou7b6a/exJJ6WMJgj8umDjyp9eKvyd5hBS1KJW/smDDHJ9eib/s4ABYfg6aP59Gy6TOKqa/WxaGZI+ukr9NScLEPEOhvzJkwKKicn2/6iInZ8QcjT/hfNiZQnqgv0HCQYOPOaM/kgTjE2Esk78R9oa5FT+mvw+mzEWmpIi/TJ+pobapnj/89s7YwdSUvzCOOskO1oM/z0puumjxiL8FmoSUgDnBv7wkfe2fo8O/PXIikAKHo79MyfGN3evIvzRLzBqboqC/W8aITvzQkL9kClzzP0uXv8MJa0OGU7u/j3IYyvhKir9RCYyXsRRyv99pjDUAtZe/mKyIcx/J178BNWm8u0JkPxqcf5rqrZm/4y8KXgGbjr/mb5RwY5m5v7N6HfljY6c/xr3mIL3Exb+FcRzdUDp0v7ZmtM2Rapy/ge1L4z7ulj9lRT+mwqCOvzFk+KY/zcU/4KCF9tWK/j/fGk/OZg7Av+1ST+N8t6C/H1WsdlpAhj/ZB0C0N2Zxv6Ei6Tb61qS/EDftJZdFfD8g0FP2rFORv5lptgbOaJC/7SmjSZUVib8UszyPE4SIv9L6mSy+lNW/F9JFzHK2hj86oc30RseSv79Pzc/rIpe/QOjOQ+t5i78ZwYNkIiSlv67W+LSNiIm/YSe0ZofPob+fsS1GpVaHvzLlmUefQaO/93UxbEHVhL8Qr/i4XFOjP59wz5XRwJ+/53ZblNY4l79OMyz06pOgv1h7Uo5P6rK/ow5cCRyPjb92bNWMV8egP+GsCcYXXqS/1dpzhEm8gL9vJjH3m+yAv3feWNZsNa+/L8lnsIrXor8rLWN8mKhov33h3jHQ456/I0uHPu8rgr9f/PiRcbCDv4ft+aeBOKW/qMy5Riozjr81nj6V0fGKv7rtZ0p4AYe/vuTUSI7ikj+mhHbtgI+Qv6zQaW1PUom/I6Lr7rlfmL9EMVDSVYeSvwaANfBpsqe/ikf8kgbQcb8NvV0rZT5tv9ZN8qAUXcu/7O1AxiRYfz98kX03w7mbv4d3Y4Wy03K/Tpg4WmhHwb9RsPtY3RFiv62WobG+An0/nZ8hofirgz+mRhx7Cz2av2YZR3433Ke/DByiwN51jL/CqCzEmvdeP6D618qDssO/WTyi4SF3hL8oq/LIQ/h9v/8yGdF0BT4/nsOTNnsYhr/F1YwPO/Gxv/0NULhdho0/lfD3UHa8r79ZSQsWwuxuvy5D9BZoL5i/JR0oNLYYiD/Pom5dFFmBvyQzm5q4Bri/7s/+IBrNkz9HLY+oNx+rP+jxkRBNuaS/ylwR6nm/1L+pj8AiDDWAv7qWbba40Ie/rpEyT/fevL81btFcDBilv3rvncE25pW/bFgfFBQkhb8jK42u+GOpP0e2wB8zSqK//ZYLXLrhnr/qlBQmTsazv9hHzo4e0Jq/eiGBn3TJlL+ZFwRnTOpyv13Zt5L6noK//qhsy4malb9abvs1KMmfv8v+OH/5dLG/CewqFnhcer9Svrlv4KGav4h+UX1e7Jm/O0FT9yu/ib/zAOUid6DBv2E0WNmwqKO/3P8QE/Tzhz9s+SUZli+Evyvg/zH8Ho2/MDP38933aL8UpG5hu1+gP3yfN3UmoZI/WZrbtX1llj8tOoQAPRuTP/i0XFj5LIa/bOB3QC1gmb/RIpwR4vGRv+Nd5c4Xj5A/TXLISlF0qb+RERHyU8OXv1kIt64X8ic/6fiFqIwCob+y2ZG0IQp/v26V2BtaUpA/vsrkpnJCjT+4UVroFCSkv+Do8+Ixg6e/aMyYMWOraL8AzVwFvxd9P6crwc52CYo/W+J9wv/Ec7+WXFIU8FiWv7MjAT77bXe/pJi1QCQnar/RSSOqPaiEv3l6Kb4sNbC/9L1Nts2A2L+UxkH+3f6uv4NkomUu35i/1VwLY2Jmg7/RK93rO1Klv7vVHc5yFpg/s89D5iyqdL+mzjSi27Ghv+ppXg86DaC/f6Dr19OooL+4VcYGj356vychf5wPJ4G/f2TdFx6/mL/5IuEAQp6WP8qWl3OOzb6/RMOHjKXvQb9hxrqLFT6NP/NYp34OBYG/i0r4n8jNfr9CKdkjWi11vwHz/RFWRqS/7wdN1DUNcr+cdeuZjoFuv1gL6AsyhZG/jcRHR8MWob9qJsrwDgqLvxaETuqIgGs/kgqN9nEJl7+3AgLCgHiJv4mXJ/d/QIC/1e6iov1plz9ly8FWZLhuP+C0VCoNH4C/r46iX+XNmT+Yo60Bx850v1OCRohymoA/WLCicrzAXr9Zz9oPbbxqv0kAj8UGr56/P+mskncMmL91dOiwTAWRP+ZBSeHTs66/Ci38wri+mD/NjsrWc/mivydn9H9e85c/OZYKPnxjcr8nJtyxVESNv2sYt0G8XKK/G8U4r5V/oj+uMnTIAwW0P+/dt3u2tmu/XhFNXbOsgb+eBiAcAs5nv0a6YtdCLaG/yXWGNpdTlj/Qr5/qdomqPzxMwo6WGJK/2gG3VN4ckb90Y8Tp5FKUP+/lyBQBZGq/biLNWGNRob9FqUP8vYWkv0dNbCkeHJE/p6sG4yH0kr/p5qrbyealv4Emu5WCJaG/apFX+77PkL+836JnquGJP5GVziBmqGe/G+s5qJicf78f5SGvICSFvy2SQXWlVsa/zalcadBxob+3t+eT9h+cvx5r4QByW4G/Uhb4gYesaT9/qIRydA6Iv7L4aiB5ipW/gygL3p7hir9Ek2HrF+qyP/RPHUWFAnO/iU1C3oA5j78E07C7fMeDvxT9MI6Kh62//zMsf2JQw78Hr6/AHdGVv60e5suWmXy/f4f+w/94pb/gSMbnFjCkv2c2UEc22ZG/cLXNL/74l78RzCrRC/yXvyvdcJ8V56u//mXyISw6l7/2JCr5QwepvxKYLjRnoJO/6YAXKR29hb/H81jOEuCkvx0TyEot05a/bfUNEmwLgz/RJPhYNtOBv02ZvorYTXK/OP48O80cgr+7q3liWfyEv5bnifUe5ZW/AcHHM959sL/MZEHZMoCnvyxhRSiQqLa/LV0VLuimpL9UIjWzDWfkv8SnGYNx5Ky/fOu5f3vSdr/qordehYSgv9bEtEQ+4JO/KLSa8Uh6nL8GvFrMRNehv/Ajc/FXMI2/xTpX7PdYk78CVhCmdWmJvxJ4t6Q7aou/rFaOnsTuZb9L/+ZRPshsP+GtfFsutGk/Yt7HOFt8pr+ysdqXK+SXvxuZp+ZEZJ6/ULPDbM72kT+AKuhh0+KWv6n5JYVpbpy/VSRXdCT+YT9m7Afc8Ax8P1PGubVx67C/5vIyzf3gcL9qAkWmg6GQvyiOP+G3do4/kwCcBYYZtr9yOoQ6HUCavy5kdE0KCJy/5KemQAF/c78298kwe7eNv3C3nDd59aS/v84EYb6zlz/6C4gO4Fefv6ceuHk8V6O/Z7E/YPKBfb9Tk4C9RUCEvwkTkVpcPke/AdOnpSYDe7/dXnIgYblyv1Xt2fIPbpO//yQ3ROnskD9i4UUUqd2ZP/CRalG3OHO/5WNV5kPcnT+GXRZQvgmZP4uVnQmwz7a/zj0Keqsqdj//EKKz8t2VP5g3Bblvkp6/9PIgD2s7Sz9MsKmAEwuKP/WrTJkSBIK/B1JlJ7VquL99L64LfNqkv16QCuJKJ4g/Crt89mjTmL/4ZXYUTl+Vv89u2fiiXqS/c92P3g8ndj/crkWTqlaNv6VV/BvRhKS/pQ7V9joznT+eyfCOmqS2v40p9CHk06O/qQ8Ti9UXo78Q7BRU8HOMvxUkE1HiubE//kP0cAYIf7+ZBaucrqZRv9JjAEpswaK/nkCHvD2qQD89Ptu9CkGlv4zrwpOGg6G/L2pyutiijD/s+iO84r2BP6v2ONxcNoe/hAf+cD8Vqr+RdWxYGLPLvwReLO2uN4y/sq7rL/xxqT9Lcyz/FwGdv+zXx14GR5O/CIyn59/Gnb+pSDUw8Qyev8e6s4iYLIK/2XW1GtfSn7+nMN3BBE3cvzyXyCohCne/LX741JGoST9yb/Nc9c+Zv2KWCtnU83O/LbbEgUjbjj/IjCmZEtSTP2zdsamlUZK/unhdDK5Vab/U9ns/BKy3PzRv1aMsioW/3ckqBInchr/t6SKKWsmevw8TBrDxo5m/s2JzNLY7hD9IjTY/r3ugvyjTSwfOAXa/MpKC4CU7jD+IPiifjnKCv+zbiR6Jg6a/R9EHfveMlL8uBoz/1qOVv3JImSq99ou/+GXOIxbAdj975ajNeiaAP3QDKI/t6mG/GAO741gtdb94ij0iKUlZv9Fqp95/1Fu/kH4lSUvFrD/lKcUP94uhv0vCmdpeJ6O/UCM5I7pH37+rQdlKns6aP5Yz72Ry+IW/kbAXAeeSfT+z6iqVnzhqvzy0YVsgmZ6/Ga5KTDSqpL/SbO1va2W5v/hY2h/lN4w/duLOpK8ii79pvsXgXRCWP5kdy40xol8/pCtbJJIgnr/ZEY6KYaCEv96fHBNGVGu/HhdLTwAcWT/1fSNQ3xJRvy15dP+SZlo/Mgh82MIRyD/bvjetjSeBP5tPAGRioLU/nlwwr0Sfzb8ik52S6BNov9vUOj9dUqS/Lnv+gPO1gL9Evv71o66vP3RGVF4ENUU/3mTtExH9jb9KN0zU6tGjv2R8XU+V2Fk/1dMatwUenb/RMwB+wrWNv4QDdFWlrnS/1OMBtSVEiz9tvuRx/z9ov4LyjCZzA5e/K9K/l1REfb82F0sDD62Qv/F5YFh/IKA/DGyX7TgFo7+g6Bxc6/+Bv/XcGQXGqou/FS8fiuUPt7+2UvEIkVGQvw3pVALFv46/oAMQBpQClL8G143OKGCfP2SQa3guh3y/bWqLTb58az/eSb/EcFLHvxEfnYZ3wIK/T7Ue5SiMgb82nig1pIaWv6vFNfQAzJG/F4WNtaM3kL8C8Np/yHuxv9hmR+ptAIW/Tq8v9fBMfL+WER8VS7ytPxicLqQ47Ks/hlghfDteX78hTbaKYBGRP7rXoSApoGO/AjyrKIEcWb8upCl61xF8vy18xSyTuJy/EhefXXFKjL8I6vcojhWlv+cpBEMrFBQ/FlCVKrpVs7/sM5/zQPyOvzVIVquqgqI/nB1GWjYoRj8bySEkP1ymv19rfKf3yao/9NW4gkUXnb8wZ5su1Jeiv+Xsz5kbUJi/dKCcuwqhpb+Ht5RiISiGvzUjR7vdFHk//OVc40PgYr/fhIg/yzSGvzIWw1EmgJe/OsvEPrYUjr/mlllLeduCvx0jcoCr05G/uf3lvdShob8wTa9eaaKkv7Wfd09jKq2/2NJPenjxn79y80++BfSXv/5TrtMyjao/kum/4ZgxkL+dmpat+7mzv0EIE4AQKoK/KhS2f9kmgb8vQG2MUcaRvyn5eW6oTog/y5MZHKVBtb/mIXdG+6B3v+XoPh3gX2m/+qtIK28esr9Ae8jv81BPPwFpMfkkC4+/+C/29l6Vsb+iV2wrGpSIP8Zs/RmbwKC/H0FKi63Eqb8xTTvzwwx4v+GPJ4b+xZs/2Un+F8Atir+8UPG2HXChv3RFfEyAZqS/DLzwVj5Rx7+ZnWp0NNGuv/bqssAkv76/lQhnvMgXhr/SicdbJfCsP0rQ5uOLJ5G/qnMjKEWhib8jwLuHwayYv5N69NkgfIK/xGDvSN1Wlr/eTv/sjDycPyb2FFUSPZC/zVpgWZlZmD+saF0kWP2Bv3/93nLjpo6/TW/0juQ4mL+ZnGE+Jr6KP4qIxLpNc8K/VrSokAVui78=\",\"dtype\":\"float64\",\"shape\":[1000]}}},\"id\":\"0189037a-c08a-4eb2-a221-9937fbfd64fe\",\"type\":\"ColumnDataSource\"},{\"attributes\":{\"data_source\":{\"id\":\"0189037a-c08a-4eb2-a221-9937fbfd64fe\",\"type\":\"ColumnDataSource\"},\"glyph\":{\"id\":\"fa8c652c-91cf-48d0-a882-33b2853ef70e\",\"type\":\"Circle\"},\"hover_glyph\":null,\"muted_glyph\":null,\"nonselection_glyph\":{\"id\":\"447cdfb4-5cf3-4c0b-a1e8-61e5282ba89a\",\"type\":\"Circle\"},\"selection_glyph\":null,\"view\":{\"id\":\"be06492c-0110-42e5-a243-8beed78888ac\",\"type\":\"CDSView\"}},\"id\":\"e5001974-a576-40c5-a96c-ef653e97c068\",\"type\":\"GlyphRenderer\"},{\"attributes\":{},\"id\":\"740a37c4-a924-474e-84c7-b95a60c4c538\",\"type\":\"PanTool\"}],\"root_ids\":[\"02ed1041-9db6-4827-9129-c04917c0b71b\"]},\"title\":\"Bokeh Application\",\"version\":\"0.12.13\"}};\n",
       "  var render_items = [{\"docid\":\"34c5147a-069d-41af-9672-efff9b22f90f\",\"elementid\":\"3cd7f4a7-5fe3-492a-8440-8f5ad0017d02\",\"modelid\":\"02ed1041-9db6-4827-9129-c04917c0b71b\",\"notebook_comms_target\":\"93d779fa-ab54-4527-a9b7-8eb80c1381ec\"}];\n",
       "  root.Bokeh.embed.embed_items_notebook(docs_json, render_items);\n",
       "\n",
       "  }\n",
       "  if (root.Bokeh !== undefined) {\n",
       "    embed_document(root);\n",
       "  } else {\n",
       "    var attempts = 0;\n",
       "    var timer = setInterval(function(root) {\n",
       "      if (root.Bokeh !== undefined) {\n",
       "        embed_document(root);\n",
       "        clearInterval(timer);\n",
       "      }\n",
       "      attempts++;\n",
       "      if (attempts > 100) {\n",
       "        console.log(\"Bokeh: ERROR: Unable to run BokehJS code because BokehJS library is missing\")\n",
       "        clearInterval(timer);\n",
       "      }\n",
       "    }, 10, root)\n",
       "  }\n",
       "})(window);"
      ],
      "application/vnd.bokehjs_exec.v0+json": ""
     },
     "metadata": {
      "application/vnd.bokehjs_exec.v0+json": {
       "id": "02ed1041-9db6-4827-9129-c04917c0b71b"
      }
     },
     "output_type": "display_data"
    },
    {
     "data": {
      "text/html": [
       "<p><code>&lt;Bokeh Notebook handle for <strong>In[106]</strong>&gt;</code></p>"
      ],
      "text/plain": [
       "<bokeh.io.notebook.CommsHandle at 0x1384215c0>"
      ]
     },
     "execution_count": 68,
     "metadata": {},
     "output_type": "execute_result"
    }
   ],
   "source": [
    "svd = TruncatedSVD(n_components=2)\n",
    "words_2d = svd.fit_transform(data_vectorized.T)\n",
    " \n",
    "df = pd.DataFrame(columns=['x', 'y', 'word'])\n",
    "df['x'], df['y'], df['word'] = words_2d[:,0], words_2d[:,1], vectorizer.get_feature_names()\n",
    " \n",
    "source = ColumnDataSource(ColumnDataSource.from_df(df))\n",
    "labels = LabelSet(x=\"x\", y=\"y\", text=\"word\", y_offset=8,\n",
    "                  text_font_size=\"8pt\", text_color=\"#555555\",\n",
    "                  source=source, text_align='center')\n",
    " \n",
    "plot = figure(plot_width=600, plot_height=600)\n",
    "plot.circle(\"x\", \"y\", size=12, source=source, line_color=\"black\", fill_alpha=0.8)\n",
    "plot.add_layout(labels)\n",
    "show(plot, notebook_handle=True)"
   ]
  },
  {
   "cell_type": "markdown",
   "metadata": {},
   "source": [
    "## Example of how to process untrained text"
   ]
  },
  {
   "cell_type": "code",
   "execution_count": 35,
   "metadata": {},
   "outputs": [],
   "source": [
    "from sklearn.metrics.pairwise import euclidean_distances\n",
    " \n",
    "def most_similar(x, Z, top_n=5):\n",
    "    dists = euclidean_distances(x.reshape(1, -1), Z)\n",
    "    pairs = enumerate(dists[0])\n",
    "    most_similar = sorted(pairs, key=lambda item: item[1])[:top_n]\n",
    "    return most_similar\n",
    " "
   ]
  },
  {
   "cell_type": "code",
   "execution_count": 38,
   "metadata": {},
   "outputs": [
    {
     "name": "stdout",
     "output_type": "stream",
     "text": [
      "original text:\n",
      "\n",
      " [  7.93308172e-03   5.38165756e-04   2.25310040e-14   5.60258079e-03\n",
      "   3.72973013e-80   2.62144364e-24   0.00000000e+00   3.94482887e-03\n",
      "   8.86628478e-03   3.15688754e-02]\n",
      "closest poem:\n",
      "\n",
      "  Since saucy jacks so happy are in this, Give them thy fingers, me thy lips to kiss\n"
     ]
    }
   ],
   "source": [
    "text = \"flower heart joy peace\"\n",
    "x = nmf.transform(vectorizer.transform([text]))[0]\n",
    "\n",
    "similarities = most_similar(x, transform)\n",
    "document_id, similarity = similarities[0]\n",
    "\n",
    "print(\"original text:\\n\\n\", x)\n",
    "print(\"closest poem:\\n\\n\", data[document_id][:1000])"
   ]
  },
  {
   "cell_type": "code",
   "execution_count": 67,
   "metadata": {},
   "outputs": [
    {
     "data": {
      "text/plain": [
       "Text(0,0.5,'True')"
      ]
     },
     "execution_count": 67,
     "metadata": {},
     "output_type": "execute_result"
    },
    {
     "data": {
      "image/png": "[encoded data removed]",
      "text/plain": [
       "<matplotlib.figure.Figure at 0x1384e4860>"
      ]
     },
     "metadata": {},
     "output_type": "display_data"
    }
   ],
   "source": [
    "cm = np.array([[6,4],[4,6]])\n",
    "plt.imshow(cm,cmap=plt.cm.Blues)\n",
    "plt.colorbar()\n",
    "plt.title('Confusion matrix',fontsize=20)\n",
    "plt.xlabel('Predicted',fontsize=16)\n",
    "plt.ylabel('True',fontsize=16)"
   ]
  },
  {
   "cell_type": "code",
   "execution_count": null,
   "metadata": {},
   "outputs": [],
   "source": [
    "cm = confusion_matrix(y_test_counts, y_predicted_counts)\n",
    "fig = plt.figure(figsize=(10, 10))\n",
    "plot = plot_confusion_matrix(cm, classes=['US','UK'], normalize=True, title='Confusion matrix')\n",
    "plt.show()\n",
    "print(cm)"
   ]
  },
  {
   "cell_type": "markdown",
   "metadata": {},
   "source": [
    "## Implement spaCY word-dictionary\n",
    "\n",
    "This section deviates from the one above in that instead of performing NMF, it simply embeds each poem in spaCY's pre-trained dictionary, and does the same with the semantic labels emerging from the pictures."
   ]
  },
  {
   "cell_type": "code",
   "execution_count": 39,
   "metadata": {},
   "outputs": [],
   "source": [
    "data = sonnet_sentences['sentence']"
   ]
  },
  {
   "cell_type": "code",
   "execution_count": 40,
   "metadata": {},
   "outputs": [],
   "source": [
    "# strip blanks and other terrible things\n",
    "data_clean = []\n",
    "for poem in data:\n",
    "    data_clean.append(cleanText(poem))"
   ]
  },
  {
   "cell_type": "code",
   "execution_count": 41,
   "metadata": {},
   "outputs": [],
   "source": [
    "# tokenize\n",
    "poem_token = []\n",
    "for poem in data_clean:\n",
    "    poem_token.append(tokenizeText(poem))"
   ]
  },
  {
   "cell_type": "code",
   "execution_count": 42,
   "metadata": {},
   "outputs": [],
   "source": [
    "# recombine\n",
    "input_poems = []\n",
    "for token in poem_token:\n",
    "    input_poems.append(' '.join(token))"
   ]
  },
  {
   "cell_type": "code",
   "execution_count": 43,
   "metadata": {},
   "outputs": [],
   "source": [
    "#parse\n",
    "parsed_poems = []\n",
    "for poem in input_poems:\n",
    "    parsed_poems.append(parser(poem))"
   ]
  },
  {
   "cell_type": "code",
   "execution_count": 45,
   "metadata": {},
   "outputs": [],
   "source": [
    "# put all vectors into a big numpy array\n",
    "allvectors = np.zeros((len(parsed_poems),384))\n",
    "i = 0\n",
    "bad_idx = []\n",
    "for pp in parsed_poems:\n",
    "    if len(pp)==0:\n",
    "        bad_idx.append(i)\n",
    "    else:\n",
    "        allvectors[i,:] = pp.vector\n",
    "    i+=1"
   ]
  },
  {
   "cell_type": "code",
   "execution_count": 993,
   "metadata": {},
   "outputs": [],
   "source": [
    "poem_embeddings = pd.DataFrame(allvectors)\n",
    "norm_poem_embeddings = normalize(poem_embeddings,axis=1)"
   ]
  },
  {
   "cell_type": "markdown",
   "metadata": {},
   "source": [
    "## Store embeddings in pickle files"
   ]
  },
  {
   "cell_type": "code",
   "execution_count": 742,
   "metadata": {},
   "outputs": [],
   "source": [
    "poem_embeddings.to_pickle('allvecs.pkl')\n",
    "\n",
    "with open('sharespeares_stopwords.pkl','wb') as file:\n",
    "    pickle.dump(shakespeares_stopwords,file)"
   ]
  }
 ],
 "metadata": {
  "kernelspec": {
   "display_name": "Python 3",
   "language": "python",
   "name": "python3"
  },
  "language_info": {
   "codemirror_mode": {
    "name": "ipython",
    "version": 3
   },
   "file_extension": ".py",
   "mimetype": "text/x-python",
   "name": "python",
   "nbconvert_exporter": "python",
   "pygments_lexer": "ipython3",
   "version": "3.6.4"
  }
 },
 "nbformat": 4,
 "nbformat_minor": 2
}
