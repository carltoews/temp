{
 "cells": [
  {
   "cell_type": "code",
   "execution_count": 102,
   "metadata": {},
   "outputs": [],
   "source": [
    "import json\n",
    "import requests\n",
    "from os import makedirs\n",
    "from os.path import join, exists\n",
    "from datetime import date, timedelta\n",
    "from sklearn.feature_extraction.text import CountVectorizer\n",
    "from sklearn.feature_extraction.text import TfidfTransformer\n",
    "import matplotlib.pyplot as plt\n",
    "import numpy as np\n",
    "%matplotlib inline\n",
    "from sqlalchemy import create_engine\n",
    "from sqlalchemy_utils import database_exists, create_database\n",
    "import psycopg2\n",
    "import pandas as pd\n",
    "import spacy\n",
    "import nltk\n",
    "import gensim\n",
    "from matplotlib import pyplot\n",
    "%matplotlib inline"
   ]
  },
  {
   "cell_type": "code",
   "execution_count": 3,
   "metadata": {},
   "outputs": [],
   "source": [
    "# connect to data base\n",
    "def connect_db():\n",
    "    from sqlalchemy import create_engine\n",
    "    dbname = 'poetry_db'\n",
    "    username = 'ctoews'\n",
    "    engine = create_engine('postgres://%s@localhost/%s'%(username,dbname))\n",
    "    return engine\n",
    "\n",
    "\n",
    "engine = connect_db()"
   ]
  },
  {
   "cell_type": "code",
   "execution_count": 4,
   "metadata": {},
   "outputs": [
    {
     "data": {
      "text/html": [
       "<div>\n",
       "<style scoped>\n",
       "    .dataframe tbody tr th:only-of-type {\n",
       "        vertical-align: middle;\n",
       "    }\n",
       "\n",
       "    .dataframe tbody tr th {\n",
       "        vertical-align: top;\n",
       "    }\n",
       "\n",
       "    .dataframe thead th {\n",
       "        text-align: right;\n",
       "    }\n",
       "</style>\n",
       "<table border=\"1\" class=\"dataframe\">\n",
       "  <thead>\n",
       "    <tr style=\"text-align: right;\">\n",
       "      <th></th>\n",
       "      <th>index</th>\n",
       "      <th>title</th>\n",
       "      <th>poem</th>\n",
       "    </tr>\n",
       "  </thead>\n",
       "  <tbody>\n",
       "    <tr>\n",
       "      <th>0</th>\n",
       "      <td>0</td>\n",
       "      <td>I</td>\n",
       "      <td>From fairest creatures we desire increase, Tha...</td>\n",
       "    </tr>\n",
       "    <tr>\n",
       "      <th>1</th>\n",
       "      <td>1</td>\n",
       "      <td>II</td>\n",
       "      <td>When forty winters shall besiege thy brow, And...</td>\n",
       "    </tr>\n",
       "    <tr>\n",
       "      <th>2</th>\n",
       "      <td>2</td>\n",
       "      <td>III</td>\n",
       "      <td>Look in thy glass and tell the face thou viewe...</td>\n",
       "    </tr>\n",
       "    <tr>\n",
       "      <th>3</th>\n",
       "      <td>3</td>\n",
       "      <td>IV</td>\n",
       "      <td>Unthrifty loveliness, why dost thou spend Upon...</td>\n",
       "    </tr>\n",
       "    <tr>\n",
       "      <th>4</th>\n",
       "      <td>4</td>\n",
       "      <td>V</td>\n",
       "      <td>Those hours, that with gentle work did frame T...</td>\n",
       "    </tr>\n",
       "  </tbody>\n",
       "</table>\n",
       "</div>"
      ],
      "text/plain": [
       "   index title                                               poem\n",
       "0      0     I  From fairest creatures we desire increase, Tha...\n",
       "1      1    II  When forty winters shall besiege thy brow, And...\n",
       "2      2   III  Look in thy glass and tell the face thou viewe...\n",
       "3      3    IV  Unthrifty loveliness, why dost thou spend Upon...\n",
       "4      4     V  Those hours, that with gentle work did frame T..."
      ]
     },
     "execution_count": 4,
     "metadata": {},
     "output_type": "execute_result"
    }
   ],
   "source": [
    "query = \"select * from sonnet_full;\"\n",
    "sonnet_full = pd.read_sql(query,engine)\n",
    "sonnet_full.head()"
   ]
  },
  {
   "cell_type": "code",
   "execution_count": 85,
   "metadata": {},
   "outputs": [],
   "source": [
    "shakespeares_stopwords = []\n",
    "f = open(\"../data/Shakespeare/shakespeares_stopwords.txt\",\"r\")\n",
    "for line in f:\n",
    "    if len(line)>1:\n",
    "        shakespeares_stopwords.append(line.strip('\\n'))\n",
    "        \n",
    "stoplist = shakespeares_stopwords\n"
   ]
  },
  {
   "cell_type": "code",
   "execution_count": 89,
   "metadata": {},
   "outputs": [],
   "source": [
    "def standardize_text(temp_df, text_field):\n",
    "    temp_df[text_field] = temp_df[text_field].str.replace(r\"http\\S+\", \"\")\n",
    "    temp_df[text_field] = temp_df[text_field].str.replace(r\"http\", \"\")\n",
    "    temp_df[text_field] = temp_df[text_field].str.replace(r\"@\\S+\", \"\")\n",
    "    temp_df[text_field] = temp_df[text_field].str.replace(r\"[^A-Za-z0-9(),!?@\\'\\`\\\"\\_\\n]\", \" \")\n",
    "    temp_df[text_field] = temp_df[text_field].str.replace(r\"@\", \"at\")\n",
    "    temp_df[text_field] = temp_df[text_field].str.lower()\n",
    "    return temp_df\n",
    "\n",
    "data = standardize_text(sonnet_full, \"poem\")\n",
    "data = data['poem']"
   ]
  },
  {
   "cell_type": "code",
   "execution_count": 90,
   "metadata": {},
   "outputs": [
    {
     "data": {
      "text/plain": [
       "0      [from, fairest, creatures, we, desire, increas...\n",
       "1      [when, forty, winters, shall, besiege, thy, br...\n",
       "2      [look, in, thy, glass, and, tell, the, face, t...\n",
       "3      [unthrifty, loveliness, why, dost, thou, spend...\n",
       "4      [those, hours, that, with, gentle, work, did, ...\n",
       "5      [then, let, not, winter, s, ragged, hand, defa...\n",
       "6      [lo, in, the, orient, when, the, gracious, lig...\n",
       "7      [music, to, hear, why, hear, st, thou, music, ...\n",
       "8      [is, it, for, fear, to, wet, a, widow, s, eye,...\n",
       "9      [for, shame, deny, that, thou, bear, st, love,...\n",
       "10     [as, fast, as, thou, shalt, wane, so, fast, th...\n",
       "11     [when, i, do, count, the, clock, that, tells, ...\n",
       "12     [o, that, you, were, your, self, but, love, yo...\n",
       "13     [not, from, the, stars, do, i, my, judgement, ...\n",
       "14     [when, i, consider, every, thing, that, grows,...\n",
       "15     [but, wherefore, do, not, you, a, mightier, wa...\n",
       "16     [who, will, believe, my, verse, in, time, to, ...\n",
       "17     [shall, i, compare, thee, to, a, summer, s, da...\n",
       "18     [devouring, time, blunt, thou, the, lion, s, p...\n",
       "19     [a, woman, s, face, with, nature, s, own, hand...\n",
       "20     [so, is, it, not, with, me, as, with, that, mu...\n",
       "21     [my, glass, shall, not, persuade, me, i, am, o...\n",
       "22     [as, an, unperfect, actor, on, the, stage, who...\n",
       "23     [mine, eye, hath, play, d, the, painter, and, ...\n",
       "24     [let, those, who, are, in, favour, with, their...\n",
       "25     [lord, of, my, love, to, whom, in, vassalage, ...\n",
       "26     [weary, with, toil, i, haste, me, to, my, bed,...\n",
       "27     [how, can, i, then, return, in, happy, plight,...\n",
       "28     [when, in, disgrace, with, fortune, and, men, ...\n",
       "29     [when, to, the, sessions, of, sweet, silent, t...\n",
       "                             ...                        \n",
       "124    [were, t, aught, to, me, i, bore, the, canopy,...\n",
       "125    [o, thou, my, lovely, boy, who, in, thy, power...\n",
       "126    [in, the, old, age, black, was, not, counted, ...\n",
       "127    [how, oft, when, thou, my, music, music, play,...\n",
       "128    [the, expense, of, spirit, in, a, waste, of, s...\n",
       "129    [my, mistress, eyes, are, nothing, like, the, ...\n",
       "130    [thou, art, as, tyrannous, so, as, thou, art, ...\n",
       "131    [thine, eyes, i, love, and, they, as, pitying,...\n",
       "132    [beshrew, that, heart, that, makes, my, heart,...\n",
       "133    [so, now, i, have, confess, d, that, he, is, t...\n",
       "134    [whoever, hath, her, wish, thou, hast, thy, wi...\n",
       "135    [if, thy, soul, check, thee, that, i, come, so...\n",
       "136    [thou, blind, fool, love, what, dost, thou, to...\n",
       "137    [when, my, love, swears, that, she, is, made, ...\n",
       "138    [o, call, not, me, to, justify, the, wrong, th...\n",
       "139    [be, wise, as, thou, art, cruel, do, not, pres...\n",
       "140    [in, faith, i, do, not, love, thee, with, mine...\n",
       "141    [love, is, my, sin, and, thy, dear, virtue, ha...\n",
       "142    [lo, as, a, careful, housewife, runs, to, catc...\n",
       "143    [two, loves, i, have, of, comfort, and, despai...\n",
       "144    [those, lips, that, love, s, own, hand, did, m...\n",
       "145    [poor, soul, the, centre, of, my, sinful, eart...\n",
       "146    [my, love, is, as, a, fever, longing, still, f...\n",
       "147    [o, me, what, eyes, hath, love, put, in, my, h...\n",
       "148    [canst, thou, o, cruel, say, i, love, thee, no...\n",
       "149    [o, from, what, power, hast, thou, this, power...\n",
       "150    [love, is, too, young, to, know, what, conscie...\n",
       "151    [in, loving, thee, thou, know, st, i, am, fors...\n",
       "152    [cupid, laid, by, his, brand, and, fell, aslee...\n",
       "153    [the, little, love, god, lying, once, asleep, ...\n",
       "Name: poem, Length: 154, dtype: object"
      ]
     },
     "execution_count": 90,
     "metadata": {},
     "output_type": "execute_result"
    }
   ],
   "source": [
    "from nltk.tokenize import RegexpTokenizer\n",
    "\n",
    "tokenizer = RegexpTokenizer(r'\\w+')\n",
    "tokens = data.apply(tokenizer.tokenize)\n",
    "tokens"
   ]
  },
  {
   "cell_type": "code",
   "execution_count": 92,
   "metadata": {},
   "outputs": [],
   "source": [
    "model = gensim.models.Word2Vec(tokens)"
   ]
  },
  {
   "cell_type": "code",
   "execution_count": 94,
   "metadata": {},
   "outputs": [
    {
     "data": {
      "text/plain": [
       "515"
      ]
     },
     "execution_count": 94,
     "metadata": {},
     "output_type": "execute_result"
    }
   ],
   "source": [
    "words = list(model.wv.vocab)\n",
    "len(words)"
   ]
  },
  {
   "cell_type": "code",
   "execution_count": 97,
   "metadata": {},
   "outputs": [
    {
     "name": "stderr",
     "output_type": "stream",
     "text": [
      "/Users/ctoews/anaconda/envs/insight/lib/python3.6/site-packages/ipykernel_launcher.py:1: DeprecationWarning: Call to deprecated `__getitem__` (Method will be removed in 4.0.0, use self.wv.__getitem__() instead).\n",
      "  \"\"\"Entry point for launching an IPython kernel.\n"
     ]
    }
   ],
   "source": [
    "X = model[model.wv.vocab]\n"
   ]
  },
  {
   "cell_type": "code",
   "execution_count": 99,
   "metadata": {},
   "outputs": [],
   "source": [
    "from sklearn.decomposition import PCA"
   ]
  },
  {
   "cell_type": "code",
   "execution_count": 100,
   "metadata": {},
   "outputs": [],
   "source": [
    "pca = PCA(n_components=2)\n",
    "result = pca.fit_transform(X)"
   ]
  },
  {
   "cell_type": "code",
   "execution_count": 103,
   "metadata": {},
   "outputs": [
    {
     "data": {
      "text/plain": [
       "<matplotlib.collections.PathCollection at 0x1280cde80>"
      ]
     },
     "execution_count": 103,
     "metadata": {},
     "output_type": "execute_result"
    },
    {
     "data": {
      "image/png": "[encoded data removed]",
      "text/plain": [
       "<matplotlib.figure.Figure at 0x1293bb2e8>"
      ]
     },
     "metadata": {},
     "output_type": "display_data"
    }
   ],
   "source": [
    "pyplot.scatter(result[:, 0], result[:, 1])"
   ]
  },
  {
   "cell_type": "code",
   "execution_count": 106,
   "metadata": {},
   "outputs": [
    {
     "data": {
      "image/png": "[encoded data removed]",
      "text/plain": [
       "<matplotlib.figure.Figure at 0x128b5b940>"
      ]
     },
     "metadata": {},
     "output_type": "display_data"
    }
   ],
   "source": [
    "words = list(model.wv.vocab)\n",
    "for i, word in enumerate(words):\n",
    "\tpyplot.annotate(word, xy=(result[i, 0], result[i, 1]))\n",
    "pyplot.show()"
   ]
  },
  {
   "cell_type": "code",
   "execution_count": null,
   "metadata": {},
   "outputs": [],
   "source": []
  }
 ],
 "metadata": {
  "kernelspec": {
   "display_name": "Python 3",
   "language": "python",
   "name": "python3"
  },
  "language_info": {
   "codemirror_mode": {
    "name": "ipython",
    "version": 3
   },
   "file_extension": ".py",
   "mimetype": "text/x-python",
   "name": "python",
   "nbconvert_exporter": "python",
   "pygments_lexer": "ipython3",
   "version": "3.6.4"
  }
 },
 "nbformat": 4,
 "nbformat_minor": 2
}
