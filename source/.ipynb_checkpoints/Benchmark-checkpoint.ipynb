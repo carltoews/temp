{
 "cells": [
  {
   "cell_type": "markdown",
   "metadata": {},
   "source": [
    "## Benchmark\n",
    "\n",
    "*This notebook implements a variety of algorithms, and checks to see how they work on a set of test images.*"
   ]
  },
  {
   "cell_type": "markdown",
   "metadata": {},
   "source": [
    "**Flickr API**"
   ]
  },
  {
   "cell_type": "markdown",
   "metadata": {},
   "source": [
    "*Import flickr functionality and record credentials*"
   ]
  },
  {
   "cell_type": "code",
   "execution_count": 1,
   "metadata": {},
   "outputs": [],
   "source": [
    "import flickrapi\n",
    "import json\n",
    "import pprint\n",
    "import pandas as pd\n",
    "from textblob import TextBlob\n",
    "import io\n",
    "from google.cloud import vision\n",
    "from google.cloud.vision import types\n",
    "from PIL import Image, ImageDraw\n",
    "import os\n",
    "\n",
    "#pp = pprint.PrettyPrinter(indent=4)"
   ]
  },
  {
   "cell_type": "markdown",
   "metadata": {},
   "source": [
    "### Establish connections to Flickr and Google\n",
    "\n",
    "Establish Flickr connection"
   ]
  },
  {
   "cell_type": "code",
   "execution_count": 2,
   "metadata": {},
   "outputs": [],
   "source": [
    "api_key = u'37528c980c419716e0879a417ef8211c'\n",
    "api_secret = u'41075654a535c203'\n",
    "\n",
    "# establish connection\n",
    "flickr = flickrapi.FlickrAPI(api_key, api_secret, format='parsed-json')"
   ]
  },
  {
   "cell_type": "markdown",
   "metadata": {},
   "source": [
    "Establish Google connection"
   ]
  },
  {
   "cell_type": "code",
   "execution_count": 3,
   "metadata": {},
   "outputs": [
    {
     "name": "stdout",
     "output_type": "stream",
     "text": [
      "[<Bucket: toews-images>]\n"
     ]
    }
   ],
   "source": [
    "#os.environ[\"GOOGLE_APPLICATION_CREDENTIALS\"] = \\\n",
    "#\"/Users/ctoews/Documents/Insight/Project/googleAPI/MyFirstProject-76680dcd1ad6.json\"\n",
    "\n",
    "def explicit():\n",
    "    from google.cloud import storage\n",
    "\n",
    "    # Explicitly use service account credentials by specifying the private key\n",
    "    # file.\n",
    "    storage_client = storage.Client.from_service_account_json(\n",
    "        '/Users/ctoews/Documents/Insight/Project/googleAPI/MyFirstProject-76680dcd1ad6.json')\n",
    "\n",
    "    # Make an authenticated API request\n",
    "    buckets = list(storage_client.list_buckets())\n",
    "    print(buckets)\n",
    "    \n",
    "explicit()"
   ]
  },
  {
   "cell_type": "markdown",
   "metadata": {},
   "source": [
    "### Get data"
   ]
  },
  {
   "cell_type": "code",
   "execution_count": 4,
   "metadata": {},
   "outputs": [],
   "source": [
    "\n",
    "\n",
    "def assemble_urls(photoset):\n",
    "    urls = []\n",
    "    for photo in photoset['photoset']['photo']:\n",
    "        url = \"https://farm\" + str(photo['farm']) + \".staticflickr.com/\" + photo['server'] + \"/\" + \\\n",
    "              photo['id'] + \"_\" + photo['secret'] + \".jpg\"\n",
    "        urls.append(url)    \n",
    "    return urls\n",
    "    \n",
    "# get bad photo ids\n",
    "badset   = flickr.photosets.getPhotos(user_id='138072685@N02',photoset_id='72157690932631201')\n",
    "goodset   = flickr.photosets.getPhotos(user_id='138072685@N02',photoset_id='72157690932695551')\n",
    "bad_urls = assemble_urls(badset)\n",
    "good_urls = assemble_urls(goodset)"
   ]
  },
  {
   "cell_type": "markdown",
   "metadata": {},
   "source": [
    "**Google API**"
   ]
  },
  {
   "cell_type": "markdown",
   "metadata": {},
   "source": [
    "*Import Google functionality*"
   ]
  },
  {
   "cell_type": "markdown",
   "metadata": {},
   "source": [
    "*Authenticate*"
   ]
  },
  {
   "cell_type": "code",
   "execution_count": 11,
   "metadata": {},
   "outputs": [
    {
     "name": "stdout",
     "output_type": "stream",
     "text": [
      "[<Bucket: toews-images>]\n"
     ]
    }
   ],
   "source": [
    "from google.cloud import storage\n",
    "\n",
    "# Explicitly use service account credentials by specifying the private key\n",
    "# file.\n",
    "storage_client = storage.Client.from_service_account_json(\n",
    "    '/Users/ctoews/Documents/Insight/Project/googleAPI/MyFirstProject-76680dcd1ad6.json')\n",
    "\n",
    "# Make an authenticated API request\n",
    "buckets = list(storage_client.list_buckets())\n",
    "print(buckets)"
   ]
  },
  {
   "cell_type": "markdown",
   "metadata": {},
   "source": [
    "*Pass photo URLs to Google Vision for labelling*"
   ]
  },
  {
   "cell_type": "code",
   "execution_count": 12,
   "metadata": {},
   "outputs": [],
   "source": [
    "client = vision.ImageAnnotatorClient()\n",
    "image = types.Image()"
   ]
  },
  {
   "cell_type": "code",
   "execution_count": 9,
   "metadata": {},
   "outputs": [],
   "source": [
    "\n",
    "\n",
    "bad_labels = []\n",
    "for url in bad_urls:\n",
    "    image.source.image_uri = url\n",
    "    response = client.label_detection(image=image)\n",
    "    labels = response.label_annotations\n",
    "    these_labels = ''\n",
    "    for label in labels:\n",
    "        these_labels += (label.description + ' ')\n",
    "    bad_labels.append(these_labels)\n",
    "    \n",
    "good_labels = []\n",
    "for url in good_urls:\n",
    "    image.source.image_uri = url\n",
    "    response = client.label_detection(image=image)\n",
    "    labels = response.label_annotations\n",
    "    these_labels = ''\n",
    "    for label in labels:\n",
    "        these_labels += (label.description + ' ')\n",
    "    good_labels.append(these_labels)\n",
    "    \n",
    "bl = pd.DataFrame(bad_labels,columns=['labels'])\n",
    "gl = pd.DataFrame(good_labels,columns=['labels'])"
   ]
  },
  {
   "cell_type": "code",
   "execution_count": 10,
   "metadata": {},
   "outputs": [
    {
     "data": {
      "text/plain": [
       "['people child skin facial expression person day infant sitting smile fun ',\n",
       " 'gown photograph marriage bride wedding dress dress wedding bridal clothing ceremony standing ',\n",
       " 'people dog breed fun grass family child play daughter father stock photography ',\n",
       " 'hair woman green tree girl beauty emotion smile eye hairstyle ',\n",
       " 'people child skin smile emotion fun girl infant interaction happiness ',\n",
       " 'photograph black person black and white tree girl emotion woody plant photography lady ',\n",
       " \"red light heart macro photography close up love computer wallpaper petal valentine's day heart \",\n",
       " 'text font sky water grass stock photography number computer wallpaper ',\n",
       " 'facial expression child emotion fun girl grass smile hand shout happiness ',\n",
       " 'flower rose pink rose family cut flowers garden roses purple flower bouquet floristry flower arranging ']"
      ]
     },
     "execution_count": 10,
     "metadata": {},
     "output_type": "execute_result"
    }
   ],
   "source": [
    "good_labels"
   ]
  },
  {
   "cell_type": "code",
   "execution_count": 27,
   "metadata": {},
   "outputs": [
    {
     "data": {
      "text/plain": [
       "['https://farm5.staticflickr.com/4623/39834715572_1559b597ec.jpg',\n",
       " 'https://farm5.staticflickr.com/4605/39834715692_e499c7d71f.jpg',\n",
       " 'https://farm5.staticflickr.com/4630/39834715602_3314a7eaf4.jpg',\n",
       " 'https://farm5.staticflickr.com/4653/39834716592_efe5420940.jpg',\n",
       " 'https://farm5.staticflickr.com/4674/39834715812_c9b8157bc5.jpg',\n",
       " 'https://farm5.staticflickr.com/4708/39834715942_d993de82f6.jpg',\n",
       " 'https://farm5.staticflickr.com/4673/39834716042_ae01ea0ceb.jpg',\n",
       " 'https://farm5.staticflickr.com/4699/39834716362_1c539bed39.jpg',\n",
       " 'https://farm5.staticflickr.com/4611/39834716422_36a95d3667.jpg',\n",
       " 'https://farm5.staticflickr.com/4723/39834716482_00c2ce1e07.jpg']"
      ]
     },
     "execution_count": 27,
     "metadata": {},
     "output_type": "execute_result"
    }
   ],
   "source": [
    "good_urls"
   ]
  },
  {
   "cell_type": "code",
   "execution_count": 23,
   "metadata": {},
   "outputs": [],
   "source": [
    "good_sentiment=[]\n",
    "for i in np.arange(10):\n",
    "    doc = TextBlob(good_labels[i])\n",
    "    #print(doc.sentiment[0])\n",
    "    good_sentiment.append(doc.sentiment)\n",
    "    \n",
    "bad_sentiment=[]\n",
    "for i in np.arange(10):\n",
    "    doc = TextBlob(bad_labels[i])\n",
    "    #print(doc.sentiment[0])\n",
    "    bad_sentiment.append(doc.sentiment)"
   ]
  },
  {
   "cell_type": "code",
   "execution_count": 25,
   "metadata": {},
   "outputs": [
    {
     "data": {
      "text/plain": [
       "0.11075396825396826"
      ]
     },
     "execution_count": 25,
     "metadata": {},
     "output_type": "execute_result"
    }
   ],
   "source": [
    "np.mean(bad_sentiment)"
   ]
  },
  {
   "cell_type": "code",
   "execution_count": 213,
   "metadata": {},
   "outputs": [
    {
     "name": "stdout",
     "output_type": "stream",
     "text": [
      "facial expression man shout emotion smile hand mouth human tooth aggression \n",
      "black photograph black and white eyewear sunglasses monochrome photography vision care photography sky glasses \n",
      "water sky atmosphere phenomenon sea underwater silhouette darkness calm computer wallpaper \n",
      "underwater phenomenon computer wallpaper visual effects darkness organism special effects human marine biology cg artwork \n",
      "mammal nose drawing art arm watercolor paint organ figure drawing wrinkle artwork \n",
      "face person black black and white nose eye cheek monochrome photography beauty eyebrow \n",
      "person portrait black and white monochrome photography art gentleman monochrome facial hair self portrait visual arts \n",
      "tree woody plant forest woodland wilderness plant phenomenon grass jungle darkness \n",
      "nose eye close up forehead human eyelash mouth organism organ snout \n",
      "black and white monochrome photography photography tree monochrome stock photography sky landscape \n",
      "people child skin facial expression person day infant sitting smile fun \n",
      "gown photograph marriage bride wedding dress dress wedding bridal clothing ceremony standing \n",
      "people dog breed fun grass family child play daughter father stock photography \n",
      "hair woman green tree girl beauty emotion smile eye hairstyle \n",
      "people child skin smile emotion fun girl infant interaction happiness \n",
      "photograph black person black and white tree girl emotion woody plant photography lady \n",
      "red light heart macro photography close up love computer wallpaper petal valentine's day heart \n",
      "text font sky water grass stock photography number computer wallpaper \n",
      "facial expression child emotion fun girl grass smile hand shout happiness \n",
      "flower rose pink rose family cut flowers garden roses purple flower bouquet floristry flower arranging \n"
     ]
    }
   ],
   "source": [
    "all_labels=pd.concat([bl,gl])\n",
    "for i in all_labels['labels']:\n",
    "    print(i)"
   ]
  },
  {
   "cell_type": "markdown",
   "metadata": {},
   "source": [
    "**Match to poems**"
   ]
  },
  {
   "cell_type": "code",
   "execution_count": 78,
   "metadata": {},
   "outputs": [],
   "source": [
    "import pandas as pd\n",
    "import spacy\n",
    "import pickle\n",
    "import poeml_utility as pml\n",
    "\n",
    "parser = spacy.load('en')"
   ]
  },
  {
   "cell_type": "code",
   "execution_count": 59,
   "metadata": {},
   "outputs": [],
   "source": [
    "parser = spacy.load('en')\n",
    "allvecs = pd.read_pickle('allvecs.pkl')\n",
    "with open('sharespeares_stopwords.pkl','rb') as file:\n",
    "    shakespeares_stopwords = pickle.load(file)"
   ]
  },
  {
   "cell_type": "code",
   "execution_count": 83,
   "metadata": {},
   "outputs": [],
   "source": [
    "from collections import Counter, OrderedDict\n",
    "from nltk.corpus import stopwords\n",
    "from nltk import SnowballStemmer\n",
    "import string\n",
    "# A custom stoplist\n",
    "STOPLIST = set(stopwords.words('english') + list(shakespeares_stopwords))\n",
    "# List of symbols we don't care about\n",
    "SYMBOLS = \" \".join(string.punctuation).split(\" \") + \\\n",
    "          [\"-----\", \"---\", \"...\", \"“\", \"”\", \"'s\"]"
   ]
  },
  {
   "cell_type": "code",
   "execution_count": 84,
   "metadata": {},
   "outputs": [],
   "source": [
    "# strip blanks and other terrible things\n",
    "data = all_labels['labels']\n",
    "data_clean=[]\n",
    "for label in data:\n",
    "    data_clean.append(pml.cleanText(label))"
   ]
  },
  {
   "cell_type": "code",
   "execution_count": 85,
   "metadata": {},
   "outputs": [],
   "source": [
    "# and convert to lemmas\n",
    "def tokenizeText(sample):\n",
    "\n",
    "    # get the tokens using spaCy\n",
    "    tokens = parser(sample)\n",
    "\n",
    "    # lemmatize\n",
    "    lemmas = []\n",
    "    for tok in tokens:\n",
    "        lemmas.append(tok.lemma_.lower().strip() \n",
    "                      if tok.lemma_ != \"-PRON-\" else tok.lower_)\n",
    "    tokens = lemmas\n",
    "\n",
    "    # stoplist the tokens\n",
    "    tokens = [tok for tok in tokens if tok not in STOPLIST]\n",
    "\n",
    "    # stoplist symbols\n",
    "    tokens = [tok for tok in tokens if tok not in SYMBOLS]\n",
    "\n",
    "    # remove large strings of whitespace\n",
    "    while \"\" in tokens:\n",
    "        tokens.remove(\"\")\n",
    "    while \" \" in tokens:\n",
    "        tokens.remove(\" \")\n",
    "    while \"\\n\" in tokens:\n",
    "        tokens.remove(\"\\n\")\n",
    "    while \"\\n\\n\" in tokens:\n",
    "        tokens.remove(\"\\n\\n\")\n",
    "    \n",
    "    return tokens\n",
    "\n",
    "\n",
    "# tokenize\n",
    "label_token = []\n",
    "for label in data_clean:\n",
    "    label_token.append(tokenizeText(label))"
   ]
  },
  {
   "cell_type": "code",
   "execution_count": 90,
   "metadata": {},
   "outputs": [],
   "source": [
    "# recombine\n",
    "input_label = []\n",
    "for label in label_token:\n",
    "    input_label.append(' '.join(label))"
   ]
  },
  {
   "cell_type": "code",
   "execution_count": 55,
   "metadata": {},
   "outputs": [],
   "source": [
    "import sqlalchemy # pandas-mysql interface library\n",
    "import sqlalchemy.exc # exception handling\n",
    "import poeml_utility as pml\n",
    "from sklearn.metrics.pairwise import euclidean_distances, cosine_distances, cosine_similarity\n",
    "from sklearn import preprocessing\n",
    "from sklearn.preprocessing import normalize\n",
    "\n",
    "engine = pml.connect_db()"
   ]
  },
  {
   "cell_type": "code",
   "execution_count": 215,
   "metadata": {},
   "outputs": [],
   "source": [
    "#parse\n",
    "parsed_labels = []\n",
    "for label in all_labels['labels']:\n",
    "    parsed_labels.append(parser(label))"
   ]
  },
  {
   "cell_type": "code",
   "execution_count": 216,
   "metadata": {},
   "outputs": [
    {
     "data": {
      "text/plain": [
       "[facial expression man shout emotion smile hand mouth human tooth aggression ,\n",
       " black photograph black and white eyewear sunglasses monochrome photography vision care photography sky glasses ,\n",
       " water sky atmosphere phenomenon sea underwater silhouette darkness calm computer wallpaper ,\n",
       " underwater phenomenon computer wallpaper visual effects darkness organism special effects human marine biology cg artwork ,\n",
       " mammal nose drawing art arm watercolor paint organ figure drawing wrinkle artwork ,\n",
       " face person black black and white nose eye cheek monochrome photography beauty eyebrow ,\n",
       " person portrait black and white monochrome photography art gentleman monochrome facial hair self portrait visual arts ,\n",
       " tree woody plant forest woodland wilderness plant phenomenon grass jungle darkness ,\n",
       " nose eye close up forehead human eyelash mouth organism organ snout ,\n",
       " black and white monochrome photography photography tree monochrome stock photography sky landscape ,\n",
       " people child skin facial expression person day infant sitting smile fun ,\n",
       " gown photograph marriage bride wedding dress dress wedding bridal clothing ceremony standing ,\n",
       " people dog breed fun grass family child play daughter father stock photography ,\n",
       " hair woman green tree girl beauty emotion smile eye hairstyle ,\n",
       " people child skin smile emotion fun girl infant interaction happiness ,\n",
       " photograph black person black and white tree girl emotion woody plant photography lady ,\n",
       " red light heart macro photography close up love computer wallpaper petal valentine's day heart ,\n",
       " text font sky water grass stock photography number computer wallpaper ,\n",
       " facial expression child emotion fun girl grass smile hand shout happiness ,\n",
       " flower rose pink rose family cut flowers garden roses purple flower bouquet floristry flower arranging ]"
      ]
     },
     "execution_count": 216,
     "metadata": {},
     "output_type": "execute_result"
    }
   ],
   "source": [
    "parsed_labels"
   ]
  },
  {
   "cell_type": "code",
   "execution_count": 217,
   "metadata": {},
   "outputs": [],
   "source": [
    "# calculate the embeddings for the picture labels\n",
    "\n",
    "good_pics_vecs = np.zeros((10,384))\n",
    "for i in np.arange(10):\n",
    "    good_pics_vecs[i,:] = parser(str(parsed_labels[i])).vector\n",
    "    \n",
    "bad_pics_vecs = np.zeros((10,384))\n",
    "for i in np.arange(10):\n",
    "    bad_pics_vecs[i,:] = parser(str(parsed_labels[10+i])).vector"
   ]
  },
  {
   "cell_type": "code",
   "execution_count": 54,
   "metadata": {},
   "outputs": [
    {
     "ename": "NameError",
     "evalue": "name 'engine' is not defined",
     "output_type": "error",
     "traceback": [
      "\u001b[0;31m---------------------------------------------------------------------------\u001b[0m",
      "\u001b[0;31mNameError\u001b[0m                                 Traceback (most recent call last)",
      "\u001b[0;32m<ipython-input-54-f0f425bafc40>\u001b[0m in \u001b[0;36m<module>\u001b[0;34m()\u001b[0m\n\u001b[1;32m      1\u001b[0m \u001b[0mquery\u001b[0m \u001b[0;34m=\u001b[0m \u001b[0;34m\"select * from sonnet_sentences order by index;\"\u001b[0m\u001b[0;34m\u001b[0m\u001b[0m\n\u001b[0;32m----> 2\u001b[0;31m \u001b[0msonnet_sentences\u001b[0m \u001b[0;34m=\u001b[0m \u001b[0mpd\u001b[0m\u001b[0;34m.\u001b[0m\u001b[0mread_sql\u001b[0m\u001b[0;34m(\u001b[0m\u001b[0mquery\u001b[0m\u001b[0;34m,\u001b[0m\u001b[0mengine\u001b[0m\u001b[0;34m)\u001b[0m\u001b[0;34m\u001b[0m\u001b[0m\n\u001b[0m\u001b[1;32m      3\u001b[0m \u001b[0mlen\u001b[0m\u001b[0;34m(\u001b[0m\u001b[0msonnet_sentences\u001b[0m\u001b[0;34m)\u001b[0m\u001b[0;34m\u001b[0m\u001b[0m\n",
      "\u001b[0;31mNameError\u001b[0m: name 'engine' is not defined"
     ]
    }
   ],
   "source": [
    "query = \"select * from sonnet_sentences order by index;\"\n",
    "sonnet_sentences = pd.read_sql(query,engine)\n",
    "len(sonnet_sentences)"
   ]
  },
  {
   "cell_type": "code",
   "execution_count": 253,
   "metadata": {},
   "outputs": [
    {
     "data": {
      "text/plain": [
       "(637, 385)"
      ]
     },
     "execution_count": 253,
     "metadata": {},
     "output_type": "execute_result"
    }
   ],
   "source": [
    "query = \"select * from poem_embeddings order by index;\"\n",
    "poem_embeddings = pd.read_sql(query,engine)\n",
    "poem_embeddings.shape"
   ]
  },
  {
   "cell_type": "code",
   "execution_count": 218,
   "metadata": {},
   "outputs": [
    {
     "name": "stdout",
     "output_type": "stream",
     "text": [
      "bad: \n",
      " No longer mourn for me when I am dead Than you shall hear the surly sullen bell Give warning to the world that I am fled From this vile world with vilest worms to dwell\n",
      "good: \n",
      "  Mark how one string, sweet husband to another, Strikes each in each by mutual ordering; Resembling sire and child and happy mother, Who, all in one, one pleasing note do sing\n"
     ]
    }
   ],
   "source": [
    "# identify test cases\n",
    "bad_idx = 282\n",
    "good_idx= 35\n",
    "\n",
    "# extract relevant embeddings\n",
    "bad_vec = poem_embeddings.iloc[bad_idx,1:]\n",
    "good_vec = poem_embeddings.iloc[good_idx,1:]\n",
    "\n",
    "# check\n",
    "print(\"bad: \\n\",sonnet_sentences.iloc[bad_idx,2])\n",
    "print(\"good: \\n\",sonnet_sentences.iloc[good_idx,2])"
   ]
  },
  {
   "cell_type": "code",
   "execution_count": 235,
   "metadata": {},
   "outputs": [],
   "source": [
    "bb = cosine_distances(bad_vec.values.reshape((1,-1)), bad_pics_vecs).flatten()\n",
    "bg = cosine_distances(bad_vec.values.reshape((1,-1)), good_pics_vecs).flatten()\n",
    "gb = cosine_distances(good_vec.values.reshape((1,-1)), bad_pics_vecs).flatten()\n",
    "gg = cosine_distances(good_vec.values.reshape((1,-1)), good_pics_vecs).flatten()\n",
    "test_results = pd.DataFrame(data={'bb':bb,'bg':bg,'gb':gb,'gg':gg})"
   ]
  },
  {
   "cell_type": "code",
   "execution_count": 236,
   "metadata": {},
   "outputs": [
    {
     "name": "stdout",
     "output_type": "stream",
     "text": [
      "bad poem: \n",
      " 0    1.0\n",
      "1   -1.0\n",
      "2   -1.0\n",
      "3   -1.0\n",
      "4    1.0\n",
      "5   -1.0\n",
      "6    1.0\n",
      "7    1.0\n",
      "8   -1.0\n",
      "9   -1.0\n",
      "dtype: float64\n",
      "good poem: \n",
      " 0    1.0\n",
      "1    1.0\n",
      "2   -1.0\n",
      "3    1.0\n",
      "4   -1.0\n",
      "5    1.0\n",
      "6   -1.0\n",
      "7   -1.0\n",
      "8    1.0\n",
      "9   -1.0\n",
      "dtype: float64\n"
     ]
    }
   ],
   "source": [
    "print(\"bad poem: \\n\",np.sign(test_results['bb']-test_results['bg']))\n",
    "print(\"good poem: \\n\",np.sign(test_results['gg']-test_results['gb']))"
   ]
  },
  {
   "cell_type": "code",
   "execution_count": 233,
   "metadata": {},
   "outputs": [],
   "source": [
    "bb = euclidean_distances(bad_vec.values.reshape((1,-1)), bad_pics_vecs).flatten()\n",
    "bg = euclidean_distances(bad_vec.values.reshape((1,-1)), good_pics_vecs).flatten()\n",
    "gb = euclidean_distances(good_vec.values.reshape((1,-1)), bad_pics_vecs).flatten()\n",
    "gg = euclidean_distances(good_vec.values.reshape((1,-1)), good_pics_vecs).flatten()\n",
    "test_results = pd.DataFrame(data={'bb':bb,'bg':bg,'gb':gb,'gg':gg})"
   ]
  },
  {
   "cell_type": "code",
   "execution_count": 234,
   "metadata": {},
   "outputs": [
    {
     "name": "stdout",
     "output_type": "stream",
     "text": [
      "bad poem: \n",
      " 0    1.0\n",
      "1   -1.0\n",
      "2   -1.0\n",
      "3   -1.0\n",
      "4    1.0\n",
      "5   -1.0\n",
      "6    1.0\n",
      "7    1.0\n",
      "8   -1.0\n",
      "9   -1.0\n",
      "dtype: float64\n",
      "good poem: \n",
      " 0    1.0\n",
      "1    1.0\n",
      "2   -1.0\n",
      "3    1.0\n",
      "4   -1.0\n",
      "5    1.0\n",
      "6   -1.0\n",
      "7   -1.0\n",
      "8    1.0\n",
      "9   -1.0\n",
      "dtype: float64\n"
     ]
    }
   ],
   "source": [
    "print(\"bad poem: \\n\",np.sign(test_results['bb']-test_results['bg']))\n",
    "print(\"good poem: \\n\",np.sign(test_results['gg']-test_results['gb']))"
   ]
  },
  {
   "cell_type": "code",
   "execution_count": 289,
   "metadata": {},
   "outputs": [
    {
     "data": {
      "text/plain": [
       "array([ 0.21395871,  0.24607571,  0.27247986,  0.27633767,  0.19856011,\n",
       "        0.23463302,  0.20448573,  0.22228259,  0.26371453,  0.28046177])"
      ]
     },
     "execution_count": 289,
     "metadata": {},
     "output_type": "execute_result"
    }
   ],
   "source": [
    "bg"
   ]
  },
  {
   "cell_type": "code",
   "execution_count": 232,
   "metadata": {},
   "outputs": [],
   "source": [
    "bad_pics_vecs = normalize(bad_pics_vecs,axis=1)\n",
    "good_pics_vecs = normalize(good_pics_vecs,axis=1)"
   ]
  },
  {
   "cell_type": "code",
   "execution_count": 259,
   "metadata": {},
   "outputs": [],
   "source": [
    "del poem_embeddings['index']"
   ]
  },
  {
   "cell_type": "code",
   "execution_count": 263,
   "metadata": {},
   "outputs": [
    {
     "name": "stderr",
     "output_type": "stream",
     "text": [
      "/Users/ctoews/anaconda/envs/insight/lib/python3.6/site-packages/ipykernel_launcher.py:1: FutureWarning: reshape is deprecated and will raise in a subsequent release. Please use .values.reshape(...) instead\n",
      "  \"\"\"Entry point for launching an IPython kernel.\n"
     ]
    }
   ],
   "source": [
    "dists=cosine_distances(good_vec.reshape((1,-1)),poem_embeddings)"
   ]
  },
  {
   "cell_type": "code",
   "execution_count": 281,
   "metadata": {},
   "outputs": [
    {
     "data": {
      "text/plain": [
       "array([ 0.        ,  0.07420846,  0.07768135,  0.08020837,  0.08229216])"
      ]
     },
     "execution_count": 281,
     "metadata": {},
     "output_type": "execute_result"
    }
   ],
   "source": [
    "idx=np.argsort(dists)\n",
    "dists[0,idx[0][0:5]]"
   ]
  },
  {
   "cell_type": "code",
   "execution_count": 283,
   "metadata": {},
   "outputs": [
    {
     "data": {
      "text/plain": [
       "array([ 0.        ,  0.07420846,  0.07768135,  0.08020837,  0.08229216])"
      ]
     },
     "execution_count": 283,
     "metadata": {},
     "output_type": "execute_result"
    }
   ],
   "source": [
    "dists[0,idx[0][0:5]]"
   ]
  },
  {
   "cell_type": "code",
   "execution_count": 69,
   "metadata": {},
   "outputs": [
    {
     "ename": "NameError",
     "evalue": "name 'parser' is not defined",
     "output_type": "error",
     "traceback": [
      "\u001b[0;31m---------------------------------------------------------------------------\u001b[0m",
      "\u001b[0;31mNameError\u001b[0m                                 Traceback (most recent call last)",
      "\u001b[0;32m<ipython-input-69-824731428cb7>\u001b[0m in \u001b[0;36m<module>\u001b[0;34m()\u001b[0m\n\u001b[0;32m----> 1\u001b[0;31m \u001b[0mparser\u001b[0m\u001b[0;34m\u001b[0m\u001b[0m\n\u001b[0m",
      "\u001b[0;31mNameError\u001b[0m: name 'parser' is not defined"
     ]
    }
   ],
   "source": [
    "parser"
   ]
  },
  {
   "cell_type": "code",
   "execution_count": 286,
   "metadata": {},
   "outputs": [],
   "source": [
    "x=parser(\"god\")"
   ]
  },
  {
   "cell_type": "code",
   "execution_count": 287,
   "metadata": {},
   "outputs": [
    {
     "data": {
      "text/plain": [
       "array([ -1.25227785e+00,   1.52718484e+00,   4.65477228e+00,\n",
       "         6.29601181e-02,   2.26495790e+00,   1.77047956e+00,\n",
       "        -3.30426097e+00,  -1.19847560e+00,   2.17711973e+00,\n",
       "         8.89403045e-01,   1.04516804e+00,  -8.57500732e-02,\n",
       "         1.24552751e+00,  -1.40893722e+00,  -9.38360512e-01,\n",
       "        -8.59737396e-04,   1.99387980e+00,  -8.09948146e-01,\n",
       "        -1.24704778e+00,   2.89700925e-01,   7.48762131e-01,\n",
       "         1.99815631e+00,   1.24085808e+00,  -1.16656578e+00,\n",
       "        -1.72519588e+00,  -2.48196587e-01,  -1.19411647e+00,\n",
       "        -3.71114016e-02,  -6.74983263e-01,  -3.04378915e+00,\n",
       "         4.20348644e-01,   1.25865352e+00,  -1.05744219e+00,\n",
       "        -5.70542455e-01,   1.27632844e+00,   3.28767121e-01,\n",
       "        -1.58082557e+00,   6.64026320e-01,  -5.24787545e-01,\n",
       "        -1.00528240e-01,  -3.21371436e-01,   3.61640573e+00,\n",
       "         1.50564826e+00,  -1.31605113e+00,  -3.80385542e+00,\n",
       "        -1.15620434e+00,  -2.17934585e+00,  -1.26014113e+00,\n",
       "         5.05967522e+00,  -2.40930939e+00,  -3.04378033e+00,\n",
       "        -1.03278875e+00,  -1.21631014e+00,  -5.33005595e-01,\n",
       "         5.11931598e-01,   9.34253931e-02,   1.67973781e+00,\n",
       "        -1.56227565e+00,  -1.52262747e-01,  -1.98061764e-02,\n",
       "        -3.42525065e-01,  -1.35361099e+00,  -1.42731977e+00,\n",
       "         9.68586504e-01,  -3.07029963e+00,   1.87040567e-02,\n",
       "         3.46696115e+00,  -3.41673470e+00,   1.23728085e+00,\n",
       "         2.42919493e+00,   2.05026960e+00,  -1.59218109e+00,\n",
       "         3.13906980e+00,   1.39157927e+00,  -2.38509607e+00,\n",
       "        -1.29727244e-01,   3.35889554e+00,  -2.41262984e+00,\n",
       "        -2.01665688e+00,   7.86469817e-01,  -3.07530642e+00,\n",
       "        -5.84637642e+00,  -3.18555212e+00,  -5.60943365e-01,\n",
       "         1.20622230e+00,  -5.87984920e-02,   6.99724853e-01,\n",
       "        -1.36003721e+00,  -2.41860485e+00,  -1.66188627e-01,\n",
       "        -2.70165992e+00,   6.62687969e+00,  -8.83322716e-01,\n",
       "         2.30276203e+00,  -7.87506342e-01,   2.90928268e+00,\n",
       "        -1.67643070e+00,   8.18223059e-02,   2.25435758e+00,\n",
       "         9.81288075e-01,  -2.64753520e-01,   2.28495836e+00,\n",
       "        -1.44690692e-01,  -3.26076412e+00,  -4.65862989e-01,\n",
       "         3.40619683e-01,   1.00912333e+00,  -1.70397663e+00,\n",
       "        -6.92589045e-01,   3.57140970e+00,   9.48403358e-01,\n",
       "         8.49629998e-01,   1.35427499e+00,  -1.32674336e+00,\n",
       "         2.08362675e+00,   1.38504863e+00,  -6.88803434e-01,\n",
       "         7.85838604e-01,  -4.89351600e-01,  -1.72118044e+00,\n",
       "         1.33915961e+00,   1.36974561e+00,  -1.72405601e-01,\n",
       "         8.31353605e-01,  -1.52141237e+00,  -7.28572488e-01,\n",
       "         5.83881617e+00,  -1.77958059e+00,  -5.67620814e-01,\n",
       "         1.95178062e-01,  -9.10937786e-03,   2.31139123e-01,\n",
       "        -6.38692141e-01,   2.62126565e-01,  -1.95418954e-01,\n",
       "         8.14520597e-01,   1.11502409e-02,   2.86554024e-02,\n",
       "         4.36549544e-01,   5.56057930e-01,  -6.20095968e-01,\n",
       "        -3.29261899e-01,  -6.92472339e-01,  -3.50853294e-01,\n",
       "        -5.65838993e-01,   1.33683935e-01,  -1.27459206e-02,\n",
       "        -6.05467707e-02,   1.81992054e-02,   3.47163707e-01,\n",
       "        -1.70001149e-01,   1.40294105e-01,  -4.17087168e-01,\n",
       "        -5.35646379e-01,   2.34738916e-01,   1.29957557e-01,\n",
       "        -8.11573118e-03,  -1.13069391e+00,  -3.52841973e-01,\n",
       "        -3.26165855e-01,  -2.59010196e-01,  -3.35154712e-01,\n",
       "         1.17406532e-01,   4.82520610e-02,   3.38084638e-01,\n",
       "         3.32097203e-01,   5.21273017e-01,   3.44940692e-01,\n",
       "        -7.30296135e-01,  -1.26115352e-01,   5.03614068e-01,\n",
       "        -1.83212802e-01,   4.39097434e-01,   5.56360722e-01,\n",
       "         7.57113814e-01,   1.11118838e-01,  -9.92670834e-01,\n",
       "        -1.56290382e-02,   6.82071745e-01,  -1.03909239e-01,\n",
       "        -3.06571364e-01,   1.41027153e-01,   2.76374817e-03,\n",
       "         1.55909777e-01,   1.14898741e-01,   6.68621957e-02,\n",
       "         1.25563860e+00,  -3.33723694e-01,   4.55388844e-01,\n",
       "         1.31175697e-01,   1.46921977e-01,  -2.59217560e-01,\n",
       "        -3.22763979e-01,   2.20566198e-01,   2.19167918e-01,\n",
       "        -2.44288683e-01,  -2.05528811e-01,  -5.20524681e-02,\n",
       "        -4.12742168e-01,  -2.95482457e-01,   7.94308662e-01,\n",
       "         2.44511619e-01,  -1.30749941e-01,   4.41778302e-01,\n",
       "         5.28469384e-01,   2.85559177e-01,   2.15245694e-01,\n",
       "        -9.38881785e-02,   3.53469998e-02,  -5.08411288e-01,\n",
       "        -9.74546313e-01,   2.63697326e-01,   1.42021477e-01,\n",
       "         4.49774802e-01,  -1.07696319e+00,  -5.21515608e-01,\n",
       "        -5.54006219e-01,   2.79389918e-02,   1.33456320e-01,\n",
       "        -2.61000156e-01,  -2.55061448e-01,  -1.55225933e-01,\n",
       "         1.41017854e-01,  -1.33572355e-01,  -2.82924652e-01,\n",
       "        -2.55495667e-01,   5.26655763e-02,  -1.43015474e-01,\n",
       "        -1.78559542e-01,   7.33251572e-01,  -7.37887859e-01,\n",
       "         1.12246776e+00,   3.71195138e-01,   2.21297845e-01,\n",
       "        -1.97489083e-01,  -6.84220493e-02,  -4.17419612e-01,\n",
       "        -3.89124990e-01,  -1.58573136e-01,  -4.61066127e-01,\n",
       "         7.12653458e-01,  -5.06062686e-01,   5.64665437e-01,\n",
       "        -5.49527645e-01,  -4.60260540e-01,  -3.29502821e-01,\n",
       "         2.72791356e-01,   4.54559743e-01,  -5.70082664e-01,\n",
       "         7.34032691e-02,  -1.22466847e-01,   1.11378461e-01,\n",
       "        -2.70529896e-01,   6.45265341e-01,   2.75270671e-01,\n",
       "         1.04570889e+00,   1.75001532e-01,   2.14291923e-03,\n",
       "         4.75482643e-01,   6.06383920e-01,  -4.88987476e-01,\n",
       "         7.53138602e-01,   3.47462535e-01,  -7.43025422e-01,\n",
       "         2.28740633e-01,  -3.04490328e-01,   4.07683611e-01,\n",
       "        -1.49903166e+00,   7.63329804e-01,  -5.72173953e-01,\n",
       "         9.98904184e-02,  -4.66027975e-01,  -2.45658994e-01,\n",
       "        -3.44533145e-01,   3.21965277e-01,  -1.11969978e-01,\n",
       "        -1.43806159e-01,   7.35340595e-01,   1.18487692e+00,\n",
       "         5.40024579e-01,  -3.20800304e-01,   1.60393029e-01,\n",
       "        -6.11162126e-01,  -7.73996115e-04,   7.60739207e-01,\n",
       "        -3.55819970e-01,  -2.11277962e-01,  -1.46568507e-01,\n",
       "        -6.99974537e-01,   1.56809938e+00,   3.61392051e-01,\n",
       "         6.22621253e-02,   5.36768436e-01,  -5.58846414e-01,\n",
       "         8.26368779e-02,   2.41939873e-01,  -2.57383198e-01,\n",
       "         7.52320170e-01,  -7.99957752e-01,  -2.41248310e-02,\n",
       "        -3.35097075e-01,   1.36414334e-01,  -2.00680196e-01,\n",
       "        -1.88406147e-02,  -6.01512119e-02,  -7.80995607e-01,\n",
       "        -4.17437226e-01,  -1.66102096e-01,  -4.24974918e-01,\n",
       "         3.80461097e-01,  -5.06861508e-02,   4.59312618e-01,\n",
       "        -1.05344824e-01,   4.73071098e-01,  -8.99156928e-03,\n",
       "        -1.08293205e-01,   1.04130715e-01,   4.17046815e-01,\n",
       "         7.12028027e-01,  -6.47538900e-01,  -1.40165403e-01,\n",
       "         7.62745559e-01,  -1.44183218e-01,   1.07253313e+00,\n",
       "        -3.92182112e-01,   5.55711925e-01,   8.33410770e-02,\n",
       "        -5.14171124e-01,   4.69512761e-01,   1.81453109e-01,\n",
       "         7.34571278e-01,  -1.31735072e-01,  -2.26593353e-02,\n",
       "         1.04289412e+00,  -1.19743848e+00,  -5.47080159e-01,\n",
       "        -8.23393345e-01,  -3.55086699e-02,  -4.42305773e-01,\n",
       "        -7.99426973e-01,  -1.37185559e-01,  -1.78440094e-01,\n",
       "        -1.98197573e-01,  -2.39046633e-01,  -6.84721619e-02,\n",
       "        -7.31390715e-01,  -2.49277920e-01,   9.19498920e-01,\n",
       "         6.18683174e-02,   1.12855807e-01,  -7.64084756e-01,\n",
       "        -6.63589463e-02,  -8.57109606e-01,   6.82913721e-01,\n",
       "        -1.79698288e-01,   6.83682859e-01,  -5.25002837e-01,\n",
       "         3.99785131e-01,  -4.88094419e-01,  -8.62113357e-01,\n",
       "        -5.22687674e-01,  -3.35727036e-01,  -3.05189729e-01,\n",
       "        -1.90729886e-01,  -3.43290329e-01,  -4.79558378e-01,\n",
       "         1.32326871e-01,   4.75013942e-01,   8.20066869e-01,\n",
       "         1.19312704e-02,  -5.66170633e-01,   2.57558525e-01,\n",
       "         4.60572064e-01,  -2.77021885e-01,   4.69631612e-01,\n",
       "         8.29473734e-01,   3.95950139e-01,  -5.53289473e-01,\n",
       "        -1.75812021e-01,  -2.43597850e-02,   2.41987988e-01,\n",
       "        -7.31877983e-02,   1.35150623e+00,  -1.32811949e-01], dtype=float32)"
      ]
     },
     "execution_count": 287,
     "metadata": {},
     "output_type": "execute_result"
    }
   ],
   "source": [
    "x.vector"
   ]
  },
  {
   "cell_type": "markdown",
   "metadata": {},
   "source": [
    "### Play with new testset"
   ]
  },
  {
   "cell_type": "code",
   "execution_count": 2,
   "metadata": {},
   "outputs": [],
   "source": [
    "test_images_url = \"https://www.flickr.com/photos/138072685@N02/albums\""
   ]
  },
  {
   "cell_type": "code",
   "execution_count": 5,
   "metadata": {},
   "outputs": [],
   "source": [
    "test_flickr   = flickr.photosets.getPhotos(user_id='138072685@N02',photoset_id='72157669045554809')\n"
   ]
  },
  {
   "cell_type": "code",
   "execution_count": 6,
   "metadata": {},
   "outputs": [],
   "source": [
    "test_urls = assemble_urls(test_flickr)\n"
   ]
  },
  {
   "cell_type": "code",
   "execution_count": 13,
   "metadata": {},
   "outputs": [],
   "source": [
    "test_labels = []\n",
    "for url in test_urls:\n",
    "    image.source.image_uri = url\n",
    "    response = client.label_detection(image=image)\n",
    "    labels = response.label_annotations\n",
    "    these_labels = ''\n",
    "    for label in labels:\n",
    "        these_labels += (label.description + ' ')\n",
    "    test_labels.append(these_labels)"
   ]
  },
  {
   "cell_type": "code",
   "execution_count": 14,
   "metadata": {},
   "outputs": [
    {
     "data": {
      "text/plain": [
       "['plant tree leaf rainforest girl jungle branch fun forest garden ',\n",
       " 'sea sky horizon ocean water calm shore wind wave wave phenomenon ',\n",
       " 'sea sky horizon ocean cloud calm water shore daytime coastal and oceanic landforms ',\n",
       " 'meal fun food cuisine lunch temple event friendship girl dinner ',\n",
       " 'meal food cuisine dish brunch buffet thanksgiving dinner street food breakfast meat ',\n",
       " 'meal food cuisine brunch lunch dish supper restaurant breakfast table ',\n",
       " 'dog dog breed snout dog breed group fur child companion dog puppy puppy love ',\n",
       " 'dog dog breed dog like mammal puppy child snout puppy love carnivoran companion dog dog clothes ',\n",
       " 'dog dog like mammal dog breed mammal dog breed group german spitz grass samoyed german spitz mittel snout ',\n",
       " 'sea beach sky water ocean body of water shore horizon vacation fun ',\n",
       " 'beach body of water vacation fun sea sand tourism leisure shore summer ',\n",
       " 'photograph sea sky body of water beach vacation fun tourism photography ocean ',\n",
       " 'flower sunflower sky field sunlight flowering plant daisy family meadow computer wallpaper landscape ',\n",
       " 'sunflower flower yellow sunflower seed flowering plant plant daisy family flora annual plant petal ',\n",
       " 'path woodland nature autumn temperate broadleaf and mixed forest forest ecosystem tree deciduous nature reserve ',\n",
       " 'winter blue snow nature ecosystem sky forest freezing woodland tree ']"
      ]
     },
     "execution_count": 14,
     "metadata": {},
     "output_type": "execute_result"
    }
   ],
   "source": [
    "test_labels"
   ]
  },
  {
   "cell_type": "code",
   "execution_count": 57,
   "metadata": {},
   "outputs": [
    {
     "data": {
      "text/plain": [
       "0       Genius is one percent inspiration and ninety-n...\n",
       "1                 You can observe a lot just by watching.\n",
       "2            A house divided against itself cannot stand.\n",
       "3       Difficulties increase the nearer we get to the...\n",
       "4                  Fate is in your hands and no one elses\n",
       "5                        Be the chief but never the lord.\n",
       "6                  Nothing happens unless first we dream.\n",
       "7                                Well begun is half done.\n",
       "8       Life is a learning experience, only if you learn.\n",
       "9                  Self-complacency is fatal to progress.\n",
       "10       Peace comes from within. Do not seek it without.\n",
       "11                         What you give is what you get.\n",
       "12                   We can only learn to love by loving.\n",
       "13      Life is change. Growth is optional. Choose wis...\n",
       "14                     You'll see it when you believe it.\n",
       "15      Today is the tomorrow we worried about yesterday.\n",
       "16      It's easier to see the mistakes on someone els...\n",
       "17            Every man dies. Not every man really lives.\n",
       "18                       To lead people walk behind them.\n",
       "19                   Having nothing, nothing can he lose.\n",
       "20           Trouble is only opportunity in work clothes.\n",
       "21                       A rolling stone gathers no moss.\n",
       "22        Ideas are the beginning points of all fortunes.\n",
       "23                            Everything in life is luck.\n",
       "24      Doing nothing is better than being busy doing ...\n",
       "25      Trust yourself. You know more than you think y...\n",
       "26        Study the past, if you would divine the future.\n",
       "27      The day is already blessed, find peace within it.\n",
       "28      From error to error one discovers the entire t...\n",
       "29                    Well done is better than well said.\n",
       "                              ...                        \n",
       "1610          The only way to have a friend is to be one.\n",
       "1611    If we had no winter, the spring would not be s...\n",
       "1612    Joy is what happens to us when we allow oursel...\n",
       "1613    Your vision will become clear only when you ca...\n",
       "1614    There is never enough time to do everything, b...\n",
       "1615    You really can change the world if you care en...\n",
       "1616    What you are is what you have been. What you'l...\n",
       "1617    Our lives are the only meaningful expression o...\n",
       "1618    There surely is in human nature an inherent pr...\n",
       "1619      Music in the soul can be heard by the universe.\n",
       "1620      What we see depends mainly on what we look for.\n",
       "1621    To hell with circumstances; I create opportuni...\n",
       "1622    The truest greatness lies in being kind, the t...\n",
       "1623      An ounce of emotion is equal to a ton of facts.\n",
       "1624    We need to find the courage to say NO to the t...\n",
       "1625    Great is the art of beginning, but greater is ...\n",
       "1626    Simply put, you believer that things or people...\n",
       "1627                     Nothing will work unless you do.\n",
       "1628    Our ability to achieve happiness and success d...\n",
       "1629    To go against the dominant thinking of your fr...\n",
       "1630    Gratitude makes sense of our past, brings peac...\n",
       "1631    Into each life rain must fall but rain can be ...\n",
       "1632    We are all inclined to judge ourselves by our ...\n",
       "1633    Nothing is a waste of time if you use the expe...\n",
       "1634    If one way be better than another, that you ma...\n",
       "1635    Here is one quality that one must possess to w...\n",
       "1636    It is not in the stars to hold our destiny but...\n",
       "1637    Using the power of decision gives you the capa...\n",
       "1638     I will prepare and some day my chance will come.\n",
       "1639    Sometimes the cards we are dealt are not alway...\n",
       "Name: quoteText, Length: 1640, dtype: object"
      ]
     },
     "execution_count": 57,
     "metadata": {},
     "output_type": "execute_result"
    }
   ],
   "source": [
    "query = \"select * from quotes;\"\n",
    "quotes = pd.read_sql(query,engine)\n",
    "quotes.quoteText"
   ]
  },
  {
   "cell_type": "code",
   "execution_count": 60,
   "metadata": {},
   "outputs": [],
   "source": [
    "quotevecs = pd.read_pickle('quote_vecs.pkl')"
   ]
  },
  {
   "cell_type": "code",
   "execution_count": 64,
   "metadata": {},
   "outputs": [
    {
     "data": {
      "text/html": [
       "<div>\n",
       "<style scoped>\n",
       "    .dataframe tbody tr th:only-of-type {\n",
       "        vertical-align: middle;\n",
       "    }\n",
       "\n",
       "    .dataframe tbody tr th {\n",
       "        vertical-align: top;\n",
       "    }\n",
       "\n",
       "    .dataframe thead th {\n",
       "        text-align: right;\n",
       "    }\n",
       "</style>\n",
       "<table border=\"1\" class=\"dataframe\">\n",
       "  <thead>\n",
       "    <tr style=\"text-align: right;\">\n",
       "      <th></th>\n",
       "      <th>index</th>\n",
       "      <th>quoteAuthor</th>\n",
       "      <th>quoteText</th>\n",
       "    </tr>\n",
       "  </thead>\n",
       "  <tbody>\n",
       "    <tr>\n",
       "      <th>83</th>\n",
       "      <td>83</td>\n",
       "      <td></td>\n",
       "      <td>It takes both sunshine and rain to make a rain...</td>\n",
       "    </tr>\n",
       "    <tr>\n",
       "      <th>203</th>\n",
       "      <td>203</td>\n",
       "      <td>Helen Keller</td>\n",
       "      <td>Keep yourself to the sunshine and you cannot s...</td>\n",
       "    </tr>\n",
       "    <tr>\n",
       "      <th>341</th>\n",
       "      <td>341</td>\n",
       "      <td>John Lennon</td>\n",
       "      <td>Yeah we all shine on, like the moon, and the s...</td>\n",
       "    </tr>\n",
       "    <tr>\n",
       "      <th>368</th>\n",
       "      <td>368</td>\n",
       "      <td>Buddha</td>\n",
       "      <td>Three things cannot be long hidden: the sun, t...</td>\n",
       "    </tr>\n",
       "    <tr>\n",
       "      <th>385</th>\n",
       "      <td>385</td>\n",
       "      <td>Morris West</td>\n",
       "      <td>If you spend your whole life waiting for the s...</td>\n",
       "    </tr>\n",
       "    <tr>\n",
       "      <th>753</th>\n",
       "      <td>751</td>\n",
       "      <td>Anatole France</td>\n",
       "      <td>It is better to understand a little than to mi...</td>\n",
       "    </tr>\n",
       "    <tr>\n",
       "      <th>798</th>\n",
       "      <td>798</td>\n",
       "      <td>Mark Twain</td>\n",
       "      <td>Happiness is a Swedish sunset, it is there for...</td>\n",
       "    </tr>\n",
       "    <tr>\n",
       "      <th>859</th>\n",
       "      <td>858</td>\n",
       "      <td>Albert Schweitzer</td>\n",
       "      <td>Constant kindness can accomplish much. As the ...</td>\n",
       "    </tr>\n",
       "    <tr>\n",
       "      <th>1078</th>\n",
       "      <td>1078</td>\n",
       "      <td>Ralph Waldo Emerson</td>\n",
       "      <td>Most of the shadows of life are caused by stan...</td>\n",
       "    </tr>\n",
       "    <tr>\n",
       "      <th>1220</th>\n",
       "      <td>1220</td>\n",
       "      <td>Ralph Emerson</td>\n",
       "      <td>To be great is to be misunderstood.</td>\n",
       "    </tr>\n",
       "    <tr>\n",
       "      <th>1259</th>\n",
       "      <td>1258</td>\n",
       "      <td>Maori proverb</td>\n",
       "      <td>Turn your face toward the sun and the shadows ...</td>\n",
       "    </tr>\n",
       "    <tr>\n",
       "      <th>1362</th>\n",
       "      <td>1361</td>\n",
       "      <td>Kahlil Gibran</td>\n",
       "      <td>Be like the flower, turn your face to the sun.</td>\n",
       "    </tr>\n",
       "    <tr>\n",
       "      <th>1441</th>\n",
       "      <td>1441</td>\n",
       "      <td>Robert Southey</td>\n",
       "      <td>It is with words as with sunbeams. The more th...</td>\n",
       "    </tr>\n",
       "    <tr>\n",
       "      <th>1631</th>\n",
       "      <td>1631</td>\n",
       "      <td>Byron Pulsifer</td>\n",
       "      <td>Into each life rain must fall but rain can be ...</td>\n",
       "    </tr>\n",
       "  </tbody>\n",
       "</table>\n",
       "</div>"
      ],
      "text/plain": [
       "      index          quoteAuthor  \\\n",
       "83       83                        \n",
       "203     203         Helen Keller   \n",
       "341     341          John Lennon   \n",
       "368     368               Buddha   \n",
       "385     385          Morris West   \n",
       "753     751       Anatole France   \n",
       "798     798           Mark Twain   \n",
       "859     858    Albert Schweitzer   \n",
       "1078   1078  Ralph Waldo Emerson   \n",
       "1220   1220        Ralph Emerson   \n",
       "1259   1258        Maori proverb   \n",
       "1362   1361        Kahlil Gibran   \n",
       "1441   1441       Robert Southey   \n",
       "1631   1631       Byron Pulsifer   \n",
       "\n",
       "                                              quoteText  \n",
       "83    It takes both sunshine and rain to make a rain...  \n",
       "203   Keep yourself to the sunshine and you cannot s...  \n",
       "341   Yeah we all shine on, like the moon, and the s...  \n",
       "368   Three things cannot be long hidden: the sun, t...  \n",
       "385   If you spend your whole life waiting for the s...  \n",
       "753   It is better to understand a little than to mi...  \n",
       "798   Happiness is a Swedish sunset, it is there for...  \n",
       "859   Constant kindness can accomplish much. As the ...  \n",
       "1078  Most of the shadows of life are caused by stan...  \n",
       "1220                To be great is to be misunderstood.  \n",
       "1259  Turn your face toward the sun and the shadows ...  \n",
       "1362     Be like the flower, turn your face to the sun.  \n",
       "1441  It is with words as with sunbeams. The more th...  \n",
       "1631  Into each life rain must fall but rain can be ...  "
      ]
     },
     "execution_count": 64,
     "metadata": {},
     "output_type": "execute_result"
    }
   ],
   "source": [
    "quotes.loc[quotes.quoteText.str.contains('sun'),:]"
   ]
  },
  {
   "cell_type": "code",
   "execution_count": 80,
   "metadata": {},
   "outputs": [],
   "source": [
    "q1 = quotes.iloc[1362,:]\n",
    "q2 = quotes.iloc[987,:]\n",
    "q1v = parser(q1.quoteText).vector\n",
    "q2v = parser(q2.quoteText).vector"
   ]
  },
  {
   "cell_type": "code",
   "execution_count": 79,
   "metadata": {},
   "outputs": [],
   "source": []
  },
  {
   "cell_type": "code",
   "execution_count": 72,
   "metadata": {},
   "outputs": [],
   "source": [
    "import spacy\n",
    "parser = spacy.load('en')"
   ]
  },
  {
   "cell_type": "code",
   "execution_count": 74,
   "metadata": {},
   "outputs": [],
   "source": [
    "image_text = test_labels[-1]\n",
    "image_text\n",
    "image_vector = parser(image_text)\n",
    "image_vector=image_vector.vector"
   ]
  },
  {
   "cell_type": "code",
   "execution_count": 75,
   "metadata": {},
   "outputs": [],
   "source": [
    "from sklearn.metrics.pairwise import euclidean_distances, cosine_distances, cosine_similarity\n"
   ]
  },
  {
   "cell_type": "code",
   "execution_count": 84,
   "metadata": {},
   "outputs": [
    {
     "data": {
      "text/plain": [
       "array([[0.16519928]], dtype=float32)"
      ]
     },
     "execution_count": 84,
     "metadata": {},
     "output_type": "execute_result"
    }
   ],
   "source": [
    "cosine_similarity(image_vector.reshape(1,-1),q2v.reshape(1,-1))"
   ]
  },
  {
   "cell_type": "code",
   "execution_count": 91,
   "metadata": {},
   "outputs": [
    {
     "ename": "TypeError",
     "evalue": "data type not understood",
     "output_type": "error",
     "traceback": [
      "\u001b[0;31m---------------------------------------------------------------------------\u001b[0m",
      "\u001b[0;31mTypeError\u001b[0m                                 Traceback (most recent call last)",
      "\u001b[0;32m<ipython-input-91-8502634e1deb>\u001b[0m in \u001b[0;36m<module>\u001b[0;34m()\u001b[0m\n\u001b[0;32m----> 1\u001b[0;31m \u001b[0mnp\u001b[0m\u001b[0;34m.\u001b[0m\u001b[0marray\u001b[0m\u001b[0;34m(\u001b[0m\u001b[0mq1v\u001b[0m\u001b[0;34m.\u001b[0m\u001b[0mreshape\u001b[0m\u001b[0;34m(\u001b[0m\u001b[0;36m1\u001b[0m\u001b[0;34m,\u001b[0m\u001b[0;34m-\u001b[0m\u001b[0;36m1\u001b[0m\u001b[0;34m)\u001b[0m\u001b[0;34m,\u001b[0m\u001b[0mq2v\u001b[0m\u001b[0;34m.\u001b[0m\u001b[0mreshape\u001b[0m\u001b[0;34m(\u001b[0m\u001b[0;36m1\u001b[0m\u001b[0;34m,\u001b[0m\u001b[0;34m-\u001b[0m\u001b[0;36m1\u001b[0m\u001b[0;34m)\u001b[0m\u001b[0;34m)\u001b[0m\u001b[0;34m.\u001b[0m\u001b[0mshape\u001b[0m\u001b[0;34m\u001b[0m\u001b[0m\n\u001b[0m",
      "\u001b[0;31mTypeError\u001b[0m: data type not understood"
     ]
    }
   ],
   "source": [
    "np.array(q1v.reshape(1,-1),q2v.reshape(1,-1)).shape"
   ]
  },
  {
   "cell_type": "code",
   "execution_count": 90,
   "metadata": {},
   "outputs": [
    {
     "data": {
      "text/plain": [
       "(1, 384)"
      ]
     },
     "execution_count": 90,
     "metadata": {},
     "output_type": "execute_result"
    }
   ],
   "source": [
    "q1v.reshape(1,-1).shape"
   ]
  },
  {
   "cell_type": "code",
   "execution_count": null,
   "metadata": {},
   "outputs": [],
   "source": []
  }
 ],
 "metadata": {
  "kernelspec": {
   "display_name": "Python 3",
   "language": "python",
   "name": "python3"
  },
  "language_info": {
   "codemirror_mode": {
    "name": "ipython",
    "version": 3
   },
   "file_extension": ".py",
   "mimetype": "text/x-python",
   "name": "python",
   "nbconvert_exporter": "python",
   "pygments_lexer": "ipython3",
   "version": "3.6.4"
  }
 },
 "nbformat": 4,
 "nbformat_minor": 2
}
