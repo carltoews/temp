{
 "cells": [
  {
   "cell_type": "markdown",
   "metadata": {},
   "source": [
    "## Backend\n",
    "\n",
    "*The code that runs PoeML*\n",
    "\n",
    "### This cell block contains the function I call from within 'views.py'"
   ]
  },
  {
   "cell_type": "code",
   "execution_count": 239,
   "metadata": {},
   "outputs": [],
   "source": [
    "def ModelIt(url):\n",
    "\n",
    "    import flickrapi\n",
    "    import json\n",
    "    import re\n",
    "    import io\n",
    "    from google.cloud import vision\n",
    "    from google.cloud.vision import types\n",
    "    from PIL import Image, ImageDraw\n",
    "    import os\n",
    "    import pandas as pd\n",
    "    import spacy\n",
    "    from sklearn.metrics.pairwise import euclidean_distances, cosine_distances, cosine_similarity\n",
    "    import pandas as pd\n",
    "    import sqlalchemy # pandas-mysql interface library\n",
    "    import sqlalchemy.exc # exception handling\n",
    "    import numpy as np\n",
    "\n",
    "    ##################################\n",
    "    # parameters\n",
    "    n = 4 #number of images/sonnets to return\n",
    "\n",
    "    #######################################\n",
    "    # functions\n",
    "\n",
    "    # connect to data base\n",
    "    def connect_db():\n",
    "        from sqlalchemy import create_engine\n",
    "        dbname = 'poetry_db'\n",
    "        username = 'ctoews'\n",
    "        engine = create_engine('postgres://%s@localhost/%s'%(username,dbname))\n",
    "        return engine\n",
    "\n",
    "    def assemble_urls(photoset):\n",
    "        urls = []\n",
    "        for photo in photoset['photoset']['photo']:\n",
    "            url = \"https://farm\" + str(photo['farm']) + \".staticflickr.com/\" + photo['server'] + \"/\" + \\\n",
    "                  photo['id'] + \"_\" + photo['secret'] + \".jpg\"\n",
    "            urls.append(url)\n",
    "        return urls\n",
    "\n",
    "    def parse_url(url):\n",
    "\n",
    "        try:\n",
    "            userid = re.search('photos/(.+?)/', url).group(1)\n",
    "        except AttributeError:\n",
    "            # AAA, ZZZ not found in the original string\n",
    "            userid = '' # apply your error handling\n",
    "\n",
    "        try:\n",
    "            albumid = re.search('albums/(.*)', url).group(1)\n",
    "        except AttributeError:\n",
    "            # AAA, ZZZ not found in the original string\n",
    "            albumid = '' # apply your error handling\n",
    "\n",
    "        return userid, albumid\n",
    "\n",
    "    def explicit():\n",
    "        from google.cloud import storage\n",
    "\n",
    "        # Explicitly use service account credentials by specifying the private key\n",
    "        # file.\n",
    "        storage_client = storage.Client.from_service_account_json(\n",
    "            '/Users/ctoews/Documents/Insight/Project/googleAPI/MyFirstProject-76680dcd1ad6.json')\n",
    "\n",
    "        # Make an authenticated API request\n",
    "        buckets = list(storage_client.list_buckets())\n",
    "        print(buckets)\n",
    "\n",
    "    #############################################\n",
    "    # main\n",
    "\n",
    "    #import flickr_keys\n",
    "    api_key = u'37528c980c419716e0879a417ef8211c'\n",
    "    api_secret = u'41075654a535c203'\n",
    "\n",
    "    # establish connection\n",
    "    flickr = flickrapi.FlickrAPI(api_key, api_secret, format='parsed-json')\n",
    "\n",
    "    # extract user and album id\n",
    "    userid, albumid = parse_url(url)\n",
    "\n",
    "    #fetch album info\n",
    "    albuminfo  = flickr.photosets.getPhotos(user_id=userid,photoset_id=albumid)\n",
    "\n",
    "    # extract individual photo urls\n",
    "    photo_urls = assemble_urls(albuminfo)\n",
    "\n",
    "    # authenticate google\n",
    "    os.environ[\"GOOGLE_APPLICATION_CREDENTIALS\"] = \\\n",
    "    \"/Users/ctoews/Documents/Insight/Project/googleAPI/MyFirstProject-76680dcd1ad6.json\"\n",
    "\n",
    "    explicit()\n",
    "\n",
    "    # connect to Google api\n",
    "    client = vision.ImageAnnotatorClient()\n",
    "    image = types.Image()\n",
    "\n",
    "    # feed photo url to Google, extract label\n",
    "    all_labels = []\n",
    "    for url in photo_urls:\n",
    "        image.source.image_uri = url\n",
    "        response = client.label_detection(image=image)\n",
    "        labels = response.label_annotations\n",
    "        these_labels = ''\n",
    "        for label in labels:\n",
    "            these_labels += (label.description + ' ')\n",
    "        all_labels.append(these_labels)\n",
    "\n",
    "    # store labels as dataframe\n",
    "    all_labels = pd.DataFrame(all_labels,columns=['labels'])\n",
    "\n",
    "    # load parser\n",
    "    parser = spacy.load('en')\n",
    "\n",
    "    # embed the set of all labels via word2vec\n",
    "    all_vecs = []\n",
    "    for l in all_labels.values:\n",
    "        v=parser(l[0])\n",
    "        all_vecs.append(v.vector)\n",
    "    all_vecs = np.array(all_vecs)\n",
    "\n",
    "    # find the average embedding (could play with weighting schemes)\n",
    "    pic_vec = np.mean(all_vecs,axis=0).reshape(1,-1)\n",
    "\n",
    "    # connect to database\n",
    "    engine = connect_db()\n",
    "\n",
    "    # extract poem embeddings\n",
    "    query = \"select * from poem_embeddings order by index;\"\n",
    "    poem_embeddings = pd.read_sql(query,engine)\n",
    "    pv = poem_embeddings.iloc[:,1:].values\n",
    "\n",
    "    # calculate cosine similarities\n",
    "    s=cosine_similarity(pic_vec,pv)\n",
    "\n",
    "    # rank the distances\n",
    "    idx=np.argsort(s)\n",
    "    sims = list(s[0,idx[0][:-n-1:-1]])\n",
    "    print(\"similarities:  \", sims)\n",
    "\n",
    "    # extract sonnet sentences from database\n",
    "    query = \"select * from sonnet_sentences order by index;\"\n",
    "    sonnet_sentences = pd.read_sql(query,engine)\n",
    "\n",
    "    # extract relevant snippets\n",
    "    best_matches = sonnet_sentences.iloc[idx[0][:-n-1:-1],:]\n",
    "\n",
    "    # combine into single dataframe\n",
    "    best_matches['similarity'] = sims\n",
    "    best_matches['url']=['dog' for i in np.arange(n)] #photo_urls[0:n]\n",
    "    # return as list\n",
    "    best_matches = best_matches.iloc[:,1:].to_dict('records')\n",
    "\n",
    "    return best_matches"
   ]
  },
  {
   "cell_type": "markdown",
   "metadata": {},
   "source": [
    "### Everything below here are diagnostic snippets.  All can be deleted, but I'll keep them around to have a record of where I've been."
   ]
  },
  {
   "cell_type": "code",
   "execution_count": 240,
   "metadata": {},
   "outputs": [
    {
     "name": "stdout",
     "output_type": "stream",
     "text": [
      "[<Bucket: toews-images>]\n",
      "similarities:   [0.97782495337635023, 0.96658523949610142, 0.96286365796018725, 0.95403124316771681]\n"
     ]
    },
    {
     "name": "stderr",
     "output_type": "stream",
     "text": [
      "/Users/ctoews/anaconda/envs/insight/lib/python3.6/site-packages/ipykernel_launcher.py:148: SettingWithCopyWarning: \n",
      "A value is trying to be set on a copy of a slice from a DataFrame.\n",
      "Try using .loc[row_indexer,col_indexer] = value instead\n",
      "\n",
      "See the caveats in the documentation: http://pandas.pydata.org/pandas-docs/stable/indexing.html#indexing-view-versus-copy\n",
      "/Users/ctoews/anaconda/envs/insight/lib/python3.6/site-packages/ipykernel_launcher.py:149: SettingWithCopyWarning: \n",
      "A value is trying to be set on a copy of a slice from a DataFrame.\n",
      "Try using .loc[row_indexer,col_indexer] = value instead\n",
      "\n",
      "See the caveats in the documentation: http://pandas.pydata.org/pandas-docs/stable/indexing.html#indexing-view-versus-copy\n"
     ]
    }
   ],
   "source": [
    "url = \"https://www.flickr.com/photos/138072685@N02/albums/72157690932695551\"\n",
    "out = ModelIt(url)"
   ]
  },
  {
   "cell_type": "code",
   "execution_count": 245,
   "metadata": {},
   "outputs": [
    {
     "data": {
      "text/plain": [
       "'https://farm5.staticflickr.com/4623/39834715572_1559b597ec.jpg'"
      ]
     },
     "execution_count": 245,
     "metadata": {},
     "output_type": "execute_result"
    }
   ],
   "source": [
    "photo_urls[0]"
   ]
  },
  {
   "cell_type": "code",
   "execution_count": 182,
   "metadata": {},
   "outputs": [],
   "source": [
    "def assemble_urls(photoset):\n",
    "    urls = []\n",
    "    for photo in photoset['photoset']['photo']:\n",
    "        url = \"https://farm\" + str(photo['farm']) + \".staticflickr.com/\" + photo['server'] + \"/\" + \\\n",
    "              photo['id'] + \"_\" + photo['secret'] + \".jpg\"\n",
    "        urls.append(url)    \n",
    "    return urls\n",
    "\n",
    "def parse_url(url):\n",
    "\n",
    "    try:\n",
    "        userid = re.search('photos/(.+?)/', url).group(1)\n",
    "    except AttributeError:\n",
    "        # AAA, ZZZ not found in the original string\n",
    "        userid = '' # apply your error handling\n",
    "\n",
    "    try:\n",
    "        albumid = re.search('albums/(.*)', url).group(1)\n",
    "    except AttributeError:\n",
    "        # AAA, ZZZ not found in the original string\n",
    "        albumid = '' # apply your error handling\n",
    "\n",
    "    return userid, albumid\n",
    "\n",
    "def explicit():\n",
    "    from google.cloud import storage\n",
    "\n",
    "    # Explicitly use service account credentials by specifying the private key\n",
    "    # file.\n",
    "    storage_client = storage.Client.from_service_account_json(\n",
    "        '/Users/ctoews/Documents/Insight/Project/googleAPI/MyFirstProject-76680dcd1ad6.json')\n",
    "\n",
    "    # Make an authenticated API request\n",
    "    buckets = list(storage_client.list_buckets())\n",
    "    print(buckets)    \n",
    "\n",
    "#############################################\n",
    "# main\n",
    "\n",
    "#import flickr_keys\n",
    "api_key = u'37528c980c419716e0879a417ef8211c'\n",
    "api_secret = u'41075654a535c203'\n",
    "\n",
    "# establish connection\n",
    "flickr = flickrapi.FlickrAPI(api_key, api_secret, format='parsed-json')\n",
    "\n",
    "# extract user and album id\n",
    "userid, albumid = parse_url(url)    \n",
    "\n",
    "#fetch album info \n",
    "albuminfo  = flickr.photosets.getPhotos(user_id=userid,photoset_id=albumid)\n",
    "\n",
    "# extract individual photo urls\n",
    "photo_urls = assemble_urls(albuminfo)\n"
   ]
  },
  {
   "cell_type": "code",
   "execution_count": 184,
   "metadata": {},
   "outputs": [
    {
     "data": {
      "text/plain": [
       "['https://farm5.staticflickr.com/4623/39834715572_1559b597ec.jpg',\n",
       " 'https://farm5.staticflickr.com/4605/39834715692_e499c7d71f.jpg',\n",
       " 'https://farm5.staticflickr.com/4630/39834715602_3314a7eaf4.jpg',\n",
       " 'https://farm5.staticflickr.com/4653/39834716592_efe5420940.jpg']"
      ]
     },
     "execution_count": 184,
     "metadata": {},
     "output_type": "execute_result"
    }
   ],
   "source": [
    "photo_urls[0:4]"
   ]
  },
  {
   "cell_type": "code",
   "execution_count": 210,
   "metadata": {},
   "outputs": [
    {
     "name": "stdout",
     "output_type": "stream",
     "text": [
      "[4 3 2]\n",
      "[0 1 2 3]\n"
     ]
    }
   ],
   "source": [
    "x = np.arange(5)\n",
    "print(x[:-4:-1])\n",
    "print(x[0:4])"
   ]
  },
  {
   "cell_type": "code",
   "execution_count": 211,
   "metadata": {},
   "outputs": [
    {
     "data": {
      "text/plain": [
       "'https://farm5.staticflickr.com/4623/39834715572_1559b597ec.jpg'"
      ]
     },
     "execution_count": 211,
     "metadata": {},
     "output_type": "execute_result"
    }
   ],
   "source": [
    "photo_urls[0]"
   ]
  },
  {
   "cell_type": "code",
   "execution_count": 130,
   "metadata": {},
   "outputs": [
    {
     "data": {
      "text/html": [
       "<div>\n",
       "<style scoped>\n",
       "    .dataframe tbody tr th:only-of-type {\n",
       "        vertical-align: middle;\n",
       "    }\n",
       "\n",
       "    .dataframe tbody tr th {\n",
       "        vertical-align: top;\n",
       "    }\n",
       "\n",
       "    .dataframe thead th {\n",
       "        text-align: right;\n",
       "    }\n",
       "</style>\n",
       "<table border=\"1\" class=\"dataframe\">\n",
       "  <thead>\n",
       "    <tr style=\"text-align: right;\">\n",
       "      <th></th>\n",
       "      <th>index</th>\n",
       "      <th>title</th>\n",
       "      <th>sentence</th>\n",
       "    </tr>\n",
       "  </thead>\n",
       "  <tbody>\n",
       "    <tr>\n",
       "      <th>20</th>\n",
       "      <td>20</td>\n",
       "      <td>V</td>\n",
       "      <td>Then were not summer's distillation left, A l...</td>\n",
       "    </tr>\n",
       "    <tr>\n",
       "      <th>255</th>\n",
       "      <td>255</td>\n",
       "      <td>LXIII</td>\n",
       "      <td>Against my love shall be as I am now, With Tim...</td>\n",
       "    </tr>\n",
       "    <tr>\n",
       "      <th>85</th>\n",
       "      <td>85</td>\n",
       "      <td>XX</td>\n",
       "      <td>A woman's face with nature's own hand painted,...</td>\n",
       "    </tr>\n",
       "    <tr>\n",
       "      <th>102</th>\n",
       "      <td>102</td>\n",
       "      <td>XXIV</td>\n",
       "      <td>Mine eye hath play'd the painter and hath stel...</td>\n",
       "    </tr>\n",
       "  </tbody>\n",
       "</table>\n",
       "</div>"
      ],
      "text/plain": [
       "     index  title                                           sentence\n",
       "20      20      V   Then were not summer's distillation left, A l...\n",
       "255    255  LXIII  Against my love shall be as I am now, With Tim...\n",
       "85      85     XX  A woman's face with nature's own hand painted,...\n",
       "102    102   XXIV  Mine eye hath play'd the painter and hath stel..."
      ]
     },
     "execution_count": 130,
     "metadata": {},
     "output_type": "execute_result"
    }
   ],
   "source": [
    "best_matches"
   ]
  },
  {
   "cell_type": "code",
   "execution_count": 107,
   "metadata": {},
   "outputs": [],
   "source": [
    "from sklearn.metrics.pairwise import euclidean_distances, cosine_distances, cosine_similarity\n"
   ]
  },
  {
   "cell_type": "code",
   "execution_count": 143,
   "metadata": {},
   "outputs": [],
   "source": [
    "d=cosine_similarity(pic_vec,pv)"
   ]
  },
  {
   "cell_type": "code",
   "execution_count": 146,
   "metadata": {},
   "outputs": [
    {
     "data": {
      "text/plain": [
       "[0.97782495337635023,\n",
       " 0.96658523949610142,\n",
       " 0.96286365796018725,\n",
       " 0.95403124316771681]"
      ]
     },
     "execution_count": 146,
     "metadata": {},
     "output_type": "execute_result"
    }
   ],
   "source": [
    "# rank the distances\n",
    "idx=np.argsort(d)\n",
    "list(d[0,idx[0][:-5:-1]] )"
   ]
  },
  {
   "cell_type": "code",
   "execution_count": 188,
   "metadata": {},
   "outputs": [],
   "source": [
    "best_matches = best_matches.iloc[:,1:].to_dict('records')"
   ]
  },
  {
   "cell_type": "code",
   "execution_count": 191,
   "metadata": {},
   "outputs": [
    {
     "data": {
      "text/plain": [
       "\" Then were not summer's distillation left, A liquid prisoner pent in walls of glass, Beauty's effect with beauty were bereft, Nor it, nor no remembrance what it was\""
      ]
     },
     "execution_count": 191,
     "metadata": {},
     "output_type": "execute_result"
    }
   ],
   "source": [
    "best_matches[0]['sentence']"
   ]
  },
  {
   "cell_type": "code",
   "execution_count": 212,
   "metadata": {},
   "outputs": [],
   "source": [
    "from markupsafe import Markup, escape"
   ]
  },
  {
   "cell_type": "code",
   "execution_count": 220,
   "metadata": {},
   "outputs": [
    {
     "data": {
      "text/plain": [
       "Markup('https://farm5.staticflickr.com/4623/39834715572_1559b597ec.jpg')"
      ]
     },
     "execution_count": 220,
     "metadata": {},
     "output_type": "execute_result"
    }
   ],
   "source": [
    "x=Markup(photo_urls[0])\n",
    "x"
   ]
  },
  {
   "cell_type": "code",
   "execution_count": 204,
   "metadata": {},
   "outputs": [
    {
     "data": {
      "text/plain": [
       "({'sentence': \" Then were not summer's distillation left, A liquid prisoner pent in walls of glass, Beauty's effect with beauty were bereft, Nor it, nor no remembrance what it was\",\n",
       "  'title': 'V'},\n",
       " 'https://farm5.staticflickr.com/4623/39834715572_1559b597ec.jpg')"
      ]
     },
     "execution_count": 204,
     "metadata": {},
     "output_type": "execute_result"
    }
   ],
   "source": [
    "x.__next__()\n"
   ]
  },
  {
   "cell_type": "code",
   "execution_count": 249,
   "metadata": {},
   "outputs": [
    {
     "name": "stdout",
     "output_type": "stream",
     "text": [
      "['https://farm5.staticflickr.com/4623/39834715572_1559b597ec.jpg', 'https://farm5.staticflickr.com/4623/39834715572_1559b597ec.jpg', 'https://farm5.staticflickr.com/4623/39834715572_1559b597ec.jpg', 'https://farm5.staticflickr.com/4623/39834715572_1559b597ec.jpg', 'https://farm5.staticflickr.com/4623/39834715572_1559b597ec.jpg']\n",
      "['https://farm5.staticflickr.com/4623/39834715572_1559b597ec.jpg', 'https://farm5.staticflickr.com/4605/39834715692_e499c7d71f.jpg', 'https://farm5.staticflickr.com/4630/39834715602_3314a7eaf4.jpg', 'https://farm5.staticflickr.com/4653/39834716592_efe5420940.jpg', 'https://farm5.staticflickr.com/4674/39834715812_c9b8157bc5.jpg']\n"
     ]
    }
   ],
   "source": [
    "x = ['https://farm5.staticflickr.com/4623/39834715572_1559b597ec.jpg' for i in np.arange(5)]\n",
    "y=photo_urls[0:5]\n",
    "print(x)\n",
    "print(y)"
   ]
  },
  {
   "cell_type": "code",
   "execution_count": 251,
   "metadata": {},
   "outputs": [],
   "source": [
    "y?"
   ]
  },
  {
   "cell_type": "code",
   "execution_count": 253,
   "metadata": {},
   "outputs": [
    {
     "data": {
      "text/plain": [
       "False"
      ]
     },
     "execution_count": 253,
     "metadata": {},
     "output_type": "execute_result"
    }
   ],
   "source": [
    "x==y"
   ]
  },
  {
   "cell_type": "code",
   "execution_count": 3,
   "metadata": {},
   "outputs": [
    {
     "ename": "NameError",
     "evalue": "name 'quotes' is not defined",
     "output_type": "error",
     "traceback": [
      "\u001b[0;31m---------------------------------------------------------------------------\u001b[0m",
      "\u001b[0;31mNameError\u001b[0m                                 Traceback (most recent call last)",
      "\u001b[0;32m<ipython-input-3-31c391a6961d>\u001b[0m in \u001b[0;36m<module>\u001b[0;34m()\u001b[0m\n\u001b[0;32m----> 1\u001b[0;31m \u001b[0mquotes\u001b[0m\u001b[0;34m.\u001b[0m\u001b[0miloc\u001b[0m\u001b[0;34m[\u001b[0m\u001b[0;36m1362\u001b[0m\u001b[0;34m,\u001b[0m\u001b[0;34m:\u001b[0m\u001b[0;34m]\u001b[0m\u001b[0;34m\u001b[0m\u001b[0m\n\u001b[0m",
      "\u001b[0;31mNameError\u001b[0m: name 'quotes' is not defined"
     ]
    }
   ],
   "source": [
    "quotes.iloc[1362,:]"
   ]
  },
  {
   "cell_type": "code",
   "execution_count": 3,
   "metadata": {},
   "outputs": [],
   "source": [
    "import spacy\n",
    "parser = spacy.load('en')"
   ]
  },
  {
   "cell_type": "code",
   "execution_count": 12,
   "metadata": {},
   "outputs": [
    {
     "data": {
      "text/plain": [
       "array([[0.8345199]], dtype=float32)"
      ]
     },
     "execution_count": 12,
     "metadata": {},
     "output_type": "execute_result"
    }
   ],
   "source": [
    "from sklearn.metrics.pairwise import euclidean_distances, cosine_distances, cosine_similarity\n",
    "a = (parser('dog').vector +parser('cat').vector)/2.0 \n",
    "b = parser('dog cat').vector\n",
    "cosine_similarity(a.reshape(1,-1),b.reshape(1,-1))"
   ]
  },
  {
   "cell_type": "code",
   "execution_count": null,
   "metadata": {},
   "outputs": [],
   "source": []
  }
 ],
 "metadata": {
  "kernelspec": {
   "display_name": "Python 3",
   "language": "python",
   "name": "python3"
  },
  "language_info": {
   "codemirror_mode": {
    "name": "ipython",
    "version": 3
   },
   "file_extension": ".py",
   "mimetype": "text/x-python",
   "name": "python",
   "nbconvert_exporter": "python",
   "pygments_lexer": "ipython3",
   "version": "3.6.4"
  }
 },
 "nbformat": 4,
 "nbformat_minor": 2
}
