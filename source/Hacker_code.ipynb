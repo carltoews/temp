{
 "cells": [
  {
   "cell_type": "code",
   "execution_count": 4,
   "metadata": {},
   "outputs": [
    {
     "name": "stdout",
     "output_type": "stream",
     "text": [
      "500\n",
      "[\"The Fulton County Grand Jury said Friday an investigation of Atlanta's recent primary election produced `` no evidence '' that any irregularities took place . The jury further said in term-end presentments that the City Executive Committee , which had over-all charge of the election , `` deserves the praise and thanks of the City of Atlanta '' for the manner in which the election was conducted . The September-October term jury had been charged by Fulton Superior Court Judge Durwood Pye to investigate reports of possible `` irregularities '' in the hard-fought primary which was won by Mayor-nominate Ivan Allen Jr. . `` Only a relative handful of such reports was received '' , the jury said , `` considering the widespread interest in the election , the number of voters and the size of this city '' . The jury said it did find that many of Georgia's registration and election laws `` are outmoded or inadequate and often ambiguous '' . It recommended that Fulton legislators act `` to have these laws studied and revised to the end of modernizing and improving them '' . The grand jury commented on a number of other topics , among them the Atlanta and Fulton County purchasing departments which it said `` are well operated and follow generally accepted practices which inure to the best interest of both governments '' . Merger proposed However , the jury said it believes `` these two offices should be combined to achieve greater efficiency and reduce the cost of administration '' . The City Purchasing Department , the jury said , `` is lacking in experienced clerical personnel as a result of city personnel policies '' . It urged that the city `` take steps to remedy '' this problem . Implementation of Georgia's automobile title law was also recommended by the outgoing jury . It urged that the next Legislature `` provide enabling funds and re-set the effective date so that an orderly implementation of the law may be effected '' . The grand jury took a swipe at the State Welfare Department's handling of federal funds granted for child welfare services in foster homes . `` This is one of the major items in the Fulton County general assistance program '' , the jury said , but the State Welfare Department `` has seen fit to distribute these funds through the welfare departments of all the counties in the state with the exception of Fulton County , which receives none of this money . The jurors said they realize `` a proportionate distribution of these funds might disable this program in our less populous counties '' . Nevertheless , `` we feel that in the future Fulton County should receive some portion of these available funds '' , the jurors said . `` Failure to do this will continue to place a disproportionate burden '' on Fulton taxpayers . The jury also commented on the Fulton ordinary's court which has been under fire for its practices in the appointment of appraisers , guardians and administrators and the awarding of fees and compensation . Wards protected The jury said it found the court `` has incorporated into its operating procedures the recommendations '' of two previous grand juries , the Atlanta Bar Association and an interim citizens committee . `` These actions should serve to protect in fact and in effect the court's wards from undue costs and its appointed and elected servants from unmeritorious criticisms '' , the jury said . Regarding Atlanta's new multi-million-dollar airport , the jury recommended `` that when the new management takes charge Jan. 1 the airport be operated in a manner that will eliminate political influences '' . The jury did not elaborate , but it added that `` there should be periodic surveillance of the pricing practices of the concessionaires for the purpose of keeping the prices reasonable '' . Ask jail deputies On other matters , the jury recommended that : ( 1 ) Four additional deputies be employed at the Fulton County Jail and `` a doctor , medical intern or extern be employed for night and weekend duty at the jail '' . ( 2 ) Fulton legislators `` work with city officials to pass enabling legislation that will permit the establishment of a fair and equitable '' pension plan for city employes . The jury praised the administration and operation of the Atlanta Police Department , the Fulton Tax Commissioner's Office , the Bellwood and Alpharetta prison farms , Grady Hospital and the Fulton Health Department . Mayor William B. Hartsfield filed suit for divorce from his wife , Pearl Williams Hartsfield , in Fulton Superior Court Friday . His petition charged mental cruelty . The couple was married Aug. 2 , 1913 . They have a son , William Berry Jr. , and a daughter , Mrs. J. M. Cheshire of Griffin . Attorneys for the mayor said that an amicable property settlement has been agreed upon . The petition listed the mayor's occupation as `` attorney '' and his age as 71 . It listed his wife's age as 74 and place of birth as Opelika , Ala. . The petition said that the couple has not lived together as man and wife for more than a year . The Hartsfield home is at 637 E. Pelham Rd. Aj . Henry L. Bowden was listed on the petition as the mayor's attorney . Hartsfield has been mayor of Atlanta , with exception of one brief interlude , since 1937 . His political career goes back to his election to city council in 1923 . The mayor's present term of office expires Jan. 1 . He will be succeeded by Ivan Allen Jr. , who became a candidate in the Sept. 13 primary after Mayor Hartsfield announced that he would not run for reelection . Georgia Republicans are getting strong encouragement to enter a candidate in the 1962 governor's race , a top official said Wednesday . Robert Snodgrass , state GOP chairman , said a meeting held Tuesday night in Blue Ridge brought enthusiastic responses from the audience . State Party Chairman James W. Dorsey added that enthusiasm was picking up for a state rally to be held Sept. 8 in Savannah at which newly elected Texas Sen. John Tower will be the featured speaker . In the Blue Ridge meeting , the audience was warned that entering a candidate for governor would force it to take petitions out into voting precincts to obtain the signatures of registered voters . Despite the warning , there was a unanimous vote to enter a candidate , according to Republicans who attended . When the crowd was asked whether it wanted to wait one more term to make the race , it voted no -- and there were no dissents . The largest hurdle the Republicans would have to face is a state law which says that before making a first race , one of two alternative courses must be taken : 1 Five per cent of the voters in each county must sign petitions requesting that the Republicans be allowed to place names of candidates on the general election ballot , or 2 The Republicans must hold a primary under the county unit system -- a system which the party opposes in its platform . Sam Caldwell , State Highway Department public relations director , resigned Tuesday to work for Lt. Gov. Garland Byrd's campaign . Caldwell's resignation had been expected for some time . He will be succeeded by Rob Ledford of Gainesville , who has been an assistant more than three years . When the gubernatorial campaign starts , Caldwell is expected to become a campaign coordinator for Byrd . The Georgia Legislature will wind up its 1961 session Monday and head for home -- where some of the highway bond money it approved will follow shortly . Before adjournment Monday afternoon , the Senate is expected to approve a study of the number of legislators allotted to rural and urban areas to determine what adjustments should be made . Gov. Vandiver is expected to make the traditional visit to both chambers as they work toward adjournment . Vandiver likely will mention the $100 million highway bond issue approved earlier in the session as his first priority item . Construction bonds Meanwhile , it was learned the State Highway Department is very near being ready to issue the first $30 million worth of highway reconstruction bonds . The bond issue will go to the state courts for a friendly test suit to test the validity of the act , and then the sales will begin and contracts let for repair work on some of Georgia's most heavily traveled highways . A Highway Department source said there also is a plan there to issue some $3 million to $4 million worth of Rural Roads Authority bonds for rural road construction work . A revolving fund The department apparently intends to make the Rural Roads Authority a revolving fund under which new bonds would be issued every time a portion of the old ones are paid off by tax authorities . Vandiver opened his race for governor in 1958 with a battle in the Legislature against the issuance of $50 million worth of additional rural roads bonds proposed by then Gov. Marvin Griffin . The Highway Department source told The Constitution , however , that Vandiver has not been consulted yet about the plans to issue the new rural roads bonds . Schley County Rep. B. D. Pelham will offer a resolution Monday in the House to rescind the body's action of Friday in voting itself a $10 per day increase in expense allowances . Pelham said Sunday night there was research being done on whether the `` quickie '' vote on the increase can be repealed outright or whether notice would have to first be given that reconsideration of the action would be sought . While emphasizing that technical details were not fully worked out , Pelham said his resolution would seek to set aside the privilege resolution which the House voted through 87-31 . A similar resolution passed in the Senate by a vote of 29-5 . As of Sunday night , there was no word of a resolution being offered there to rescind the action . Pelham pointed out that Georgia voters last November rejected a constitutional amendment to allow legislators to vote on pay raises for future Legislature sessions . A veteran Jackson County legislator will ask the Georgia House Monday to back federal aid to education , something it has consistently opposed in the past . Rep. Mac Barber of Commerce is asking the House in a privilege resolution to `` endorse increased federal support for public education , provided that such funds be received and expended '' as state funds . Barber , who is in his 13th year as a legislator , said there `` are some members of our congressional delegation in Washington who would like to see it ( the resolution ) passed '' . But he added that none of Georgia's congressmen specifically asked him to offer the resolution . The resolution , which Barber tossed into the House hopper Friday , will be formally read Monday . It says that `` in the event Congress does provide this increase in federal funds '' , the State Board of Education should be directed to `` give priority '' to teacher pay raises . Colquitt -- After a long , hot controversy , Miller County has a new school superintendent , elected , as a policeman put it , in the `` coolest election I ever saw in this county '' . The new school superintendent is Harry Davis , a veteran agriculture teacher , who defeated Felix Bush , a school principal and chairman of the Miller County Democratic Executive Committee . Davis received 1,119 votes in Saturday's election , and Bush got 402 . Ordinary Carey Williams , armed with a pistol , stood by at the polls to insure order . `` This was the coolest , calmest election I ever saw '' , Colquitt Policeman Tom Williams said . `` Being at the polls was just like being at church . I didn't smell a drop of liquor , and we didn't have a bit of trouble '' . The campaign leading to the election was not so quiet , however . It was marked by controversy , anonymous midnight phone calls and veiled threats of violence . The former county school superintendent , George P. Callan , shot himself to death March 18 , four days after he resigned his post in a dispute with the county school board . During the election campaign , both candidates , Davis and Bush , reportedly received anonymous telephone calls . Ordinary Williams said he , too , was subjected to anonymous calls soon after he scheduled the election . Many local citizens feared that there would be irregularities at the polls , and Williams got himself a permit to carry a gun and promised an orderly election . Sheriff Felix Tabb said the ordinary apparently made good his promise . `` Everything went real smooth '' , the sheriff said . `` There wasn't a bit of trouble '' .\", \"Austin , Texas -- Committee approval of Gov. Price Daniel's `` abandoned property '' act seemed certain Thursday despite the adamant protests of Texas bankers . Daniel personally led the fight for the measure , which he had watered down considerably since its rejection by two previous Legislatures , in a public hearing before the House Committee on Revenue and Taxation . Under committee rules , it went automatically to a subcommittee for one week . But questions with which committee members taunted bankers appearing as witnesses left little doubt that they will recommend passage of it . Daniel termed `` extremely conservative '' his estimate that it would produce 17 million dollars to help erase an anticipated deficit of 63 million dollars at the end of the current fiscal year next Aug. 31 . He told the committee the measure would merely provide means of enforcing the escheat law which has been on the books `` since Texas was a republic '' . It permits the state to take over bank accounts , stocks and other personal property of persons missing for seven years or more . The bill , which Daniel said he drafted personally , would force banks , insurance firms , pipeline companies and other corporations to report such property to the state treasurer . The escheat law cannot be enforced now because it is almost impossible to locate such property , Daniel declared . Dewey Lawrence , a Tyler lawyer representing the Texas Bankers Association , sounded the opposition keynote when he said it would force banks to violate their contractual obligations with depositors and undermine the confidence of bank customers . `` If you destroy confidence in banks , you do something to the economy '' , he said . `` You take out of circulation many millions of dollars '' . Rep. Charles E. Hughes of Sherman , sponsor of the bill , said a failure to enact it would amount `` to making a gift out of the taxpayers' pockets to banks , insurance and pipeline companies '' . His contention was denied by several bankers , including Scott Hudson of Sherman , Gaynor B. Jones of Houston , J. B. Brady of Harlingen and Howard Cox of Austin . Cox argued that the bill is `` probably unconstitutional '' since , he said , it would impair contracts . He also complained that not enough notice was given on the hearing , since the bill was introduced only last Monday . Austin , Texas -- Senators unanimously approved Thursday the bill of Sen. George Parkhouse of Dallas authorizing establishment of day schools for the deaf in Dallas and the four other largest counties . The bill is designed to provide special schooling for more deaf students in the scholastic age at a reduced cost to the state . There was no debate as the Senate passed the bill on to the House . It would authorize the Texas Education Agency to establish county-wide day schools for the deaf in counties of 300,000 or more population , require deaf children between 6 and 13 years of age to attend the day schools , permitting older ones to attend the residential Texas School for the Deaf here . Operating budget for the day schools in the five counties of Dallas , Harris , Bexar , Tarrant and El Paso would be $451,500 , which would be a savings of $157,460 yearly after the first year's capital outlay of $88,000 was absorbed , Parkhouse told the Senate . The TEA estimated there would be 182 scholastics to attend the day school in Dallas County , saving them from coming to Austin to live in the state deaf school . Dallas may get to hear a debate on horse race parimutuels soon between Reps. V. E. ( Red ) Berry and Joe Ratcliff . While details are still to be worked out , Ratcliff said he expects to tell home folks in Dallas why he thinks Berry's proposed constitutional amendment should be rejected . `` We're getting more ' pro ' letters than ' con ' on horse race betting '' , said Ratcliff . `` But I believe if people were better informed on this question , most of them would oppose it also . I'm willing to stake my political career on it '' . Rep. Berry , an ex-gambler from San Antonio , got elected on his advocacy of betting on the ponies . A House committee which heard his local option proposal is expected to give it a favorable report , although the resolution faces hard sledding later . The house passed finally , and sent to the Senate , a bill extending the State Health Department's authority to give planning assistance to cities . The senate quickly whipped through its meager fare of House bills approved by committees , passing the three on the calendar . One validated acts of school districts . Another enlarged authority of the Beaumont Navigation District . The third amended the enabling act for creation of the Lamar county Hospital District , for which a special constitutional amendment previously was adopted . Without dissent , senators passed a bill by Sen. A. R. Schwartz of Galveston authorizing establishment in the future of a school for the mentally retarded in the Gulf Coast district . Money for its construction will be sought later on but in the meantime the State Hospital board can accept gifts and donations of a site . Two tax revision bills were passed . One , by Sen. Louis Crump of San Saba , would aid more than 17,000 retailers who pay a group of miscellaneous excise taxes by eliminating the requirement that each return be notarized . Instead , retailers would sign a certificate of correctness , violation of which would carry a penalty of one to five years in prison , plus a $1,000 fine . It was one of a series of recommendations by the Texas Research League . The other bill , by Sen. A. M. Aikin Jr. of Paris , would relieve real estate brokers , who pay their own annual licensing fee , from the $12 annual occupation license on brokers in such as stocks and bonds . Natural gas public utility companies would be given the right of eminent domain , under a bill by Sen. Frank Owen 3 , of El Paso , to acquire sites for underground storage reservoirs for gas . Marshall Formby of Plainview , former chairman of the Texas Highway Commission , suggested a plan to fill by appointment future vacancies in the Legislature and Congress , eliminating the need for costly special elections . Under Formby's plan , an appointee would be selected by a board composed of the governor , lieutenant governor , speaker of the House , attorney general and chief justice of the Texas Supreme Court . Austin , Texas -- State representatives decided Thursday against taking a poll on what kind of taxes Texans would prefer to pay . An adverse vote of 81 to 65 kept in the State Affairs Committee a bill which would order the referendum on the April 4 ballot , when Texas votes on a U.S. senator . Rep. Wesley Roberts of Seminole , sponsor of the poll idea , said that further delay in the committee can kill the bill . The West Texan reported that he had finally gotten Chairman Bill Hollowell of the committee to set it for public hearing on Feb. 22 . The proposal would have to receive final legislative approval , by two-thirds majorities , before March 1 to be printed on the April 4 ballot , Roberts said . Opponents generally argued that the ballot couldn't give enough information about tax proposals for the voters to make an intelligent choice . All Dallas members voted with Roberts , except Rep. Bill Jones , who was absent . Austin , Texas -- Paradise lost to the alleged water needs of Texas' big cities Thursday . Rep. James Cotten of Weatherford insisted that a water development bill passed by the Texas House of Representatives was an effort by big cities like Dallas and Fort Worth to cover up places like Paradise , a Wise County hamlet of 250 people . When the shouting ended , the bill passed , 114 to 4 , sending it to the Senate , where a similar proposal is being sponsored by Sen. George Parkhouse of Dallas . Most of the fire was directed by Cotten against Dallas and Sen. Parkhouse . The bill would increase from $5,000,000 to $15,000,000 the maximum loan the state could make to a local water project . Cotten construed this as a veiled effort by Parkhouse to help Dallas and other large cities get money which Cotten felt could better be spent providing water for rural Texas . Statements by other legislators that Dallas is paying for all its water program by local bonds , and that less populous places would benefit most by the pending bill , did not sway Cotten's attack . The bill's defenders were mostly small-town legislators like J. W. Buchanan of Dumas , Eligio ( Kika ) De La Garza of Mission , Sam F. Collins of Newton and Joe Chapman of Sulphur Springs . `` This is a poor boy's bill '' , said Chapman . `` Dallas and Fort Worth can vote bonds . This would help the little peanut districts '' . Austin , Texas -- A Houston teacher , now serving in the Legislature , proposed Thursday a law reducing the time spent learning `` educational methods '' . Rep. Henry C. Grover , who teaches history in the Houston public schools , would reduce from 24 to 12 semester hours the so-called `` teaching methods '' courses required to obtain a junior or senior high school teaching certificate . A normal year's work in college is 30 semester hours . Grover also would require junior-senior high teachers to have at least 24 semester hours credit in the subject they are teaching . The remainder of the 4-year college requirement would be in general subjects . `` A person with a master's degree in physics , chemistry , math or English , yet who has not taken Education courses , is not permitted to teach in the public schools '' , said Grover . College teachers in Texas are not required to have the Education courses . Fifty-three of the 150 representatives immediately joined Grover as co-signers of the proposal . Paris , Texas ( sp. ) -- The board of regents of Paris Junior College has named Dr. Clarence Charles Clark of Hays , Kan. as the school's new president . Dr. Clark will succeed Dr. J. R. McLemore , who will retire at the close of the present school term . Dr. Clark holds an earned Doctor of Education degree from the University of Oklahoma . He also received a Master of Science degree from Texas A & I College and a Bachelor of Science degree from Southwestern State College , Weatherford , Okla. . In addition , Dr. Clark has studied at Rhode Island State College and Massachusetts Institute of Technology . During his college career , Dr. Clark was captain of his basketball team and was a football letterman . Dr. Clark has served as teacher and principal in Oklahoma high schools , as teacher and athletic director at Raymondville , Texas , High School , as an instructor at the University of Oklahoma , and as an associate professor of education at Fort Hays , Kan. , State College . He has served as a border patrolman and was in the Signal Corps of the U.S. Army . Denton , Texas ( sp. ) -- Principals of the 13 schools in the Denton Independent School District have been re-elected for the 1961-62 session upon the recommendation of Supt. Chester O. Strickland . State and federal legislation against racial discrimination in employment was called for yesterday in a report of a `` blue ribbon '' citizens committee on the aid to dependent children program . The report , culminating a year long study of the ADC program in Cook county by a New York City welfare consulting firm , listed 10 long range recommendations designed to reduce the soaring ADC case load . The report called racial discrimination in employment `` one of the most serious causes of family breakdown , desertion , and ADC dependency '' . `` Must solve problem '' The monthly cost of ADC to more than 100,000 recipients in the county is 4.4 million dollars , said C. Virgil Martin , president of Carson Pirie Scott & Co. , committee chairman . `` We must solve the problems which have forced these people to depend upon ADC for subsistence '' , Martin said . The volume of ADC cases will decrease , Martin reported , when the community is able to deal effectively with two problems : Relatively limited skills and discrimination in employment because of color . These , he said , are `` two of the principal underlying causes for family breakups leading to ADC '' . Calls for extension Other recommendations made by the committee are : Extension of the ADC program to all children in need living with any relatives , including both parents , as a means of preserving family unity . Research projects as soon as possible on the causes and prevention of dependency and illegitimacy .\", \"Several defendants in the Summerdale police burglary trial made statements indicating their guilt at the time of their arrest , Judge James B. Parsons was told in Criminal court yesterday . The disclosure by Charles Bellows , chief defense counsel , startled observers and was viewed as the prelude to a quarrel between the six attorneys representing the eight former policemen now on trial . Bellows made the disclosure when he asked Judge Parsons to grant his client , Alan Clements , 30 , a separate trial . Bellows made the request while the all-woman jury was out of the courtroom . Fears prejudicial aspects `` The statements may be highly prejudicial to my client '' , Bellows told the court . `` Some of the defendants strongly indicated they knew they were receiving stolen property . It is impossible to get a fair trial when some of the defendants made statements involving themselves and others '' . Judge Parsons leaned over the bench and inquired , `` You mean some of the defendants made statements admitting this '' ? ? `` Yes , your honor '' , replied Bellows . `` What this amounts to , if true , is that there will be a free-for-all fight in this case . There is a conflict among the defendants '' . Washington , July 24 -- President Kennedy today pushed aside other White House business to devote all his time and attention to working on the Berlin crisis address he will deliver tomorrow night to the American people over nationwide television and radio . The President spent much of the week-end at his summer home on Cape Cod writing the first drafts of portions of the address with the help of White House aids in Washington with whom he talked by telephone . Shortly after the Chief Executive returned to Washington in midmorning from Hyannis Port , Mass. , a White House spokesman said the address text still had `` quite a way to go '' toward completion . Decisions are made Asked to elaborate , Pierre Salinger , White House press secretary , replied , `` I would say it's got to go thru several more drafts '' . Salinger said the work President Kennedy , advisers , and members of his staff were doing on the address involved composition and wording , rather than last minute decisions on administration plans to meet the latest Berlin crisis precipitated by Russia's demands and proposals for the city . The last 10 cases in the investigation of the Nov. 8 election were dismissed yesterday by Acting Judge John M. Karns , who charged that the prosecution obtained evidence `` by unfair and fundamentally illegal means '' . Karns said that the cases involved a matter `` of even greater significance than the guilt or innocence '' of the 50 persons . He said evidence was obtained `` in violation of the legal rights of citizens '' . Karns' ruling pertained to eight of the 10 cases . In the two other cases he ruled that the state had been `` unable to make a case '' . Contempt proceedings originally had been brought against 677 persons in 133 precincts by Morris J. Wexler , special prosecutor . Issue jury subpoenas Wexler admitted in earlier court hearings that he issued grand jury subpenas to about 200 persons involved in the election investigation , questioned the individuals in the Criminal courts building , but did not take them before the grand jury . Mayer Goldberg , attorney for election judges in the 58th precinct of the 23d ward , argued this procedure constituted intimidation . Wexler has denied repeatedly that coercion was used in questioning . Karns said it was a `` wrongful act '' for Wexler to take statements `` privately and outside of the grand jury room '' . He said this constituted a `` very serious misuse '' of the Criminal court processes . `` Actually , the abuse of the process may have constituted a contempt of the Criminal court of Cook county , altho vindication of the authority of that court is not the function of this court '' , said Karns , who is a City judge in East St. Louis sitting in Cook County court . Faced seven cases Karns had been scheduled this week to hear seven cases involving 35 persons . Wexler had charged the precinct judges in these cases with `` complementary '' miscount of the vote , in which votes would be taken from one candidate and given to another . The cases involved judges in the 33d , 24th , and 42d precincts of the 31st ward , the 21st and 28th precincts of the 29th ward , the 18th precinct of the 4th ward , and the 9th precinct of the 23d ward . The case of the judges in the 58th precinct of the 23d ward had been heard previously and taken under advisement by Karns . Two other cases also were under advisement . Claims precedent lacking After reading his statement discharging the 23d ward case , Karns told Wexler that if the seven cases scheduled for trial also involved persons who had been subpenaed , he would dismiss them . Washington , Feb. 9 -- President Kennedy today proposed a mammoth new medical care program whereby social security taxes on 70 million American workers would be raised to pay the hospital and some other medical bills of 14.2 million Americans over 65 who are covered by social security or railroad retirement programs . The President , in a special message to Congress , tied in with his aged care plan requests for large federal grants to finance medical and dental scholarships , build 20 new medical and 20 new dental schools , and expand child health care and general medical research . The aged care plan , similar to one the President sponsored last year as a senator , a fight on Capitol hill . It was defeated in Congress last year . Cost up to $37 a year It would be financed by boosting the social security payroll tax by as much as $37 a year for each of the workers now paying such taxes . The social security payroll tax is now 6 per cent -- 3 per cent on each worker and employer -- on the first $4,800 of pay per year . The Kennedy plan alone would boost the base to $5,000 a year and the payroll tax to 6.5 per cent -- 3.25 per cent each . Similar payroll tax boosts would be imposed on those under the railroad retirement system . The payroll tax would actually rise to 7.5 per cent starting Jan. 1 , 1963 , if the plan is approved , because the levy is already scheduled to go up by 1 per cent on that date to pay for other social security costs . Outlays would increase Officials estimated the annual tax boost for the medical plan would amount to 1.5 billion dollars and that medical benefits paid out would run 1 billion or more in the first year , 1963 . Both figures would go higher in later years . Other parts of the Kennedy health plan would entail federal grants of 750 million to 1 billion dollars over the next 10 years . These would be paid for out of general , not payroll , taxes . Nursing home care The aged care plan carries these benefits for persons over 65 who are under the social security and railroad retirement systems : 1 Full payment of hospital bills for stays up to 90 days for each illness , except that the patient would pay $10 a day of the cost for the first nine days . 2 Full payment of nursing home bills for up to 180 days following discharge from a hospital . A patient could receive up to 300 days paid-for nursing home care under a `` unit formula '' allowing more of such care for those who use none or only part of the hospital-care credit . 3 Hospital outpatient clinic diagnostic service for all costs in excess of $20 a patient . 4 Community visiting nurse services at home for up to 240 days an illness . The President noted that Congress last year passed a law providing grants to states to help pay medical bills of the needy aged . Calls proposal modest He said his plan is designed to `` meet the needs of those millions who have no wish to receive care at the taxpayers' expense , but who are nevertheless staggered by the drain on their savings -- or those of their children -- caused by an extended hospital stay '' . `` This is a very modest proposal cut to meet absolutely essential needs '' , he said , `` and with sufficient ' deductible ' requirements to discourage any malingering or unnecessary overcrowding of our hospitals . `` This is not a program of socialized medicine . It is a program of prepayment of health costs with absolute freedom of choice guaranteed . Every person will choose his own doctor and hospital '' . Wouldn't pay doctors The plan does not cover doctor bills . They would still be paid by the patient . Apart from the aged care plan the President's most ambitious and costly proposals were for federal scholarships , and grants to build or enlarge medical and dental schools . The President said the nation's 92 medical and 47 dental schools cannot now handle the student load needed to meet the rising need for health care . Moreover , he said , many qualified young people are not going into medicine and dentistry because they can't afford the schooling costs . Contributions to schools The scholarship plan would provide federal contributions to each medical and dental school equal to $1,500 a year for one-fourth of the first year students . The schools could use the money to pay 4-year scholarships , based on need , of up to $2,000 a year per student . In addition , the government would pay a $1,000 `` cost of education '' grant to the schools for each $1,500 in scholarship grants . Officials estimated the combined programs would cost 5.1 million dollars the first year and would go up to 21 millions by 1966 . The President recommended federal `` matching grants '' totaling 700 million dollars in 10 years for constructing new medical and dental schools or enlarging the capacity of existing ones . More for nursing homes In the area of `` community health services '' , the President called for doubling the present 10 million dollar a year federal grants for nursing home construction . He asked for another 10 million dollar `` initial '' appropriation for `` stimulatory grants '' to states to improve nursing homes . He further proposed grants of an unspecified sum for experimental hospitals . In the child health field , the President said he will recommend later an increase in funds for programs under the children's bureau . He also asked Congress to approve establishment of a national child health institute . Asks research funds The President said he will ask Congress to increase grants to states for vocational rehabilitation . He did not say by how much . For medical research he asked a 20 million dollar a year increase , from 30 to 50 millions , in matching grants for building research facilities . The President said he will also propose increasing , by an unspecified amount , the 540 million dollars in the 1961-62 budget for direct government research in medicine . The President said his proposals combine the `` indispensable elements in a sound health program -- people , knowledge , services , facilities , and the means to pay for them '' . Reaction as expected Congressional reaction to the message was along expected lines . Legislators who last year opposed placing aged-care under the social security system criticized the President's plan . Those who backed a similar plan last year hailed the message . Senate Republican Leader Dirksen ( Ill. ) and House Republican Leader Charles Halleck ( Ind. ) said the message did not persuade them to change their opposition to compulsory medical insurance . Halleck said the voluntary care plan enacted last year should be given a fair trial first . House Speaker Sam Rayburn ( D. , Tex. ) called the Kennedy program `` a mighty fine thing '' , but made no prediction on its fate in the House . Washington , Feb. 9 -- Acting hastily under White House pressure , the Senate tonight confirmed Robert C. Weaver as the nation's federal housing chief . Only 11 senators were on the floor and there was no record vote . A number of scattered `` ayes '' and `` noes '' was heard . Customary Senate rules were ignored in order to speed approval of the Negro leader as administrator of the housing and home finance agency . In the last eight years , all Presidential appointments , including those of cabinet rank , have been denied immediate action because of a Senate rule requiring at least a 24 hour delay after they are reported to the floor . Enforce by demand The rule was enforced by demand of Sen. Wayne Morse ( D. , Ore. ) in connection with President Eisenhower's cabinet selections in 1953 and President Kennedy's in 1961 .\", \"Oslo The most positive element to emerge from the Oslo meeting of North Atlantic Treaty Organization Foreign Ministers has been the freer , franker , and wider discussions , animated by much better mutual understanding than in past meetings . This has been a working session of an organization that , by its very nature , can only proceed along its route step by step and without dramatic changes . In Oslo , the ministers have met in a climate of candor , and made a genuine attempt to get information and understanding one another's problems . This atmosphere of understanding has been particularly noticeable where relations are concerned between the `` colonialist '' powers and those who have never , or not for a long time , had such problems . The nightmare of a clash between those in trouble in Africa , exacerbated by the difficulties , changes , and tragedies facing them , and other allies who intellectually and emotionally disapprove of the circumstances that have brought these troubles about , has been conspicuous by its absence . Explosion avoided In the case of Portugal , which a few weeks ago was rumored ready to walk out of the NATO Council should critics of its Angola policy prove harsh , there has been a noticeable relaxation of tension . The general , remarkably courteous , explanation has left basic positions unchanged , but there has been no explosion in the council . There should even be no more bitter surprises in the UN General Assembly as to NATO members' votes , since a new ad hoc NATO committee has been set up so that in the future such topics as Angola will be discussed in advance . Canada alone has been somewhat out of step with the Oslo attempt to get all the allied cars back on the track behind the NATO locomotive . Even Norway , despite daily but limited manifestations against atomic arms in the heart of this northernmost capital of the alliance , is today closer to the NATO line . On the negative side of the balance sheet must be set some disappointment that the United States leadership has not been as much in evidence as hoped for . One diplomat described the tenor of Secretary of State Dean Rusk's speeches as `` inconclusive '' . But he hastened to add that , if United States policies were not always clear , despite Mr. Rusk's analysis of the various global danger points and setbacks for the West , this may merely mean the new administration has not yet firmly fixed its policy . Exploratory mood A certain vagueness may also be caused by tactical appreciation of the fact that the present council meeting is a semipublic affair , with no fewer than six Soviet correspondents accredited . The impression has nevertheless been given during these three days , despite Mr. Rusk's personal popularity , that the United States delegation came to Oslo in a somewhat tentative and exploratory frame of mind , more ready to listen and learn than to enunciate firm policy on a global scale with detailed application to individual danger spots . The Secretary of State himself , in his first speech , gave some idea of the tremendous march of events inside and outside the United States that has preoccupied the new administration in the past four months . But where the core of NATO is concerned , the Secretary of State has not only reiterated the United States' profound attachment to the alliance , `` cornerstone '' of its foreign policy , but has announced that five nuclear submarines will eventually be at NATO's disposal in European waters . The Secretary of State has also solemnly repeated a warning to the Soviet Union that the United States will not stand for another setback in Berlin , an affirmation once again taken up by the council as a whole . Conflict surveyed The secretary's greatest achievement is perhaps the rekindling of NATO realization that East-West friction , wherever it take place around the globe , is in essence the general conflict between two entirely different societies , and must be treated as such without regard to geographical distance or lack of apparent connection . The annual spring meeting has given an impetus in three main directions : more , deeper , and more timely political consultation within the alliance , the use of the Organization for Economic Cooperation and Development ( when ratified ) as a method of coordinating aid to the underdeveloped countries , and the need for strengthening conventional forces as well as the maintenance of the nuclear deterrent . This increase in the `` threshold '' , as the conventional forces strengthening is called , will prove one of the alliance's most difficult problems in the months to come . Each ally will have to carry out obligations long since laid down , but never completely fulfilled . Washington The Kennedy administration moves haltingly toward a Geneva conference on Laos just as serious debate over its foreign policy erupts for the first time . There is little optimism here that the Communists will be any more docile at the conference table than they were in military actions on the ground in Laos . The United States , State Department officials explain , now is mainly interested in setting up an international inspection system which will prevent Laos from being used as a base for Communist attacks on neighboring Thailand and South Viet Nam . They count on the aid of the neutral countries attending the Geneva conference to achieve this . The United States hopes that any future Lao Cabinet would not become Communist dominated . But it is apparent that no acceptable formula has been found to prevent such a possibility . Policies modified The inclination here is to accept a de facto cease-fire in Laos , rather than continue to insist on a verification of the cease-fire by the international control commission before participating in the Geneva conference . This is another of the modifications of policy on Laos that the Kennedy administration has felt compelled to make . It excuses these actions as being the chain reaction to basic errors made in the previous administration . Its spokesmen insist that there has not been time enough to institute reforms in military and economic aid policies in the critical areas . But with the months moving on -- and the immediate confrontations with the Communists showing no gain for the free world -- the question arises : How effective have Kennedy administration first foreign policy decisions been in dealing with Communist aggression ? ? Former Vice-President Richard M. Nixon in Detroit called for a firmer and tougher policy toward the Soviet Union . He was critical of what he feels is President Kennedy's tendency to be too conciliatory . GOP restrained It does not take a Gallup poll to find out that most Republicans in Congress feel this understates the situation as Republicans see it . They can hardly restrain themselves from raising the question of whether Republicans , if they had been in power , would have made `` amateurish and monumental blunders '' in Cuba . One Republican senator told this correspondent that he was constantly being asked why he didn't attack the Kennedy administration on this score . His reply , he said , was that he agreed to the need for unity in the country now . But he further said that it was better politics to let others question the wisdom of administration policies first . The Republicans some weeks ago served notice through Senator Thruston B. Morton ( R ) of Kentucky , chairman of the Republican National Committee , that the Kennedy administration would be held responsible if the outcome in Laos was a coalition government susceptible of Communist domination . Kennedy administration policies also have been assailed now from another direction by 70 Harvard , Boston University , Brandeis , and Massachusetts Institute of Technology educators . Detente urged This group pleads with the administration to `` give no further support for the invasion of Cuba by exile groups '' . It recommends that the United States `` seek instead to detach the Castro regime from the Communist bloc by working for a diplomatic detente and a resumption of trade relations ; ; and concentrate its constructive efforts on eliminating in other parts of Latin America the social conditions on which totalitarian nationalism feeds '' . Mr. Nixon , for his part , would oppose intervention in Cuba without specific provocation . But he did recommend that President Kennedy state clearly that if Communist countries shipped any further arms to Cuba that it would not be tolerated . Until the Cuban fiasco and the Communist military victories in Laos , almost any observer would have said that President Kennedy had blended a program that respected , generally , the opinions voiced both by Mr. Nixon and the professors . Aid plans revamped Very early in his administration he informed the Kremlin through diplomatic channels , a high official source disclosed , that the new administration would react even tougher than the Eisenhower administration would during the formative period of the administration . Strenuous efforts were made to remove pin pricking from administration statements . Policies on nuclear test ban negotiations were reviewed and changed . But thus far there has been no response in kind . Foreign aid programs were revamped to give greater emphasis to economic aid and to encourage political reform in recipient nations . In Laos , the administration looked at the Eisenhower administration efforts to show determination by sailing a naval fleet into Southeast Asian waters as a useless gesture . Again and again it asked the Communists to `` freeze '' the military situation in Laos . But the Communists aided the Pathet Lao at an even faster rate . And after several correspondents went into Pathet Lao territory and exposed the huge build-up , administration spokesmen acclaimed them for performing a `` great service '' and laid the matter before the Southeast Asia Treaty Organization . SEATO was steamed up and prepared contingency plans for coping with the military losses in Laos . But the Communists never gave sufficient provocation at any one time for the United States to want to risk a limited or an all-out war over Laos . ( Some SEATO nations disagreed , however . ) There was the further complication that the administration had very early concluded that Laos was ill suited to be an ally , unlike its more determined neighbors , Thailand and South Viet Nam . The administration declared itself in favor of a neutralized Laos . The pro-Western government , which the United States had helped in a revolt against the Souvanna Phouma `` neutralist '' government , never did appear to spark much fighting spirit in the Royal Lao Army . There certainly was not any more energy displayed after it was clear the United States would not back the pro-Western government to the hilt . If the administration ever had any ideas that it could find an acceptable alternative to Prince Souvanna Phouma , whom it felt was too trusting of Communists , it gradually had to relinquish them . One factor was the statement of Senator J. W. Fulbright ( D ) of Arkansas , chairman of the Senate Foreign Relations Committee . He declared on March 25 that the United States had erred a year and a half ago by `` encouraging the removal '' of Prince Souvanna . Washington The White House is taking extraordinary steps to check the rapid growth of juvenile delinquency in the United States . The President is deeply concerned over this problem and its effect upon the `` vitality of the nation '' . In an important assertion of national leadership in this field , he has issued an executive order establishing the President's committee on Juvenile Delinquency and Crime , to be supported and assisted by a Citizens Advisory Council of recognized authorities on juvenile problems . The President asks the support and cooperation of Congress in his efforts through the enactment of legislation to provide federal grants to states for specified efforts in combating this disturbing crime trend . Offenses multiply The President has also called upon the Attorney General , the Secretary of Health , Education and Welfare , and the Secretary of Labor to coordinate their efforts `` in the development of a program of federal leadership to assist states and local communities in their efforts to cope with the problem . Simultaneously the President announced Thursday the appointment of David L. Hackett , a special assistant to the Attorney General , as executive director of the new Committee on Juvenile Delinquency and Youth Crime . His sense of urgency in this matter stems from the fact that court cases and juvenile arrests have more than doubled since 1948 , each year showing an increase in offenders . Among arrests reported by the Federal Bureau of Investigation in 1959 , about half for burglary and larceny involved persons under 18 years of age .\", \"East Providence should organize its civil defense setup and begin by appointing a full-time director , Raymond H. Hawksley , the present city CD head , believes . Mr. Hawksley said yesterday he would be willing to go before the city council `` or anyone else locally '' to outline his proposal at the earliest possible time . East Providence now has no civil defense program . Mr. Hawksley , the state's general treasurer , has been a part-time CD director in the city for the last nine years . He is not interested in being named a full-time director . Noting that President Kennedy has handed the Defense Department the major responsibility for the nation's civil defense program , Mr. Hawksley said the federal government would pay half the salary of a full-time local director . He expressed the opinion the city could hire a CD director for about $3,500 a year and would only have to put up half that amount on a matching fund basis to defray the salary costs . Mr. Hawksley said he believed there are a number of qualified city residents who would be willing to take the full-time CD job . One of these men is former Fire Chief John A. Laughlin , he said . Along with a director , the city should provide a CD headquarters so that pertinent information about the local organization would be centralized . Mr. Hawksley said . One advantage that would come to the city in having a full-time director , he said , is that East Providence would become eligible to apply to the federal government for financial aid in purchasing equipment needed for a sound civil defense program . Matching funds also can be obtained for procurement of such items as radios , sirens and rescue trucks , he said . Mr. Hawksley believes that East Providence could use two more rescue trucks , similar to the CD vehicle obtained several years ago and now detailed to the Central Fire Station . He would assign one of the rescue trucks to the Riverside section of the city and the other to the Rumford area . Speaking of the present status of civil defense in the city , Mr. Hawksley said he would be willing to bet that not more than one person in a hundred would know what to do or where to go in the event of an enemy attack . The Narragansett Race Track grounds is one assembly point , he said , and a drive-in theater in Seekonk would be another . Riverside residents would go to the Seekonk assembly point . Mr. Hawksley said he was not critical of city residents for not knowing what to do or where to assemble in case of an air attack . Such vital information , he said , has to be made available to the public frequently and at regular intervals for residents to know . If the city council fails to consider appointment of a full-time CD director , Mr. Hawksley said , then he plans to call a meeting early in September so that a civil defense organization will be developed locally . One of the first things he would do , he said , would be to organize classes in first aid . Other steps would be developed after information drifts down to the local level from the federal government . Rhode Island is going to examine its Sunday sales law with possible revisions in mind . Governor Notte said last night he plans to name a committee to make the study and come up with recommendations for possible changes in time for the next session of the General Assembly . The governor's move into the so-called `` blue law '' controversy came in the form of a letter to Miss Mary R. Grant , deputy city clerk of Central Falls . A copy was released to the press . Mr. Notte was responding to a resolution adopted by the Central Falls City Council on July 10 and sent to the state house by Miss Grant . The resolution urges the governor to have a complete study of the Sunday sales laws made with an eye to their revision at the next session of the legislature . While the city council suggested that the Legislative Council might perform the review , Mr. Notte said that instead he will take up the matter with Atty. Gen. J. Joseph Nugent to get `` the benefit of his views '' . He will then appoint the study committee with Mr. Nugent's cooperation , the governor said . `` I would expect the proposed committee to hold public hearings '' , Mr. Notte said , `` to obtain the views of the general public and religious , labor and special-interest groups affected by these laws '' . The governor wrote Miss Grant that he has been concerned for some time `` with the continuous problem which confronts our local and state law enforcement officers as a result of the laws regulating Sunday sales '' . The attorney general has advised local police that it is their duty to enforce the blue laws . Should there be evidence they are shirking , he has said , the state police will step into the situation . There has been more activity across the state line in Massachusetts than in Rhode Island in recent weeks toward enforcement of the Sunday sales laws . The statutes , similar in both the Bay State and Rhode Island and dating back in some instances to colonial times , severely limit the types of merchandise that may be sold on the Sabbath . The Central Falls City Council expressed concern especially that more foods be placed on the eligible list and that neighborhood grocery and variety stores be allowed to do business on Sunday . The only day they `` have a chance to compete with large supermarkets is on Sunday '' , the council's resolution said . The small shops `` must be retained , for they provide essential service to the community '' , according to the resolution , which added that they `` also are the source of livelihood for thousands of our neighbors '' . It declares that Sunday sales licenses provide `` great revenue '' to the local government . The council advised the governor that `` large supermarkets , factory outlets and department stores not be allowed to do business '' on Sunday . They `` operate on a volume basis '' , it was contended , `` and are not essential to provide the more limited but vital shopping needs of the community '' . Liberals and conservatives in both parties -- Democratic and Republican -- should divorce themselves and form two independent parties , George H. Reama , nationally known labor-management expert , said here yesterday . Mr. Reama told the Rotary Club of Providence at its luncheon at the Sheraton-Biltmore Hotel that about half of the people in the country want the `` welfare '' type of government and the other half want a free enterprise system . He suggested that a regrouping of forces might allow the average voter a better pull at the right lever for him on election day . He said he was `` confessing that I was a member of the Socialist Party in 1910 '' . That , he added , was when he was `` a very young man , a machinist and toolmaker by trade . `` That was before I studied law . Some of my fellow workers were grooming me for an office in the Socialist Party . The lawyer with whom I studied law steered me off the Socialist track . He steered me to the right track -- the free enterprise track '' . He said that when he was a Socialist in 1910 , the party called for government operation of all utilities and the pooling of all resources . He suggested that without the Socialist Party ever gaining a national victory , most of its original program has come to pass under both major parties . Mr. Reama , who retired as vice president of the American Screw Co. in 1955 said , `` Both parties in the last election told us that we need a five per cent growth in the gross national product -- but neither told us how to achieve it '' . He said he favors wage increases for workers -- `` but manufacturers are caught in a profit squeeze '' -- and raises should only come when the public is conditioned to higher prices , he added . Indicating the way in which he has turned his back on his 1910 philosophy , Mr. Reama said : `` A Socialist is a person who believes in dividing everything he does not own '' . Mr. Reama , far from really being retired , is engaged in industrial relations counseling . A petition bearing the signatures of more than 1,700 Johnston taxpayers was presented to the town council last night as what is hoped will be the first step in obtaining a home rule charter for the town . William A. Martinelli , chairman of the Citizens Group of Johnston , transferred the petitions from his left hand to his right hand after the council voted to accept them at the suggestion of Council President Raymond Fortin Sr. . The law which governs home rule charter petitions states that they must be referred to the chairman of the board of canvassers for verification of the signatures within 10 days and Mr. Martinelli happens to hold that post . Mr. Martinelli explained that there should be more than enough signatures to assure the scheduling of a vote on the home rule charter and possible election of a nine member charter commission within 70 days . He explained that by law the council must establish procedures for a vote on the issue within 60 days after the board of canvassers completes its work . A difference of opinion arose between Mr. Martinelli and John P. Bourcier , town solicitor , over the exact manner in which the vote is handled . Mr. Martinelli has , in recent weeks , been of the opinion that a special town meeting would be called for the vote , while Mr. Bourcier said that a special election might be called instead . Mr. Bourcier said that he had consulted several Superior Court justices in the last week and received opinions favoring both procedures . He assured Mr. Martinelli and the council that he would study the correct method and report back to the council as soon as possible . Mr. Martinelli said yesterday that the Citizens Group of Johnston will meet again July 24 to plan further strategy in the charter movement . He said that the group has no candidates for the charter commission in mind at present , but that it will undoubtedly endorse candidates when the time comes . `` After inspiring this , I think we should certainly follow through on it '' , he declared . `` It has become our responsibility and I hope that the Citizens Group will spearhead the movement '' . He said he would not be surprised if some of the more than 30 members of the group are interested in running on the required non-partisan ballot for posts on the charter commission . `` Our most immediate goal is to increase public awareness of the movement '' , he indicated , `` and to tell them what this will mean for the town '' . He expects that if the present timetable is followed a vote will be scheduled during the last week in September . Some opposition to the home rule movement started to be heard yesterday , with spokesmen for the town's insurgent Democratic leadership speaking out against the home rule charter in favor of the model municipal league charter . Increasing opposition can be expected in coming weeks , it was indicated . Misunderstanding of the real meaning of a home rule charter was cited as a factor which has caused the Citizens Group to obtain signatures under what were termed `` false pretenses '' . Several signers affixed their names , it was learned , after being told that no tax increase would be possible without consent of the General Assembly and that a provision could be included in the charter to have the town take over the Johnston Sanitary District sewer system . Action on a new ordinance permitting motorists who plead guilty to minor traffic offenses to pay fines at the local police station may be taken at Monday's special North Providence Town Council meeting . Council president Frank SanAntonio said yesterday he may ask the council to formally request Town Solicitor Michael A. Abatuno to draft the ordinance . At the last session of the General Assembly , the town was authorized to adopt such an ordinance as a means of making enforcement of minor offenses more effective . Nothing has been done yet to take advantage of the enabling legislation . At present all offenses must be taken to Sixth District Court for disposition . Local police have hesitated to prosecute them because of the heavy court costs involved even for the simplest offense .\"]\n"
     ]
    }
   ],
   "source": [
    "from nltk.corpus import brown\n",
    " \n",
    "data = []\n",
    " \n",
    "for fileid in brown.fileids():\n",
    "    document = ' '.join(brown.words(fileid))\n",
    "    data.append(document)\n",
    " \n",
    "NO_DOCUMENTS = len(data)\n",
    "print(NO_DOCUMENTS)\n",
    "print(data[:5])"
   ]
  },
  {
   "cell_type": "code",
   "execution_count": 12,
   "metadata": {
    "scrolled": true
   },
   "outputs": [
    {
     "name": "stderr",
     "output_type": "stream",
     "text": [
      "/Users/ctoews/anaconda/envs/insight/lib/python3.6/site-packages/sklearn/decomposition/online_lda.py:294: DeprecationWarning: n_topics has been renamed to n_components in version 0.19 and will be removed in 0.21\n",
      "  DeprecationWarning)\n"
     ]
    },
    {
     "name": "stdout",
     "output_type": "stream",
     "text": [
      "(500, 10)\n",
      "(500, 10)\n",
      "(500, 10)\n",
      "[  1.05602040e-04   1.05611148e-04   1.05613841e-04   1.05623638e-04\n",
      "   1.05597169e-04   9.50659895e-01   1.05603435e-04   1.05618740e-04\n",
      "   4.84952384e-02   1.05596741e-04]\n",
      "[ 0.          0.          2.11789723  0.07698229  0.          0.5432858\n",
      "  1.06968036  0.          0.          0.24611252]\n",
      "[ 23.30684384   1.59476557  21.83191516  -0.07619026   0.83259805\n",
      "  10.90495994   3.72561712  -2.06031853   1.95402218 -13.4204474 ]\n"
     ]
    }
   ],
   "source": [
    "from sklearn.decomposition import NMF, LatentDirichletAllocation, TruncatedSVD\n",
    "from sklearn.feature_extraction.text import CountVectorizer\n",
    " \n",
    "NUM_TOPICS = 10\n",
    " \n",
    "vectorizer = CountVectorizer(min_df=5, max_df=0.9, \n",
    "                             stop_words='english', lowercase=True, \n",
    "                             token_pattern='[a-zA-Z\\-][a-zA-Z\\-]{2,}')\n",
    "data_vectorized = vectorizer.fit_transform(data)\n",
    " \n",
    "# Build a Latent Dirichlet Allocation Model\n",
    "lda_model = LatentDirichletAllocation(n_topics=NUM_TOPICS, max_iter=10, learning_method='online')\n",
    "lda_Z = lda_model.fit_transform(data_vectorized)\n",
    "print(lda_Z.shape)  # (NO_DOCUMENTS, NO_TOPICS)\n",
    " \n",
    "# Build a Non-Negative Matrix Factorization Model\n",
    "nmf_model = NMF(n_components=NUM_TOPICS)\n",
    "nmf_Z = nmf_model.fit_transform(data_vectorized)\n",
    "print(nmf_Z.shape)  # (NO_DOCUMENTS, NO_TOPICS)\n",
    " \n",
    "# Build a Latent Semantic Indexing Model\n",
    "lsi_model = TruncatedSVD(n_components=NUM_TOPICS)\n",
    "lsi_Z = lsi_model.fit_transform(data_vectorized)\n",
    "print(lsi_Z.shape)  # (NO_DOCUMENTS, NO_TOPICS)\n",
    " \n",
    " \n",
    "# Let's see how the first document in the corpus looks like in different topic spaces\n",
    "print(lda_Z[0])\n",
    "print(nmf_Z[0])\n",
    "print(lsi_Z[0])"
   ]
  },
  {
   "cell_type": "code",
   "execution_count": 19,
   "metadata": {},
   "outputs": [
    {
     "name": "stdout",
     "output_type": "stream",
     "text": [
      "LDA Model:\n",
      "Topic 0:\n",
      "[('dallas', 22.446841108219242), ('stock', 15.85003715849847), ('gin', 15.464746696232998), ('cotton', 11.159940897341217), ('shares', 10.268573770036749), ('morton', 9.5504064660194281), ('equipment', 9.2355646727871221), ('foods', 7.7063597768000918), ('sales', 7.4410145065858808), ('machinery', 7.2141071757856716)]\n",
      "Topic 1:\n",
      "[('life', 296.73985117175454), ('man', 288.50507871531761), ('world', 246.12794635508544), ('new', 214.51672789015274), ('god', 204.1642624435186), ('human', 158.77382288105389), ('great', 158.20718648829242), ('time', 150.13542557225725), ('work', 140.5331008795788), ('music', 133.76757326038776)]\n",
      "Topic 2:\n",
      "[('clay', 60.087619061658692), ('game', 58.052673118696433), ('ball', 44.408778629918743), ('marine', 42.359452907784977), ('baseball', 42.185548490183066), ('palmer', 39.015636006004414), ('seeds', 36.111953917426824), ('player', 35.464370475326895), ('league', 35.279886877871149), ('mold', 32.399720426645615)]\n",
      "Topic 3:\n",
      "[('church', 116.75699738304567), ('social', 102.68663128881749), ('members', 91.944193657638337), ('new', 85.441335034996996), ('population', 59.999528343511834), ('churches', 59.039375897713541), ('group', 53.652678238794849), ('religious', 46.077407825632413), ('economic', 43.813818269007761), ('christian', 43.736025998311661)]\n",
      "Topic 4:\n",
      "[('library', 21.218558917138171), ('libraries', 18.568049910442834), ('headquarters', 8.94431534263102), ('nassau', 5.6560278343186905), ('collection', 4.0646285055849658), ('consultant', 2.2825293951524839), ('reference', 2.2487052318258529), ('patrons', 1.663653944996726), ('workshops', 1.5114998419366721), ('catalogue', 1.5006367747938627)]\n",
      "Topic 5:\n",
      "[('new', 768.34008854994408), ('state', 623.7746216521565), ('states', 493.85561121562313), ('years', 460.51425403916136), ('year', 441.67726660336416), ('american', 404.42529893531992), ('united', 395.18973219151951), ('time', 391.78156247179555), ('said', 373.98969553782803), ('people', 365.32451348686999)]\n",
      "Topic 6:\n",
      "[('cattle', 51.376879084221805), ('vacation', 14.971616265222334), ('mustard', 13.024515386634716), ('visit', 12.621211678840419), ('cup', 12.040897433834933), ('shooting', 12.00180830543504), ('new', 10.950250607087273), ('meat', 10.774101113770028), ('park', 10.406750396311333), ('add', 10.352829936101719)]\n",
      "Topic 7:\n",
      "[('used', 331.64719223932178), ('number', 247.07207566298922), ('use', 234.01350692535564), ('time', 216.38872698920045), ('surface', 160.05394637732422), ('small', 158.8616042178794), ('information', 156.12253220021842), ('possible', 154.22527764456939), ('water', 153.81440532951538), ('data', 148.4926528836767)]\n",
      "Topic 8:\n",
      "[('said', 1622.5178552233517), ('like', 1003.9815509003323), ('time', 817.07837125607148), ('man', 798.57175171240544), ('did', 684.05150592084306), ('just', 667.52085053716144), ('little', 558.92493968002623), ('came', 522.31276951585471), ('know', 521.84563908183077), ('don', 500.78896603916132)]\n",
      "Topic 9:\n",
      "[('dallas', 5.4557597609700021), ('fabrics', 2.9082742449730659), ('panels', 2.4927574232931851), ('composite', 2.4269684085805361), ('designer', 2.3956177013120632), ('contemporary', 2.1930511315560466), ('heritage', 2.1903948778838167), ('designs', 2.0673904685635809), ('award', 1.9421041393902936), ('ceramic', 1.6576875546593237)]\n",
      "====================\n",
      "NMF Model:\n",
      "Topic 0:\n",
      "[('like', 5.6009603910155112), ('man', 4.2331198295513337), ('time', 3.8474913693094561), ('just', 3.4038327554143342), ('did', 3.3995232279080194), ('little', 2.9270318362224126), ('said', 2.8237702088166401), ('know', 2.5789823024834755), ('way', 2.4584131641985403), ('don', 2.4225966095478402)]\n",
      "Topic 1:\n",
      "[('new', 5.3403740686706636), ('world', 3.9337726921060896), ('life', 2.8547458010109854), ('man', 2.8326209309198846), ('people', 2.5513443215293532), ('god', 2.1650722934278708), ('american', 2.1049633443738136), ('church', 2.1025743465359383), ('great', 2.0189855821223008), ('social', 2.0010474623802676)]\n",
      "Topic 2:\n",
      "[('said', 12.898954695486825), ('city', 1.3843361676054142), ('house', 1.3773744017899046), ('new', 1.2702373778512848), ('home', 1.2455680573930936), ('told', 1.2418213868301469), ('asked', 1.1496632779056277), ('president', 1.0096035437577964), ('police', 0.95815777188627294), ('mike', 0.83995501946827966)]\n",
      "Topic 3:\n",
      "[('mrs', 11.851862502735916), ('miss', 1.7069339432273443), ('new', 1.2143264085602139), ('home', 1.1479049958396639), ('john', 1.0663051710817661), ('house', 0.98176417519553538), ('club', 0.9748868526936445), ('daughter', 0.92185561430727725), ('robert', 0.8280486921844552), ('chairman', 0.79821752707702065)]\n",
      "Topic 4:\n",
      "[('used', 3.5105546713224531), ('use', 2.0447203326366923), ('surface', 1.9316044319996037), ('number', 1.8537213797683829), ('feed', 1.7926417036016176), ('time', 1.7663427273114691), ('temperature', 1.6635265833386281), ('water', 1.6181185703161143), ('data', 1.5011074670453215), ('clay', 1.3361361327888421)]\n",
      "Topic 5:\n",
      "[('school', 5.6859679311078359), ('education', 2.7880719356477197), ('schools', 2.5999153555873042), ('children', 2.2053506272372259), ('college', 2.1673223023488379), ('vocational', 1.8457302929089185), ('training', 1.7229569082929026), ('students', 1.7093854804319704), ('high', 1.5765079504678181), ('program', 1.4131787947915393)]\n",
      "Topic 6:\n",
      "[('state', 10.742913264719164), ('federal', 3.3640914945565537), ('states', 2.3127923459327491), ('law', 2.0760310445758345), ('policy', 1.5679916367254592), ('vehicles', 1.4460579158042575), ('rhode', 1.4001451252823021), ('court', 1.372848401452831), ('island', 1.3678094195590826), ('congress', 1.2270745384809905)]\n",
      "Topic 7:\n",
      "[('united', 5.3405049824075617), ('states', 5.3381880887263842), ('government', 3.5300740329399565), ('shall', 3.1914345253236709), ('section', 2.0677675498268835), ('act', 2.0227147250265047), ('agreement', 1.872370990733172), ('secretary', 1.7030524299792735), ('india', 1.582520548553026), ('america', 1.4222993249354061)]\n",
      "Topic 8:\n",
      "[('form', 4.5722154031011293), ('dictionary', 4.4446551355881132), ('information', 4.3402695353343583), ('text', 3.3437237834245201), ('cell', 2.8678459540548107), ('forms', 2.8132242760451867), ('list', 1.9538130417114326), ('address', 1.7787260915438694), ('occurrence', 1.4607478932659299), ('cells', 1.2440952634600904)]\n",
      "Topic 9:\n",
      "[('year', 3.6422418903420799), ('new', 3.3519172539704698), ('business', 2.6363080177287643), ('tax', 1.7690122461862479), ('fiscal', 1.7426281387103653), ('costs', 1.6577739105195215), ('service', 1.5748528373573643), ('cost', 1.5452799010919638), ('development', 1.5054600850876534), ('company', 1.4752425213777822)]\n",
      "====================\n",
      "LSI Model:\n",
      "Topic 0:\n",
      "[('said', 0.27373907193675412), ('new', 0.19420875828239498), ('time', 0.18634773809609967), ('man', 0.16422116006715026), ('like', 0.1615125090549957), ('did', 0.1274121298916997), ('years', 0.11440149425300956), ('just', 0.10896551017031418), ('way', 0.10626153811873761), ('state', 0.10546671261074948)]\n",
      "Topic 1:\n",
      "[('state', 0.22242350271022793), ('states', 0.17248809617692212), ('new', 0.15870514907847352), ('united', 0.12269002299292614), ('government', 0.10980494537398391), ('year', 0.10784603686649433), ('program', 0.095019410732223433), ('development', 0.087038431785613241), ('federal', 0.084510900375410522), ('use', 0.079866995180354269)]\n",
      "Topic 2:\n",
      "[('said', 0.36739866560584261), ('state', 0.35948130281018198), ('mrs', 0.17913053115906066), ('states', 0.17523959256874172), ('year', 0.16260501004932593), ('federal', 0.13537032931979895), ('united', 0.1124175681639058), ('government', 0.11051453942284145), ('tax', 0.11038357581807673), ('fiscal', 0.096498359777440479)]\n",
      "Topic 3:\n",
      "[('mrs', 0.47393190484921754), ('new', 0.25303562691068993), ('church', 0.15036697545510447), ('world', 0.11670451908612159), ('members', 0.11582048850162854), ('john', 0.10603319149941516), ('god', 0.10033785566758184), ('social', 0.091680433913561982), ('president', 0.084085609444194825), ('life', 0.08329027446412933)]\n",
      "Topic 4:\n",
      "[('mrs', 0.50094681571501354), ('used', 0.11280892193196956), ('school', 0.10300834328602711), ('year', 0.095268759286448387), ('information', 0.08374298373280703), ('home', 0.078270023303679076), ('miss', 0.078018129120132632), ('small', 0.07331722132725485), ('high', 0.072583796068302606), ('cost', 0.0721174732466381)]\n",
      "Topic 5:\n",
      "[('school', 0.40042238182548279), ('education', 0.20443134674009908), ('said', 0.18939929357325547), ('schools', 0.18525806648432283), ('children', 0.14619038184811461), ('vocational', 0.1438903667204913), ('college', 0.14100880972230193), ('training', 0.1274790526137638), ('students', 0.12028720502679438), ('social', 0.10593830123810344)]\n",
      "Topic 6:\n"
     ]
    },
    {
     "name": "stdout",
     "output_type": "stream",
     "text": [
      "[('state', 0.43910609904843556), ('mrs', 0.25944250358686272), ('form', 0.2173987055832606), ('dictionary', 0.19083121168334471), ('information', 0.16642077303620226), ('text', 0.14264545835423334), ('forms', 0.12700144698355526), ('federal', 0.12658002754001038), ('cell', 0.12572750042141226), ('man', 0.10526883492583305)]\n",
      "Topic 7:\n",
      "[('united', 0.2858064458895298), ('states', 0.23536727842087798), ('shall', 0.20585632666150985), ('mrs', 0.18784318731507232), ('government', 0.17422357370555425), ('school', 0.15192624945366442), ('section', 0.13050134455323287), ('act', 0.11612660697691987), ('agreement', 0.11512085110803097), ('information', 0.10592045213085732)]\n",
      "Topic 8:\n",
      "[('form', 0.31589523838168915), ('dictionary', 0.2986806622750437), ('information', 0.29565453513715784), ('text', 0.22601874886552542), ('cell', 0.19027635444136454), ('forms', 0.18675876106442021), ('year', 0.17531042843841382), ('tax', 0.14521371690777404), ('said', 0.13783905821017398), ('list', 0.13428212902462092)]\n",
      "Topic 9:\n",
      "[('fiscal', 0.26668629982679487), ('year', 0.25872944125281261), ('tax', 0.21133175006290963), ('school', 0.15671354220481587), ('like', 0.11489880584193687), ('time', 0.10869908162676178), ('states', 0.099895131974302845), ('college', 0.086147543889381312), ('years', 0.08597344234271613), ('towns', 0.080116494229062668)]\n",
      "====================\n"
     ]
    }
   ],
   "source": [
    "def print_topics(model, vectorizer, top_n=10):\n",
    "    for idx, topic in enumerate(model.components_):\n",
    "        print(\"Topic %d:\" % (idx))\n",
    "        print([(vectorizer.get_feature_names()[i], topic[i])\n",
    "                        for i in topic.argsort()[:-top_n - 1:-1]])\n",
    " \n",
    "print(\"LDA Model:\")\n",
    "print_topics(lda_model, vectorizer)\n",
    "print(\"=\" * 20)\n",
    " \n",
    "print(\"NMF Model:\")\n",
    "print_topics(nmf_model, vectorizer)\n",
    "print(\"=\" * 20)\n",
    " \n",
    "print(\"LSI Model:\")\n",
    "print_topics(lsi_model, vectorizer)\n",
    "print(\"=\" * 20)"
   ]
  },
  {
   "cell_type": "code",
   "execution_count": 18,
   "metadata": {},
   "outputs": [
    {
     "data": {
      "text/plain": [
       "<1x10625 sparse matrix of type '<class 'numpy.int64'>'\n",
       "\twith 2 stored elements in Compressed Sparse Row format>"
      ]
     },
     "execution_count": 18,
     "metadata": {},
     "output_type": "execute_result"
    }
   ],
   "source": [
    "vectorizer.transform([text])"
   ]
  },
  {
   "cell_type": "code",
   "execution_count": 17,
   "metadata": {},
   "outputs": [
    {
     "name": "stdout",
     "output_type": "stream",
     "text": [
      "[ 0.00310816  0.          0.          0.          0.          0.00499434\n",
      "  0.          0.          0.          0.00172405]\n"
     ]
    }
   ],
   "source": [
    "text = \"The working better than ever\"\n",
    "x = nmf_model.transform(vectorizer.transform([text]))[0]\n",
    "print(x)"
   ]
  },
  {
   "cell_type": "code",
   "execution_count": 9,
   "metadata": {},
   "outputs": [
    {
     "name": "stdout",
     "output_type": "stream",
     "text": [
      "Livery stable -- J. Vernon , prop. '' . Coaching had declined considerably by 1905 , but the sign was still there , near the old Wells Fargo building in San Francisco , creaking in the fog as it had for thirty years . John Vernon had had all the patronage he cared for -- he had prospered , but he could not retire from horsedom . Coaching was in his blood . He had two interests in life : the pleasures of the table and driving . Twice a week he drove his tallyho over the Santa Cruz road , upland and through the redwood forest , with orchards below him at one hand , and glimpses of the Pacific at the other . The journey back he made along the coast road , traveling hell-for-leather , every lantern of the tallyho ablaze . The southward route was the classic run in California , and the most fashionable . His patronage on this stretch was made up largely of San Franciscans -- regulars , most of them , and trenchermen like himself . They did not complain at the inhuman hour of starting ( seve\n"
     ]
    }
   ],
   "source": [
    "from sklearn.metrics.pairwise import euclidean_distances\n",
    " \n",
    "def most_similar(x, Z, top_n=5):\n",
    "    dists = euclidean_distances(x.reshape(1, -1), Z)\n",
    "    pairs = enumerate(dists[0])\n",
    "    most_similar = sorted(pairs, key=lambda item: item[1])[:top_n]\n",
    "    return most_similar\n",
    " \n",
    "similarities = most_similar(x, nmf_Z)\n",
    "document_id, similarity = similarities[0]\n",
    "print(data[document_id][:1000])"
   ]
  },
  {
   "cell_type": "markdown",
   "metadata": {},
   "source": [
    "**SVD**"
   ]
  },
  {
   "cell_type": "code",
   "execution_count": 21,
   "metadata": {},
   "outputs": [
    {
     "data": {
      "text/html": [
       "\n",
       "    <div class=\"bk-root\">\n",
       "        <a href=\"https://bokeh.pydata.org\" target=\"_blank\" class=\"bk-logo bk-logo-small bk-logo-notebook\"></a>\n",
       "        <span id=\"f13091ef-b9e3-4f88-a62e-21ba532386ba\">Loading BokehJS ...</span>\n",
       "    </div>"
      ]
     },
     "metadata": {},
     "output_type": "display_data"
    },
    {
     "data": {
      "application/javascript": [
       "\n",
       "(function(root) {\n",
       "  function now() {\n",
       "    return new Date();\n",
       "  }\n",
       "\n",
       "  var force = true;\n",
       "\n",
       "  if (typeof (root._bokeh_onload_callbacks) === \"undefined\" || force === true) {\n",
       "    root._bokeh_onload_callbacks = [];\n",
       "    root._bokeh_is_loading = undefined;\n",
       "  }\n",
       "\n",
       "  var JS_MIME_TYPE = 'application/javascript';\n",
       "  var HTML_MIME_TYPE = 'text/html';\n",
       "  var EXEC_MIME_TYPE = 'application/vnd.bokehjs_exec.v0+json';\n",
       "  var CLASS_NAME = 'output_bokeh rendered_html';\n",
       "\n",
       "  /**\n",
       "   * Render data to the DOM node\n",
       "   */\n",
       "  function render(props, node) {\n",
       "    var script = document.createElement(\"script\");\n",
       "    node.appendChild(script);\n",
       "  }\n",
       "\n",
       "  /**\n",
       "   * Handle when an output is cleared or removed\n",
       "   */\n",
       "  function handleClearOutput(event, handle) {\n",
       "    var cell = handle.cell;\n",
       "\n",
       "    var id = cell.output_area._bokeh_element_id;\n",
       "    var server_id = cell.output_area._bokeh_server_id;\n",
       "    // Clean up Bokeh references\n",
       "    if (id !== undefined) {\n",
       "      Bokeh.index[id].model.document.clear();\n",
       "      delete Bokeh.index[id];\n",
       "    }\n",
       "\n",
       "    if (server_id !== undefined) {\n",
       "      // Clean up Bokeh references\n",
       "      var cmd = \"from bokeh.io.state import curstate; print(curstate().uuid_to_server['\" + server_id + \"'].get_sessions()[0].document.roots[0]._id)\";\n",
       "      cell.notebook.kernel.execute(cmd, {\n",
       "        iopub: {\n",
       "          output: function(msg) {\n",
       "            var element_id = msg.content.text.trim();\n",
       "            Bokeh.index[element_id].model.document.clear();\n",
       "            delete Bokeh.index[element_id];\n",
       "          }\n",
       "        }\n",
       "      });\n",
       "      // Destroy server and session\n",
       "      var cmd = \"import bokeh.io.notebook as ion; ion.destroy_server('\" + server_id + \"')\";\n",
       "      cell.notebook.kernel.execute(cmd);\n",
       "    }\n",
       "  }\n",
       "\n",
       "  /**\n",
       "   * Handle when a new output is added\n",
       "   */\n",
       "  function handleAddOutput(event, handle) {\n",
       "    var output_area = handle.output_area;\n",
       "    var output = handle.output;\n",
       "\n",
       "    // limit handleAddOutput to display_data with EXEC_MIME_TYPE content only\n",
       "    if ((output.output_type != \"display_data\") || (!output.data.hasOwnProperty(EXEC_MIME_TYPE))) {\n",
       "      return\n",
       "    }\n",
       "\n",
       "    var toinsert = output_area.element.find(\".\" + CLASS_NAME.split(' ')[0]);\n",
       "\n",
       "    if (output.metadata[EXEC_MIME_TYPE][\"id\"] !== undefined) {\n",
       "      toinsert[0].firstChild.textContent = output.data[JS_MIME_TYPE];\n",
       "      // store reference to embed id on output_area\n",
       "      output_area._bokeh_element_id = output.metadata[EXEC_MIME_TYPE][\"id\"];\n",
       "    }\n",
       "    if (output.metadata[EXEC_MIME_TYPE][\"server_id\"] !== undefined) {\n",
       "      var bk_div = document.createElement(\"div\");\n",
       "      bk_div.innerHTML = output.data[HTML_MIME_TYPE];\n",
       "      var script_attrs = bk_div.children[0].attributes;\n",
       "      for (var i = 0; i < script_attrs.length; i++) {\n",
       "        toinsert[0].firstChild.setAttribute(script_attrs[i].name, script_attrs[i].value);\n",
       "      }\n",
       "      // store reference to server id on output_area\n",
       "      output_area._bokeh_server_id = output.metadata[EXEC_MIME_TYPE][\"server_id\"];\n",
       "    }\n",
       "  }\n",
       "\n",
       "  function register_renderer(events, OutputArea) {\n",
       "\n",
       "    function append_mime(data, metadata, element) {\n",
       "      // create a DOM node to render to\n",
       "      var toinsert = this.create_output_subarea(\n",
       "        metadata,\n",
       "        CLASS_NAME,\n",
       "        EXEC_MIME_TYPE\n",
       "      );\n",
       "      this.keyboard_manager.register_events(toinsert);\n",
       "      // Render to node\n",
       "      var props = {data: data, metadata: metadata[EXEC_MIME_TYPE]};\n",
       "      render(props, toinsert[0]);\n",
       "      element.append(toinsert);\n",
       "      return toinsert\n",
       "    }\n",
       "\n",
       "    /* Handle when an output is cleared or removed */\n",
       "    events.on('clear_output.CodeCell', handleClearOutput);\n",
       "    events.on('delete.Cell', handleClearOutput);\n",
       "\n",
       "    /* Handle when a new output is added */\n",
       "    events.on('output_added.OutputArea', handleAddOutput);\n",
       "\n",
       "    /**\n",
       "     * Register the mime type and append_mime function with output_area\n",
       "     */\n",
       "    OutputArea.prototype.register_mime_type(EXEC_MIME_TYPE, append_mime, {\n",
       "      /* Is output safe? */\n",
       "      safe: true,\n",
       "      /* Index of renderer in `output_area.display_order` */\n",
       "      index: 0\n",
       "    });\n",
       "  }\n",
       "\n",
       "  // register the mime type if in Jupyter Notebook environment and previously unregistered\n",
       "  if (root.Jupyter !== undefined) {\n",
       "    var events = require('base/js/events');\n",
       "    var OutputArea = require('notebook/js/outputarea').OutputArea;\n",
       "\n",
       "    if (OutputArea.prototype.mime_types().indexOf(EXEC_MIME_TYPE) == -1) {\n",
       "      register_renderer(events, OutputArea);\n",
       "    }\n",
       "  }\n",
       "\n",
       "  \n",
       "  if (typeof (root._bokeh_timeout) === \"undefined\" || force === true) {\n",
       "    root._bokeh_timeout = Date.now() + 5000;\n",
       "    root._bokeh_failed_load = false;\n",
       "  }\n",
       "\n",
       "  var NB_LOAD_WARNING = {'data': {'text/html':\n",
       "     \"<div style='background-color: #fdd'>\\n\"+\n",
       "     \"<p>\\n\"+\n",
       "     \"BokehJS does not appear to have successfully loaded. If loading BokehJS from CDN, this \\n\"+\n",
       "     \"may be due to a slow or bad network connection. Possible fixes:\\n\"+\n",
       "     \"</p>\\n\"+\n",
       "     \"<ul>\\n\"+\n",
       "     \"<li>re-rerun `output_notebook()` to attempt to load from CDN again, or</li>\\n\"+\n",
       "     \"<li>use INLINE resources instead, as so:</li>\\n\"+\n",
       "     \"</ul>\\n\"+\n",
       "     \"<code>\\n\"+\n",
       "     \"from bokeh.resources import INLINE\\n\"+\n",
       "     \"output_notebook(resources=INLINE)\\n\"+\n",
       "     \"</code>\\n\"+\n",
       "     \"</div>\"}};\n",
       "\n",
       "  function display_loaded() {\n",
       "    var el = document.getElementById(\"f13091ef-b9e3-4f88-a62e-21ba532386ba\");\n",
       "    if (el != null) {\n",
       "      el.textContent = \"BokehJS is loading...\";\n",
       "    }\n",
       "    if (root.Bokeh !== undefined) {\n",
       "      if (el != null) {\n",
       "        el.textContent = \"BokehJS \" + root.Bokeh.version + \" successfully loaded.\";\n",
       "      }\n",
       "    } else if (Date.now() < root._bokeh_timeout) {\n",
       "      setTimeout(display_loaded, 100)\n",
       "    }\n",
       "  }\n",
       "\n",
       "\n",
       "  function run_callbacks() {\n",
       "    try {\n",
       "      root._bokeh_onload_callbacks.forEach(function(callback) { callback() });\n",
       "    }\n",
       "    finally {\n",
       "      delete root._bokeh_onload_callbacks\n",
       "    }\n",
       "    console.info(\"Bokeh: all callbacks have finished\");\n",
       "  }\n",
       "\n",
       "  function load_libs(js_urls, callback) {\n",
       "    root._bokeh_onload_callbacks.push(callback);\n",
       "    if (root._bokeh_is_loading > 0) {\n",
       "      console.log(\"Bokeh: BokehJS is being loaded, scheduling callback at\", now());\n",
       "      return null;\n",
       "    }\n",
       "    if (js_urls == null || js_urls.length === 0) {\n",
       "      run_callbacks();\n",
       "      return null;\n",
       "    }\n",
       "    console.log(\"Bokeh: BokehJS not loaded, scheduling load and callback at\", now());\n",
       "    root._bokeh_is_loading = js_urls.length;\n",
       "    for (var i = 0; i < js_urls.length; i++) {\n",
       "      var url = js_urls[i];\n",
       "      var s = document.createElement('script');\n",
       "      s.src = url;\n",
       "      s.async = false;\n",
       "      s.onreadystatechange = s.onload = function() {\n",
       "        root._bokeh_is_loading--;\n",
       "        if (root._bokeh_is_loading === 0) {\n",
       "          console.log(\"Bokeh: all BokehJS libraries loaded\");\n",
       "          run_callbacks()\n",
       "        }\n",
       "      };\n",
       "      s.onerror = function() {\n",
       "        console.warn(\"failed to load library \" + url);\n",
       "      };\n",
       "      console.log(\"Bokeh: injecting script tag for BokehJS library: \", url);\n",
       "      document.getElementsByTagName(\"head\")[0].appendChild(s);\n",
       "    }\n",
       "  };var element = document.getElementById(\"f13091ef-b9e3-4f88-a62e-21ba532386ba\");\n",
       "  if (element == null) {\n",
       "    console.log(\"Bokeh: ERROR: autoload.js configured with elementid 'f13091ef-b9e3-4f88-a62e-21ba532386ba' but no matching script tag was found. \")\n",
       "    return false;\n",
       "  }\n",
       "\n",
       "  var js_urls = [\"https://cdn.pydata.org/bokeh/release/bokeh-0.12.13.min.js\", \"https://cdn.pydata.org/bokeh/release/bokeh-widgets-0.12.13.min.js\", \"https://cdn.pydata.org/bokeh/release/bokeh-tables-0.12.13.min.js\", \"https://cdn.pydata.org/bokeh/release/bokeh-gl-0.12.13.min.js\"];\n",
       "\n",
       "  var inline_js = [\n",
       "    function(Bokeh) {\n",
       "      Bokeh.set_log_level(\"info\");\n",
       "    },\n",
       "    \n",
       "    function(Bokeh) {\n",
       "      \n",
       "    },\n",
       "    function(Bokeh) {\n",
       "      console.log(\"Bokeh: injecting CSS: https://cdn.pydata.org/bokeh/release/bokeh-0.12.13.min.css\");\n",
       "      Bokeh.embed.inject_css(\"https://cdn.pydata.org/bokeh/release/bokeh-0.12.13.min.css\");\n",
       "      console.log(\"Bokeh: injecting CSS: https://cdn.pydata.org/bokeh/release/bokeh-widgets-0.12.13.min.css\");\n",
       "      Bokeh.embed.inject_css(\"https://cdn.pydata.org/bokeh/release/bokeh-widgets-0.12.13.min.css\");\n",
       "      console.log(\"Bokeh: injecting CSS: https://cdn.pydata.org/bokeh/release/bokeh-tables-0.12.13.min.css\");\n",
       "      Bokeh.embed.inject_css(\"https://cdn.pydata.org/bokeh/release/bokeh-tables-0.12.13.min.css\");\n",
       "    }\n",
       "  ];\n",
       "\n",
       "  function run_inline_js() {\n",
       "    \n",
       "    if ((root.Bokeh !== undefined) || (force === true)) {\n",
       "      for (var i = 0; i < inline_js.length; i++) {\n",
       "        inline_js[i].call(root, root.Bokeh);\n",
       "      }if (force === true) {\n",
       "        display_loaded();\n",
       "      }} else if (Date.now() < root._bokeh_timeout) {\n",
       "      setTimeout(run_inline_js, 100);\n",
       "    } else if (!root._bokeh_failed_load) {\n",
       "      console.log(\"Bokeh: BokehJS failed to load within specified timeout.\");\n",
       "      root._bokeh_failed_load = true;\n",
       "    } else if (force !== true) {\n",
       "      var cell = $(document.getElementById(\"f13091ef-b9e3-4f88-a62e-21ba532386ba\")).parents('.cell').data().cell;\n",
       "      cell.output_area.append_execute_result(NB_LOAD_WARNING)\n",
       "    }\n",
       "\n",
       "  }\n",
       "\n",
       "  if (root._bokeh_is_loading === 0) {\n",
       "    console.log(\"Bokeh: BokehJS loaded, going straight to plotting\");\n",
       "    run_inline_js();\n",
       "  } else {\n",
       "    load_libs(js_urls, function() {\n",
       "      console.log(\"Bokeh: BokehJS plotting callback run at\", now());\n",
       "      run_inline_js();\n",
       "    });\n",
       "  }\n",
       "}(window));"
      ],
      "application/vnd.bokehjs_load.v0+json": "\n(function(root) {\n  function now() {\n    return new Date();\n  }\n\n  var force = true;\n\n  if (typeof (root._bokeh_onload_callbacks) === \"undefined\" || force === true) {\n    root._bokeh_onload_callbacks = [];\n    root._bokeh_is_loading = undefined;\n  }\n\n  \n\n  \n  if (typeof (root._bokeh_timeout) === \"undefined\" || force === true) {\n    root._bokeh_timeout = Date.now() + 5000;\n    root._bokeh_failed_load = false;\n  }\n\n  var NB_LOAD_WARNING = {'data': {'text/html':\n     \"<div style='background-color: #fdd'>\\n\"+\n     \"<p>\\n\"+\n     \"BokehJS does not appear to have successfully loaded. If loading BokehJS from CDN, this \\n\"+\n     \"may be due to a slow or bad network connection. Possible fixes:\\n\"+\n     \"</p>\\n\"+\n     \"<ul>\\n\"+\n     \"<li>re-rerun `output_notebook()` to attempt to load from CDN again, or</li>\\n\"+\n     \"<li>use INLINE resources instead, as so:</li>\\n\"+\n     \"</ul>\\n\"+\n     \"<code>\\n\"+\n     \"from bokeh.resources import INLINE\\n\"+\n     \"output_notebook(resources=INLINE)\\n\"+\n     \"</code>\\n\"+\n     \"</div>\"}};\n\n  function display_loaded() {\n    var el = document.getElementById(\"f13091ef-b9e3-4f88-a62e-21ba532386ba\");\n    if (el != null) {\n      el.textContent = \"BokehJS is loading...\";\n    }\n    if (root.Bokeh !== undefined) {\n      if (el != null) {\n        el.textContent = \"BokehJS \" + root.Bokeh.version + \" successfully loaded.\";\n      }\n    } else if (Date.now() < root._bokeh_timeout) {\n      setTimeout(display_loaded, 100)\n    }\n  }\n\n\n  function run_callbacks() {\n    try {\n      root._bokeh_onload_callbacks.forEach(function(callback) { callback() });\n    }\n    finally {\n      delete root._bokeh_onload_callbacks\n    }\n    console.info(\"Bokeh: all callbacks have finished\");\n  }\n\n  function load_libs(js_urls, callback) {\n    root._bokeh_onload_callbacks.push(callback);\n    if (root._bokeh_is_loading > 0) {\n      console.log(\"Bokeh: BokehJS is being loaded, scheduling callback at\", now());\n      return null;\n    }\n    if (js_urls == null || js_urls.length === 0) {\n      run_callbacks();\n      return null;\n    }\n    console.log(\"Bokeh: BokehJS not loaded, scheduling load and callback at\", now());\n    root._bokeh_is_loading = js_urls.length;\n    for (var i = 0; i < js_urls.length; i++) {\n      var url = js_urls[i];\n      var s = document.createElement('script');\n      s.src = url;\n      s.async = false;\n      s.onreadystatechange = s.onload = function() {\n        root._bokeh_is_loading--;\n        if (root._bokeh_is_loading === 0) {\n          console.log(\"Bokeh: all BokehJS libraries loaded\");\n          run_callbacks()\n        }\n      };\n      s.onerror = function() {\n        console.warn(\"failed to load library \" + url);\n      };\n      console.log(\"Bokeh: injecting script tag for BokehJS library: \", url);\n      document.getElementsByTagName(\"head\")[0].appendChild(s);\n    }\n  };var element = document.getElementById(\"f13091ef-b9e3-4f88-a62e-21ba532386ba\");\n  if (element == null) {\n    console.log(\"Bokeh: ERROR: autoload.js configured with elementid 'f13091ef-b9e3-4f88-a62e-21ba532386ba' but no matching script tag was found. \")\n    return false;\n  }\n\n  var js_urls = [\"https://cdn.pydata.org/bokeh/release/bokeh-0.12.13.min.js\", \"https://cdn.pydata.org/bokeh/release/bokeh-widgets-0.12.13.min.js\", \"https://cdn.pydata.org/bokeh/release/bokeh-tables-0.12.13.min.js\", \"https://cdn.pydata.org/bokeh/release/bokeh-gl-0.12.13.min.js\"];\n\n  var inline_js = [\n    function(Bokeh) {\n      Bokeh.set_log_level(\"info\");\n    },\n    \n    function(Bokeh) {\n      \n    },\n    function(Bokeh) {\n      console.log(\"Bokeh: injecting CSS: https://cdn.pydata.org/bokeh/release/bokeh-0.12.13.min.css\");\n      Bokeh.embed.inject_css(\"https://cdn.pydata.org/bokeh/release/bokeh-0.12.13.min.css\");\n      console.log(\"Bokeh: injecting CSS: https://cdn.pydata.org/bokeh/release/bokeh-widgets-0.12.13.min.css\");\n      Bokeh.embed.inject_css(\"https://cdn.pydata.org/bokeh/release/bokeh-widgets-0.12.13.min.css\");\n      console.log(\"Bokeh: injecting CSS: https://cdn.pydata.org/bokeh/release/bokeh-tables-0.12.13.min.css\");\n      Bokeh.embed.inject_css(\"https://cdn.pydata.org/bokeh/release/bokeh-tables-0.12.13.min.css\");\n    }\n  ];\n\n  function run_inline_js() {\n    \n    if ((root.Bokeh !== undefined) || (force === true)) {\n      for (var i = 0; i < inline_js.length; i++) {\n        inline_js[i].call(root, root.Bokeh);\n      }if (force === true) {\n        display_loaded();\n      }} else if (Date.now() < root._bokeh_timeout) {\n      setTimeout(run_inline_js, 100);\n    } else if (!root._bokeh_failed_load) {\n      console.log(\"Bokeh: BokehJS failed to load within specified timeout.\");\n      root._bokeh_failed_load = true;\n    } else if (force !== true) {\n      var cell = $(document.getElementById(\"f13091ef-b9e3-4f88-a62e-21ba532386ba\")).parents('.cell').data().cell;\n      cell.output_area.append_execute_result(NB_LOAD_WARNING)\n    }\n\n  }\n\n  if (root._bokeh_is_loading === 0) {\n    console.log(\"Bokeh: BokehJS loaded, going straight to plotting\");\n    run_inline_js();\n  } else {\n    load_libs(js_urls, function() {\n      console.log(\"Bokeh: BokehJS plotting callback run at\", now());\n      run_inline_js();\n    });\n  }\n}(window));"
     },
     "metadata": {},
     "output_type": "display_data"
    }
   ],
   "source": [
    "import pandas as pd\n",
    "from bokeh.io import push_notebook, show, output_notebook\n",
    "from bokeh.plotting import figure\n",
    "from bokeh.models import ColumnDataSource, LabelSet\n",
    "output_notebook()"
   ]
  },
  {
   "cell_type": "code",
   "execution_count": 22,
   "metadata": {},
   "outputs": [
    {
     "data": {
      "text/html": [
       "\n",
       "<div class=\"bk-root\">\n",
       "    <div class=\"bk-plotdiv\" id=\"d834c61d-7f63-422a-bbd8-b2d7d0be7d29\"></div>\n",
       "</div>"
      ]
     },
     "metadata": {},
     "output_type": "display_data"
    },
    {
     "data": {
      "application/javascript": [
       "(function(root) {\n",
       "  function embed_document(root) {\n",
       "    \n",
       "  var docs_json = {\"87fe6d43-9cfa-46ff-be12-0842e5a331af\":{\"roots\":{\"references\":[{\"attributes\":{},\"id\":\"a9807b28-fc34-48cd-a667-2f6604c393f3\",\"type\":\"PanTool\"},{\"attributes\":{\"data_source\":{\"id\":\"9aa4871c-4b6b-4dd9-bdb4-29b2cea589e6\",\"type\":\"ColumnDataSource\"},\"glyph\":{\"id\":\"b55701a0-a81b-4f4c-8fe1-804d2d195856\",\"type\":\"Circle\"},\"hover_glyph\":null,\"muted_glyph\":null,\"nonselection_glyph\":{\"id\":\"2c816e90-9eb8-42f5-b3d7-71faf9152640\",\"type\":\"Circle\"},\"selection_glyph\":null,\"view\":{\"id\":\"5151376d-3c84-4c42-b60d-cddc2a896ac6\",\"type\":\"CDSView\"}},\"id\":\"28dfc923-3b73-4c57-8d6e-3d4239bcdffb\",\"type\":\"GlyphRenderer\"},{\"attributes\":{},\"id\":\"9a1c2796-e2f0-45cf-8ce3-5b55fa119536\",\"type\":\"WheelZoomTool\"},{\"attributes\":{\"overlay\":{\"id\":\"bab0b431-e96c-4852-ab0f-d449b0157789\",\"type\":\"BoxAnnotation\"}},\"id\":\"6d930b98-f3bf-497b-a9e6-badc07a2f571\",\"type\":\"BoxZoomTool\"},{\"attributes\":{\"callback\":null,\"column_names\":[\"x\",\"y\",\"document\",\"index\"],\"data\":{\"document\":[0,1,2,3,4,5,6,7,8,9,10,11,12,13,14,15,16,17,18,19,20,21,22,23,24,25,26,27,28,29,30,31,32,33,34,35,36,37,38,39,40,41,42,43,44,45,46,47,48,49,50,51,52,53,54,55,56,57,58,59,60,61,62,63,64,65,66,67,68,69,70,71,72,73,74,75,76,77,78,79,80,81,82,83,84,85,86,87,88,89,90,91,92,93,94,95,96,97,98,99,100,101,102,103,104,105,106,107,108,109,110,111,112,113,114,115,116,117,118,119,120,121,122,123,124,125,126,127,128,129,130,131,132,133,134,135,136,137,138,139,140,141,142,143,144,145,146,147,148,149,150,151,152,153,154,155,156,157,158,159,160,161,162,163,164,165,166,167,168,169,170,171,172,173,174,175,176,177,178,179,180,181,182,183,184,185,186,187,188,189,190,191,192,193,194,195,196,197,198,199,200,201,202,203,204,205,206,207,208,209,210,211,212,213,214,215,216,217,218,219,220,221,222,223,224,225,226,227,228,229,230,231,232,233,234,235,236,237,238,239,240,241,242,243,244,245,246,247,248,249,250,251,252,253,254,255,256,257,258,259,260,261,262,263,264,265,266,267,268,269,270,271,272,273,274,275,276,277,278,279,280,281,282,283,284,285,286,287,288,289,290,291,292,293,294,295,296,297,298,299,300,301,302,303,304,305,306,307,308,309,310,311,312,313,314,315,316,317,318,319,320,321,322,323,324,325,326,327,328,329,330,331,332,333,334,335,336,337,338,339,340,341,342,343,344,345,346,347,348,349,350,351,352,353,354,355,356,357,358,359,360,361,362,363,364,365,366,367,368,369,370,371,372,373,374,375,376,377,378,379,380,381,382,383,384,385,386,387,388,389,390,391,392,393,394,395,396,397,398,399,400,401,402,403,404,405,406,407,408,409,410,411,412,413,414,415,416,417,418,419,420,421,422,423,424,425,426,427,428,429,430,431,432,433,434,435,436,437,438,439,440,441,442,443,444,445,446,447,448,449,450,451,452,453,454,455,456,457,458,459,460,461,462,463,464,465,466,467,468,469,470,471,472,473,474,475,476,477,478,479,480,481,482,483,484,485,486,487,488,489,490,491,492,493,494,495,496,497,498,499],\"index\":[0,1,2,3,4,5,6,7,8,9,10,11,12,13,14,15,16,17,18,19,20,21,22,23,24,25,26,27,28,29,30,31,32,33,34,35,36,37,38,39,40,41,42,43,44,45,46,47,48,49,50,51,52,53,54,55,56,57,58,59,60,61,62,63,64,65,66,67,68,69,70,71,72,73,74,75,76,77,78,79,80,81,82,83,84,85,86,87,88,89,90,91,92,93,94,95,96,97,98,99,100,101,102,103,104,105,106,107,108,109,110,111,112,113,114,115,116,117,118,119,120,121,122,123,124,125,126,127,128,129,130,131,132,133,134,135,136,137,138,139,140,141,142,143,144,145,146,147,148,149,150,151,152,153,154,155,156,157,158,159,160,161,162,163,164,165,166,167,168,169,170,171,172,173,174,175,176,177,178,179,180,181,182,183,184,185,186,187,188,189,190,191,192,193,194,195,196,197,198,199,200,201,202,203,204,205,206,207,208,209,210,211,212,213,214,215,216,217,218,219,220,221,222,223,224,225,226,227,228,229,230,231,232,233,234,235,236,237,238,239,240,241,242,243,244,245,246,247,248,249,250,251,252,253,254,255,256,257,258,259,260,261,262,263,264,265,266,267,268,269,270,271,272,273,274,275,276,277,278,279,280,281,282,283,284,285,286,287,288,289,290,291,292,293,294,295,296,297,298,299,300,301,302,303,304,305,306,307,308,309,310,311,312,313,314,315,316,317,318,319,320,321,322,323,324,325,326,327,328,329,330,331,332,333,334,335,336,337,338,339,340,341,342,343,344,345,346,347,348,349,350,351,352,353,354,355,356,357,358,359,360,361,362,363,364,365,366,367,368,369,370,371,372,373,374,375,376,377,378,379,380,381,382,383,384,385,386,387,388,389,390,391,392,393,394,395,396,397,398,399,400,401,402,403,404,405,406,407,408,409,410,411,412,413,414,415,416,417,418,419,420,421,422,423,424,425,426,427,428,429,430,431,432,433,434,435,436,437,438,439,440,441,442,443,444,445,446,447,448,449,450,451,452,453,454,455,456,457,458,459,460,461,462,463,464,465,466,467,468,469,470,471,472,473,474,475,476,477,478,479,480,481,482,483,484,485,486,487,488,489,490,491,492,493,494,495,496,497,498,499],\"x\":{\"__ndarray__\":\"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\",\"dtype\":\"float64\",\"shape\":[500]},\"y\":{\"__ndarray__\":\"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\",\"dtype\":\"float64\",\"shape\":[500]}}},\"id\":\"9aa4871c-4b6b-4dd9-bdb4-29b2cea589e6\",\"type\":\"ColumnDataSource\"},{\"attributes\":{},\"id\":\"31221e72-4b33-47fd-9dd1-28e48074e054\",\"type\":\"SaveTool\"},{\"attributes\":{},\"id\":\"4a36c0b1-64ac-4c10-8354-87e61046e303\",\"type\":\"ResetTool\"},{\"attributes\":{},\"id\":\"8f875cbd-d1d2-4702-8911-3ad4354c0d4c\",\"type\":\"LinearScale\"},{\"attributes\":{\"active_drag\":\"auto\",\"active_inspect\":\"auto\",\"active_scroll\":\"auto\",\"active_tap\":\"auto\",\"tools\":[{\"id\":\"a9807b28-fc34-48cd-a667-2f6604c393f3\",\"type\":\"PanTool\"},{\"id\":\"9a1c2796-e2f0-45cf-8ce3-5b55fa119536\",\"type\":\"WheelZoomTool\"},{\"id\":\"6d930b98-f3bf-497b-a9e6-badc07a2f571\",\"type\":\"BoxZoomTool\"},{\"id\":\"31221e72-4b33-47fd-9dd1-28e48074e054\",\"type\":\"SaveTool\"},{\"id\":\"4a36c0b1-64ac-4c10-8354-87e61046e303\",\"type\":\"ResetTool\"},{\"id\":\"0dc5e39a-e789-44b0-9b33-995eccfcab33\",\"type\":\"HelpTool\"}]},\"id\":\"b5730da6-b59d-422c-901d-505623dc1ed9\",\"type\":\"Toolbar\"},{\"attributes\":{},\"id\":\"0dc5e39a-e789-44b0-9b33-995eccfcab33\",\"type\":\"HelpTool\"},{\"attributes\":{},\"id\":\"c36d87ce-c5ba-4f44-bc4b-f06900b53038\",\"type\":\"LinearScale\"},{\"attributes\":{\"callback\":null},\"id\":\"68efceec-fe4c-4f91-b278-f5c0dc8b7482\",\"type\":\"DataRange1d\"},{\"attributes\":{},\"id\":\"2eb6fcaa-cb62-446b-a4ea-ee16b6bad3b1\",\"type\":\"BasicTickFormatter\"},{\"attributes\":{\"plot\":{\"id\":\"de01ccea-e58c-4851-9d14-1208588cb0b6\",\"subtype\":\"Figure\",\"type\":\"Plot\"},\"source\":{\"id\":\"9aa4871c-4b6b-4dd9-bdb4-29b2cea589e6\",\"type\":\"ColumnDataSource\"},\"text\":{\"field\":\"document\"},\"text_align\":\"center\",\"text_color\":{\"value\":\"#555555\"},\"text_font_size\":{\"value\":\"8pt\"},\"x\":{\"field\":\"x\"},\"y\":{\"field\":\"y\"},\"y_offset\":{\"value\":8}},\"id\":\"2cd4f588-64f8-41f7-b357-dcf3656be3ae\",\"type\":\"LabelSet\"},{\"attributes\":{\"formatter\":{\"id\":\"5af209b6-c17c-441a-bf10-40fc7c706ebe\",\"type\":\"BasicTickFormatter\"},\"plot\":{\"id\":\"de01ccea-e58c-4851-9d14-1208588cb0b6\",\"subtype\":\"Figure\",\"type\":\"Plot\"},\"ticker\":{\"id\":\"c6533df1-fcf1-4d7e-bdd8-c296406fa0d4\",\"type\":\"BasicTicker\"}},\"id\":\"4265e2db-0b65-4ad1-b15f-fc2c3bca5934\",\"type\":\"LinearAxis\"},{\"attributes\":{\"fill_alpha\":{\"value\":0.1},\"fill_color\":{\"value\":\"#1f77b4\"},\"line_alpha\":{\"value\":0.1},\"line_color\":{\"value\":\"#1f77b4\"},\"size\":{\"units\":\"screen\",\"value\":12},\"x\":{\"field\":\"x\"},\"y\":{\"field\":\"y\"}},\"id\":\"2c816e90-9eb8-42f5-b3d7-71faf9152640\",\"type\":\"Circle\"},{\"attributes\":{},\"id\":\"c6533df1-fcf1-4d7e-bdd8-c296406fa0d4\",\"type\":\"BasicTicker\"},{\"attributes\":{\"plot\":{\"id\":\"de01ccea-e58c-4851-9d14-1208588cb0b6\",\"subtype\":\"Figure\",\"type\":\"Plot\"},\"ticker\":{\"id\":\"c6533df1-fcf1-4d7e-bdd8-c296406fa0d4\",\"type\":\"BasicTicker\"}},\"id\":\"095d895c-df35-4824-9075-dd5fcb2e93a5\",\"type\":\"Grid\"},{\"attributes\":{\"formatter\":{\"id\":\"2eb6fcaa-cb62-446b-a4ea-ee16b6bad3b1\",\"type\":\"BasicTickFormatter\"},\"plot\":{\"id\":\"de01ccea-e58c-4851-9d14-1208588cb0b6\",\"subtype\":\"Figure\",\"type\":\"Plot\"},\"ticker\":{\"id\":\"b693ce1d-009d-4726-af7f-b9a44c1fd49d\",\"type\":\"BasicTicker\"}},\"id\":\"06e23bf4-d3ea-4930-9b2e-7429c7384803\",\"type\":\"LinearAxis\"},{\"attributes\":{\"fill_alpha\":{\"value\":0.8},\"fill_color\":{\"value\":\"#1f77b4\"},\"size\":{\"units\":\"screen\",\"value\":12},\"x\":{\"field\":\"x\"},\"y\":{\"field\":\"y\"}},\"id\":\"b55701a0-a81b-4f4c-8fe1-804d2d195856\",\"type\":\"Circle\"},{\"attributes\":{},\"id\":\"b693ce1d-009d-4726-af7f-b9a44c1fd49d\",\"type\":\"BasicTicker\"},{\"attributes\":{},\"id\":\"5af209b6-c17c-441a-bf10-40fc7c706ebe\",\"type\":\"BasicTickFormatter\"},{\"attributes\":{\"source\":{\"id\":\"9aa4871c-4b6b-4dd9-bdb4-29b2cea589e6\",\"type\":\"ColumnDataSource\"}},\"id\":\"5151376d-3c84-4c42-b60d-cddc2a896ac6\",\"type\":\"CDSView\"},{\"attributes\":{\"dimension\":1,\"plot\":{\"id\":\"de01ccea-e58c-4851-9d14-1208588cb0b6\",\"subtype\":\"Figure\",\"type\":\"Plot\"},\"ticker\":{\"id\":\"b693ce1d-009d-4726-af7f-b9a44c1fd49d\",\"type\":\"BasicTicker\"}},\"id\":\"6d0e70d9-e2b6-49fd-96f0-7845fd25dcbd\",\"type\":\"Grid\"},{\"attributes\":{\"below\":[{\"id\":\"4265e2db-0b65-4ad1-b15f-fc2c3bca5934\",\"type\":\"LinearAxis\"}],\"left\":[{\"id\":\"06e23bf4-d3ea-4930-9b2e-7429c7384803\",\"type\":\"LinearAxis\"}],\"renderers\":[{\"id\":\"4265e2db-0b65-4ad1-b15f-fc2c3bca5934\",\"type\":\"LinearAxis\"},{\"id\":\"095d895c-df35-4824-9075-dd5fcb2e93a5\",\"type\":\"Grid\"},{\"id\":\"06e23bf4-d3ea-4930-9b2e-7429c7384803\",\"type\":\"LinearAxis\"},{\"id\":\"6d0e70d9-e2b6-49fd-96f0-7845fd25dcbd\",\"type\":\"Grid\"},{\"id\":\"bab0b431-e96c-4852-ab0f-d449b0157789\",\"type\":\"BoxAnnotation\"},{\"id\":\"28dfc923-3b73-4c57-8d6e-3d4239bcdffb\",\"type\":\"GlyphRenderer\"},{\"id\":\"2cd4f588-64f8-41f7-b357-dcf3656be3ae\",\"type\":\"LabelSet\"}],\"title\":{\"id\":\"d46b71e1-dbfa-45d7-a73e-178fded3ad64\",\"type\":\"Title\"},\"toolbar\":{\"id\":\"b5730da6-b59d-422c-901d-505623dc1ed9\",\"type\":\"Toolbar\"},\"x_range\":{\"id\":\"183177f5-f8b7-4d5a-84dd-228e350b7e97\",\"type\":\"DataRange1d\"},\"x_scale\":{\"id\":\"c36d87ce-c5ba-4f44-bc4b-f06900b53038\",\"type\":\"LinearScale\"},\"y_range\":{\"id\":\"68efceec-fe4c-4f91-b278-f5c0dc8b7482\",\"type\":\"DataRange1d\"},\"y_scale\":{\"id\":\"8f875cbd-d1d2-4702-8911-3ad4354c0d4c\",\"type\":\"LinearScale\"}},\"id\":\"de01ccea-e58c-4851-9d14-1208588cb0b6\",\"subtype\":\"Figure\",\"type\":\"Plot\"},{\"attributes\":{\"bottom_units\":\"screen\",\"fill_alpha\":{\"value\":0.5},\"fill_color\":{\"value\":\"lightgrey\"},\"left_units\":\"screen\",\"level\":\"overlay\",\"line_alpha\":{\"value\":1.0},\"line_color\":{\"value\":\"black\"},\"line_dash\":[4,4],\"line_width\":{\"value\":2},\"plot\":null,\"render_mode\":\"css\",\"right_units\":\"screen\",\"top_units\":\"screen\"},\"id\":\"bab0b431-e96c-4852-ab0f-d449b0157789\",\"type\":\"BoxAnnotation\"},{\"attributes\":{\"callback\":null},\"id\":\"183177f5-f8b7-4d5a-84dd-228e350b7e97\",\"type\":\"DataRange1d\"},{\"attributes\":{\"plot\":null,\"text\":\"\"},\"id\":\"d46b71e1-dbfa-45d7-a73e-178fded3ad64\",\"type\":\"Title\"}],\"root_ids\":[\"de01ccea-e58c-4851-9d14-1208588cb0b6\"]},\"title\":\"Bokeh Application\",\"version\":\"0.12.13\"}};\n",
       "  var render_items = [{\"docid\":\"87fe6d43-9cfa-46ff-be12-0842e5a331af\",\"elementid\":\"d834c61d-7f63-422a-bbd8-b2d7d0be7d29\",\"modelid\":\"de01ccea-e58c-4851-9d14-1208588cb0b6\",\"notebook_comms_target\":\"dd2ca5a9-fd96-4d75-add7-43d4ad9f30d9\"}];\n",
       "  root.Bokeh.embed.embed_items_notebook(docs_json, render_items);\n",
       "\n",
       "  }\n",
       "  if (root.Bokeh !== undefined) {\n",
       "    embed_document(root);\n",
       "  } else {\n",
       "    var attempts = 0;\n",
       "    var timer = setInterval(function(root) {\n",
       "      if (root.Bokeh !== undefined) {\n",
       "        embed_document(root);\n",
       "        clearInterval(timer);\n",
       "      }\n",
       "      attempts++;\n",
       "      if (attempts > 100) {\n",
       "        console.log(\"Bokeh: ERROR: Unable to run BokehJS code because BokehJS library is missing\")\n",
       "        clearInterval(timer);\n",
       "      }\n",
       "    }, 10, root)\n",
       "  }\n",
       "})(window);"
      ],
      "application/vnd.bokehjs_exec.v0+json": ""
     },
     "metadata": {
      "application/vnd.bokehjs_exec.v0+json": {
       "id": "de01ccea-e58c-4851-9d14-1208588cb0b6"
      }
     },
     "output_type": "display_data"
    },
    {
     "data": {
      "text/html": [
       "<p><code>&lt;Bokeh Notebook handle for <strong>In[1]</strong>&gt;</code></p>"
      ],
      "text/plain": [
       "<bokeh.io.notebook.CommsHandle at 0x12174ef98>"
      ]
     },
     "execution_count": 22,
     "metadata": {},
     "output_type": "execute_result"
    }
   ],
   "source": [
    "svd = TruncatedSVD(n_components=2)\n",
    "documents_2d = svd.fit_transform(data_vectorized)\n",
    " \n",
    "df = pd.DataFrame(columns=['x', 'y', 'document'])\n",
    "df['x'], df['y'], df['document'] = documents_2d[:,0], documents_2d[:,1], range(len(data))\n",
    " \n",
    "source = ColumnDataSource(ColumnDataSource.from_df(df))\n",
    "labels = LabelSet(x=\"x\", y=\"y\", text=\"document\", y_offset=8,\n",
    "                  text_font_size=\"8pt\", text_color=\"#555555\",\n",
    "                  source=source, text_align='center')\n",
    " \n",
    "plot = figure(plot_width=600, plot_height=600)\n",
    "plot.circle(\"x\", \"y\", size=12, source=source, line_color=\"black\", fill_alpha=0.8)\n",
    "plot.add_layout(labels)\n",
    "show(plot, notebook_handle=True)"
   ]
  },
  {
   "cell_type": "code",
   "execution_count": 23,
   "metadata": {},
   "outputs": [
    {
     "data": {
      "text/plain": [
       "<500x10625 sparse matrix of type '<class 'numpy.int64'>'\n",
       "\twith 241921 stored elements in Compressed Sparse Row format>"
      ]
     },
     "execution_count": 23,
     "metadata": {},
     "output_type": "execute_result"
    }
   ],
   "source": [
    "data_vectorized"
   ]
  },
  {
   "cell_type": "code",
   "execution_count": 30,
   "metadata": {},
   "outputs": [
    {
     "data": {
      "text/plain": [
       "TruncatedSVD(algorithm='randomized', n_components=2, n_iter=5,\n",
       "       random_state=None, tol=0.0)"
      ]
     },
     "execution_count": 30,
     "metadata": {},
     "output_type": "execute_result"
    }
   ],
   "source": [
    "svd.fit(data_vectorized)"
   ]
  },
  {
   "cell_type": "code",
   "execution_count": 33,
   "metadata": {},
   "outputs": [],
   "source": [
    "svd = TruncatedSVD(n_components=100)"
   ]
  },
  {
   "cell_type": "code",
   "execution_count": 34,
   "metadata": {},
   "outputs": [
    {
     "data": {
      "text/plain": [
       "TruncatedSVD(algorithm='randomized', n_components=100, n_iter=5,\n",
       "       random_state=None, tol=0.0)"
      ]
     },
     "execution_count": 34,
     "metadata": {},
     "output_type": "execute_result"
    }
   ],
   "source": [
    "svd.fit(data_vectorized)"
   ]
  },
  {
   "cell_type": "code",
   "execution_count": null,
   "metadata": {},
   "outputs": [],
   "source": [
    "import matplotlib\n",
    "from matplotlib import pyplot as plt\n",
    "%matplotlib inline\n",
    "plt.plot(svd.singular_values_,'*b')"
   ]
  },
  {
   "cell_type": "code",
   "execution_count": null,
   "metadata": {},
   "outputs": [],
   "source": []
  }
 ],
 "metadata": {
  "kernelspec": {
   "display_name": "Python 3",
   "language": "python",
   "name": "python3"
  },
  "language_info": {
   "codemirror_mode": {
    "name": "ipython",
    "version": 3
   },
   "file_extension": ".py",
   "mimetype": "text/x-python",
   "name": "python",
   "nbconvert_exporter": "python",
   "pygments_lexer": "ipython3",
   "version": "3.6.4"
  }
 },
 "nbformat": 4,
 "nbformat_minor": 2
}
