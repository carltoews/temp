{
 "cells": [
  {
   "cell_type": "markdown",
   "metadata": {},
   "source": [
    "### This notebook sets up my poetry database"
   ]
  },
  {
   "cell_type": "code",
   "execution_count": 2,
   "metadata": {},
   "outputs": [
    {
     "ename": "ModuleNotFoundError",
     "evalue": "No module named 'nltk'",
     "output_type": "error",
     "traceback": [
      "\u001b[0;31m---------------------------------------------------------------------------\u001b[0m",
      "\u001b[0;31mModuleNotFoundError\u001b[0m                       Traceback (most recent call last)",
      "\u001b[0;32m<ipython-input-2-788eaca4333f>\u001b[0m in \u001b[0;36m<module>\u001b[0;34m()\u001b[0m\n\u001b[1;32m     10\u001b[0m \u001b[0;31m#import ujson\u001b[0m\u001b[0;34m\u001b[0m\u001b[0;34m\u001b[0m\u001b[0m\n\u001b[1;32m     11\u001b[0m \u001b[0;34m\u001b[0m\u001b[0m\n\u001b[0;32m---> 12\u001b[0;31m \u001b[0;32mimport\u001b[0m \u001b[0mnltk\u001b[0m\u001b[0;34m\u001b[0m\u001b[0m\n\u001b[0m\u001b[1;32m     13\u001b[0m \u001b[0;32mimport\u001b[0m \u001b[0mre\u001b[0m\u001b[0;34m\u001b[0m\u001b[0m\n\u001b[1;32m     14\u001b[0m \u001b[0;32mimport\u001b[0m \u001b[0mtime\u001b[0m\u001b[0;34m\u001b[0m\u001b[0m\n",
      "\u001b[0;31mModuleNotFoundError\u001b[0m: No module named 'nltk'"
     ]
    }
   ],
   "source": [
    "from sqlalchemy import create_engine\n",
    "from sqlalchemy_utils import database_exists, create_database\n",
    "import pandas as pd\n",
    "import sqlalchemy # pandas-mysql interface library\n",
    "import sqlalchemy.exc # exception handling\n",
    "import glob # for file manipulation\n",
    "import sys # for defining behavior under errors\n",
    "import numpy as np\n",
    "import csv\n",
    "#import ujson\n",
    "\n",
    "import nltk\n",
    "import re\n",
    "import time\n",
    "import scipy\n",
    "\n",
    "from sklearn.feature_extraction.text import CountVectorizer, TfidfTransformer\n",
    "from sklearn.decomposition import LatentDirichletAllocation\n",
    "from sklearn.linear_model import LogisticRegression\n",
    "from sklearn.metrics import precision_recall_curve, roc_auc_score, roc_curve, auc\n",
    "from sklearn.metrics.pairwise import euclidean_distances, cosine_distances, cosine_similarity\n",
    "from sklearn import preprocessing\n",
    "from sklearn.cluster import AgglomerativeClustering, spectral_clustering\n",
    "from collections import Counter, OrderedDict\n",
    "from nltk.corpus import stopwords\n",
    "from nltk import SnowballStemmer\n",
    "\n",
    "import spacy\n",
    "\n",
    "#nltk.download('stopwords') # download the latest stopwords\n",
    "\n",
    "#from utils import load_reddit, plot_roc, print_variable_sizes, print_memory"
   ]
  },
  {
   "cell_type": "markdown",
   "metadata": {},
   "source": [
    "*Create the database in postgres*"
   ]
  },
  {
   "cell_type": "code",
   "execution_count": 2,
   "metadata": {
    "collapsed": true
   },
   "outputs": [],
   "source": [
    "dbname = 'poetry_db'\n",
    "username = 'ctoews' "
   ]
  },
  {
   "cell_type": "code",
   "execution_count": 3,
   "metadata": {},
   "outputs": [
    {
     "name": "stdout",
     "output_type": "stream",
     "text": [
      "postgres://ctoews@localhost/poetry_db\n"
     ]
    }
   ],
   "source": [
    "## 'engine' is a connection to a database\n",
    "engine = create_engine('postgres://%s@localhost/%s'%(username,dbname))\n",
    "print(engine.url)"
   ]
  },
  {
   "cell_type": "code",
   "execution_count": null,
   "metadata": {
    "collapsed": true
   },
   "outputs": [],
   "source": [
    "## create a database (if it doesn't exist)\n",
    "if not database_exists(engine.url):\n",
    "    create_database(engine.url)\n",
    "print(database_exists(engine.url))"
   ]
  },
  {
   "cell_type": "markdown",
   "metadata": {},
   "source": [
    "*Create a table to hold the data*"
   ]
  },
  {
   "cell_type": "code",
   "execution_count": null,
   "metadata": {
    "collapsed": true,
    "scrolled": true
   },
   "outputs": [],
   "source": [
    "#Create table in database\n",
    "command = (\n",
    "        \"\"\"\n",
    "        CREATE TABLE sonnets (\n",
    "            title CHAR(8),\n",
    "            poem TEXT\n",
    "            );            \n",
    "        \"\"\")\n",
    "\n",
    "print(command)"
   ]
  },
  {
   "cell_type": "code",
   "execution_count": null,
   "metadata": {
    "collapsed": true
   },
   "outputs": [],
   "source": [
    "engine.execute(command) #create db"
   ]
  },
  {
   "cell_type": "markdown",
   "metadata": {},
   "source": [
    "Parse the sonnet file into well-behaved csv (used a little manual manipulation with R to streamline things)"
   ]
  },
  {
   "cell_type": "code",
   "execution_count": 4,
   "metadata": {},
   "outputs": [
    {
     "data": {
      "text/plain": [
       "1"
      ]
     },
     "execution_count": 4,
     "metadata": {},
     "output_type": "execute_result"
    }
   ],
   "source": [
    "def parse_file(infilename,outfilename):\n",
    "    infile = open(infilename,'r')\n",
    "    outfile = open(outfilename,'w')\n",
    "    i = 0\n",
    "    for line in infile:\n",
    "        line = line.strip()\n",
    "        if not line:\n",
    "            i+=1\n",
    "            if np.mod(i,2)==0:\n",
    "                outfile.write(\"\\\"\" + '\\n')\n",
    "            else:\n",
    "                outfile.write(\", \\\"\")\n",
    "            continue;\n",
    "        outfile.write(line + ' ')\n",
    "\n",
    "    return 1\n",
    "\n",
    "# I used R to fix a few gloobers, and saved result as 'sonnets.csv'\n",
    "parse_file('sonnets.txt','output.txt')"
   ]
  },
  {
   "cell_type": "markdown",
   "metadata": {},
   "source": [
    "Input the CSV"
   ]
  },
  {
   "cell_type": "code",
   "execution_count": 5,
   "metadata": {
    "collapsed": true
   },
   "outputs": [],
   "source": [
    "connection = engine.connect()\n",
    "transaction = connection.begin\n",
    "\n",
    "with open('sonnets.csv', 'r') as f:\n",
    "    reader = csv.reader(f)\n",
    "    for row in reader:\n",
    "        connection.execute(\n",
    "            \"INSERT INTO sonnets VALUES (%s, %s)\",\n",
    "            row\n",
    "        )"
   ]
  },
  {
   "cell_type": "code",
   "execution_count": 6,
   "metadata": {
    "collapsed": true
   },
   "outputs": [],
   "source": [
    "command1 = '''SELECT * \n",
    "             FROM sonnets;\n",
    "             '''\n",
    "\n",
    "# Read in the data into Pandas\n",
    "sonnets = pd.read_sql_query(command1, con=engine)"
   ]
  },
  {
   "cell_type": "code",
   "execution_count": 287,
   "metadata": {
    "collapsed": true
   },
   "outputs": [],
   "source": [
    "user = 'ctoews' #add your username here (same as previous postgreSQL)\n",
    "host = 'localhost'\n",
    "dbname = 'poetry_db'\n",
    "db = create_engine('postgres://%s%s/%s'%(user,host,dbname))\n",
    "con = None\n",
    "con = psycopg2.connect(database = dbname, user = user)"
   ]
  },
  {
   "cell_type": "code",
   "execution_count": 288,
   "metadata": {},
   "outputs": [
    {
     "name": "stdout",
     "output_type": "stream",
     "text": [
      " From fairest creatures we desire increase, That thereby beauty's rose might never die, But as the riper should by time decease, His tender heir might bear his memory: But thou, contracted to thine own bright eyes, Feed'st thy light's flame with self-substantial fuel, Making a famine where abundance lies, Thy self thy foe, to thy sweet self too cruel: Thou that art now the world's fresh ornament, And only herald to the gaudy spring, Within thine own bud buriest thy content, And tender churl mak'st waste in niggarding: Pity the world, or else this glutton be, To eat the world's due, by the grave and thee. \n"
     ]
    }
   ],
   "source": [
    "sql_query = \"\"\"\n",
    "            SELECT * FROM sonnets;\n",
    ";\n",
    "            \"\"\"\n",
    "query_results = pd.read_sql_query(sql_query,con)\n",
    "print(query_results.iloc[0,1])"
   ]
  },
  {
   "cell_type": "code",
   "execution_count": 7,
   "metadata": {
    "collapsed": true
   },
   "outputs": [],
   "source": [
    "def standardize_text(temp_df, text_field):\n",
    "    temp_df[text_field] = temp_df[text_field].str.replace(r\"http\\S+\", \"\")\n",
    "    temp_df[text_field] = temp_df[text_field].str.replace(r\"http\", \"\")\n",
    "    temp_df[text_field] = temp_df[text_field].str.replace(r\"@\\S+\", \"\")\n",
    "    temp_df[text_field] = temp_df[text_field].str.replace(r\"[^A-Za-z0-9(),!?@\\'\\`\\\"\\_\\n]\", \" \")\n",
    "    temp_df[text_field] = temp_df[text_field].str.replace(r\"@\", \"at\")\n",
    "    temp_df[text_field] = temp_df[text_field].str.lower()\n",
    "    return temp_df\n",
    "\n",
    "sonnets_clean = standardize_text(sonnets, \"poem\")\n"
   ]
  },
  {
   "cell_type": "code",
   "execution_count": 8,
   "metadata": {},
   "outputs": [
    {
     "data": {
      "text/html": [
       "<div>\n",
       "<style>\n",
       "    .dataframe thead tr:only-child th {\n",
       "        text-align: right;\n",
       "    }\n",
       "\n",
       "    .dataframe thead th {\n",
       "        text-align: left;\n",
       "    }\n",
       "\n",
       "    .dataframe tbody tr th {\n",
       "        vertical-align: top;\n",
       "    }\n",
       "</style>\n",
       "<table border=\"1\" class=\"dataframe\">\n",
       "  <thead>\n",
       "    <tr style=\"text-align: right;\">\n",
       "      <th></th>\n",
       "      <th>title</th>\n",
       "      <th>poem</th>\n",
       "    </tr>\n",
       "  </thead>\n",
       "  <tbody>\n",
       "    <tr>\n",
       "      <th>0</th>\n",
       "      <td>I</td>\n",
       "      <td>from fairest creatures we desire increase, th...</td>\n",
       "    </tr>\n",
       "    <tr>\n",
       "      <th>1</th>\n",
       "      <td>II</td>\n",
       "      <td>when forty winters shall besiege thy brow, an...</td>\n",
       "    </tr>\n",
       "    <tr>\n",
       "      <th>2</th>\n",
       "      <td>III</td>\n",
       "      <td>look in thy glass and tell the face thou view...</td>\n",
       "    </tr>\n",
       "    <tr>\n",
       "      <th>3</th>\n",
       "      <td>IV</td>\n",
       "      <td>unthrifty loveliness, why dost thou spend upo...</td>\n",
       "    </tr>\n",
       "    <tr>\n",
       "      <th>4</th>\n",
       "      <td>V</td>\n",
       "      <td>those hours, that with gentle work did frame ...</td>\n",
       "    </tr>\n",
       "  </tbody>\n",
       "</table>\n",
       "</div>"
      ],
      "text/plain": [
       "      title                                               poem\n",
       "0    I        from fairest creatures we desire increase, th...\n",
       "1  II         when forty winters shall besiege thy brow, an...\n",
       "2  III        look in thy glass and tell the face thou view...\n",
       "3  IV         unthrifty loveliness, why dost thou spend upo...\n",
       "4  V          those hours, that with gentle work did frame ..."
      ]
     },
     "execution_count": 8,
     "metadata": {},
     "output_type": "execute_result"
    }
   ],
   "source": [
    "sonnets_clean[0:5]"
   ]
  },
  {
   "cell_type": "code",
   "execution_count": 9,
   "metadata": {},
   "outputs": [
    {
     "data": {
      "text/html": [
       "<div>\n",
       "<style>\n",
       "    .dataframe thead tr:only-child th {\n",
       "        text-align: right;\n",
       "    }\n",
       "\n",
       "    .dataframe thead th {\n",
       "        text-align: left;\n",
       "    }\n",
       "\n",
       "    .dataframe tbody tr th {\n",
       "        vertical-align: top;\n",
       "    }\n",
       "</style>\n",
       "<table border=\"1\" class=\"dataframe\">\n",
       "  <thead>\n",
       "    <tr style=\"text-align: right;\">\n",
       "      <th></th>\n",
       "      <th>title</th>\n",
       "      <th>poem</th>\n",
       "      <th>tokens</th>\n",
       "    </tr>\n",
       "  </thead>\n",
       "  <tbody>\n",
       "    <tr>\n",
       "      <th>0</th>\n",
       "      <td>I</td>\n",
       "      <td>from fairest creatures we desire increase, th...</td>\n",
       "      <td>[from, fairest, creatures, we, desire, increas...</td>\n",
       "    </tr>\n",
       "    <tr>\n",
       "      <th>1</th>\n",
       "      <td>II</td>\n",
       "      <td>when forty winters shall besiege thy brow, an...</td>\n",
       "      <td>[when, forty, winters, shall, besiege, thy, br...</td>\n",
       "    </tr>\n",
       "    <tr>\n",
       "      <th>2</th>\n",
       "      <td>III</td>\n",
       "      <td>look in thy glass and tell the face thou view...</td>\n",
       "      <td>[look, in, thy, glass, and, tell, the, face, t...</td>\n",
       "    </tr>\n",
       "    <tr>\n",
       "      <th>3</th>\n",
       "      <td>IV</td>\n",
       "      <td>unthrifty loveliness, why dost thou spend upo...</td>\n",
       "      <td>[unthrifty, loveliness, why, dost, thou, spend...</td>\n",
       "    </tr>\n",
       "    <tr>\n",
       "      <th>4</th>\n",
       "      <td>V</td>\n",
       "      <td>those hours, that with gentle work did frame ...</td>\n",
       "      <td>[those, hours, that, with, gentle, work, did, ...</td>\n",
       "    </tr>\n",
       "  </tbody>\n",
       "</table>\n",
       "</div>"
      ],
      "text/plain": [
       "      title                                               poem  \\\n",
       "0    I        from fairest creatures we desire increase, th...   \n",
       "1  II         when forty winters shall besiege thy brow, an...   \n",
       "2  III        look in thy glass and tell the face thou view...   \n",
       "3  IV         unthrifty loveliness, why dost thou spend upo...   \n",
       "4  V          those hours, that with gentle work did frame ...   \n",
       "\n",
       "                                              tokens  \n",
       "0  [from, fairest, creatures, we, desire, increas...  \n",
       "1  [when, forty, winters, shall, besiege, thy, br...  \n",
       "2  [look, in, thy, glass, and, tell, the, face, t...  \n",
       "3  [unthrifty, loveliness, why, dost, thou, spend...  \n",
       "4  [those, hours, that, with, gentle, work, did, ...  "
      ]
     },
     "execution_count": 9,
     "metadata": {},
     "output_type": "execute_result"
    }
   ],
   "source": [
    "from nltk.tokenize import RegexpTokenizer\n",
    "\n",
    "tokenizer = RegexpTokenizer(r'\\w+')\n",
    "sonnets_clean[\"tokens\"] = sonnets_clean[\"poem\"].apply(tokenizer.tokenize)\n",
    "sonnets_clean[0:5]"
   ]
  },
  {
   "cell_type": "code",
   "execution_count": 10,
   "metadata": {
    "collapsed": true
   },
   "outputs": [],
   "source": [
    "nlp = spacy.load('en')"
   ]
  },
  {
   "cell_type": "code",
   "execution_count": null,
   "metadata": {
    "collapsed": true
   },
   "outputs": [],
   "source": [
    "for row in np.arange(len(sonnets)):\n",
    "    text=[sonnets.iloc[row,1]]\n",
    "    vectorizer = CountVectorizer(strip_accents = 'unicode',stop_words='english')\n",
    "    # tokenize and build vocab\n",
    "    vectorizer.fit(text)\n",
    "    words = list(vectorizer.vocabulary_.keys())\n",
    "    counts = vector.toarray()[0]\n",
    "    for word in words:\n",
    "       doc = nlp(word) \n"
   ]
  },
  {
   "cell_type": "code",
   "execution_count": null,
   "metadata": {
    "collapsed": true
   },
   "outputs": [],
   "source": [
    "n1=np.linalg.norm(doc1.vector-doc2.vector)\n",
    "n2=np.linalg.norm(doc2.vector-doc3.vector)\n",
    "n3=np.linalg.norm(doc3.vector-doc1.vector)"
   ]
  },
  {
   "cell_type": "code",
   "execution_count": null,
   "metadata": {
    "collapsed": true
   },
   "outputs": [],
   "source": [
    "print(n1)\n",
    "print(n2)\n",
    "print(n3)"
   ]
  },
  {
   "cell_type": "code",
   "execution_count": null,
   "metadata": {
    "collapsed": true
   },
   "outputs": [],
   "source": [
    "spacy.load('en_vectors_web_lg')"
   ]
  },
  {
   "cell_type": "code",
   "execution_count": null,
   "metadata": {
    "collapsed": true
   },
   "outputs": [],
   "source": [
    "nlp = spacy.load('en_core_web_lg')"
   ]
  },
  {
   "cell_type": "code",
   "execution_count": null,
   "metadata": {
    "collapsed": true
   },
   "outputs": [],
   "source": [
    "alldocs = []\n",
    "for row in np.arange(len(sonnets)):\n",
    "    alldocs.append(nlp(sonnets.iloc[row,1]))\n",
    "\n",
    "                "
   ]
  },
  {
   "cell_type": "code",
   "execution_count": 289,
   "metadata": {},
   "outputs": [
    {
     "data": {
      "text/html": [
       "<div>\n",
       "<style>\n",
       "    .dataframe thead tr:only-child th {\n",
       "        text-align: right;\n",
       "    }\n",
       "\n",
       "    .dataframe thead th {\n",
       "        text-align: left;\n",
       "    }\n",
       "\n",
       "    .dataframe tbody tr th {\n",
       "        vertical-align: top;\n",
       "    }\n",
       "</style>\n",
       "<table border=\"1\" class=\"dataframe\">\n",
       "  <thead>\n",
       "    <tr style=\"text-align: right;\">\n",
       "      <th></th>\n",
       "      <th>title</th>\n",
       "      <th>poem</th>\n",
       "    </tr>\n",
       "  </thead>\n",
       "  <tbody>\n",
       "    <tr>\n",
       "      <th>0</th>\n",
       "      <td>I</td>\n",
       "      <td>From fairest creatures we desire increase, Th...</td>\n",
       "    </tr>\n",
       "    <tr>\n",
       "      <th>1</th>\n",
       "      <td>II</td>\n",
       "      <td>When forty winters shall besiege thy brow, An...</td>\n",
       "    </tr>\n",
       "    <tr>\n",
       "      <th>2</th>\n",
       "      <td>III</td>\n",
       "      <td>Look in thy glass and tell the face thou view...</td>\n",
       "    </tr>\n",
       "    <tr>\n",
       "      <th>3</th>\n",
       "      <td>IV</td>\n",
       "      <td>Unthrifty loveliness, why dost thou spend Upo...</td>\n",
       "    </tr>\n",
       "    <tr>\n",
       "      <th>4</th>\n",
       "      <td>V</td>\n",
       "      <td>Those hours, that with gentle work did frame ...</td>\n",
       "    </tr>\n",
       "    <tr>\n",
       "      <th>5</th>\n",
       "      <td>VI</td>\n",
       "      <td>Then let not winter's ragged hand deface, In ...</td>\n",
       "    </tr>\n",
       "    <tr>\n",
       "      <th>6</th>\n",
       "      <td>VII</td>\n",
       "      <td>Lo! in the orient when the gracious light Lif...</td>\n",
       "    </tr>\n",
       "    <tr>\n",
       "      <th>7</th>\n",
       "      <td>VIII</td>\n",
       "      <td>Music to hear, why hear'st thou music sadly? ...</td>\n",
       "    </tr>\n",
       "    <tr>\n",
       "      <th>8</th>\n",
       "      <td>IX</td>\n",
       "      <td>Is it for fear to wet a widow's eye, That tho...</td>\n",
       "    </tr>\n",
       "    <tr>\n",
       "      <th>9</th>\n",
       "      <td>X</td>\n",
       "      <td>For shame! deny that thou bear'st love to any...</td>\n",
       "    </tr>\n",
       "    <tr>\n",
       "      <th>10</th>\n",
       "      <td>XI</td>\n",
       "      <td>As fast as thou shalt wane, so fast thou grow...</td>\n",
       "    </tr>\n",
       "    <tr>\n",
       "      <th>11</th>\n",
       "      <td>XII</td>\n",
       "      <td>When I do count the clock that tells the time...</td>\n",
       "    </tr>\n",
       "    <tr>\n",
       "      <th>12</th>\n",
       "      <td>XIII</td>\n",
       "      <td>O! that you were your self; but, love you are...</td>\n",
       "    </tr>\n",
       "    <tr>\n",
       "      <th>13</th>\n",
       "      <td>XIV</td>\n",
       "      <td>Not from the stars do I my judgement pluck; A...</td>\n",
       "    </tr>\n",
       "    <tr>\n",
       "      <th>14</th>\n",
       "      <td>XV</td>\n",
       "      <td>When I consider every thing that grows Holds ...</td>\n",
       "    </tr>\n",
       "    <tr>\n",
       "      <th>15</th>\n",
       "      <td>XVI</td>\n",
       "      <td>But wherefore do not you a mightier way Make ...</td>\n",
       "    </tr>\n",
       "    <tr>\n",
       "      <th>16</th>\n",
       "      <td>XVII</td>\n",
       "      <td>Who will believe my verse in time to come, If...</td>\n",
       "    </tr>\n",
       "    <tr>\n",
       "      <th>17</th>\n",
       "      <td>XVIII</td>\n",
       "      <td>Shall I compare thee to a summer's day? Thou ...</td>\n",
       "    </tr>\n",
       "    <tr>\n",
       "      <th>18</th>\n",
       "      <td>XIX</td>\n",
       "      <td>Devouring Time, blunt thou the lion's paws, A...</td>\n",
       "    </tr>\n",
       "    <tr>\n",
       "      <th>19</th>\n",
       "      <td>XX</td>\n",
       "      <td>A woman's face with nature's own hand painted...</td>\n",
       "    </tr>\n",
       "    <tr>\n",
       "      <th>20</th>\n",
       "      <td>XXI</td>\n",
       "      <td>So is it not with me as with that Muse, Stirr...</td>\n",
       "    </tr>\n",
       "    <tr>\n",
       "      <th>21</th>\n",
       "      <td>XXII</td>\n",
       "      <td>My glass shall not persuade me I am old, So l...</td>\n",
       "    </tr>\n",
       "    <tr>\n",
       "      <th>22</th>\n",
       "      <td>XXIII</td>\n",
       "      <td>As an unperfect actor on the stage, Who with ...</td>\n",
       "    </tr>\n",
       "    <tr>\n",
       "      <th>23</th>\n",
       "      <td>XXIV</td>\n",
       "      <td>Mine eye hath play'd the painter and hath ste...</td>\n",
       "    </tr>\n",
       "    <tr>\n",
       "      <th>24</th>\n",
       "      <td>XXV</td>\n",
       "      <td>Let those who are in favour with their stars ...</td>\n",
       "    </tr>\n",
       "    <tr>\n",
       "      <th>25</th>\n",
       "      <td>XXVI</td>\n",
       "      <td>Lord of my love, to whom in vassalage Thy mer...</td>\n",
       "    </tr>\n",
       "    <tr>\n",
       "      <th>26</th>\n",
       "      <td>XXVII</td>\n",
       "      <td>Weary with toil, I haste me to my bed, The de...</td>\n",
       "    </tr>\n",
       "    <tr>\n",
       "      <th>27</th>\n",
       "      <td>XXVIII</td>\n",
       "      <td>How can I then return in happy plight, That a...</td>\n",
       "    </tr>\n",
       "    <tr>\n",
       "      <th>28</th>\n",
       "      <td>XXIX</td>\n",
       "      <td>When in disgrace with fortune and men's eyes ...</td>\n",
       "    </tr>\n",
       "    <tr>\n",
       "      <th>29</th>\n",
       "      <td>XXX</td>\n",
       "      <td>When to the sessions of sweet silent thought ...</td>\n",
       "    </tr>\n",
       "    <tr>\n",
       "      <th>...</th>\n",
       "      <td>...</td>\n",
       "      <td>...</td>\n",
       "    </tr>\n",
       "    <tr>\n",
       "      <th>124</th>\n",
       "      <td>CXXV</td>\n",
       "      <td>Were't aught to me I bore the canopy, With my...</td>\n",
       "    </tr>\n",
       "    <tr>\n",
       "      <th>125</th>\n",
       "      <td>CXXVI</td>\n",
       "      <td>O thou, my lovely boy, who in thy power Dost ...</td>\n",
       "    </tr>\n",
       "    <tr>\n",
       "      <th>126</th>\n",
       "      <td>CXXVII</td>\n",
       "      <td>In the old age black was not counted fair, Or...</td>\n",
       "    </tr>\n",
       "    <tr>\n",
       "      <th>127</th>\n",
       "      <td>CXXVIII</td>\n",
       "      <td>How oft when thou, my music, music play'st, U...</td>\n",
       "    </tr>\n",
       "    <tr>\n",
       "      <th>128</th>\n",
       "      <td>CXXIX</td>\n",
       "      <td>The expense of spirit in a waste of shame Is ...</td>\n",
       "    </tr>\n",
       "    <tr>\n",
       "      <th>129</th>\n",
       "      <td>CXXX</td>\n",
       "      <td>My mistress' eyes are nothing like the sun; C...</td>\n",
       "    </tr>\n",
       "    <tr>\n",
       "      <th>130</th>\n",
       "      <td>CXXXI</td>\n",
       "      <td>Thou art as tyrannous, so as thou art, As tho...</td>\n",
       "    </tr>\n",
       "    <tr>\n",
       "      <th>131</th>\n",
       "      <td>CXXXII</td>\n",
       "      <td>Thine eyes I love, and they, as pitying me, K...</td>\n",
       "    </tr>\n",
       "    <tr>\n",
       "      <th>132</th>\n",
       "      <td>CXXXIII</td>\n",
       "      <td>Beshrew that heart that makes my heart to gro...</td>\n",
       "    </tr>\n",
       "    <tr>\n",
       "      <th>133</th>\n",
       "      <td>CXXXIV</td>\n",
       "      <td>So, now I have confess'd that he is thine, An...</td>\n",
       "    </tr>\n",
       "    <tr>\n",
       "      <th>134</th>\n",
       "      <td>CXXXV</td>\n",
       "      <td>Whoever hath her wish, thou hast thy 'Will,' ...</td>\n",
       "    </tr>\n",
       "    <tr>\n",
       "      <th>135</th>\n",
       "      <td>CXXXVI</td>\n",
       "      <td>If thy soul check thee that I come so near, S...</td>\n",
       "    </tr>\n",
       "    <tr>\n",
       "      <th>136</th>\n",
       "      <td>CXXXVII</td>\n",
       "      <td>Thou blind fool, Love, what dost thou to mine...</td>\n",
       "    </tr>\n",
       "    <tr>\n",
       "      <th>137</th>\n",
       "      <td>CXXXVIII</td>\n",
       "      <td>When my love swears that she is made of truth...</td>\n",
       "    </tr>\n",
       "    <tr>\n",
       "      <th>138</th>\n",
       "      <td>CXXXIX</td>\n",
       "      <td>O! call not me to justify the wrong That thy ...</td>\n",
       "    </tr>\n",
       "    <tr>\n",
       "      <th>139</th>\n",
       "      <td>CXL</td>\n",
       "      <td>Be wise as thou art cruel; do not press My to...</td>\n",
       "    </tr>\n",
       "    <tr>\n",
       "      <th>140</th>\n",
       "      <td>CXLI</td>\n",
       "      <td>In faith I do not love thee with mine eyes, F...</td>\n",
       "    </tr>\n",
       "    <tr>\n",
       "      <th>141</th>\n",
       "      <td>CXLII</td>\n",
       "      <td>Love is my sin, and thy dear virtue hate, Hat...</td>\n",
       "    </tr>\n",
       "    <tr>\n",
       "      <th>142</th>\n",
       "      <td>CXLIII</td>\n",
       "      <td>Lo, as a careful housewife runs to catch One ...</td>\n",
       "    </tr>\n",
       "    <tr>\n",
       "      <th>143</th>\n",
       "      <td>CXLIV</td>\n",
       "      <td>Two loves I have of comfort and despair, Whic...</td>\n",
       "    </tr>\n",
       "    <tr>\n",
       "      <th>144</th>\n",
       "      <td>CXLV</td>\n",
       "      <td>Those lips that Love's own hand did make, Bre...</td>\n",
       "    </tr>\n",
       "    <tr>\n",
       "      <th>145</th>\n",
       "      <td>CXLVI</td>\n",
       "      <td>Poor soul, the centre of my sinful earth, My ...</td>\n",
       "    </tr>\n",
       "    <tr>\n",
       "      <th>146</th>\n",
       "      <td>CXLVII</td>\n",
       "      <td>My love is as a fever longing still, For that...</td>\n",
       "    </tr>\n",
       "    <tr>\n",
       "      <th>147</th>\n",
       "      <td>CXLVIII</td>\n",
       "      <td>O me! what eyes hath Love put in my head, Whi...</td>\n",
       "    </tr>\n",
       "    <tr>\n",
       "      <th>148</th>\n",
       "      <td>CXLIX</td>\n",
       "      <td>Canst thou, O cruel! say I love thee not, Whe...</td>\n",
       "    </tr>\n",
       "    <tr>\n",
       "      <th>149</th>\n",
       "      <td>CL</td>\n",
       "      <td>O! from what power hast thou this powerful mi...</td>\n",
       "    </tr>\n",
       "    <tr>\n",
       "      <th>150</th>\n",
       "      <td>CLI</td>\n",
       "      <td>Love is too young to know what conscience is,...</td>\n",
       "    </tr>\n",
       "    <tr>\n",
       "      <th>151</th>\n",
       "      <td>CLII</td>\n",
       "      <td>In loving thee thou know'st I am forsworn, Bu...</td>\n",
       "    </tr>\n",
       "    <tr>\n",
       "      <th>152</th>\n",
       "      <td>CLIII</td>\n",
       "      <td>Cupid laid by his brand and fell asleep: A ma...</td>\n",
       "    </tr>\n",
       "    <tr>\n",
       "      <th>153</th>\n",
       "      <td>CLIV</td>\n",
       "      <td>The little Love-god lying once asleep, Laid b...</td>\n",
       "    </tr>\n",
       "  </tbody>\n",
       "</table>\n",
       "<p>154 rows × 2 columns</p>\n",
       "</div>"
      ],
      "text/plain": [
       "        title                                               poem\n",
       "0      I        From fairest creatures we desire increase, Th...\n",
       "1    II         When forty winters shall besiege thy brow, An...\n",
       "2    III        Look in thy glass and tell the face thou view...\n",
       "3    IV         Unthrifty loveliness, why dost thou spend Upo...\n",
       "4    V          Those hours, that with gentle work did frame ...\n",
       "5    VI         Then let not winter's ragged hand deface, In ...\n",
       "6    VII        Lo! in the orient when the gracious light Lif...\n",
       "7    VIII       Music to hear, why hear'st thou music sadly? ...\n",
       "8    IX         Is it for fear to wet a widow's eye, That tho...\n",
       "9    X          For shame! deny that thou bear'st love to any...\n",
       "10   XI         As fast as thou shalt wane, so fast thou grow...\n",
       "11   XII        When I do count the clock that tells the time...\n",
       "12   XIII       O! that you were your self; but, love you are...\n",
       "13   XIV        Not from the stars do I my judgement pluck; A...\n",
       "14   XV         When I consider every thing that grows Holds ...\n",
       "15   XVI        But wherefore do not you a mightier way Make ...\n",
       "16   XVII       Who will believe my verse in time to come, If...\n",
       "17   XVIII      Shall I compare thee to a summer's day? Thou ...\n",
       "18   XIX        Devouring Time, blunt thou the lion's paws, A...\n",
       "19   XX         A woman's face with nature's own hand painted...\n",
       "20   XXI        So is it not with me as with that Muse, Stirr...\n",
       "21   XXII       My glass shall not persuade me I am old, So l...\n",
       "22   XXIII      As an unperfect actor on the stage, Who with ...\n",
       "23   XXIV       Mine eye hath play'd the painter and hath ste...\n",
       "24   XXV        Let those who are in favour with their stars ...\n",
       "25   XXVI       Lord of my love, to whom in vassalage Thy mer...\n",
       "26   XXVII      Weary with toil, I haste me to my bed, The de...\n",
       "27   XXVIII     How can I then return in happy plight, That a...\n",
       "28   XXIX       When in disgrace with fortune and men's eyes ...\n",
       "29   XXX        When to the sessions of sweet silent thought ...\n",
       "..        ...                                                ...\n",
       "124  CXXV       Were't aught to me I bore the canopy, With my...\n",
       "125  CXXVI      O thou, my lovely boy, who in thy power Dost ...\n",
       "126  CXXVII     In the old age black was not counted fair, Or...\n",
       "127  CXXVIII    How oft when thou, my music, music play'st, U...\n",
       "128  CXXIX      The expense of spirit in a waste of shame Is ...\n",
       "129  CXXX       My mistress' eyes are nothing like the sun; C...\n",
       "130  CXXXI      Thou art as tyrannous, so as thou art, As tho...\n",
       "131  CXXXII     Thine eyes I love, and they, as pitying me, K...\n",
       "132  CXXXIII    Beshrew that heart that makes my heart to gro...\n",
       "133  CXXXIV     So, now I have confess'd that he is thine, An...\n",
       "134  CXXXV      Whoever hath her wish, thou hast thy 'Will,' ...\n",
       "135  CXXXVI     If thy soul check thee that I come so near, S...\n",
       "136  CXXXVII    Thou blind fool, Love, what dost thou to mine...\n",
       "137  CXXXVIII   When my love swears that she is made of truth...\n",
       "138  CXXXIX     O! call not me to justify the wrong That thy ...\n",
       "139  CXL        Be wise as thou art cruel; do not press My to...\n",
       "140  CXLI       In faith I do not love thee with mine eyes, F...\n",
       "141  CXLII      Love is my sin, and thy dear virtue hate, Hat...\n",
       "142  CXLIII     Lo, as a careful housewife runs to catch One ...\n",
       "143  CXLIV      Two loves I have of comfort and despair, Whic...\n",
       "144  CXLV       Those lips that Love's own hand did make, Bre...\n",
       "145  CXLVI      Poor soul, the centre of my sinful earth, My ...\n",
       "146  CXLVII     My love is as a fever longing still, For that...\n",
       "147  CXLVIII    O me! what eyes hath Love put in my head, Whi...\n",
       "148  CXLIX      Canst thou, O cruel! say I love thee not, Whe...\n",
       "149  CL         O! from what power hast thou this powerful mi...\n",
       "150  CLI        Love is too young to know what conscience is,...\n",
       "151  CLII       In loving thee thou know'st I am forsworn, Bu...\n",
       "152  CLIII      Cupid laid by his brand and fell asleep: A ma...\n",
       "153  CLIV       The little Love-god lying once asleep, Laid b...\n",
       "\n",
       "[154 rows x 2 columns]"
      ]
     },
     "execution_count": 289,
     "metadata": {},
     "output_type": "execute_result"
    }
   ],
   "source": []
  },
  {
   "cell_type": "code",
   "execution_count": null,
   "metadata": {
    "collapsed": true
   },
   "outputs": [],
   "source": [
    "matchwords = nlp(teststr)"
   ]
  },
  {
   "cell_type": "code",
   "execution_count": null,
   "metadata": {
    "collapsed": true
   },
   "outputs": [],
   "source": [
    "n = len(sonnets)\n",
    "alldists = np.zeros(n)\n",
    "for i in np.arange(n):\n",
    "    alldists[i] = alldocs[i].similarity(matchwords)"
   ]
  },
  {
   "cell_type": "code",
   "execution_count": null,
   "metadata": {
    "collapsed": true
   },
   "outputs": [],
   "source": [
    "import matplotlib as mpl # a big library with plotting functionality\n",
    "import matplotlib.pyplot as plt # a subset of matplotlib with most of the useful tools\n",
    "%matplotlib inline \n",
    "plt.plot(alldists)"
   ]
  },
  {
   "cell_type": "code",
   "execution_count": null,
   "metadata": {
    "collapsed": true
   },
   "outputs": [],
   "source": [
    "np.linalg.norm(alldocs[1].vector)"
   ]
  },
  {
   "cell_type": "code",
   "execution_count": null,
   "metadata": {
    "collapsed": true
   },
   "outputs": [],
   "source": [
    "tokens = nlp(u'dog cat banana sasquatch')\n",
    "\n",
    "for token in tokens:\n",
    "    print(token.text, token.has_vector, token.vector_norm, token.is_oov)"
   ]
  },
  {
   "cell_type": "code",
   "execution_count": null,
   "metadata": {
    "collapsed": true
   },
   "outputs": [],
   "source": [
    "poem = nlp(sonnets.iloc[0,1])"
   ]
  },
  {
   "cell_type": "code",
   "execution_count": null,
   "metadata": {
    "collapsed": true
   },
   "outputs": [],
   "source": [
    "alldocs[5].vector_norm"
   ]
  },
  {
   "cell_type": "code",
   "execution_count": null,
   "metadata": {
    "collapsed": true
   },
   "outputs": [],
   "source": [
    "np.array(nlp(\"pig\").vector)"
   ]
  },
  {
   "cell_type": "code",
   "execution_count": null,
   "metadata": {
    "collapsed": true
   },
   "outputs": [],
   "source": [
    "alldocs[1].similarity(nlp(\"love\"))"
   ]
  },
  {
   "cell_type": "code",
   "execution_count": null,
   "metadata": {
    "collapsed": true
   },
   "outputs": [],
   "source": [
    "d1 = nlp(\"cat\")\n",
    "d2 = nlp(\"dog\")\n",
    "d3 = nlp(\"cat dog\")\n",
    "(d1.vector+d2.vector)/2 - d3.vector"
   ]
  },
  {
   "cell_type": "code",
   "execution_count": null,
   "metadata": {
    "collapsed": true
   },
   "outputs": [],
   "source": [
    "allvecs = np.zeros((300,154))\n",
    "for i in np.arange(154):\n",
    "    allvecs[:,i] = alldocs[i].vector"
   ]
  },
  {
   "cell_type": "code",
   "execution_count": 347,
   "metadata": {},
   "outputs": [
    {
     "data": {
      "text/plain": [
       "<matplotlib.text.Text at 0x12e37e4a8>"
      ]
     },
     "execution_count": 347,
     "metadata": {},
     "output_type": "execute_result"
    },
    {
     "data": {
      "image/png": "[encoded data removed]",
      "text/plain": [
       "<matplotlib.figure.Figure at 0x12604c6d8>"
      ]
     },
     "metadata": {},
     "output_type": "display_data"
    }
   ],
   "source": [
    "from sklearn.decomposition import PCA\n",
    "pca = PCA(n_components=2)\n",
    "pca.fit(allvecs)\n",
    "\n",
    "#reduced_data = PCA(n_components=2).fit_transform(allvecs) \n",
    "ipca = PCA(n_components=2).fit(allvecs) \n",
    "reduced_data = ipca.transform(allvecs)\n",
    "plt.plot(reduced_data[:,0],reduced_data[:,1],'.')\n",
    "plt.title('Poem distances (PCA)',fontsize=16)"
   ]
  },
  {
   "cell_type": "code",
   "execution_count": 345,
   "metadata": {},
   "outputs": [
    {
     "name": "stderr",
     "output_type": "stream",
     "text": [
      "/Users/ctoews/anaconda/envs/py3_6_2/lib/python3.6/site-packages/sklearn/utils/validation.py:395: DeprecationWarning: Passing 1d arrays as data is deprecated in 0.17 and will raise ValueError in 0.19. Reshape your data either using X.reshape(-1, 1) if your data has a single feature or X.reshape(1, -1) if it contains a single sample.\n",
      "  DeprecationWarning)\n"
     ]
    },
    {
     "ename": "ValueError",
     "evalue": "operands could not be broadcast together with shapes (1,300) (154,) ",
     "output_type": "error",
     "traceback": [
      "\u001b[0;31m---------------------------------------------------------------------------\u001b[0m",
      "\u001b[0;31mValueError\u001b[0m                                Traceback (most recent call last)",
      "\u001b[0;32m<ipython-input-345-1da8119a4fac>\u001b[0m in \u001b[0;36m<module>\u001b[0;34m()\u001b[0m\n\u001b[1;32m      1\u001b[0m \u001b[0mlove\u001b[0m \u001b[0;34m=\u001b[0m \u001b[0mnlp\u001b[0m\u001b[0;34m(\u001b[0m\u001b[0;34m'love'\u001b[0m\u001b[0;34m)\u001b[0m\u001b[0;34m\u001b[0m\u001b[0m\n\u001b[1;32m      2\u001b[0m \u001b[0;31m#len(love.vector)\u001b[0m\u001b[0;34m\u001b[0m\u001b[0;34m\u001b[0m\u001b[0m\n\u001b[0;32m----> 3\u001b[0;31m \u001b[0mlove\u001b[0m \u001b[0;34m=\u001b[0m \u001b[0mipca\u001b[0m\u001b[0;34m.\u001b[0m\u001b[0mtransform\u001b[0m\u001b[0;34m(\u001b[0m\u001b[0mlove\u001b[0m\u001b[0;34m.\u001b[0m\u001b[0mvector\u001b[0m\u001b[0;34m.\u001b[0m\u001b[0mtranspose\u001b[0m\u001b[0;34m(\u001b[0m\u001b[0;34m)\u001b[0m\u001b[0;34m)\u001b[0m\u001b[0;34m\u001b[0m\u001b[0m\n\u001b[0m",
      "\u001b[0;32m/Users/ctoews/anaconda/envs/py3_6_2/lib/python3.6/site-packages/sklearn/decomposition/base.py\u001b[0m in \u001b[0;36mtransform\u001b[0;34m(self, X, y)\u001b[0m\n\u001b[1;32m    130\u001b[0m         \u001b[0mX\u001b[0m \u001b[0;34m=\u001b[0m \u001b[0mcheck_array\u001b[0m\u001b[0;34m(\u001b[0m\u001b[0mX\u001b[0m\u001b[0;34m)\u001b[0m\u001b[0;34m\u001b[0m\u001b[0m\n\u001b[1;32m    131\u001b[0m         \u001b[0;32mif\u001b[0m \u001b[0mself\u001b[0m\u001b[0;34m.\u001b[0m\u001b[0mmean_\u001b[0m \u001b[0;32mis\u001b[0m \u001b[0;32mnot\u001b[0m \u001b[0;32mNone\u001b[0m\u001b[0;34m:\u001b[0m\u001b[0;34m\u001b[0m\u001b[0m\n\u001b[0;32m--> 132\u001b[0;31m             \u001b[0mX\u001b[0m \u001b[0;34m=\u001b[0m \u001b[0mX\u001b[0m \u001b[0;34m-\u001b[0m \u001b[0mself\u001b[0m\u001b[0;34m.\u001b[0m\u001b[0mmean_\u001b[0m\u001b[0;34m\u001b[0m\u001b[0m\n\u001b[0m\u001b[1;32m    133\u001b[0m         \u001b[0mX_transformed\u001b[0m \u001b[0;34m=\u001b[0m \u001b[0mfast_dot\u001b[0m\u001b[0;34m(\u001b[0m\u001b[0mX\u001b[0m\u001b[0;34m,\u001b[0m \u001b[0mself\u001b[0m\u001b[0;34m.\u001b[0m\u001b[0mcomponents_\u001b[0m\u001b[0;34m.\u001b[0m\u001b[0mT\u001b[0m\u001b[0;34m)\u001b[0m\u001b[0;34m\u001b[0m\u001b[0m\n\u001b[1;32m    134\u001b[0m         \u001b[0;32mif\u001b[0m \u001b[0mself\u001b[0m\u001b[0;34m.\u001b[0m\u001b[0mwhiten\u001b[0m\u001b[0;34m:\u001b[0m\u001b[0;34m\u001b[0m\u001b[0m\n",
      "\u001b[0;31mValueError\u001b[0m: operands could not be broadcast together with shapes (1,300) (154,) "
     ]
    }
   ],
   "source": [
    "love = nlp('love')\n",
    "#len(love.vector)\n",
    "love = ipca.transform(love.vector.transpose())"
   ]
  },
  {
   "cell_type": "code",
   "execution_count": 335,
   "metadata": {},
   "outputs": [
    {
     "data": {
      "text/plain": [
       "array([[ 0.]])"
      ]
     },
     "execution_count": 335,
     "metadata": {},
     "output_type": "execute_result"
    }
   ],
   "source": [
    "love"
   ]
  },
  {
   "cell_type": "markdown",
   "metadata": {},
   "source": [
    "**Last ditch attempt, 6:30pm**"
   ]
  },
  {
   "cell_type": "code",
   "execution_count": 249,
   "metadata": {
    "collapsed": true
   },
   "outputs": [],
   "source": [
    "from sklearn.feature_extraction.text import TfidfVectorizer\n",
    "from sklearn.decomposition import NMF"
   ]
  },
  {
   "cell_type": "code",
   "execution_count": 245,
   "metadata": {
    "collapsed": true
   },
   "outputs": [],
   "source": [
    "def display_topics(model, W, feature_names, df, \n",
    "                   n_top_words, n_top_documents):\n",
    "    ''' Print out topics discovered by a model and which documents contain those topics '''\n",
    "    \n",
    "    for topic_idx, topic in enumerate(model.components_):\n",
    "        print('Topic #%d: %s' % (topic_idx, ' '.join([feature_names[i]\n",
    "                        for i in topic.argsort()[:-n_top_words - 1:-1]])))\n",
    "\n",
    "        top_doc_indices = np.argsort( W[:,topic_idx] )[::-1][0:n_top_documents]\n",
    "        for doc_index in top_doc_indices:\n",
    "            print('%20s on %s' % (df['president'][doc_index], df['date'][doc_index]))\n",
    "        print('')\n",
    "\n",
    "# define the number of samples, features, topics, and how many \n",
    "# words/documents to display later on\n",
    "n_features      = 1000\n",
    "n_topics        = 15\n",
    "n_top_words     = 10\n",
    "n_top_documents = 10"
   ]
  },
  {
   "cell_type": "code",
   "execution_count": 246,
   "metadata": {
    "collapsed": true
   },
   "outputs": [],
   "source": [
    "# Use tf-idf features for NMF.\n",
    "tfidf_vectorizer = TfidfVectorizer(max_df=0.95, min_df=2,\n",
    "                                   max_features=n_features,\n",
    "                                   stop_words='english')\n",
    "tfidf = tfidf_vectorizer.fit_transform(sonnets['poem'])"
   ]
  },
  {
   "cell_type": "code",
   "execution_count": 254,
   "metadata": {},
   "outputs": [
    {
     "ename": "TypeError",
     "evalue": "can't multiply sequence by non-int of type 'float'",
     "output_type": "error",
     "traceback": [
      "\u001b[0;31m---------------------------------------------------------------------------\u001b[0m",
      "\u001b[0;31mTypeError\u001b[0m                                 Traceback (most recent call last)",
      "\u001b[0;32m<ipython-input-254-115a66864f00>\u001b[0m in \u001b[0;36m<module>\u001b[0;34m()\u001b[0m\n\u001b[1;32m      1\u001b[0m \u001b[0;31m# Fit the NMF model using the Frobenius norm\u001b[0m\u001b[0;34m\u001b[0m\u001b[0;34m\u001b[0m\u001b[0m\n\u001b[1;32m      2\u001b[0m nmf = NMF(n_components=n_topics, random_state=1, \n\u001b[0;32m----> 3\u001b[0;31m           solver='cd', l1_ratio='frobenius').fit(tfidf)\n\u001b[0m\u001b[1;32m      4\u001b[0m \u001b[0;34m\u001b[0m\u001b[0m\n\u001b[1;32m      5\u001b[0m \u001b[0mprint\u001b[0m\u001b[0;34m(\u001b[0m\u001b[0;34m\"\\nTopics in NMF model (Frobenius norm):\\n\"\u001b[0m\u001b[0;34m)\u001b[0m\u001b[0;34m\u001b[0m\u001b[0m\n",
      "\u001b[0;32m/Users/ctoews/anaconda/envs/py3_6_2/lib/python3.6/site-packages/sklearn/decomposition/nmf.py\u001b[0m in \u001b[0;36mfit\u001b[0;34m(self, X, y, **params)\u001b[0m\n\u001b[1;32m   1058\u001b[0m         \u001b[0mself\u001b[0m\u001b[0;34m\u001b[0m\u001b[0m\n\u001b[1;32m   1059\u001b[0m         \"\"\"\n\u001b[0;32m-> 1060\u001b[0;31m         \u001b[0mself\u001b[0m\u001b[0;34m.\u001b[0m\u001b[0mfit_transform\u001b[0m\u001b[0;34m(\u001b[0m\u001b[0mX\u001b[0m\u001b[0;34m,\u001b[0m \u001b[0;34m**\u001b[0m\u001b[0mparams\u001b[0m\u001b[0;34m)\u001b[0m\u001b[0;34m\u001b[0m\u001b[0m\n\u001b[0m\u001b[1;32m   1061\u001b[0m         \u001b[0;32mreturn\u001b[0m \u001b[0mself\u001b[0m\u001b[0;34m\u001b[0m\u001b[0m\n\u001b[1;32m   1062\u001b[0m \u001b[0;34m\u001b[0m\u001b[0m\n",
      "\u001b[0;32m/Users/ctoews/anaconda/envs/py3_6_2/lib/python3.6/site-packages/sklearn/decomposition/nmf.py\u001b[0m in \u001b[0;36mfit_transform\u001b[0;34m(self, X, y, W, H)\u001b[0m\n\u001b[1;32m   1032\u001b[0m             \u001b[0mshuffle\u001b[0m\u001b[0;34m=\u001b[0m\u001b[0mself\u001b[0m\u001b[0;34m.\u001b[0m\u001b[0mshuffle\u001b[0m\u001b[0;34m,\u001b[0m\u001b[0;34m\u001b[0m\u001b[0m\n\u001b[1;32m   1033\u001b[0m             \u001b[0mnls_max_iter\u001b[0m\u001b[0;34m=\u001b[0m\u001b[0mself\u001b[0m\u001b[0;34m.\u001b[0m\u001b[0mnls_max_iter\u001b[0m\u001b[0;34m,\u001b[0m \u001b[0msparseness\u001b[0m\u001b[0;34m=\u001b[0m\u001b[0mself\u001b[0m\u001b[0;34m.\u001b[0m\u001b[0msparseness\u001b[0m\u001b[0;34m,\u001b[0m\u001b[0;34m\u001b[0m\u001b[0m\n\u001b[0;32m-> 1034\u001b[0;31m             beta=self.beta, eta=self.eta)\n\u001b[0m\u001b[1;32m   1035\u001b[0m \u001b[0;34m\u001b[0m\u001b[0m\n\u001b[1;32m   1036\u001b[0m         \u001b[0;32mif\u001b[0m \u001b[0mself\u001b[0m\u001b[0;34m.\u001b[0m\u001b[0msolver\u001b[0m \u001b[0;34m==\u001b[0m \u001b[0;34m'pg'\u001b[0m\u001b[0;34m:\u001b[0m\u001b[0;34m\u001b[0m\u001b[0m\n",
      "\u001b[0;32m/Users/ctoews/anaconda/envs/py3_6_2/lib/python3.6/site-packages/sklearn/decomposition/nmf.py\u001b[0m in \u001b[0;36mnon_negative_factorization\u001b[0;34m(X, W, H, n_components, init, update_H, solver, tol, max_iter, alpha, l1_ratio, regularization, random_state, verbose, shuffle, nls_max_iter, sparseness, beta, eta)\u001b[0m\n\u001b[1;32m    795\u001b[0m                                                \u001b[0mverbose\u001b[0m\u001b[0;34m=\u001b[0m\u001b[0mverbose\u001b[0m\u001b[0;34m,\u001b[0m\u001b[0;34m\u001b[0m\u001b[0m\n\u001b[1;32m    796\u001b[0m                                                \u001b[0mshuffle\u001b[0m\u001b[0;34m=\u001b[0m\u001b[0mshuffle\u001b[0m\u001b[0;34m,\u001b[0m\u001b[0;34m\u001b[0m\u001b[0m\n\u001b[0;32m--> 797\u001b[0;31m                                                random_state=random_state)\n\u001b[0m\u001b[1;32m    798\u001b[0m     \u001b[0;32melse\u001b[0m\u001b[0;34m:\u001b[0m\u001b[0;34m\u001b[0m\u001b[0m\n\u001b[1;32m    799\u001b[0m         \u001b[0;32mraise\u001b[0m \u001b[0mValueError\u001b[0m\u001b[0;34m(\u001b[0m\u001b[0;34m\"Invalid solver parameter '%s'.\"\u001b[0m \u001b[0;34m%\u001b[0m \u001b[0msolver\u001b[0m\u001b[0;34m)\u001b[0m\u001b[0;34m\u001b[0m\u001b[0m\n",
      "\u001b[0;32m/Users/ctoews/anaconda/envs/py3_6_2/lib/python3.6/site-packages/sklearn/decomposition/nmf.py\u001b[0m in \u001b[0;36m_fit_coordinate_descent\u001b[0;34m(X, W, H, tol, max_iter, alpha, l1_ratio, regularization, update_H, verbose, shuffle, random_state)\u001b[0m\n\u001b[1;32m    564\u001b[0m     \u001b[0;32mif\u001b[0m \u001b[0mregularization\u001b[0m \u001b[0;32min\u001b[0m \u001b[0;34m(\u001b[0m\u001b[0;34m'both'\u001b[0m\u001b[0;34m,\u001b[0m \u001b[0;34m'components'\u001b[0m\u001b[0;34m)\u001b[0m\u001b[0;34m:\u001b[0m\u001b[0;34m\u001b[0m\u001b[0m\n\u001b[1;32m    565\u001b[0m         \u001b[0malpha\u001b[0m \u001b[0;34m=\u001b[0m \u001b[0mfloat\u001b[0m\u001b[0;34m(\u001b[0m\u001b[0malpha\u001b[0m\u001b[0;34m)\u001b[0m\u001b[0;34m\u001b[0m\u001b[0m\n\u001b[0;32m--> 566\u001b[0;31m         \u001b[0ml1_H\u001b[0m \u001b[0;34m=\u001b[0m \u001b[0ml1_ratio\u001b[0m \u001b[0;34m*\u001b[0m \u001b[0malpha\u001b[0m\u001b[0;34m\u001b[0m\u001b[0m\n\u001b[0m\u001b[1;32m    567\u001b[0m         \u001b[0ml2_H\u001b[0m \u001b[0;34m=\u001b[0m \u001b[0;34m(\u001b[0m\u001b[0;36m1.\u001b[0m \u001b[0;34m-\u001b[0m \u001b[0ml1_ratio\u001b[0m\u001b[0;34m)\u001b[0m \u001b[0;34m*\u001b[0m \u001b[0malpha\u001b[0m\u001b[0;34m\u001b[0m\u001b[0m\n\u001b[1;32m    568\u001b[0m     \u001b[0;32mif\u001b[0m \u001b[0mregularization\u001b[0m \u001b[0;32min\u001b[0m \u001b[0;34m(\u001b[0m\u001b[0;34m'both'\u001b[0m\u001b[0;34m,\u001b[0m \u001b[0;34m'transformation'\u001b[0m\u001b[0;34m)\u001b[0m\u001b[0;34m:\u001b[0m\u001b[0;34m\u001b[0m\u001b[0m\n",
      "\u001b[0;31mTypeError\u001b[0m: can't multiply sequence by non-int of type 'float'"
     ]
    }
   ],
   "source": [
    "# Fit the NMF model using the Frobenius norm\n",
    "nmf = NMF(n_components=n_topics, random_state=1, \n",
    "          solver='cd', l1_ratio='frobenius').fit(tfidf)\n",
    "\n",
    "print(\"\\nTopics in NMF model (Frobenius norm):\\n\")\n",
    "tfidf_feature_names = tfidf_vectorizer.get_feature_names()\n",
    "display_topics(nmf, nmf.transform(tfidf), tfidf_feature_names, \n",
    "               sonnets['poem'], n_top_words, n_top_documents)"
   ]
  },
  {
   "cell_type": "code",
   "execution_count": 300,
   "metadata": {},
   "outputs": [
    {
     "data": {
      "text/plain": [
       "[7, 5, 9]"
      ]
     },
     "execution_count": 300,
     "metadata": {},
     "output_type": "execute_result"
    }
   ],
   "source": [
    "import random\n",
    "[random.randint(0,10) for i in range(0,3)]\n"
   ]
  },
  {
   "cell_type": "markdown",
   "metadata": {},
   "source": [
    "**Create worcloud**"
   ]
  },
  {
   "cell_type": "code",
   "execution_count": 272,
   "metadata": {
    "collapsed": true
   },
   "outputs": [],
   "source": [
    "from wordcloud import WordCloud\n",
    "\n"
   ]
  },
  {
   "cell_type": "code",
   "execution_count": 321,
   "metadata": {
    "collapsed": true
   },
   "outputs": [],
   "source": [
    "allWords = ''\n",
    "for i in range(0,154):\n",
    "    allWords = allWords + sonnets['poem'][i]\n",
    "#allWords = pd.Series(allWords)\n",
    "#str(allWords).strip()\n",
    "allWords = allWords.replace('thy','')\n",
    "allWords = allWords.replace('thou','')\n",
    "allWords = allWords.replace('thee','')\n"
   ]
  },
  {
   "cell_type": "code",
   "execution_count": 273,
   "metadata": {},
   "outputs": [
    {
     "ename": "NameError",
     "evalue": "name 'mask' is not defined",
     "output_type": "error",
     "traceback": [
      "\u001b[0;31m---------------------------------------------------------------------------\u001b[0m",
      "\u001b[0;31mNameError\u001b[0m                                 Traceback (most recent call last)",
      "\u001b[0;32m<ipython-input-273-54b6cddf6427>\u001b[0m in \u001b[0;36m<module>\u001b[0;34m()\u001b[0m\n\u001b[1;32m      1\u001b[0m \u001b[0mwordcounts\u001b[0m \u001b[0;34m=\u001b[0m \u001b[0mpd\u001b[0m\u001b[0;34m.\u001b[0m\u001b[0mSeries\u001b[0m\u001b[0;34m(\u001b[0m\u001b[0mallWords\u001b[0m\u001b[0;34m)\u001b[0m\u001b[0;34m.\u001b[0m\u001b[0mvalue_counts\u001b[0m\u001b[0;34m(\u001b[0m\u001b[0;34m)\u001b[0m\u001b[0;34m\u001b[0m\u001b[0m\n\u001b[0;32m----> 2\u001b[0;31m \u001b[0mwcloud\u001b[0m \u001b[0;34m=\u001b[0m \u001b[0mWordCloud\u001b[0m\u001b[0;34m(\u001b[0m\u001b[0mwidth\u001b[0m\u001b[0;34m=\u001b[0m\u001b[0;36m1600\u001b[0m\u001b[0;34m,\u001b[0m \u001b[0mheight\u001b[0m\u001b[0;34m=\u001b[0m\u001b[0;36m1600\u001b[0m\u001b[0;34m,\u001b[0m \u001b[0mmask\u001b[0m\u001b[0;34m=\u001b[0m\u001b[0mmask\u001b[0m\u001b[0;34m,\u001b[0m \u001b[0mcolormap\u001b[0m\u001b[0;34m=\u001b[0m\u001b[0;34m'ocean'\u001b[0m\u001b[0;34m)\u001b[0m\u001b[0;34m.\u001b[0m\u001b[0mgenerate_from_frequencies\u001b[0m\u001b[0;34m(\u001b[0m\u001b[0mwordcounts\u001b[0m\u001b[0;34m[\u001b[0m\u001b[0;34m:\u001b[0m\u001b[0;36m100\u001b[0m\u001b[0;34m]\u001b[0m\u001b[0;34m.\u001b[0m\u001b[0mto_dict\u001b[0m\u001b[0;34m(\u001b[0m\u001b[0;34m)\u001b[0m\u001b[0;34m)\u001b[0m\u001b[0;34m\u001b[0m\u001b[0m\n\u001b[0m\u001b[1;32m      3\u001b[0m \u001b[0mplt\u001b[0m\u001b[0;34m.\u001b[0m\u001b[0mrcParams\u001b[0m\u001b[0;34m[\u001b[0m\u001b[0;34m\"figure.figsize\"\u001b[0m\u001b[0;34m]\u001b[0m \u001b[0;34m=\u001b[0m \u001b[0;34m(\u001b[0m\u001b[0;36m8\u001b[0m\u001b[0;34m,\u001b[0m \u001b[0;36m8\u001b[0m\u001b[0;34m)\u001b[0m\u001b[0;34m\u001b[0m\u001b[0m\n\u001b[1;32m      4\u001b[0m \u001b[0mfig\u001b[0m\u001b[0;34m,\u001b[0m \u001b[0max\u001b[0m \u001b[0;34m=\u001b[0m \u001b[0mplt\u001b[0m\u001b[0;34m.\u001b[0m\u001b[0msubplots\u001b[0m\u001b[0;34m(\u001b[0m\u001b[0;36m1\u001b[0m\u001b[0;34m)\u001b[0m\u001b[0;34m\u001b[0m\u001b[0m\n\u001b[1;32m      5\u001b[0m \u001b[0max\u001b[0m\u001b[0;34m.\u001b[0m\u001b[0mimshow\u001b[0m\u001b[0;34m(\u001b[0m\u001b[0mwcloud\u001b[0m\u001b[0;34m)\u001b[0m\u001b[0;34m\u001b[0m\u001b[0m\n",
      "\u001b[0;31mNameError\u001b[0m: name 'mask' is not defined"
     ]
    }
   ],
   "source": [
    "wordcounts = pd.Series(allWords).value_counts()\n",
    "wcloud = WordCloud(width=1600, height=1600, mask=mask, colormap='ocean').generate_from_frequencies(wordcounts[:100].to_dict())\n",
    "plt.rcParams[\"figure.figsize\"] = (8, 8)\n",
    "fig, ax = plt.subplots(1)\n",
    "ax.imshow(wcloud)\n",
    "ax.xaxis.set(ticks=[])\n",
    "ax.yaxis.set(ticks=[])\n",
    "plt.savefig('most_common_words.png', dpi=300, bbox_inches='tight')\n",
    "plt.show()"
   ]
  },
  {
   "cell_type": "code",
   "execution_count": 322,
   "metadata": {
    "collapsed": true
   },
   "outputs": [],
   "source": [
    "#wordcloud = WordCloud().generate(sonnets['poem'][0])\n",
    "wordcloud = WordCloud().generate(allWords)"
   ]
  },
  {
   "cell_type": "code",
   "execution_count": 323,
   "metadata": {},
   "outputs": [
    {
     "data": {
      "text/plain": [
       "(-0.5, 399.5, 199.5, -0.5)"
      ]
     },
     "execution_count": 323,
     "metadata": {},
     "output_type": "execute_result"
    },
    {
     "data": {
      "image/png": "[encoded data removed]",
      "text/plain": [
       "<matplotlib.figure.Figure at 0x125f70c88>"
      ]
     },
     "metadata": {},
     "output_type": "display_data"
    }
   ],
   "source": [
    "plt.imshow(wordcloud, interpolation='bilinear')\n",
    "plt.axis(\"off\")"
   ]
  },
  {
   "cell_type": "code",
   "execution_count": 290,
   "metadata": {
    "collapsed": true
   },
   "outputs": [],
   "source": [
    "import spacy"
   ]
  },
  {
   "cell_type": "code",
   "execution_count": 291,
   "metadata": {},
   "outputs": [
    {
     "data": {
      "text/plain": [
       "0        I     \n",
       "1      II      \n",
       "2      III     \n",
       "3      IV      \n",
       "4      V       \n",
       "5      VI      \n",
       "6      VII     \n",
       "7      VIII    \n",
       "8      IX      \n",
       "9      X       \n",
       "10     XI      \n",
       "11     XII     \n",
       "12     XIII    \n",
       "13     XIV     \n",
       "14     XV      \n",
       "15     XVI     \n",
       "16     XVII    \n",
       "17     XVIII   \n",
       "18     XIX     \n",
       "19     XX      \n",
       "20     XXI     \n",
       "21     XXII    \n",
       "22     XXIII   \n",
       "23     XXIV    \n",
       "24     XXV     \n",
       "25     XXVI    \n",
       "26     XXVII   \n",
       "27     XXVIII  \n",
       "28     XXIX    \n",
       "29     XXX     \n",
       "         ...   \n",
       "124    CXXV    \n",
       "125    CXXVI   \n",
       "126    CXXVII  \n",
       "127    CXXVIII \n",
       "128    CXXIX   \n",
       "129    CXXX    \n",
       "130    CXXXI   \n",
       "131    CXXXII  \n",
       "132    CXXXIII \n",
       "133    CXXXIV  \n",
       "134    CXXXV   \n",
       "135    CXXXVI  \n",
       "136    CXXXVII \n",
       "137    CXXXVIII\n",
       "138    CXXXIX  \n",
       "139    CXL     \n",
       "140    CXLI    \n",
       "141    CXLII   \n",
       "142    CXLIII  \n",
       "143    CXLIV   \n",
       "144    CXLV    \n",
       "145    CXLVI   \n",
       "146    CXLVII  \n",
       "147    CXLVIII \n",
       "148    CXLIX   \n",
       "149    CL      \n",
       "150    CLI     \n",
       "151    CLII    \n",
       "152    CLIII   \n",
       "153    CLIV    \n",
       "Name: title, Length: 154, dtype: object"
      ]
     },
     "execution_count": 291,
     "metadata": {},
     "output_type": "execute_result"
    }
   ],
   "source": [
    "sonnets['title']"
   ]
  },
  {
   "cell_type": "code",
   "execution_count": null,
   "metadata": {
    "collapsed": true
   },
   "outputs": [],
   "source": []
  }
 ],
 "metadata": {
  "kernelspec": {
   "display_name": "Python 3",
   "language": "python",
   "name": "python3"
  },
  "language_info": {
   "codemirror_mode": {
    "name": "ipython",
    "version": 3
   },
   "file_extension": ".py",
   "mimetype": "text/x-python",
   "name": "python",
   "nbconvert_exporter": "python",
   "pygments_lexer": "ipython3",
   "version": "3.6.4"
  }
 },
 "nbformat": 4,
 "nbformat_minor": 2
}
