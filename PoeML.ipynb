{
 "cells": [
  {
   "cell_type": "markdown",
   "metadata": {},
   "source": [
    "## PoeML\n",
    "\n",
    "**Find the poetry for your pictures!**"
   ]
  },
  {
   "cell_type": "code",
   "execution_count": 6,
   "metadata": {},
   "outputs": [],
   "source": [
    "import pandas as pd\n",
    "import pickle\n",
    "import sqlalchemy # pandas-mysql interface library\n",
    "import sqlalchemy.exc # exception handling\n",
    "import glob # for file manipulation\n",
    "import sys # for defining behavior under errors\n",
    "import numpy as np\n",
    "import csv\n",
    "import nltk\n",
    "import re\n",
    "import time\n",
    "import scipy\n",
    "import re\n",
    "import string\n",
    "import spacy\n",
    "\n",
    "from textblob import TextBlob\n",
    "\n",
    "from sklearn.feature_extraction.text import CountVectorizer, TfidfTransformer\n",
    "from sklearn.decomposition import LatentDirichletAllocation, TruncatedSVD, NMF\n",
    "from sklearn.linear_model import LogisticRegression\n",
    "from sklearn.metrics import precision_recall_curve, roc_auc_score, roc_curve, auc\n",
    "from sklearn.metrics.pairwise import euclidean_distances, cosine_distances, cosine_similarity\n",
    "from sklearn import preprocessing\n",
    "from sklearn.cluster import AgglomerativeClustering, spectral_clustering\n",
    "from sklearn.preprocessing import normalize\n",
    "from collections import Counter, OrderedDict\n",
    "from sklearn.feature_extraction.text import CountVectorizer\n",
    "from sklearn.feature_extraction.text import TfidfVectorizer\n",
    "from sklearn.base import TransformerMixin\n",
    "from sklearn.pipeline import Pipeline\n",
    "from sklearn.feature_extraction.stop_words import ENGLISH_STOP_WORDS\n",
    "from sklearn.metrics import accuracy_score\n",
    "from sklearn.preprocessing import normalize\n",
    "\n",
    "from nltk.corpus import stopwords\n",
    "from nltk import SnowballStemmer\n",
    "\n",
    "import matplotlib\n",
    "from matplotlib import pyplot as plt\n",
    "%matplotlib inline\n",
    "\n",
    "import poeml_utility as pml # this is my own utility file"
   ]
  },
  {
   "cell_type": "markdown",
   "metadata": {},
   "source": [
    "## Load and view the data\n",
    "\n",
    "*Connect to the database in postgres*"
   ]
  },
  {
   "cell_type": "code",
   "execution_count": 7,
   "metadata": {},
   "outputs": [],
   "source": [
    "engine = pml.connect_db()"
   ]
  },
  {
   "cell_type": "markdown",
   "metadata": {},
   "source": [
    "*Display existing tables*"
   ]
  },
  {
   "cell_type": "code",
   "execution_count": 8,
   "metadata": {},
   "outputs": [
    {
     "name": "stdout",
     "output_type": "stream",
     "text": [
      "[('sonnet_vector',), ('sonnet_full',), ('sonnet_lines',), ('sonnet_sentences',), ('poem_embeddings',)]\n"
     ]
    }
   ],
   "source": [
    "tables = engine.execute(\"select relname from pg_class where relkind='r' and relname !~ '^(pg_|sql_)';\")\n",
    "print(tables.fetchall())"
   ]
  },
  {
   "cell_type": "markdown",
   "metadata": {},
   "source": [
    "*Extract both full sonnets, sonnet sentences, and sonnet lines.*"
   ]
  },
  {
   "cell_type": "code",
   "execution_count": 9,
   "metadata": {},
   "outputs": [
    {
     "data": {
      "text/html": [
       "<div>\n",
       "<style scoped>\n",
       "    .dataframe tbody tr th:only-of-type {\n",
       "        vertical-align: middle;\n",
       "    }\n",
       "\n",
       "    .dataframe tbody tr th {\n",
       "        vertical-align: top;\n",
       "    }\n",
       "\n",
       "    .dataframe thead th {\n",
       "        text-align: right;\n",
       "    }\n",
       "</style>\n",
       "<table border=\"1\" class=\"dataframe\">\n",
       "  <thead>\n",
       "    <tr style=\"text-align: right;\">\n",
       "      <th></th>\n",
       "      <th>index</th>\n",
       "      <th>title</th>\n",
       "      <th>poem</th>\n",
       "    </tr>\n",
       "  </thead>\n",
       "  <tbody>\n",
       "    <tr>\n",
       "      <th>0</th>\n",
       "      <td>0</td>\n",
       "      <td>I</td>\n",
       "      <td>From fairest creatures we desire increase, Tha...</td>\n",
       "    </tr>\n",
       "    <tr>\n",
       "      <th>1</th>\n",
       "      <td>1</td>\n",
       "      <td>II</td>\n",
       "      <td>When forty winters shall besiege thy brow, And...</td>\n",
       "    </tr>\n",
       "    <tr>\n",
       "      <th>2</th>\n",
       "      <td>2</td>\n",
       "      <td>III</td>\n",
       "      <td>Look in thy glass and tell the face thou viewe...</td>\n",
       "    </tr>\n",
       "    <tr>\n",
       "      <th>3</th>\n",
       "      <td>3</td>\n",
       "      <td>IV</td>\n",
       "      <td>Unthrifty loveliness, why dost thou spend Upon...</td>\n",
       "    </tr>\n",
       "    <tr>\n",
       "      <th>4</th>\n",
       "      <td>4</td>\n",
       "      <td>V</td>\n",
       "      <td>Those hours, that with gentle work did frame T...</td>\n",
       "    </tr>\n",
       "  </tbody>\n",
       "</table>\n",
       "</div>"
      ],
      "text/plain": [
       "   index title                                               poem\n",
       "0      0     I  From fairest creatures we desire increase, Tha...\n",
       "1      1    II  When forty winters shall besiege thy brow, And...\n",
       "2      2   III  Look in thy glass and tell the face thou viewe...\n",
       "3      3    IV  Unthrifty loveliness, why dost thou spend Upon...\n",
       "4      4     V  Those hours, that with gentle work did frame T..."
      ]
     },
     "execution_count": 9,
     "metadata": {},
     "output_type": "execute_result"
    }
   ],
   "source": [
    "query = \"select * from sonnet_full;\"\n",
    "sonnet_full = pd.read_sql(query,engine)\n",
    "sonnet_full.head()"
   ]
  },
  {
   "cell_type": "code",
   "execution_count": 11,
   "metadata": {},
   "outputs": [
    {
     "data": {
      "text/html": [
       "<div>\n",
       "<style scoped>\n",
       "    .dataframe tbody tr th:only-of-type {\n",
       "        vertical-align: middle;\n",
       "    }\n",
       "\n",
       "    .dataframe tbody tr th {\n",
       "        vertical-align: top;\n",
       "    }\n",
       "\n",
       "    .dataframe thead th {\n",
       "        text-align: right;\n",
       "    }\n",
       "</style>\n",
       "<table border=\"1\" class=\"dataframe\">\n",
       "  <thead>\n",
       "    <tr style=\"text-align: right;\">\n",
       "      <th></th>\n",
       "      <th>index</th>\n",
       "      <th>title</th>\n",
       "      <th>line</th>\n",
       "    </tr>\n",
       "  </thead>\n",
       "  <tbody>\n",
       "    <tr>\n",
       "      <th>0</th>\n",
       "      <td>0</td>\n",
       "      <td>I</td>\n",
       "      <td>From fairest creatures we desire increase,</td>\n",
       "    </tr>\n",
       "    <tr>\n",
       "      <th>1</th>\n",
       "      <td>1</td>\n",
       "      <td>I</td>\n",
       "      <td>That thereby beauty's rose might never die,</td>\n",
       "    </tr>\n",
       "    <tr>\n",
       "      <th>2</th>\n",
       "      <td>2</td>\n",
       "      <td>I</td>\n",
       "      <td>But as the riper should by time decease,</td>\n",
       "    </tr>\n",
       "    <tr>\n",
       "      <th>3</th>\n",
       "      <td>3</td>\n",
       "      <td>I</td>\n",
       "      <td>His tender heir might bear his memory:</td>\n",
       "    </tr>\n",
       "    <tr>\n",
       "      <th>4</th>\n",
       "      <td>4</td>\n",
       "      <td>I</td>\n",
       "      <td>But thou, contracted to thine own bright eyes,</td>\n",
       "    </tr>\n",
       "  </tbody>\n",
       "</table>\n",
       "</div>"
      ],
      "text/plain": [
       "   index title                                            line\n",
       "0      0     I      From fairest creatures we desire increase,\n",
       "1      1     I     That thereby beauty's rose might never die,\n",
       "2      2     I        But as the riper should by time decease,\n",
       "3      3     I          His tender heir might bear his memory:\n",
       "4      4     I  But thou, contracted to thine own bright eyes,"
      ]
     },
     "execution_count": 11,
     "metadata": {},
     "output_type": "execute_result"
    }
   ],
   "source": [
    "query = \"select * from sonnet_lines;\"\n",
    "sonnet_lines = pd.read_sql(query,engine)\n",
    "sonnet_lines.head()"
   ]
  },
  {
   "cell_type": "code",
   "execution_count": 12,
   "metadata": {},
   "outputs": [
    {
     "data": {
      "text/html": [
       "<div>\n",
       "<style scoped>\n",
       "    .dataframe tbody tr th:only-of-type {\n",
       "        vertical-align: middle;\n",
       "    }\n",
       "\n",
       "    .dataframe tbody tr th {\n",
       "        vertical-align: top;\n",
       "    }\n",
       "\n",
       "    .dataframe thead th {\n",
       "        text-align: right;\n",
       "    }\n",
       "</style>\n",
       "<table border=\"1\" class=\"dataframe\">\n",
       "  <thead>\n",
       "    <tr style=\"text-align: right;\">\n",
       "      <th></th>\n",
       "      <th>index</th>\n",
       "      <th>title</th>\n",
       "      <th>sentence</th>\n",
       "    </tr>\n",
       "  </thead>\n",
       "  <tbody>\n",
       "    <tr>\n",
       "      <th>0</th>\n",
       "      <td>0</td>\n",
       "      <td>I</td>\n",
       "      <td>From fairest creatures we desire increase, Tha...</td>\n",
       "    </tr>\n",
       "    <tr>\n",
       "      <th>1</th>\n",
       "      <td>1</td>\n",
       "      <td>I</td>\n",
       "      <td>But thou, contracted to thine own bright eyes...</td>\n",
       "    </tr>\n",
       "    <tr>\n",
       "      <th>2</th>\n",
       "      <td>2</td>\n",
       "      <td>I</td>\n",
       "      <td>Thou that art now the world's fresh ornament,...</td>\n",
       "    </tr>\n",
       "    <tr>\n",
       "      <th>3</th>\n",
       "      <td>3</td>\n",
       "      <td>I</td>\n",
       "      <td>Pity the world, or else this glutton be, To e...</td>\n",
       "    </tr>\n",
       "    <tr>\n",
       "      <th>4</th>\n",
       "      <td>4</td>\n",
       "      <td>II</td>\n",
       "      <td>When forty winters shall besiege thy brow, And...</td>\n",
       "    </tr>\n",
       "  </tbody>\n",
       "</table>\n",
       "</div>"
      ],
      "text/plain": [
       "   index title                                           sentence\n",
       "0      0     I  From fairest creatures we desire increase, Tha...\n",
       "1      1     I   But thou, contracted to thine own bright eyes...\n",
       "2      2     I   Thou that art now the world's fresh ornament,...\n",
       "3      3     I   Pity the world, or else this glutton be, To e...\n",
       "4      4    II  When forty winters shall besiege thy brow, And..."
      ]
     },
     "execution_count": 12,
     "metadata": {},
     "output_type": "execute_result"
    }
   ],
   "source": [
    "query = \"select * from sonnet_sentences order by index;\"\n",
    "sonnet_sentences = pd.read_sql(query,engine)\n",
    "len(sonnet_sentences)\n",
    "sonnet_sentences.head()"
   ]
  },
  {
   "cell_type": "code",
   "execution_count": 978,
   "metadata": {},
   "outputs": [],
   "source": [
    "#query = \"drop table sonnet_sentences;\"\n",
    "#engine.execute(query)\n",
    "#sonnet_sentences.to_sql('sonnet_sentences',engine)\n",
    "#del sonnet_sentences['index']"
   ]
  },
  {
   "cell_type": "markdown",
   "metadata": {},
   "source": [
    "## Clean, tokenize, and transform the text\n",
    "\n"
   ]
  },
  {
   "cell_type": "code",
   "execution_count": 13,
   "metadata": {},
   "outputs": [],
   "source": [
    "# borrow parser from spacy\n",
    "parser = spacy.load('en')\n",
    "data = sonnet_sentences['sentence']"
   ]
  },
  {
   "cell_type": "code",
   "execution_count": 14,
   "metadata": {},
   "outputs": [],
   "source": [
    "# load up shakespeare's stopwords\n",
    "shakespeares_stopwords = []\n",
    "f = open(\"../data/Shakespeare/shakespeares_stopwords.txt\",\"r\")\n",
    "for line in f:\n",
    "    if len(line)>1:\n",
    "        shakespeares_stopwords.append(line.strip('\\n'))"
   ]
  },
  {
   "cell_type": "code",
   "execution_count": 15,
   "metadata": {},
   "outputs": [],
   "source": [
    "# A custom stoplist\n",
    "STOPLIST = set(stopwords.words('english') + list(shakespeares_stopwords))\n",
    "# List of symbols we don't care about\n",
    "SYMBOLS = \" \".join(string.punctuation).split(\" \") + \\\n",
    "          [\"-----\", \"---\", \"...\", \"“\", \"”\", \"'s\"]"
   ]
  },
  {
   "cell_type": "code",
   "execution_count": 16,
   "metadata": {},
   "outputs": [],
   "source": [
    "# Every step in a pipeline needs to be a \"transformer\". \n",
    "# Define a custom transformer to clean text using spaCy\n",
    "class CleanTextTransformer(TransformerMixin):\n",
    "    \"\"\"\n",
    "    Convert text to cleaned text\n",
    "    \"\"\"\n",
    "\n",
    "    def transform(self, X, **transform_params):\n",
    "        return [cleanText(text) for text in X]\n",
    "\n",
    "    def fit(self, X, y=None, **fit_params):\n",
    "        return self\n",
    "\n",
    "    def get_params(self, deep=True):\n",
    "        return {}"
   ]
  },
  {
   "cell_type": "code",
   "execution_count": 26,
   "metadata": {},
   "outputs": [],
   "source": [
    "# A custom function to clean the text before sending it into the vectorizer\n",
    "def cleanText(text):\n",
    "    \n",
    "    # import a dictionary of English contractions from another file\n",
    "    from contractions import contractions_dict\n",
    "    \n",
    "    # replace the contractions with their expanded form\n",
    "    for contraction, expansion in contractions_dict.items():\n",
    "        text = text.replace(contraction.lower(),expansion.lower())\n",
    "    \n",
    "    # get rid of newlines\n",
    "    text = text.strip().replace(\"\\n\", \" \").replace(\"\\r\", \" \").replace(\"-\",\" \").replace(\"\\'st\",\" \")\n",
    "    \n",
    "    # lowercase\n",
    "    text = text.lower()\n",
    "\n",
    "    return text"
   ]
  },
  {
   "cell_type": "code",
   "execution_count": 27,
   "metadata": {},
   "outputs": [],
   "source": [
    "# A custom function to tokenize the text using spaCy\n",
    "# and convert to lemmas\n",
    "def tokenizeText(sample):\n",
    "\n",
    "    # get the tokens using spaCy\n",
    "    tokens = parser(sample)\n",
    "\n",
    "    # lemmatize\n",
    "    lemmas = []\n",
    "    for tok in tokens:\n",
    "        lemmas.append(tok.lemma_.lower().strip() \n",
    "                      if tok.lemma_ != \"-PRON-\" else tok.lower_)\n",
    "    tokens = lemmas\n",
    "\n",
    "    # stoplist the tokens\n",
    "    tokens = [tok for tok in tokens if tok not in STOPLIST]\n",
    "\n",
    "    # stoplist symbols\n",
    "    tokens = [tok for tok in tokens if tok not in SYMBOLS]\n",
    "\n",
    "    # remove large strings of whitespace\n",
    "    while \"\" in tokens:\n",
    "        tokens.remove(\"\")\n",
    "    while \" \" in tokens:\n",
    "        tokens.remove(\" \")\n",
    "    while \"\\n\" in tokens:\n",
    "        tokens.remove(\"\\n\")\n",
    "    while \"\\n\\n\" in tokens:\n",
    "        tokens.remove(\"\\n\\n\")\n",
    "    \n",
    "    \n",
    "    return tokens"
   ]
  },
  {
   "cell_type": "markdown",
   "metadata": {},
   "source": [
    "## Cluser using NMF"
   ]
  },
  {
   "cell_type": "code",
   "execution_count": 28,
   "metadata": {},
   "outputs": [],
   "source": [
    "# define the number features, topics, and how many \n",
    "# words/documents to display later on\n",
    "n_features      = 1000\n",
    "n_topics        = 10\n",
    "n_top_words     = 5\n",
    "n_top_documents = 5\n",
    "\n",
    "# Use tf-idf vectorizer\n",
    "vectorizer = TfidfVectorizer(max_features=n_features,\n",
    "                             tokenizer=tokenizeText,\n",
    "                             stop_words='english')\n",
    "#vectorizer = CountVectorizer(max_features=n_features,\n",
    "#                             tokenizer=tokenizeText,\n",
    "#                             stop_words='english')\n",
    "\n",
    "        \n",
    "# use NMF model with the Frobenius norm\n",
    "nmf = NMF(n_components=n_topics, random_state=1, \n",
    "          solver='mu', beta_loss='frobenius')\n",
    "\n",
    "# use NMF model with the Frobenius norm\n",
    "#nmf = NMF(n_components=n_topics, random_state=1)\n",
    "\n",
    "# put it all in a pipeline\n",
    "pipe = Pipeline([('cleanText', CleanTextTransformer()), \n",
    "                 ('vectorizer', vectorizer), ('nmf', nmf)])"
   ]
  },
  {
   "cell_type": "code",
   "execution_count": 29,
   "metadata": {},
   "outputs": [],
   "source": [
    "# grab term-document matrix\n",
    "transform = pipe.fit_transform(data)"
   ]
  },
  {
   "cell_type": "code",
   "execution_count": 30,
   "metadata": {},
   "outputs": [
    {
     "name": "stdout",
     "output_type": "stream",
     "text": [
      "Topic #01: love true hadst hate make \n",
      "Line:  No love, my love, that thou mayst true love call; All mine was thine, before thou hadst this more (with polarity 0.32) \n",
      "\n",
      "Line:  Make but my name thy love, and love that still, And then thou lov'st me for my name is 'Will (with polarity 0.5) \n",
      "\n",
      "Line:  If it be not, then love doth well denote Love's eye is not so true as all men's (with polarity 0.45) \n",
      "\n",
      "Line: Take all my loves, my love, yea take them all; What hast thou then more than thou hadst before (with polarity 0.5) \n",
      "\n",
      "Line:  O! love's best habit is in seeming trust, And age in love, loves not to have years told (with polarity 0.6666666666666666) \n",
      "\n",
      "Average polarity: 0.49\n",
      "\n",
      "Topic #02: beauty fair sweet make live \n",
      "Line: -- Hers by thy beauty tempting her to thee, Thine by thy beauty being false to me (with polarity -0.4000000000000001) \n",
      "\n",
      "Line: In the old age black was not counted fair, Or if it were, it bore not beauty's name; But now is black beauty's successive heir, And beauty slander'd with a bastard shame (with polarity 0.11666666666666667) \n",
      "\n",
      "Line: When in the chronicle of wasted time I see descriptions of the fairest wights, And beauty making beautiful old rime, In praise of ladies dead and lovely knights, Then, in the blazon of sweet beauty's best, Of hand, of foot, of lip, of eye, of brow, I see their antique pen would have express'd Even such a beauty as you master now (with polarity 0.3) \n",
      "\n",
      "Line: O! how much more doth beauty beauteous seem By that sweet ornament which truth doth give (with polarity 0.425) \n",
      "\n",
      "Line: To me, fair friend, you never can be old, For as you were when first your eye I ey'd, Such seems your beauty still (with polarity 0.26249999999999996) \n",
      "\n",
      "Average polarity: 0.14\n",
      "\n",
      "Topic #03: eye heart turn look right \n",
      "Line: Mine eye and heart are at a mortal war, How to divide the conquest of thy sight; Mine eye my heart thy picture's sight would bar, My heart mine eye the freedom of that right (with polarity 0.2857142857142857) \n",
      "\n",
      "Line:  When that mine eye is famish'd for a look, Or heart in love with sighs himself doth smother, With my love's picture then my eye doth feast, And to the painted banquet bids my heart; Another time mine eye is my heart's guest, And in his thoughts of love doth share a part (with polarity 0.5) \n",
      "\n",
      "Line:  As thus; mine eye's due is thy outward part, And my heart's right, thy inward love of heart (with polarity 0.22023809523809523) \n",
      "\n",
      "Line: Betwixt mine eye and heart a league is took, And each doth good turns now unto the other (with polarity 0.2875) \n",
      "\n",
      "Line:  If eyes, corrupt by over-partial looks, Be anchor'd in the bay where all men ride, Why of eyes' falsehood hast thou forged hooks, Whereto the judgment of my heart is tied (with polarity -0.5) \n",
      "\n",
      "Average polarity: 0.16\n",
      "\n",
      "Topic #04: self live deny sweet deceive \n",
      "Line:  For having traffic with thy self alone, Thou of thy self thy sweet self dost deceive (with polarity 0.35) \n",
      "\n",
      "Line: O! that you were your self; but, love you are No longer yours, than you your self here live (with polarity 0.3181818181818182) \n",
      "\n",
      "Line:  But when my glass shows me myself indeed Beated and chopp'd with tanned antiquity, Mine own self-love quite contrary I read; Self so self-loving were iniquity (with polarity 0.6) \n",
      "\n",
      "Line:  But thou, contracted to thine own bright eyes, Feed'st thy light's flame with self-substantial fuel, Making a famine where abundance lies, Thy self thy foe, to thy sweet self too cruel (with polarity 0.21000000000000005) \n",
      "\n",
      "Line: Unthrifty loveliness, why dost thou spend Upon thy self thy beauty's legacy (with polarity 0.0) \n",
      "\n",
      "Average polarity: 0.30\n",
      "\n",
      "Topic #05: shall live life death die \n",
      "Line:  Your monument shall be my gentle verse, Which eyes not yet created shall o'er-read; And tongues to be, your being shall rehearse, When all the breathers of this world are dead; You still shall live,--such virtue hath my pen,-- Where breath most breathes, even in the mouths of men (with polarity 0.16666666666666666) \n",
      "\n",
      "Line:  when that fell arrest Without all bail shall carry me away, My life hath in this line some interest, Which for memorial still with thee shall stay (with polarity -0.05) \n",
      "\n",
      "Line:  Your name from hence immortal life shall have, Though I, once gone, to all the world must die (with polarity 0.0) \n",
      "\n",
      "Line:  His beauty shall in these black lines be seen, And they shall live, and he in them still green (with polarity -0.07676767676767678) \n",
      "\n",
      "Line:  Now all is done, save what shall have no end (with polarity 0.0) \n",
      "\n",
      "Average polarity: 0.01\n",
      "\n",
      "Topic #06: praise day worth like hold \n",
      "Line:  If my slight muse do please these curious days, The pain be mine, but thine shall be the praise (with polarity -0.13333333333333333) \n",
      "\n",
      "Line:  That tongue that tells the story of thy days, Making lascivious comments on thy sport, Cannot dispraise, but in a kind of praise; Naming thy name, blesses an ill report (with polarity 0.04999999999999999) \n",
      "\n",
      "Line:  For we, which now behold these present days, Have eyes to wonder, but lack tongues to praise (with polarity 0.0) \n",
      "\n",
      "Line:  'Tis thee,--myself,--that for myself I praise, Painting my age with beauty of thy days (with polarity 0.0) \n",
      "\n",
      "Line:  Hearing you praised, I say ''tis so, 'tis true,' And to the most of praise add something more; But that is in my thought, whose love to you, Though words come hindmost, holds his rank before (with polarity 0.21000000000000002) \n",
      "\n",
      "Average polarity: 0.03\n",
      "\n",
      "Topic #07: say lie old fault son \n",
      "Line:  But wherefore says she not she is unjust (with polarity 0.0) \n",
      "\n",
      "Line: Who is it that says most, which can say more, Than this rich praise,--that you alone, are you (with polarity 0.4583333333333333) \n",
      "\n",
      "Line:  And wherefore say not I that I am old (with polarity 0.1) \n",
      "\n",
      "Line:  let your son say so (with polarity 0.0) \n",
      "\n",
      "Line: Canst thou, O cruel! say I love thee not, When I against myself with thee partake (with polarity -0.25) \n",
      "\n",
      "Average polarity: 0.06\n",
      "\n",
      "Topic #08: good bad spirit turn ill \n",
      "Line:  Look what is best, that best I wish in thee (with polarity 1.0) \n",
      "\n",
      "Line:  But these particulars are not my measure, All these I better in one general best (with polarity 0.5166666666666667) \n",
      "\n",
      "Line:  Or on my frailties why are frailer spies, Which in their wills count bad what I think good (with polarity 5.551115123125783e-17) \n",
      "\n",
      "Line:  I think good thoughts, whilst others write good words, And like unlettered clerk still cry 'Amen' To every hymn that able spirit affords, In polish'd form of well-refined pen (with polarity 0.6333333333333333) \n",
      "\n",
      "Line:  They know what beauty is, see where it lies, Yet what the best is take the worst to be (with polarity 0.0) \n",
      "\n",
      "Average polarity: 0.43\n",
      "\n",
      "Topic #09: know world dear think false \n",
      "Line:  Dear my love, you know, You had a father (with polarity 0.5) \n",
      "\n",
      "Line:  All this the world well knows; yet none knows well To shun the heaven that leads men to this hell (with polarity 0.0) \n",
      "\n",
      "Line:  Thou mayst be false, and yet I know it not (with polarity -0.4000000000000001) \n",
      "\n",
      "Line: When my love swears that she is made of truth, I do believe her though I know she lies, That she might think me some untutor'd youth, Unlearned in the world's false subtleties (with polarity 0.04999999999999996) \n",
      "\n",
      "Line:  And yet, love knows it is a greater grief To bear love's wrong, than hate's known injury (with polarity -0.10000000000000002) \n",
      "\n",
      "Average polarity: 0.01\n",
      "\n",
      "Topic #10: time happy old shalt crime \n",
      "Line:  That use is not forbidden usury, Which happies those that pay the willing loan; That's for thy self to breed another thee, Or ten times happier, be it ten for one; Ten times thy self were happier than thou art, If ten of thine ten times refigur'd thee (with polarity 0.041666666666666664) \n",
      "\n",
      "Line:  This wish I have; then ten times happy me! (with polarity 0.5) \n",
      "\n",
      "Line:  Yet, do thy worst old Time (with polarity -0.45) \n",
      "\n",
      "Line:  if I have rang'd, Like him that travels, I return again; Just to the time, not with the time exchang'd, So that myself bring water for my stain (with polarity 0.0) \n",
      "\n",
      "Line: Against that time, if ever that time come, When I shall see thee frown on my defects, When as thy love hath cast his utmost sum, Call'd to that audit by advis'd respects; Against that time when thou shalt strangely pass, And scarcely greet me with that sun, thine eye, When love, converted from the thing it was, Shall reasons find of settled gravity; Against that time do I ensconce me here, Within the knowledge of mine own desert, And this my hand, against my self uprear, To guard the lawful reasons on thy part (with polarity 0.30999999999999994) \n",
      "\n",
      "Average polarity: 0.08\n",
      "\n"
     ]
    }
   ],
   "source": [
    "def display_topics(vectorizer, nmf, W, df, n_top_words, n_top_documents):\n",
    "    ''' Print out topics discovered by a model '''\n",
    "    \n",
    "    feature_names = vectorizer.get_feature_names()\n",
    "    \n",
    "    for topic_id, topic in enumerate(nmf.components_):\n",
    "        print('Topic #%02d: %s ' % (topic_id+1, ' '.join([str(feature_names[i])\n",
    "                        for i in topic.argsort()[:-n_top_words - 1:-1]])))\n",
    "        \n",
    "        top_doc_indices = np.argsort( W[:,topic_id] )[::-1][0:n_top_documents]\n",
    "        avg_polarity = 0\n",
    "        for doc_index in top_doc_indices:\n",
    "            doc = TextBlob(data.iloc[doc_index])\n",
    "            avg_polarity += doc.sentiment[0]\n",
    "            print('Line: {} (with polarity {}) \\n'.format(data.iloc[doc_index], \n",
    "                                     doc.sentiment[0]))\n",
    "            #print(df['reviewText'].iloc[doc_index]+\"\\n\")\n",
    "        print(\"Average polarity: %4.2f\" % (avg_polarity / n_top_documents))\n",
    "        print()\n",
    "\n",
    "display_topics(vectorizer, nmf, transform, data, n_top_words, n_top_documents)"
   ]
  },
  {
   "cell_type": "markdown",
   "metadata": {},
   "source": [
    "## Visualization of topic clusters"
   ]
  },
  {
   "cell_type": "code",
   "execution_count": 31,
   "metadata": {},
   "outputs": [
    {
     "data": {
      "text/html": [
       "\n",
       "    <div class=\"bk-root\">\n",
       "        <a href=\"https://bokeh.pydata.org\" target=\"_blank\" class=\"bk-logo bk-logo-small bk-logo-notebook\"></a>\n",
       "        <span id=\"1db4a4fa-528d-4ee1-ae88-cf197f2da9cc\">Loading BokehJS ...</span>\n",
       "    </div>"
      ]
     },
     "metadata": {},
     "output_type": "display_data"
    },
    {
     "data": {
      "application/javascript": [
       "\n",
       "(function(root) {\n",
       "  function now() {\n",
       "    return new Date();\n",
       "  }\n",
       "\n",
       "  var force = true;\n",
       "\n",
       "  if (typeof (root._bokeh_onload_callbacks) === \"undefined\" || force === true) {\n",
       "    root._bokeh_onload_callbacks = [];\n",
       "    root._bokeh_is_loading = undefined;\n",
       "  }\n",
       "\n",
       "  var JS_MIME_TYPE = 'application/javascript';\n",
       "  var HTML_MIME_TYPE = 'text/html';\n",
       "  var EXEC_MIME_TYPE = 'application/vnd.bokehjs_exec.v0+json';\n",
       "  var CLASS_NAME = 'output_bokeh rendered_html';\n",
       "\n",
       "  /**\n",
       "   * Render data to the DOM node\n",
       "   */\n",
       "  function render(props, node) {\n",
       "    var script = document.createElement(\"script\");\n",
       "    node.appendChild(script);\n",
       "  }\n",
       "\n",
       "  /**\n",
       "   * Handle when an output is cleared or removed\n",
       "   */\n",
       "  function handleClearOutput(event, handle) {\n",
       "    var cell = handle.cell;\n",
       "\n",
       "    var id = cell.output_area._bokeh_element_id;\n",
       "    var server_id = cell.output_area._bokeh_server_id;\n",
       "    // Clean up Bokeh references\n",
       "    if (id !== undefined) {\n",
       "      Bokeh.index[id].model.document.clear();\n",
       "      delete Bokeh.index[id];\n",
       "    }\n",
       "\n",
       "    if (server_id !== undefined) {\n",
       "      // Clean up Bokeh references\n",
       "      var cmd = \"from bokeh.io.state import curstate; print(curstate().uuid_to_server['\" + server_id + \"'].get_sessions()[0].document.roots[0]._id)\";\n",
       "      cell.notebook.kernel.execute(cmd, {\n",
       "        iopub: {\n",
       "          output: function(msg) {\n",
       "            var element_id = msg.content.text.trim();\n",
       "            Bokeh.index[element_id].model.document.clear();\n",
       "            delete Bokeh.index[element_id];\n",
       "          }\n",
       "        }\n",
       "      });\n",
       "      // Destroy server and session\n",
       "      var cmd = \"import bokeh.io.notebook as ion; ion.destroy_server('\" + server_id + \"')\";\n",
       "      cell.notebook.kernel.execute(cmd);\n",
       "    }\n",
       "  }\n",
       "\n",
       "  /**\n",
       "   * Handle when a new output is added\n",
       "   */\n",
       "  function handleAddOutput(event, handle) {\n",
       "    var output_area = handle.output_area;\n",
       "    var output = handle.output;\n",
       "\n",
       "    // limit handleAddOutput to display_data with EXEC_MIME_TYPE content only\n",
       "    if ((output.output_type != \"display_data\") || (!output.data.hasOwnProperty(EXEC_MIME_TYPE))) {\n",
       "      return\n",
       "    }\n",
       "\n",
       "    var toinsert = output_area.element.find(\".\" + CLASS_NAME.split(' ')[0]);\n",
       "\n",
       "    if (output.metadata[EXEC_MIME_TYPE][\"id\"] !== undefined) {\n",
       "      toinsert[0].firstChild.textContent = output.data[JS_MIME_TYPE];\n",
       "      // store reference to embed id on output_area\n",
       "      output_area._bokeh_element_id = output.metadata[EXEC_MIME_TYPE][\"id\"];\n",
       "    }\n",
       "    if (output.metadata[EXEC_MIME_TYPE][\"server_id\"] !== undefined) {\n",
       "      var bk_div = document.createElement(\"div\");\n",
       "      bk_div.innerHTML = output.data[HTML_MIME_TYPE];\n",
       "      var script_attrs = bk_div.children[0].attributes;\n",
       "      for (var i = 0; i < script_attrs.length; i++) {\n",
       "        toinsert[0].firstChild.setAttribute(script_attrs[i].name, script_attrs[i].value);\n",
       "      }\n",
       "      // store reference to server id on output_area\n",
       "      output_area._bokeh_server_id = output.metadata[EXEC_MIME_TYPE][\"server_id\"];\n",
       "    }\n",
       "  }\n",
       "\n",
       "  function register_renderer(events, OutputArea) {\n",
       "\n",
       "    function append_mime(data, metadata, element) {\n",
       "      // create a DOM node to render to\n",
       "      var toinsert = this.create_output_subarea(\n",
       "        metadata,\n",
       "        CLASS_NAME,\n",
       "        EXEC_MIME_TYPE\n",
       "      );\n",
       "      this.keyboard_manager.register_events(toinsert);\n",
       "      // Render to node\n",
       "      var props = {data: data, metadata: metadata[EXEC_MIME_TYPE]};\n",
       "      render(props, toinsert[0]);\n",
       "      element.append(toinsert);\n",
       "      return toinsert\n",
       "    }\n",
       "\n",
       "    /* Handle when an output is cleared or removed */\n",
       "    events.on('clear_output.CodeCell', handleClearOutput);\n",
       "    events.on('delete.Cell', handleClearOutput);\n",
       "\n",
       "    /* Handle when a new output is added */\n",
       "    events.on('output_added.OutputArea', handleAddOutput);\n",
       "\n",
       "    /**\n",
       "     * Register the mime type and append_mime function with output_area\n",
       "     */\n",
       "    OutputArea.prototype.register_mime_type(EXEC_MIME_TYPE, append_mime, {\n",
       "      /* Is output safe? */\n",
       "      safe: true,\n",
       "      /* Index of renderer in `output_area.display_order` */\n",
       "      index: 0\n",
       "    });\n",
       "  }\n",
       "\n",
       "  // register the mime type if in Jupyter Notebook environment and previously unregistered\n",
       "  if (root.Jupyter !== undefined) {\n",
       "    var events = require('base/js/events');\n",
       "    var OutputArea = require('notebook/js/outputarea').OutputArea;\n",
       "\n",
       "    if (OutputArea.prototype.mime_types().indexOf(EXEC_MIME_TYPE) == -1) {\n",
       "      register_renderer(events, OutputArea);\n",
       "    }\n",
       "  }\n",
       "\n",
       "  \n",
       "  if (typeof (root._bokeh_timeout) === \"undefined\" || force === true) {\n",
       "    root._bokeh_timeout = Date.now() + 5000;\n",
       "    root._bokeh_failed_load = false;\n",
       "  }\n",
       "\n",
       "  var NB_LOAD_WARNING = {'data': {'text/html':\n",
       "     \"<div style='background-color: #fdd'>\\n\"+\n",
       "     \"<p>\\n\"+\n",
       "     \"BokehJS does not appear to have successfully loaded. If loading BokehJS from CDN, this \\n\"+\n",
       "     \"may be due to a slow or bad network connection. Possible fixes:\\n\"+\n",
       "     \"</p>\\n\"+\n",
       "     \"<ul>\\n\"+\n",
       "     \"<li>re-rerun `output_notebook()` to attempt to load from CDN again, or</li>\\n\"+\n",
       "     \"<li>use INLINE resources instead, as so:</li>\\n\"+\n",
       "     \"</ul>\\n\"+\n",
       "     \"<code>\\n\"+\n",
       "     \"from bokeh.resources import INLINE\\n\"+\n",
       "     \"output_notebook(resources=INLINE)\\n\"+\n",
       "     \"</code>\\n\"+\n",
       "     \"</div>\"}};\n",
       "\n",
       "  function display_loaded() {\n",
       "    var el = document.getElementById(\"1db4a4fa-528d-4ee1-ae88-cf197f2da9cc\");\n",
       "    if (el != null) {\n",
       "      el.textContent = \"BokehJS is loading...\";\n",
       "    }\n",
       "    if (root.Bokeh !== undefined) {\n",
       "      if (el != null) {\n",
       "        el.textContent = \"BokehJS \" + root.Bokeh.version + \" successfully loaded.\";\n",
       "      }\n",
       "    } else if (Date.now() < root._bokeh_timeout) {\n",
       "      setTimeout(display_loaded, 100)\n",
       "    }\n",
       "  }\n",
       "\n",
       "\n",
       "  function run_callbacks() {\n",
       "    try {\n",
       "      root._bokeh_onload_callbacks.forEach(function(callback) { callback() });\n",
       "    }\n",
       "    finally {\n",
       "      delete root._bokeh_onload_callbacks\n",
       "    }\n",
       "    console.info(\"Bokeh: all callbacks have finished\");\n",
       "  }\n",
       "\n",
       "  function load_libs(js_urls, callback) {\n",
       "    root._bokeh_onload_callbacks.push(callback);\n",
       "    if (root._bokeh_is_loading > 0) {\n",
       "      console.log(\"Bokeh: BokehJS is being loaded, scheduling callback at\", now());\n",
       "      return null;\n",
       "    }\n",
       "    if (js_urls == null || js_urls.length === 0) {\n",
       "      run_callbacks();\n",
       "      return null;\n",
       "    }\n",
       "    console.log(\"Bokeh: BokehJS not loaded, scheduling load and callback at\", now());\n",
       "    root._bokeh_is_loading = js_urls.length;\n",
       "    for (var i = 0; i < js_urls.length; i++) {\n",
       "      var url = js_urls[i];\n",
       "      var s = document.createElement('script');\n",
       "      s.src = url;\n",
       "      s.async = false;\n",
       "      s.onreadystatechange = s.onload = function() {\n",
       "        root._bokeh_is_loading--;\n",
       "        if (root._bokeh_is_loading === 0) {\n",
       "          console.log(\"Bokeh: all BokehJS libraries loaded\");\n",
       "          run_callbacks()\n",
       "        }\n",
       "      };\n",
       "      s.onerror = function() {\n",
       "        console.warn(\"failed to load library \" + url);\n",
       "      };\n",
       "      console.log(\"Bokeh: injecting script tag for BokehJS library: \", url);\n",
       "      document.getElementsByTagName(\"head\")[0].appendChild(s);\n",
       "    }\n",
       "  };var element = document.getElementById(\"1db4a4fa-528d-4ee1-ae88-cf197f2da9cc\");\n",
       "  if (element == null) {\n",
       "    console.log(\"Bokeh: ERROR: autoload.js configured with elementid '1db4a4fa-528d-4ee1-ae88-cf197f2da9cc' but no matching script tag was found. \")\n",
       "    return false;\n",
       "  }\n",
       "\n",
       "  var js_urls = [\"https://cdn.pydata.org/bokeh/release/bokeh-0.12.13.min.js\", \"https://cdn.pydata.org/bokeh/release/bokeh-widgets-0.12.13.min.js\", \"https://cdn.pydata.org/bokeh/release/bokeh-tables-0.12.13.min.js\", \"https://cdn.pydata.org/bokeh/release/bokeh-gl-0.12.13.min.js\"];\n",
       "\n",
       "  var inline_js = [\n",
       "    function(Bokeh) {\n",
       "      Bokeh.set_log_level(\"info\");\n",
       "    },\n",
       "    \n",
       "    function(Bokeh) {\n",
       "      \n",
       "    },\n",
       "    function(Bokeh) {\n",
       "      console.log(\"Bokeh: injecting CSS: https://cdn.pydata.org/bokeh/release/bokeh-0.12.13.min.css\");\n",
       "      Bokeh.embed.inject_css(\"https://cdn.pydata.org/bokeh/release/bokeh-0.12.13.min.css\");\n",
       "      console.log(\"Bokeh: injecting CSS: https://cdn.pydata.org/bokeh/release/bokeh-widgets-0.12.13.min.css\");\n",
       "      Bokeh.embed.inject_css(\"https://cdn.pydata.org/bokeh/release/bokeh-widgets-0.12.13.min.css\");\n",
       "      console.log(\"Bokeh: injecting CSS: https://cdn.pydata.org/bokeh/release/bokeh-tables-0.12.13.min.css\");\n",
       "      Bokeh.embed.inject_css(\"https://cdn.pydata.org/bokeh/release/bokeh-tables-0.12.13.min.css\");\n",
       "    }\n",
       "  ];\n",
       "\n",
       "  function run_inline_js() {\n",
       "    \n",
       "    if ((root.Bokeh !== undefined) || (force === true)) {\n",
       "      for (var i = 0; i < inline_js.length; i++) {\n",
       "        inline_js[i].call(root, root.Bokeh);\n",
       "      }if (force === true) {\n",
       "        display_loaded();\n",
       "      }} else if (Date.now() < root._bokeh_timeout) {\n",
       "      setTimeout(run_inline_js, 100);\n",
       "    } else if (!root._bokeh_failed_load) {\n",
       "      console.log(\"Bokeh: BokehJS failed to load within specified timeout.\");\n",
       "      root._bokeh_failed_load = true;\n",
       "    } else if (force !== true) {\n",
       "      var cell = $(document.getElementById(\"1db4a4fa-528d-4ee1-ae88-cf197f2da9cc\")).parents('.cell').data().cell;\n",
       "      cell.output_area.append_execute_result(NB_LOAD_WARNING)\n",
       "    }\n",
       "\n",
       "  }\n",
       "\n",
       "  if (root._bokeh_is_loading === 0) {\n",
       "    console.log(\"Bokeh: BokehJS loaded, going straight to plotting\");\n",
       "    run_inline_js();\n",
       "  } else {\n",
       "    load_libs(js_urls, function() {\n",
       "      console.log(\"Bokeh: BokehJS plotting callback run at\", now());\n",
       "      run_inline_js();\n",
       "    });\n",
       "  }\n",
       "}(window));"
      ],
      "application/vnd.bokehjs_load.v0+json": "\n(function(root) {\n  function now() {\n    return new Date();\n  }\n\n  var force = true;\n\n  if (typeof (root._bokeh_onload_callbacks) === \"undefined\" || force === true) {\n    root._bokeh_onload_callbacks = [];\n    root._bokeh_is_loading = undefined;\n  }\n\n  \n\n  \n  if (typeof (root._bokeh_timeout) === \"undefined\" || force === true) {\n    root._bokeh_timeout = Date.now() + 5000;\n    root._bokeh_failed_load = false;\n  }\n\n  var NB_LOAD_WARNING = {'data': {'text/html':\n     \"<div style='background-color: #fdd'>\\n\"+\n     \"<p>\\n\"+\n     \"BokehJS does not appear to have successfully loaded. If loading BokehJS from CDN, this \\n\"+\n     \"may be due to a slow or bad network connection. Possible fixes:\\n\"+\n     \"</p>\\n\"+\n     \"<ul>\\n\"+\n     \"<li>re-rerun `output_notebook()` to attempt to load from CDN again, or</li>\\n\"+\n     \"<li>use INLINE resources instead, as so:</li>\\n\"+\n     \"</ul>\\n\"+\n     \"<code>\\n\"+\n     \"from bokeh.resources import INLINE\\n\"+\n     \"output_notebook(resources=INLINE)\\n\"+\n     \"</code>\\n\"+\n     \"</div>\"}};\n\n  function display_loaded() {\n    var el = document.getElementById(\"1db4a4fa-528d-4ee1-ae88-cf197f2da9cc\");\n    if (el != null) {\n      el.textContent = \"BokehJS is loading...\";\n    }\n    if (root.Bokeh !== undefined) {\n      if (el != null) {\n        el.textContent = \"BokehJS \" + root.Bokeh.version + \" successfully loaded.\";\n      }\n    } else if (Date.now() < root._bokeh_timeout) {\n      setTimeout(display_loaded, 100)\n    }\n  }\n\n\n  function run_callbacks() {\n    try {\n      root._bokeh_onload_callbacks.forEach(function(callback) { callback() });\n    }\n    finally {\n      delete root._bokeh_onload_callbacks\n    }\n    console.info(\"Bokeh: all callbacks have finished\");\n  }\n\n  function load_libs(js_urls, callback) {\n    root._bokeh_onload_callbacks.push(callback);\n    if (root._bokeh_is_loading > 0) {\n      console.log(\"Bokeh: BokehJS is being loaded, scheduling callback at\", now());\n      return null;\n    }\n    if (js_urls == null || js_urls.length === 0) {\n      run_callbacks();\n      return null;\n    }\n    console.log(\"Bokeh: BokehJS not loaded, scheduling load and callback at\", now());\n    root._bokeh_is_loading = js_urls.length;\n    for (var i = 0; i < js_urls.length; i++) {\n      var url = js_urls[i];\n      var s = document.createElement('script');\n      s.src = url;\n      s.async = false;\n      s.onreadystatechange = s.onload = function() {\n        root._bokeh_is_loading--;\n        if (root._bokeh_is_loading === 0) {\n          console.log(\"Bokeh: all BokehJS libraries loaded\");\n          run_callbacks()\n        }\n      };\n      s.onerror = function() {\n        console.warn(\"failed to load library \" + url);\n      };\n      console.log(\"Bokeh: injecting script tag for BokehJS library: \", url);\n      document.getElementsByTagName(\"head\")[0].appendChild(s);\n    }\n  };var element = document.getElementById(\"1db4a4fa-528d-4ee1-ae88-cf197f2da9cc\");\n  if (element == null) {\n    console.log(\"Bokeh: ERROR: autoload.js configured with elementid '1db4a4fa-528d-4ee1-ae88-cf197f2da9cc' but no matching script tag was found. \")\n    return false;\n  }\n\n  var js_urls = [\"https://cdn.pydata.org/bokeh/release/bokeh-0.12.13.min.js\", \"https://cdn.pydata.org/bokeh/release/bokeh-widgets-0.12.13.min.js\", \"https://cdn.pydata.org/bokeh/release/bokeh-tables-0.12.13.min.js\", \"https://cdn.pydata.org/bokeh/release/bokeh-gl-0.12.13.min.js\"];\n\n  var inline_js = [\n    function(Bokeh) {\n      Bokeh.set_log_level(\"info\");\n    },\n    \n    function(Bokeh) {\n      \n    },\n    function(Bokeh) {\n      console.log(\"Bokeh: injecting CSS: https://cdn.pydata.org/bokeh/release/bokeh-0.12.13.min.css\");\n      Bokeh.embed.inject_css(\"https://cdn.pydata.org/bokeh/release/bokeh-0.12.13.min.css\");\n      console.log(\"Bokeh: injecting CSS: https://cdn.pydata.org/bokeh/release/bokeh-widgets-0.12.13.min.css\");\n      Bokeh.embed.inject_css(\"https://cdn.pydata.org/bokeh/release/bokeh-widgets-0.12.13.min.css\");\n      console.log(\"Bokeh: injecting CSS: https://cdn.pydata.org/bokeh/release/bokeh-tables-0.12.13.min.css\");\n      Bokeh.embed.inject_css(\"https://cdn.pydata.org/bokeh/release/bokeh-tables-0.12.13.min.css\");\n    }\n  ];\n\n  function run_inline_js() {\n    \n    if ((root.Bokeh !== undefined) || (force === true)) {\n      for (var i = 0; i < inline_js.length; i++) {\n        inline_js[i].call(root, root.Bokeh);\n      }if (force === true) {\n        display_loaded();\n      }} else if (Date.now() < root._bokeh_timeout) {\n      setTimeout(run_inline_js, 100);\n    } else if (!root._bokeh_failed_load) {\n      console.log(\"Bokeh: BokehJS failed to load within specified timeout.\");\n      root._bokeh_failed_load = true;\n    } else if (force !== true) {\n      var cell = $(document.getElementById(\"1db4a4fa-528d-4ee1-ae88-cf197f2da9cc\")).parents('.cell').data().cell;\n      cell.output_area.append_execute_result(NB_LOAD_WARNING)\n    }\n\n  }\n\n  if (root._bokeh_is_loading === 0) {\n    console.log(\"Bokeh: BokehJS loaded, going straight to plotting\");\n    run_inline_js();\n  } else {\n    load_libs(js_urls, function() {\n      console.log(\"Bokeh: BokehJS plotting callback run at\", now());\n      run_inline_js();\n    });\n  }\n}(window));"
     },
     "metadata": {},
     "output_type": "display_data"
    }
   ],
   "source": [
    "from bokeh.io import push_notebook, show, output_notebook\n",
    "from bokeh.plotting import figure\n",
    "from bokeh.models import ColumnDataSource, LabelSet\n",
    "output_notebook()"
   ]
  },
  {
   "cell_type": "code",
   "execution_count": 32,
   "metadata": {},
   "outputs": [],
   "source": [
    "data_vectorized = vectorizer.fit_transform(data)"
   ]
  },
  {
   "cell_type": "code",
   "execution_count": 33,
   "metadata": {},
   "outputs": [
    {
     "data": {
      "text/html": [
       "\n",
       "<div class=\"bk-root\">\n",
       "    <div class=\"bk-plotdiv\" id=\"b6c959c3-fe4c-42a8-8c22-4161af9bd02b\"></div>\n",
       "</div>"
      ]
     },
     "metadata": {},
     "output_type": "display_data"
    },
    {
     "data": {
      "application/javascript": [
       "(function(root) {\n",
       "  function embed_document(root) {\n",
       "    \n",
       "  var docs_json = {\"a82348c3-946e-40bf-a87e-0eea86a53c28\":{\"roots\":{\"references\":[{\"attributes\":{},\"id\":\"79180dff-3f5e-44bf-90ae-438c2959d2b9\",\"type\":\"WheelZoomTool\"},{\"attributes\":{\"callback\":null},\"id\":\"1266f4ae-2a4b-4663-83f0-6d447cfa5594\",\"type\":\"DataRange1d\"},{\"attributes\":{\"plot\":null,\"text\":\"\"},\"id\":\"f01400c3-6d25-4ba3-90f9-05b88b0b808a\",\"type\":\"Title\"},{\"attributes\":{\"formatter\":{\"id\":\"a3fd0f20-bed0-4c27-9689-18dfdf492619\",\"type\":\"BasicTickFormatter\"},\"plot\":{\"id\":\"6a01c514-7a1f-49f8-b9a9-d99048b287d1\",\"subtype\":\"Figure\",\"type\":\"Plot\"},\"ticker\":{\"id\":\"f4ae7414-4b68-4120-ad50-2bd7096d7be9\",\"type\":\"BasicTicker\"}},\"id\":\"f8f7fb38-4ade-4eb0-a378-873cf5cd6d25\",\"type\":\"LinearAxis\"},{\"attributes\":{},\"id\":\"af025e61-144a-4a70-a2ce-ae9f07d10a13\",\"type\":\"PanTool\"},{\"attributes\":{\"plot\":{\"id\":\"6a01c514-7a1f-49f8-b9a9-d99048b287d1\",\"subtype\":\"Figure\",\"type\":\"Plot\"},\"source\":{\"id\":\"43e295d4-dcb0-4083-b24b-7702cb115ef8\",\"type\":\"ColumnDataSource\"},\"text\":{\"field\":\"document\"},\"text_align\":\"center\",\"text_color\":{\"value\":\"#555555\"},\"text_font_size\":{\"value\":\"8pt\"},\"x\":{\"field\":\"x\"},\"y\":{\"field\":\"y\"},\"y_offset\":{\"value\":8}},\"id\":\"6d0580e5-e729-4565-8f36-8bff44bfc19f\",\"type\":\"LabelSet\"},{\"attributes\":{\"callback\":null,\"column_names\":[\"x\",\"y\",\"document\",\"index\"],\"data\":{\"document\":[0,1,2,3,4,5,6,7,8,9,10,11,12,13,14,15,16,17,18,19,20,21,22,23,24,25,26,27,28,29,30,31,32,33,34,35,36,37,38,39,40,41,42,43,44,45,46,47,48,49,50,51,52,53,54,55,56,57,58,59,60,61,62,63,64,65,66,67,68,69,70,71,72,73,74,75,76,77,78,79,80,81,82,83,84,85,86,87,88,89,90,91,92,93,94,95,96,97,98,99,100,101,102,103,104,105,106,107,108,109,110,111,112,113,114,115,116,117,118,119,120,121,122,123,124,125,126,127,128,129,130,131,132,133,134,135,136,137,138,139,140,141,142,143,144,145,146,147,148,149,150,151,152,153,154,155,156,157,158,159,160,161,162,163,164,165,166,167,168,169,170,171,172,173,174,175,176,177,178,179,180,181,182,183,184,185,186,187,188,189,190,191,192,193,194,195,196,197,198,199,200,201,202,203,204,205,206,207,208,209,210,211,212,213,214,215,216,217,218,219,220,221,222,223,224,225,226,227,228,229,230,231,232,233,234,235,236,237,238,239,240,241,242,243,244,245,246,247,248,249,250,251,252,253,254,255,256,257,258,259,260,261,262,263,264,265,266,267,268,269,270,271,272,273,274,275,276,277,278,279,280,281,282,283,284,285,286,287,288,289,290,291,292,293,294,295,296,297,298,299,300,301,302,303,304,305,306,307,308,309,310,311,312,313,314,315,316,317,318,319,320,321,322,323,324,325,326,327,328,329,330,331,332,333,334,335,336,337,338,339,340,341,342,343,344,345,346,347,348,349,350,351,352,353,354,355,356,357,358,359,360,361,362,363,364,365,366,367,368,369,370,371,372,373,374,375,376,377,378,379,380,381,382,383,384,385,386,387,388,389,390,391,392,393,394,395,396,397,398,399,400,401,402,403,404,405,406,407,408,409,410,411,412,413,414,415,416,417,418,419,420,421,422,423,424,425,426,427,428,429,430,431,432,433,434,435,436,437,438,439,440,441,442,443,444,445,446,447,448,449,450,451,452,453,454,455,456,457,458,459,460,461,462,463,464,465,466,467,468,469,470,471,472,473,474,475,476,477,478,479,480,481,482,483,484,485,486,487,488,489,490,491,492,493,494,495,496,497,498,499,500,501,502,503,504,505,506,507,508,509,510,511,512,513,514,515,516,517,518,519,520,521,522,523,524,525,526,527,528,529,530,531,532,533,534,535,536,537,538,539,540,541,542,543,544,545,546,547,548,549,550,551,552,553,554,555,556,557,558,559,560,561,562,563,564,565,566,567,568,569,570,571,572,573,574,575,576,577,578,579,580,581,582,583,584,585,586,587,588,589,590,591,592,593,594,595,596,597,598,599,600,601,602,603,604,605,606,607,608,609,610,611,612,613,614,615,616,617,618,619,620,621,622,623,624,625,626,627,628,629,630,631,632,633,634,635,636],\"index\":[0,1,2,3,4,5,6,7,8,9,10,11,12,13,14,15,16,17,18,19,20,21,22,23,24,25,26,27,28,29,30,31,32,33,34,35,36,37,38,39,40,41,42,43,44,45,46,47,48,49,50,51,52,53,54,55,56,57,58,59,60,61,62,63,64,65,66,67,68,69,70,71,72,73,74,75,76,77,78,79,80,81,82,83,84,85,86,87,88,89,90,91,92,93,94,95,96,97,98,99,100,101,102,103,104,105,106,107,108,109,110,111,112,113,114,115,116,117,118,119,120,121,122,123,124,125,126,127,128,129,130,131,132,133,134,135,136,137,138,139,140,141,142,143,144,145,146,147,148,149,150,151,152,153,154,155,156,157,158,159,160,161,162,163,164,165,166,167,168,169,170,171,172,173,174,175,176,177,178,179,180,181,182,183,184,185,186,187,188,189,190,191,192,193,194,195,196,197,198,199,200,201,202,203,204,205,206,207,208,209,210,211,212,213,214,215,216,217,218,219,220,221,222,223,224,225,226,227,228,229,230,231,232,233,234,235,236,237,238,239,240,241,242,243,244,245,246,247,248,249,250,251,252,253,254,255,256,257,258,259,260,261,262,263,264,265,266,267,268,269,270,271,272,273,274,275,276,277,278,279,280,281,282,283,284,285,286,287,288,289,290,291,292,293,294,295,296,297,298,299,300,301,302,303,304,305,306,307,308,309,310,311,312,313,314,315,316,317,318,319,320,321,322,323,324,325,326,327,328,329,330,331,332,333,334,335,336,337,338,339,340,341,342,343,344,345,346,347,348,349,350,351,352,353,354,355,356,357,358,359,360,361,362,363,364,365,366,367,368,369,370,371,372,373,374,375,376,377,378,379,380,381,382,383,384,385,386,387,388,389,390,391,392,393,394,395,396,397,398,399,400,401,402,403,404,405,406,407,408,409,410,411,412,413,414,415,416,417,418,419,420,421,422,423,424,425,426,427,428,429,430,431,432,433,434,435,436,437,438,439,440,441,442,443,444,445,446,447,448,449,450,451,452,453,454,455,456,457,458,459,460,461,462,463,464,465,466,467,468,469,470,471,472,473,474,475,476,477,478,479,480,481,482,483,484,485,486,487,488,489,490,491,492,493,494,495,496,497,498,499,500,501,502,503,504,505,506,507,508,509,510,511,512,513,514,515,516,517,518,519,520,521,522,523,524,525,526,527,528,529,530,531,532,533,534,535,536,537,538,539,540,541,542,543,544,545,546,547,548,549,550,551,552,553,554,555,556,557,558,559,560,561,562,563,564,565,566,567,568,569,570,571,572,573,574,575,576,577,578,579,580,581,582,583,584,585,586,587,588,589,590,591,592,593,594,595,596,597,598,599,600,601,602,603,604,605,606,607,608,609,610,611,612,613,614,615,616,617,618,619,620,621,622,623,624,625,626,627,628,629,630,631,632,633,634,635,636],\"x\":{\"__ndarray__\":\"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\",\"dtype\":\"float64\",\"shape\":[637]},\"y\":{\"__ndarray__\":\"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\",\"dtype\":\"float64\",\"shape\":[637]}}},\"id\":\"43e295d4-dcb0-4083-b24b-7702cb115ef8\",\"type\":\"ColumnDataSource\"},{\"attributes\":{\"source\":{\"id\":\"43e295d4-dcb0-4083-b24b-7702cb115ef8\",\"type\":\"ColumnDataSource\"}},\"id\":\"daff6b36-e491-47af-9417-9726b80816b1\",\"type\":\"CDSView\"},{\"attributes\":{},\"id\":\"5f187ff3-59af-43e7-a29d-abf48609c6ae\",\"type\":\"HelpTool\"},{\"attributes\":{},\"id\":\"f129460f-d061-42f1-aa61-f5e6f3590c0f\",\"type\":\"LinearScale\"},{\"attributes\":{},\"id\":\"20a6f344-62f6-4f84-bc16-e5e3a86658ee\",\"type\":\"ResetTool\"},{\"attributes\":{\"data_source\":{\"id\":\"43e295d4-dcb0-4083-b24b-7702cb115ef8\",\"type\":\"ColumnDataSource\"},\"glyph\":{\"id\":\"c1546769-fdcb-4292-b91e-db8560e44216\",\"type\":\"Circle\"},\"hover_glyph\":null,\"muted_glyph\":null,\"nonselection_glyph\":{\"id\":\"f54a604f-106d-41c7-83a6-73c852dc717c\",\"type\":\"Circle\"},\"selection_glyph\":null,\"view\":{\"id\":\"daff6b36-e491-47af-9417-9726b80816b1\",\"type\":\"CDSView\"}},\"id\":\"822c974e-3cdd-4793-a163-a2d9f2b38891\",\"type\":\"GlyphRenderer\"},{\"attributes\":{\"fill_alpha\":{\"value\":0.1},\"fill_color\":{\"value\":\"#1f77b4\"},\"line_alpha\":{\"value\":0.1},\"line_color\":{\"value\":\"#1f77b4\"},\"size\":{\"units\":\"screen\",\"value\":12},\"x\":{\"field\":\"x\"},\"y\":{\"field\":\"y\"}},\"id\":\"f54a604f-106d-41c7-83a6-73c852dc717c\",\"type\":\"Circle\"},{\"attributes\":{\"below\":[{\"id\":\"f8f7fb38-4ade-4eb0-a378-873cf5cd6d25\",\"type\":\"LinearAxis\"}],\"left\":[{\"id\":\"2db740c9-45b3-47e6-a54d-a62239c721fa\",\"type\":\"LinearAxis\"}],\"renderers\":[{\"id\":\"f8f7fb38-4ade-4eb0-a378-873cf5cd6d25\",\"type\":\"LinearAxis\"},{\"id\":\"81848c62-b801-4eb1-a01b-047b2f9161ba\",\"type\":\"Grid\"},{\"id\":\"2db740c9-45b3-47e6-a54d-a62239c721fa\",\"type\":\"LinearAxis\"},{\"id\":\"7aac22de-76bd-407e-b510-cfd872995b8d\",\"type\":\"Grid\"},{\"id\":\"aa04f40d-5c94-4543-89be-a2e38211f003\",\"type\":\"BoxAnnotation\"},{\"id\":\"822c974e-3cdd-4793-a163-a2d9f2b38891\",\"type\":\"GlyphRenderer\"},{\"id\":\"6d0580e5-e729-4565-8f36-8bff44bfc19f\",\"type\":\"LabelSet\"}],\"title\":{\"id\":\"f01400c3-6d25-4ba3-90f9-05b88b0b808a\",\"type\":\"Title\"},\"toolbar\":{\"id\":\"233b77ce-7058-43e3-b851-713a17c38d8d\",\"type\":\"Toolbar\"},\"x_range\":{\"id\":\"18cc1c57-0abd-419d-b500-68f955e48dcd\",\"type\":\"DataRange1d\"},\"x_scale\":{\"id\":\"01c3f001-edc0-4958-a834-1a80c63e8001\",\"type\":\"LinearScale\"},\"y_range\":{\"id\":\"1266f4ae-2a4b-4663-83f0-6d447cfa5594\",\"type\":\"DataRange1d\"},\"y_scale\":{\"id\":\"f129460f-d061-42f1-aa61-f5e6f3590c0f\",\"type\":\"LinearScale\"}},\"id\":\"6a01c514-7a1f-49f8-b9a9-d99048b287d1\",\"subtype\":\"Figure\",\"type\":\"Plot\"},{\"attributes\":{},\"id\":\"01e17768-61fe-4fa8-b299-1b5b13b3bf24\",\"type\":\"BasicTickFormatter\"},{\"attributes\":{\"fill_alpha\":{\"value\":0.8},\"fill_color\":{\"value\":\"#1f77b4\"},\"size\":{\"units\":\"screen\",\"value\":12},\"x\":{\"field\":\"x\"},\"y\":{\"field\":\"y\"}},\"id\":\"c1546769-fdcb-4292-b91e-db8560e44216\",\"type\":\"Circle\"},{\"attributes\":{},\"id\":\"b604a8a7-cce5-4bf9-842d-9ad578d28228\",\"type\":\"SaveTool\"},{\"attributes\":{\"dimension\":1,\"plot\":{\"id\":\"6a01c514-7a1f-49f8-b9a9-d99048b287d1\",\"subtype\":\"Figure\",\"type\":\"Plot\"},\"ticker\":{\"id\":\"731a1822-b020-478f-a34d-13c584257c14\",\"type\":\"BasicTicker\"}},\"id\":\"7aac22de-76bd-407e-b510-cfd872995b8d\",\"type\":\"Grid\"},{\"attributes\":{\"active_drag\":\"auto\",\"active_inspect\":\"auto\",\"active_scroll\":\"auto\",\"active_tap\":\"auto\",\"tools\":[{\"id\":\"af025e61-144a-4a70-a2ce-ae9f07d10a13\",\"type\":\"PanTool\"},{\"id\":\"79180dff-3f5e-44bf-90ae-438c2959d2b9\",\"type\":\"WheelZoomTool\"},{\"id\":\"050e3897-aa17-4ba6-af8a-93ae2c977de9\",\"type\":\"BoxZoomTool\"},{\"id\":\"b604a8a7-cce5-4bf9-842d-9ad578d28228\",\"type\":\"SaveTool\"},{\"id\":\"20a6f344-62f6-4f84-bc16-e5e3a86658ee\",\"type\":\"ResetTool\"},{\"id\":\"5f187ff3-59af-43e7-a29d-abf48609c6ae\",\"type\":\"HelpTool\"}]},\"id\":\"233b77ce-7058-43e3-b851-713a17c38d8d\",\"type\":\"Toolbar\"},{\"attributes\":{},\"id\":\"f4ae7414-4b68-4120-ad50-2bd7096d7be9\",\"type\":\"BasicTicker\"},{\"attributes\":{\"bottom_units\":\"screen\",\"fill_alpha\":{\"value\":0.5},\"fill_color\":{\"value\":\"lightgrey\"},\"left_units\":\"screen\",\"level\":\"overlay\",\"line_alpha\":{\"value\":1.0},\"line_color\":{\"value\":\"black\"},\"line_dash\":[4,4],\"line_width\":{\"value\":2},\"plot\":null,\"render_mode\":\"css\",\"right_units\":\"screen\",\"top_units\":\"screen\"},\"id\":\"aa04f40d-5c94-4543-89be-a2e38211f003\",\"type\":\"BoxAnnotation\"},{\"attributes\":{\"overlay\":{\"id\":\"aa04f40d-5c94-4543-89be-a2e38211f003\",\"type\":\"BoxAnnotation\"}},\"id\":\"050e3897-aa17-4ba6-af8a-93ae2c977de9\",\"type\":\"BoxZoomTool\"},{\"attributes\":{},\"id\":\"01c3f001-edc0-4958-a834-1a80c63e8001\",\"type\":\"LinearScale\"},{\"attributes\":{\"formatter\":{\"id\":\"01e17768-61fe-4fa8-b299-1b5b13b3bf24\",\"type\":\"BasicTickFormatter\"},\"plot\":{\"id\":\"6a01c514-7a1f-49f8-b9a9-d99048b287d1\",\"subtype\":\"Figure\",\"type\":\"Plot\"},\"ticker\":{\"id\":\"731a1822-b020-478f-a34d-13c584257c14\",\"type\":\"BasicTicker\"}},\"id\":\"2db740c9-45b3-47e6-a54d-a62239c721fa\",\"type\":\"LinearAxis\"},{\"attributes\":{\"plot\":{\"id\":\"6a01c514-7a1f-49f8-b9a9-d99048b287d1\",\"subtype\":\"Figure\",\"type\":\"Plot\"},\"ticker\":{\"id\":\"f4ae7414-4b68-4120-ad50-2bd7096d7be9\",\"type\":\"BasicTicker\"}},\"id\":\"81848c62-b801-4eb1-a01b-047b2f9161ba\",\"type\":\"Grid\"},{\"attributes\":{},\"id\":\"731a1822-b020-478f-a34d-13c584257c14\",\"type\":\"BasicTicker\"},{\"attributes\":{\"callback\":null},\"id\":\"18cc1c57-0abd-419d-b500-68f955e48dcd\",\"type\":\"DataRange1d\"},{\"attributes\":{},\"id\":\"a3fd0f20-bed0-4c27-9689-18dfdf492619\",\"type\":\"BasicTickFormatter\"}],\"root_ids\":[\"6a01c514-7a1f-49f8-b9a9-d99048b287d1\"]},\"title\":\"Bokeh Application\",\"version\":\"0.12.13\"}};\n",
       "  var render_items = [{\"docid\":\"a82348c3-946e-40bf-a87e-0eea86a53c28\",\"elementid\":\"b6c959c3-fe4c-42a8-8c22-4161af9bd02b\",\"modelid\":\"6a01c514-7a1f-49f8-b9a9-d99048b287d1\",\"notebook_comms_target\":\"c0492d9a-a197-439d-9d86-00573b0e9142\"}];\n",
       "  root.Bokeh.embed.embed_items_notebook(docs_json, render_items);\n",
       "\n",
       "  }\n",
       "  if (root.Bokeh !== undefined) {\n",
       "    embed_document(root);\n",
       "  } else {\n",
       "    var attempts = 0;\n",
       "    var timer = setInterval(function(root) {\n",
       "      if (root.Bokeh !== undefined) {\n",
       "        embed_document(root);\n",
       "        clearInterval(timer);\n",
       "      }\n",
       "      attempts++;\n",
       "      if (attempts > 100) {\n",
       "        console.log(\"Bokeh: ERROR: Unable to run BokehJS code because BokehJS library is missing\")\n",
       "        clearInterval(timer);\n",
       "      }\n",
       "    }, 10, root)\n",
       "  }\n",
       "})(window);"
      ],
      "application/vnd.bokehjs_exec.v0+json": ""
     },
     "metadata": {
      "application/vnd.bokehjs_exec.v0+json": {
       "id": "6a01c514-7a1f-49f8-b9a9-d99048b287d1"
      }
     },
     "output_type": "display_data"
    },
    {
     "data": {
      "text/html": [
       "<p><code>&lt;Bokeh Notebook handle for <strong>In[33]</strong>&gt;</code></p>"
      ],
      "text/plain": [
       "<bokeh.io.notebook.CommsHandle at 0x131efac18>"
      ]
     },
     "execution_count": 33,
     "metadata": {},
     "output_type": "execute_result"
    }
   ],
   "source": [
    "svd = TruncatedSVD(n_components=2)\n",
    "svd = TruncatedSVD(n_components=2)\n",
    "documents_2d = svd.fit_transform(data_vectorized)\n",
    " \n",
    "df = pd.DataFrame(columns=['x', 'y', 'document'])\n",
    "df['x'], df['y'], df['document'] = documents_2d[:,0], documents_2d[:,1], range(len(data))\n",
    " \n",
    "source = ColumnDataSource(ColumnDataSource.from_df(df))\n",
    "labels = LabelSet(x=\"x\", y=\"y\", text=\"document\", y_offset=8,\n",
    "                  text_font_size=\"8pt\", text_color=\"#555555\",\n",
    "                  source=source, text_align='center')\n",
    " \n",
    "plot = figure(plot_width=600, plot_height=600)\n",
    "plot.circle(\"x\", \"y\", size=12, source=source, line_color=\"black\", fill_alpha=0.8)\n",
    "plot.add_layout(labels)\n",
    "show(plot, notebook_handle=True)"
   ]
  },
  {
   "cell_type": "code",
   "execution_count": 34,
   "metadata": {},
   "outputs": [
    {
     "data": {
      "text/html": [
       "\n",
       "<div class=\"bk-root\">\n",
       "    <div class=\"bk-plotdiv\" id=\"db137a01-06af-480b-88c0-54b35a824132\"></div>\n",
       "</div>"
      ]
     },
     "metadata": {},
     "output_type": "display_data"
    },
    {
     "data": {
      "application/javascript": [
       "(function(root) {\n",
       "  function embed_document(root) {\n",
       "    \n",
       "  var docs_json = {\"0be97481-ad98-4d86-bdd8-f3d26e4ec828\":{\"roots\":{\"references\":[{\"attributes\":{\"callback\":null},\"id\":\"3df0c59c-7ee6-47c5-9383-40ef9d693f95\",\"type\":\"DataRange1d\"},{\"attributes\":{\"plot\":{\"id\":\"959b8e1c-6bcd-4590-8570-86d760381eb5\",\"subtype\":\"Figure\",\"type\":\"Plot\"},\"ticker\":{\"id\":\"e2003423-b6d4-44b8-807f-35946efa2aa9\",\"type\":\"BasicTicker\"}},\"id\":\"3856c49e-e25b-49e0-9785-087d2d94d5b7\",\"type\":\"Grid\"},{\"attributes\":{},\"id\":\"75dc5356-eec4-41e5-9bf0-ab2fec69c636\",\"type\":\"BasicTicker\"},{\"attributes\":{},\"id\":\"aea7594d-4af4-409d-b39e-d96f8f4d0d26\",\"type\":\"BasicTickFormatter\"},{\"attributes\":{\"dimension\":1,\"plot\":{\"id\":\"959b8e1c-6bcd-4590-8570-86d760381eb5\",\"subtype\":\"Figure\",\"type\":\"Plot\"},\"ticker\":{\"id\":\"75dc5356-eec4-41e5-9bf0-ab2fec69c636\",\"type\":\"BasicTicker\"}},\"id\":\"13abbe7f-f361-4b7d-af72-6a0b97ed50fc\",\"type\":\"Grid\"},{\"attributes\":{\"formatter\":{\"id\":\"b5985d55-f504-4f3b-b8db-1ac384b83a43\",\"type\":\"BasicTickFormatter\"},\"plot\":{\"id\":\"959b8e1c-6bcd-4590-8570-86d760381eb5\",\"subtype\":\"Figure\",\"type\":\"Plot\"},\"ticker\":{\"id\":\"e2003423-b6d4-44b8-807f-35946efa2aa9\",\"type\":\"BasicTicker\"}},\"id\":\"bcaceeb9-9abc-4f0a-a482-56e8304d4677\",\"type\":\"LinearAxis\"},{\"attributes\":{\"fill_alpha\":{\"value\":0.8},\"fill_color\":{\"value\":\"#1f77b4\"},\"size\":{\"units\":\"screen\",\"value\":12},\"x\":{\"field\":\"x\"},\"y\":{\"field\":\"y\"}},\"id\":\"82f35bad-6dd6-4740-a4e0-7251b9c2257e\",\"type\":\"Circle\"},{\"attributes\":{\"overlay\":{\"id\":\"45d0e8c3-c1e4-44ee-ac84-75fb85f8e852\",\"type\":\"BoxAnnotation\"}},\"id\":\"da17b119-2880-43c7-a2cc-fbbd241c3ab8\",\"type\":\"BoxZoomTool\"},{\"attributes\":{\"callback\":null},\"id\":\"50ea1900-c671-4918-bba8-e6b2dc7497b6\",\"type\":\"DataRange1d\"},{\"attributes\":{},\"id\":\"f655ebad-2cb5-4d4e-b759-645b2e8d2117\",\"type\":\"SaveTool\"},{\"attributes\":{\"below\":[{\"id\":\"bcaceeb9-9abc-4f0a-a482-56e8304d4677\",\"type\":\"LinearAxis\"}],\"left\":[{\"id\":\"237c359d-4a65-45cb-b2ae-060b1604fc41\",\"type\":\"LinearAxis\"}],\"renderers\":[{\"id\":\"bcaceeb9-9abc-4f0a-a482-56e8304d4677\",\"type\":\"LinearAxis\"},{\"id\":\"3856c49e-e25b-49e0-9785-087d2d94d5b7\",\"type\":\"Grid\"},{\"id\":\"237c359d-4a65-45cb-b2ae-060b1604fc41\",\"type\":\"LinearAxis\"},{\"id\":\"13abbe7f-f361-4b7d-af72-6a0b97ed50fc\",\"type\":\"Grid\"},{\"id\":\"45d0e8c3-c1e4-44ee-ac84-75fb85f8e852\",\"type\":\"BoxAnnotation\"},{\"id\":\"72461037-d347-4125-a9d1-4bcdbe69dea9\",\"type\":\"GlyphRenderer\"},{\"id\":\"bf0bb64c-42f4-4ce8-9751-597f40bf520e\",\"type\":\"LabelSet\"}],\"title\":{\"id\":\"b9556f2d-58f5-4c95-89aa-519af9501f90\",\"type\":\"Title\"},\"toolbar\":{\"id\":\"33a90cf9-45bf-4e27-bc5c-0ca9b41e3289\",\"type\":\"Toolbar\"},\"x_range\":{\"id\":\"50ea1900-c671-4918-bba8-e6b2dc7497b6\",\"type\":\"DataRange1d\"},\"x_scale\":{\"id\":\"4735537d-6619-4ac7-bbc1-bf54c0e44634\",\"type\":\"LinearScale\"},\"y_range\":{\"id\":\"3df0c59c-7ee6-47c5-9383-40ef9d693f95\",\"type\":\"DataRange1d\"},\"y_scale\":{\"id\":\"9e7f4e1a-ade2-4d25-a9ad-fec940b97086\",\"type\":\"LinearScale\"}},\"id\":\"959b8e1c-6bcd-4590-8570-86d760381eb5\",\"subtype\":\"Figure\",\"type\":\"Plot\"},{\"attributes\":{\"plot\":null,\"text\":\"\"},\"id\":\"b9556f2d-58f5-4c95-89aa-519af9501f90\",\"type\":\"Title\"},{\"attributes\":{},\"id\":\"4735537d-6619-4ac7-bbc1-bf54c0e44634\",\"type\":\"LinearScale\"},{\"attributes\":{\"callback\":null,\"column_names\":[\"x\",\"y\",\"word\",\"index\"],\"data\":{\"index\":[0,1,2,3,4,5,6,7,8,9,10,11,12,13,14,15,16,17,18,19,20,21,22,23,24,25,26,27,28,29,30,31,32,33,34,35,36,37,38,39,40,41,42,43,44,45,46,47,48,49,50,51,52,53,54,55,56,57,58,59,60,61,62,63,64,65,66,67,68,69,70,71,72,73,74,75,76,77,78,79,80,81,82,83,84,85,86,87,88,89,90,91,92,93,94,95,96,97,98,99,100,101,102,103,104,105,106,107,108,109,110,111,112,113,114,115,116,117,118,119,120,121,122,123,124,125,126,127,128,129,130,131,132,133,134,135,136,137,138,139,140,141,142,143,144,145,146,147,148,149,150,151,152,153,154,155,156,157,158,159,160,161,162,163,164,165,166,167,168,169,170,171,172,173,174,175,176,177,178,179,180,181,182,183,184,185,186,187,188,189,190,191,192,193,194,195,196,197,198,199,200,201,202,203,204,205,206,207,208,209,210,211,212,213,214,215,216,217,218,219,220,221,222,223,224,225,226,227,228,229,230,231,232,233,234,235,236,237,238,239,240,241,242,243,244,245,246,247,248,249,250,251,252,253,254,255,256,257,258,259,260,261,262,263,264,265,266,267,268,269,270,271,272,273,274,275,276,277,278,279,280,281,282,283,284,285,286,287,288,289,290,291,292,293,294,295,296,297,298,299,300,301,302,303,304,305,306,307,308,309,310,311,312,313,314,315,316,317,318,319,320,321,322,323,324,325,326,327,328,329,330,331,332,333,334,335,336,337,338,339,340,341,342,343,344,345,346,347,348,349,350,351,352,353,354,355,356,357,358,359,360,361,362,363,364,365,366,367,368,369,370,371,372,373,374,375,376,377,378,379,380,381,382,383,384,385,386,387,388,389,390,391,392,393,394,395,396,397,398,399,400,401,402,403,404,405,406,407,408,409,410,411,412,413,414,415,416,417,418,419,420,421,422,423,424,425,426,427,428,429,430,431,432,433,434,435,436,437,438,439,440,441,442,443,444,445,446,447,448,449,450,451,452,453,454,455,456,457,458,459,460,461,462,463,464,465,466,467,468,469,470,471,472,473,474,475,476,477,478,479,480,481,482,483,484,485,486,487,488,489,490,491,492,493,494,495,496,497,498,499,500,501,502,503,504,505,506,507,508,509,510,511,512,513,514,515,516,517,518,519,520,521,522,523,524,525,526,527,528,529,530,531,532,533,534,535,536,537,538,539,540,541,542,543,544,545,546,547,548,549,550,551,552,553,554,555,556,557,558,559,560,561,562,563,564,565,566,567,568,569,570,571,572,573,574,575,576,577,578,579,580,581,582,583,584,585,586,587,588,589,590,591,592,593,594,595,596,597,598,599,600,601,602,603,604,605,606,607,608,609,610,611,612,613,614,615,616,617,618,619,620,621,622,623,624,625,626,627,628,629,630,631,632,633,634,635,636,637,638,639,640,641,642,643,644,645,646,647,648,649,650,651,652,653,654,655,656,657,658,659,660,661,662,663,664,665,666,667,668,669,670,671,672,673,674,675,676,677,678,679,680,681,682,683,684,685,686,687,688,689,690,691,692,693,694,695,696,697,698,699,700,701,702,703,704,705,706,707,708,709,710,711,712,713,714,715,716,717,718,719,720,721,722,723,724,725,726,727,728,729,730,731,732,733,734,735,736,737,738,739,740,741,742,743,744,745,746,747,748,749,750,751,752,753,754,755,756,757,758,759,760,761,762,763,764,765,766,767,768,769,770,771,772,773,774,775,776,777,778,779,780,781,782,783,784,785,786,787,788,789,790,791,792,793,794,795,796,797,798,799,800,801,802,803,804,805,806,807,808,809,810,811,812,813,814,815,816,817,818,819,820,821,822,823,824,825,826,827,828,829,830,831,832,833,834,835,836,837,838,839,840,841,842,843,844,845,846,847,848,849,850,851,852,853,854,855,856,857,858,859,860,861,862,863,864,865,866,867,868,869,870,871,872,873,874,875,876,877,878,879,880,881,882,883,884,885,886,887,888,889,890,891,892,893,894,895,896,897,898,899,900,901,902,903,904,905,906,907,908,909,910,911,912,913,914,915,916,917,918,919,920,921,922,923,924,925,926,927,928,929,930,931,932,933,934,935,936,937,938,939,940,941,942,943,944,945,946,947,948,949,950,951,952,953,954,955,956,957,958,959,960,961,962,963,964,965,966,967,968,969,970,971,972,973,974,975,976,977,978,979,980,981,982,983,984,985,986,987,988,989,990,991,992,993,994,995,996,997,998,999],\"word\":[\",--\",\"--\",\"abhor\",\"absence\",\"absent\",\"abundance\",\"abuse\",\"accident\",\"account\",\"accuse\",\"acquaint\",\"acquaintance\",\"action\",\"add\",\"addition\",\"adjunct\",\"admire\",\"admit\",\"advantage\",\"affair\",\"afford\",\"age\",\"ah\",\"aid\",\"air\",\"alack\",\"alas\",\"alchemy\",\"alive\",\"allow\",\"alter\",\"alter'd\",\"amiss\",\"anew\",\"angel\",\"anon\",\"answer\",\"antique\",\"antiquity\",\"appear\",\"appetite\",\"approve\",\"april\",\"argument\",\"assail'd\",\"assur'd\",\"assure\",\"attaint\",\"attend\",\"audit\",\"aught\",\"autumn\",\"awake\",\"away\",\"ay\",\"babe\",\"bad\",\"bail\",\"bar\",\"bare\",\"bareness\",\"bark\",\"barren\",\"base\",\"bastard\",\"bath\",\"bear\",\"beast\",\"beat\",\"beauteous\",\"beauty\",\"bed\",\"begin\",\"behold\",\"belie\",\"believe\",\"belong\",\"belov'd\",\"beloved\",\"bend\",\"benefit\",\"besiege\",\"best\",\"betray\",\"better\",\"bid\",\"bide\",\"bind\",\"bird\",\"birth\",\"bitter\",\"bitterness\",\"black\",\"blam'd\",\"blame\",\"bless\",\"blessed\",\"blessing\",\"blest\",\"blind\",\"blood\",\"bloody\",\"blot\",\"blunt\",\"blush\",\"boast\",\"body\",\"bold\",\"bond\",\"book\",\"bosom\",\"bough\",\"bounteous\",\"bounty\",\"bow\",\"boy\",\"brain\",\"brand\",\"brass\",\"brave\",\"break\",\"breast\",\"breath\",\"breathe\",\"breed\",\"brief\",\"bright\",\"bring\",\"brow\",\"bud\",\"build\",\"burn\",\"burthen\",\"bury\",\"call'd\",\"canker\",\"canopy\",\"canst\",\"captain\",\"care\",\"careful\",\"cast\",\"catch\",\"change\",\"character\",\"charter\",\"chase\",\"check\",\"cheek\",\"cheer\",\"chest\",\"chide\",\"chief\",\"child\",\"choose\",\"churl\",\"clear\",\"clock\",\"cloud\",\"cold\",\"colour\",\"come\",\"comfort\",\"comment\",\"commit\",\"common\",\"compare\",\"complexion\",\"compound\",\"conceit\",\"concord\",\"confin'd\",\"confound\",\"conquest\",\"conscience\",\"constancy\",\"constant\",\"contain\",\"content\",\"contract\",\"control\",\"convert\",\"cool\",\"copy\",\"corrupt\",\"cost\",\"count\",\"counterfeit\",\"course\",\"cover\",\"create\",\"creation\",\"creature\",\"crime\",\"crooked\",\"cross\",\"crow\",\"crown\",\"crown'd\",\"cruel\",\"cunning\",\"cupid\",\"cure\",\"curse\",\"daily\",\"dare\",\"dark\",\"date\",\"dateless\",\"day\",\"dead\",\"dear\",\"dearer\",\"dearth\",\"death\",\"decay\",\"decease\",\"deceased\",\"deceive\",\"decree\",\"deed\",\"deem'd\",\"deep\",\"defeat\",\"defect\",\"defence\",\"delight\",\"deny\",\"depart\",\"depend\",\"desert\",\"deserve\",\"desire\",\"despair\",\"despise\",\"despite\",\"devise\",\"devour\",\"dial\",\"didst\",\"die\",\"discontent\",\"disdain\",\"diseas'd\",\"disgrace\",\"distill'd\",\"divide\",\"divine\",\"doom\",\"dote\",\"double\",\"doubt\",\"draw\",\"dream\",\"dress\",\"drink\",\"drop\",\"drown\",\"dull\",\"dumb\",\"dust\",\"duty\",\"dwell\",\"dy'd\",\"ear\",\"earth\",\"ease\",\"eat\",\"eclipse\",\"edge\",\"effect\",\"element\",\"end\",\"enemy\",\"engraft\",\"enjoy\",\"envy\",\"ere\",\"error\",\"esteem\",\"esteem'd\",\"eternal\",\"eternity\",\"evermore\",\"evil\",\"example\",\"exceed\",\"excellence\",\"excuse\",\"expense\",\"express\",\"express'd\",\"eye\",\"eyelid\",\"face\",\"fade\",\"fair\",\"faith\",\"fall\",\"false\",\"falsehood\",\"fame\",\"far\",\"farth\",\"fast\",\"fault\",\"favour\",\"fear\",\"feast\",\"feed\",\"feeding\",\"feel\",\"feeling\",\"fiend\",\"fight\",\"fill'd\",\"fine\",\"finger\",\"flame\",\"flat\",\"flattery\",\"flesh\",\"flower\",\"fly\",\"foe\",\"follow\",\"fool\",\"foot\",\"forbid\",\"force\",\"forget\",\"form\",\"forsake\",\"forsworn\",\"forth\",\"fortune\",\"foul\",\"frame\",\"free\",\"fresh\",\"friend\",\"frown\",\"fulfil\",\"gain\",\"gainst\",\"garment\",\"gate\",\"gav'st\",\"gay\",\"gaze\",\"general\",\"gentle\",\"gift\",\"gild\",\"glad\",\"glance\",\"glass\",\"glory\",\"glutton\",\"god\",\"goddess\",\"gold\",\"golden\",\"good\",\"goodness\",\"grace\",\"gracious\",\"grant\",\"grave\",\"great\",\"green\",\"greet\",\"grief\",\"groan\",\"gross\",\"ground\",\"grow\",\"grow'st\",\"growth\",\"guard\",\"guess\",\"guest\",\"guilty\",\"gust\",\"hadst\",\"hair\",\"half\",\"hand\",\"hang\",\"haply\",\"happy\",\"hard\",\"haste\",\"hate\",\"hawk\",\"head\",\"health\",\"healthful\",\"hear\",\"heart\",\"heat\",\"heaven\",\"heavenly\",\"heavily\",\"heavy\",\"height\",\"heir\",\"hell\",\"help\",\"hide\",\"hideous\",\"high\",\"hold\",\"holy\",\"home\",\"honour\",\"hope\",\"horse\",\"hot\",\"hour\",\"hue\",\"huge\",\"humble\",\"humour\",\"hungry\",\"husband\",\"husbandry\",\"hymn\",\"idle\",\"ignorance\",\"ill\",\"image\",\"imitate\",\"imprison'd\",\"inconstant\",\"increase\",\"infection\",\"influence\",\"injurious\",\"injury\",\"ink\",\"invent\",\"invention\",\"invite\",\"inward\",\"is't\",\"issue\",\"jack\",\"jewel\",\"journey\",\"joy\",\"judgement\",\"judgment\",\"keen\",\"kill\",\"kind\",\"kindness\",\"king\",\"kingdom\",\"kiss\",\"knife\",\"know\",\"know'st\",\"knowledge\",\"lack\",\"lamb\",\"lame\",\"large\",\"lascivious\",\"lawful\",\"lay\",\"lead\",\"leaf\",\"leap\",\"learn\",\"lease\",\"leave\",\"leisure\",\"lend\",\"length\",\"lest\",\"let\",\"level\",\"liberty\",\"lie\",\"life\",\"light\",\"like\",\"lily\",\"limb\",\"limit\",\"line\",\"lip\",\"little\",\"liv'd\",\"live\",\"lively\",\"lo\",\"lofty\",\"long\",\"longer\",\"look\",\"lord\",\"lose\",\"loss\",\"lov'd\",\"lov'st\",\"love\",\"lovely\",\"lover\",\"loving\",\"lust\",\"lusty\",\"mad\",\"maiden\",\"main\",\"majesty\",\"mak'st\",\"make\",\"malady\",\"man\",\"manner\",\"mansion\",\"map\",\"mar\",\"mark\",\"mask'd\",\"master\",\"matter\",\"mayst\",\"mean\",\"measure\",\"meet\",\"memory\",\"mend\",\"merit\",\"methink\",\"mightst\",\"mile\",\"mind\",\"minute\",\"mistake\",\"mistress\",\"moan\",\"mock\",\"monument\",\"moon\",\"morn\",\"morning\",\"morrow\",\"mortal\",\"mother\",\"motion\",\"mountain\",\"mourn\",\"mourner\",\"murderous\",\"muse\",\"music\",\"mute\",\"mutual\",\"nature\",\"nay\",\"ne'er\",\"near\",\"need\",\"neglect\",\"new\",\"niggard\",\"night\",\"nightly\",\"nimble\",\"note\",\"nought\",\"number\",\"nurse\",\"o'er\",\"oath\",\"object\",\"obsequious\",\"ocean\",\"odour\",\"offence\",\"offender\",\"office\",\"old\",\"open\",\"oppress'd\",\"ornament\",\"outlive\",\"outward\",\"owe\",\"owner\",\"pace\",\"pain\",\"paint\",\"painter\",\"painting\",\"palate\",\"pale\",\"paper\",\"pass\",\"past\",\"patience\",\"pattern\",\"pay\",\"peace\",\"pen\",\"pencil\",\"perfect\",\"perfection\",\"perfume\",\"perjur'd\",\"perpetual\",\"physic\",\"physician\",\"picture\",\"pilgrimage\",\"pine\",\"pitch\",\"pity\",\"place\",\"plague\",\"play\",\"plea\",\"plead\",\"pleasing\",\"pleasure\",\"pluck\",\"poet\",\"point\",\"policy\",\"poor\",\"possess'd\",\"possession\",\"posterity\",\"potion\",\"poverty\",\"power\",\"praise\",\"precious\",\"prepare\",\"presence\",\"present\",\"pretty\",\"prey\",\"pride\",\"prime\",\"prince\",\"prize\",\"proceed\",\"profan'd\",\"proof\",\"proud\",\"prov'd\",\"prove\",\"public\",\"pure\",\"purge\",\"purpose\",\"pursuit\",\"quest\",\"question\",\"quick\",\"quill\",\"quite\",\"rage\",\"rain\",\"rank\",\"ransom\",\"rare\",\"raz'd\",\"read\",\"reason\",\"receiv'st\",\"receive\",\"reckon\",\"record\",\"red\",\"register\",\"rehearse\",\"reign\",\"remain\",\"remedy\",\"remember\",\"remember'd\",\"remembrance\",\"remov'd\",\"remove\",\"render\",\"renew\",\"rent\",\"repair\",\"replete\",\"report\",\"resemble\",\"reserve\",\"respect\",\"rest\",\"return\",\"rhyme\",\"rich\",\"ride\",\"right\",\"rime\",\"riper\",\"rise\",\"rob\",\"robbery\",\"root\",\"rose\",\"rotten\",\"rude\",\"ruin'd\",\"run\",\"sacred\",\"sad\",\"sail\",\"sake\",\"salve\",\"sap\",\"saucy\",\"save\",\"say\",\"scope\",\"scorn\",\"scythe\",\"sea\",\"seal\",\"season\",\"seat\",\"second\",\"see'st\",\"seek\",\"seem'd\",\"seldom\",\"self\",\"sell\",\"send\",\"sense\",\"sensual\",\"servant\",\"serve\",\"service\",\"set\",\"shade\",\"shadow\",\"shake\",\"shall\",\"shalt\",\"shame\",\"shape\",\"shift\",\"shin\",\"shine\",\"shore\",\"short\",\"shouldst\",\"shower\",\"shun\",\"sick\",\"sigh\",\"sight\",\"sightless\",\"silence\",\"silent\",\"silver\",\"simple\",\"sin\",\"sinful\",\"sing\",\"single\",\"sink\",\"sit\",\"skill\",\"slander\",\"slave\",\"slay\",\"sleep\",\"slight\",\"slow\",\"small\",\"smell\",\"soil\",\"son\",\"song\",\"soon\",\"sooner\",\"sorrow\",\"soul\",\"sound\",\"sovereign\",\"speak\",\"speed\",\"spend\",\"spirit\",\"spite\",\"spring\",\"spur\",\"stage\",\"stain\",\"stand\",\"star\",\"state\",\"stay\",\"steal\",\"steel\",\"steep\",\"stol'n\",\"stone\",\"stop\",\"store\",\"story\",\"straight\",\"strange\",\"strength\",\"strike\",\"strive\",\"strong\",\"style\",\"subject\",\"substance\",\"suffer\",\"suit\",\"sullen\",\"sum\",\"summer\",\"sun\",\"suppose\",\"sure\",\"survey\",\"survive\",\"suspect\",\"sway\",\"swear\",\"sweet\",\"sweetly\",\"sweetness\",\"swift\",\"table\",\"tan\",\"taste\",\"tatter'd\",\"teach\",\"tear\",\"tell\",\"temptation\",\"tend\",\"tender\",\"term\",\"th\",\"thank\",\"thief\",\"thievish\",\"thing\",\"think\",\"thorn\",\"thought\",\"thousand\",\"thrall\",\"thrice\",\"thrive\",\"throw\",\"thrust\",\"thyself\",\"tie\",\"till\",\"time\",\"tir'd\",\"tired\",\"tis\",\"title\",\"toil\",\"tomb\",\"tongue\",\"torment\",\"torture\",\"touch\",\"translate\",\"travel\",\"treasure\",\"trespass\",\"trifle\",\"triumph\",\"triumphant\",\"true\",\"truly\",\"trust\",\"truth\",\"tune\",\"turn\",\"turn'd\",\"twain\",\"twice\",\"twixt\",\"tyrant\",\"unfather'd\",\"unkind\",\"unkindness\",\"unknown\",\"unless\",\"unlook'd\",\"unrespected\",\"unseen\",\"unthrift\",\"untrue\",\"unused\",\"urge\",\"us'd\",\"use\",\"usurer\",\"vainly\",\"vanish\",\"vantage\",\"vassal\",\"vein\",\"verse\",\"vice\",\"victor\",\"view\",\"vile\",\"violet\",\"virtue\",\"virtuous\",\"voice\",\"vouchsafe\",\"vow\",\"vulgar\",\"wail\",\"wait\",\"wake\",\"walk\",\"wall\",\"want\",\"war\",\"ward\",\"waste\",\"wasteful\",\"watch\",\"water\",\"way\",\"weak\",\"wealth\",\"wear\",\"weary\",\"weed\",\"weep\",\"weigh\",\"welcome\",\"wert\",\"west\",\"wh'r\",\"whate'er\",\"whereof\",\"whereon\",\"whilst\",\"white\",\"wide\",\"widow\",\"wilful\",\"willing\",\"wilt\",\"win\",\"wind\",\"window\",\"wink\",\"winter\",\"wire\",\"wise\",\"wish\",\"wit\",\"witness\",\"woe\",\"woman\",\"womb\",\"wonder\",\"wondrous\",\"woo\",\"wood\",\"word\",\"work\",\"world\",\"worm\",\"worth\",\"worthless\",\"worthy\",\"wouldst\",\"wound\",\"wretch\",\"wretched\",\"wrinkle\",\"writ\",\"write\",\"wrong\",\"year\",\"yellow\",\"yield\",\"young\",\"youth\",\"youthful\"],\"x\":{\"__ndarray__\":\"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\",\"dtype\":\"float64\",\"shape\":[1000]},\"y\":{\"__ndarray__\":\"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\",\"dtype\":\"float64\",\"shape\":[1000]}}},\"id\":\"58672513-fe88-4449-8eb7-9796d4cd8ab0\",\"type\":\"ColumnDataSource\"},{\"attributes\":{},\"id\":\"e0794988-584e-4dc5-abd6-4491e4be1742\",\"type\":\"ResetTool\"},{\"attributes\":{\"formatter\":{\"id\":\"aea7594d-4af4-409d-b39e-d96f8f4d0d26\",\"type\":\"BasicTickFormatter\"},\"plot\":{\"id\":\"959b8e1c-6bcd-4590-8570-86d760381eb5\",\"subtype\":\"Figure\",\"type\":\"Plot\"},\"ticker\":{\"id\":\"75dc5356-eec4-41e5-9bf0-ab2fec69c636\",\"type\":\"BasicTicker\"}},\"id\":\"237c359d-4a65-45cb-b2ae-060b1604fc41\",\"type\":\"LinearAxis\"},{\"attributes\":{},\"id\":\"9e7f4e1a-ade2-4d25-a9ad-fec940b97086\",\"type\":\"LinearScale\"},{\"attributes\":{\"data_source\":{\"id\":\"58672513-fe88-4449-8eb7-9796d4cd8ab0\",\"type\":\"ColumnDataSource\"},\"glyph\":{\"id\":\"82f35bad-6dd6-4740-a4e0-7251b9c2257e\",\"type\":\"Circle\"},\"hover_glyph\":null,\"muted_glyph\":null,\"nonselection_glyph\":{\"id\":\"45ac1f0a-a1de-4700-a1ee-18000f0c9294\",\"type\":\"Circle\"},\"selection_glyph\":null,\"view\":{\"id\":\"c29e4189-596f-4d23-bece-e57efc6e957a\",\"type\":\"CDSView\"}},\"id\":\"72461037-d347-4125-a9d1-4bcdbe69dea9\",\"type\":\"GlyphRenderer\"},{\"attributes\":{\"bottom_units\":\"screen\",\"fill_alpha\":{\"value\":0.5},\"fill_color\":{\"value\":\"lightgrey\"},\"left_units\":\"screen\",\"level\":\"overlay\",\"line_alpha\":{\"value\":1.0},\"line_color\":{\"value\":\"black\"},\"line_dash\":[4,4],\"line_width\":{\"value\":2},\"plot\":null,\"render_mode\":\"css\",\"right_units\":\"screen\",\"top_units\":\"screen\"},\"id\":\"45d0e8c3-c1e4-44ee-ac84-75fb85f8e852\",\"type\":\"BoxAnnotation\"},{\"attributes\":{},\"id\":\"8dd88a43-b4b9-461b-ae94-78ecb6cdfa77\",\"type\":\"PanTool\"},{\"attributes\":{},\"id\":\"e2003423-b6d4-44b8-807f-35946efa2aa9\",\"type\":\"BasicTicker\"},{\"attributes\":{},\"id\":\"316f8cc6-1e6e-4c7b-b0dd-b03cf5a3ca0e\",\"type\":\"WheelZoomTool\"},{\"attributes\":{},\"id\":\"b5985d55-f504-4f3b-b8db-1ac384b83a43\",\"type\":\"BasicTickFormatter\"},{\"attributes\":{\"fill_alpha\":{\"value\":0.1},\"fill_color\":{\"value\":\"#1f77b4\"},\"line_alpha\":{\"value\":0.1},\"line_color\":{\"value\":\"#1f77b4\"},\"size\":{\"units\":\"screen\",\"value\":12},\"x\":{\"field\":\"x\"},\"y\":{\"field\":\"y\"}},\"id\":\"45ac1f0a-a1de-4700-a1ee-18000f0c9294\",\"type\":\"Circle\"},{\"attributes\":{\"plot\":{\"id\":\"959b8e1c-6bcd-4590-8570-86d760381eb5\",\"subtype\":\"Figure\",\"type\":\"Plot\"},\"source\":{\"id\":\"58672513-fe88-4449-8eb7-9796d4cd8ab0\",\"type\":\"ColumnDataSource\"},\"text\":{\"field\":\"word\"},\"text_align\":\"center\",\"text_color\":{\"value\":\"#555555\"},\"text_font_size\":{\"value\":\"8pt\"},\"x\":{\"field\":\"x\"},\"y\":{\"field\":\"y\"},\"y_offset\":{\"value\":8}},\"id\":\"bf0bb64c-42f4-4ce8-9751-597f40bf520e\",\"type\":\"LabelSet\"},{\"attributes\":{\"active_drag\":\"auto\",\"active_inspect\":\"auto\",\"active_scroll\":\"auto\",\"active_tap\":\"auto\",\"tools\":[{\"id\":\"8dd88a43-b4b9-461b-ae94-78ecb6cdfa77\",\"type\":\"PanTool\"},{\"id\":\"316f8cc6-1e6e-4c7b-b0dd-b03cf5a3ca0e\",\"type\":\"WheelZoomTool\"},{\"id\":\"da17b119-2880-43c7-a2cc-fbbd241c3ab8\",\"type\":\"BoxZoomTool\"},{\"id\":\"f655ebad-2cb5-4d4e-b759-645b2e8d2117\",\"type\":\"SaveTool\"},{\"id\":\"e0794988-584e-4dc5-abd6-4491e4be1742\",\"type\":\"ResetTool\"},{\"id\":\"80bb7720-303d-4d2f-8a6d-984144f4e1b2\",\"type\":\"HelpTool\"}]},\"id\":\"33a90cf9-45bf-4e27-bc5c-0ca9b41e3289\",\"type\":\"Toolbar\"},{\"attributes\":{\"source\":{\"id\":\"58672513-fe88-4449-8eb7-9796d4cd8ab0\",\"type\":\"ColumnDataSource\"}},\"id\":\"c29e4189-596f-4d23-bece-e57efc6e957a\",\"type\":\"CDSView\"},{\"attributes\":{},\"id\":\"80bb7720-303d-4d2f-8a6d-984144f4e1b2\",\"type\":\"HelpTool\"}],\"root_ids\":[\"959b8e1c-6bcd-4590-8570-86d760381eb5\"]},\"title\":\"Bokeh Application\",\"version\":\"0.12.13\"}};\n",
       "  var render_items = [{\"docid\":\"0be97481-ad98-4d86-bdd8-f3d26e4ec828\",\"elementid\":\"db137a01-06af-480b-88c0-54b35a824132\",\"modelid\":\"959b8e1c-6bcd-4590-8570-86d760381eb5\",\"notebook_comms_target\":\"01452b24-8643-4150-8e1a-906a22c9d287\"}];\n",
       "  root.Bokeh.embed.embed_items_notebook(docs_json, render_items);\n",
       "\n",
       "  }\n",
       "  if (root.Bokeh !== undefined) {\n",
       "    embed_document(root);\n",
       "  } else {\n",
       "    var attempts = 0;\n",
       "    var timer = setInterval(function(root) {\n",
       "      if (root.Bokeh !== undefined) {\n",
       "        embed_document(root);\n",
       "        clearInterval(timer);\n",
       "      }\n",
       "      attempts++;\n",
       "      if (attempts > 100) {\n",
       "        console.log(\"Bokeh: ERROR: Unable to run BokehJS code because BokehJS library is missing\")\n",
       "        clearInterval(timer);\n",
       "      }\n",
       "    }, 10, root)\n",
       "  }\n",
       "})(window);"
      ],
      "application/vnd.bokehjs_exec.v0+json": ""
     },
     "metadata": {
      "application/vnd.bokehjs_exec.v0+json": {
       "id": "959b8e1c-6bcd-4590-8570-86d760381eb5"
      }
     },
     "output_type": "display_data"
    },
    {
     "data": {
      "text/html": [
       "<p><code>&lt;Bokeh Notebook handle for <strong>In[34]</strong>&gt;</code></p>"
      ],
      "text/plain": [
       "<bokeh.io.notebook.CommsHandle at 0x131ec7198>"
      ]
     },
     "execution_count": 34,
     "metadata": {},
     "output_type": "execute_result"
    }
   ],
   "source": [
    "svd = TruncatedSVD(n_components=2)\n",
    "words_2d = svd.fit_transform(data_vectorized.T)\n",
    " \n",
    "df = pd.DataFrame(columns=['x', 'y', 'word'])\n",
    "df['x'], df['y'], df['word'] = words_2d[:,0], words_2d[:,1], vectorizer.get_feature_names()\n",
    " \n",
    "source = ColumnDataSource(ColumnDataSource.from_df(df))\n",
    "labels = LabelSet(x=\"x\", y=\"y\", text=\"word\", y_offset=8,\n",
    "                  text_font_size=\"8pt\", text_color=\"#555555\",\n",
    "                  source=source, text_align='center')\n",
    " \n",
    "plot = figure(plot_width=600, plot_height=600)\n",
    "plot.circle(\"x\", \"y\", size=12, source=source, line_color=\"black\", fill_alpha=0.8)\n",
    "plot.add_layout(labels)\n",
    "show(plot, notebook_handle=True)"
   ]
  },
  {
   "cell_type": "markdown",
   "metadata": {},
   "source": [
    "## Example of how to process untrained text"
   ]
  },
  {
   "cell_type": "code",
   "execution_count": 35,
   "metadata": {},
   "outputs": [],
   "source": [
    "from sklearn.metrics.pairwise import euclidean_distances\n",
    " \n",
    "def most_similar(x, Z, top_n=5):\n",
    "    dists = euclidean_distances(x.reshape(1, -1), Z)\n",
    "    pairs = enumerate(dists[0])\n",
    "    most_similar = sorted(pairs, key=lambda item: item[1])[:top_n]\n",
    "    return most_similar\n",
    " "
   ]
  },
  {
   "cell_type": "code",
   "execution_count": 38,
   "metadata": {},
   "outputs": [
    {
     "name": "stdout",
     "output_type": "stream",
     "text": [
      "original text:\n",
      "\n",
      " [  7.93308172e-03   5.38165756e-04   2.25310040e-14   5.60258079e-03\n",
      "   3.72973013e-80   2.62144364e-24   0.00000000e+00   3.94482887e-03\n",
      "   8.86628478e-03   3.15688754e-02]\n",
      "closest poem:\n",
      "\n",
      "  Since saucy jacks so happy are in this, Give them thy fingers, me thy lips to kiss\n"
     ]
    }
   ],
   "source": [
    "text = \"flower heart joy peace\"\n",
    "x = nmf.transform(vectorizer.transform([text]))[0]\n",
    "\n",
    "similarities = most_similar(x, transform)\n",
    "document_id, similarity = similarities[0]\n",
    "\n",
    "print(\"original text:\\n\\n\", x)\n",
    "print(\"closest poem:\\n\\n\", data[document_id][:1000])"
   ]
  },
  {
   "cell_type": "markdown",
   "metadata": {},
   "source": [
    "## Implement spaCY word-dictionary\n",
    "\n",
    "This section deviates from the one above in that instead of performing NMF, it simply embeds each poem in spaCY's pre-trained dictionary, and does the same with the semantic labels emerging from the pictures."
   ]
  },
  {
   "cell_type": "code",
   "execution_count": 39,
   "metadata": {},
   "outputs": [],
   "source": [
    "data = sonnet_sentences['sentence']"
   ]
  },
  {
   "cell_type": "code",
   "execution_count": 40,
   "metadata": {},
   "outputs": [],
   "source": [
    "# strip blanks and other terrible things\n",
    "data_clean = []\n",
    "for poem in data:\n",
    "    data_clean.append(cleanText(poem))"
   ]
  },
  {
   "cell_type": "code",
   "execution_count": 41,
   "metadata": {},
   "outputs": [],
   "source": [
    "# tokenize\n",
    "poem_token = []\n",
    "for poem in data_clean:\n",
    "    poem_token.append(tokenizeText(poem))"
   ]
  },
  {
   "cell_type": "code",
   "execution_count": 42,
   "metadata": {},
   "outputs": [],
   "source": [
    "# recombine\n",
    "input_poems = []\n",
    "for token in poem_token:\n",
    "    input_poems.append(' '.join(token))"
   ]
  },
  {
   "cell_type": "code",
   "execution_count": 43,
   "metadata": {},
   "outputs": [],
   "source": [
    "#parse\n",
    "parsed_poems = []\n",
    "for poem in input_poems:\n",
    "    parsed_poems.append(parser(poem))"
   ]
  },
  {
   "cell_type": "code",
   "execution_count": 45,
   "metadata": {},
   "outputs": [],
   "source": [
    "# put all vectors into a big numpy array\n",
    "allvectors = np.zeros((len(parsed_poems),384))\n",
    "i = 0\n",
    "bad_idx = []\n",
    "for pp in parsed_poems:\n",
    "    if len(pp)==0:\n",
    "        bad_idx.append(i)\n",
    "    else:\n",
    "        allvectors[i,:] = pp.vector\n",
    "    i+=1"
   ]
  },
  {
   "cell_type": "code",
   "execution_count": 993,
   "metadata": {},
   "outputs": [],
   "source": [
    "poem_embeddings = pd.DataFrame(allvectors)\n",
    "norm_poem_embeddings = normalize(poem_embeddings,axis=1)"
   ]
  },
  {
   "cell_type": "markdown",
   "metadata": {},
   "source": [
    "## Store embeddings in pickle files"
   ]
  },
  {
   "cell_type": "code",
   "execution_count": 742,
   "metadata": {},
   "outputs": [],
   "source": [
    "poem_embeddings.to_pickle('allvecs.pkl')\n",
    "\n",
    "with open('sharespeares_stopwords.pkl','wb') as file:\n",
    "    pickle.dump(shakespeares_stopwords,file)"
   ]
  }
 ],
 "metadata": {
  "kernelspec": {
   "display_name": "Python 3",
   "language": "python",
   "name": "python3"
  },
  "language_info": {
   "codemirror_mode": {
    "name": "ipython",
    "version": 3
   },
   "file_extension": ".py",
   "mimetype": "text/x-python",
   "name": "python",
   "nbconvert_exporter": "python",
   "pygments_lexer": "ipython3",
   "version": "3.6.4"
  }
 },
 "nbformat": 4,
 "nbformat_minor": 2
}
