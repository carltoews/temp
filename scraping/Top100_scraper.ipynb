{
 "cells": [
  {
   "cell_type": "markdown",
   "metadata": {},
   "source": [
    "###  This notebook scrapes the \"Top 100 Short Poems\" from PoetrySoup.com"
   ]
  },
  {
   "cell_type": "code",
   "execution_count": 1,
   "metadata": {},
   "outputs": [],
   "source": [
    "from bs4 import BeautifulSoup\n",
    "import requests\n",
    "import numpy as np\n",
    "import pandas as pd\n",
    "import urllib"
   ]
  },
  {
   "cell_type": "markdown",
   "metadata": {},
   "source": [
    "**Get landing page for poem links**"
   ]
  },
  {
   "cell_type": "code",
   "execution_count": 2,
   "metadata": {},
   "outputs": [],
   "source": [
    "main = requests.get(\"https://www.poetrysoup.com/famous/poems/short/top_100_famous_short_poems.aspx\")\n",
    "main_soup = BeautifulSoup(main.text,'lxml') "
   ]
  },
  {
   "cell_type": "markdown",
   "metadata": {},
   "source": [
    "**Scrape url, title, and author**"
   ]
  },
  {
   "cell_type": "code",
   "execution_count": 3,
   "metadata": {},
   "outputs": [
    {
     "data": {
      "text/html": [
       "<div>\n",
       "<style scoped>\n",
       "    .dataframe tbody tr th:only-of-type {\n",
       "        vertical-align: middle;\n",
       "    }\n",
       "\n",
       "    .dataframe tbody tr th {\n",
       "        vertical-align: top;\n",
       "    }\n",
       "\n",
       "    .dataframe thead th {\n",
       "        text-align: right;\n",
       "    }\n",
       "</style>\n",
       "<table border=\"1\" class=\"dataframe\">\n",
       "  <thead>\n",
       "    <tr style=\"text-align: right;\">\n",
       "      <th></th>\n",
       "      <th>url</th>\n",
       "      <th>title</th>\n",
       "      <th>author</th>\n",
       "    </tr>\n",
       "  </thead>\n",
       "  <tbody>\n",
       "    <tr>\n",
       "      <th>0</th>\n",
       "      <td>/famous/poem/im_nobody!_who_are_you_41</td>\n",
       "      <td>Im nobody! Who are you?</td>\n",
       "      <td>Emily Dickinson</td>\n",
       "    </tr>\n",
       "    <tr>\n",
       "      <th>1</th>\n",
       "      <td>/famous/poem/the_lesson_115</td>\n",
       "      <td>The Lesson</td>\n",
       "      <td>Maya Angelou</td>\n",
       "    </tr>\n",
       "    <tr>\n",
       "      <th>2</th>\n",
       "      <td>/famous/poem/the_power_of_a_smile_21350</td>\n",
       "      <td>The Power of a Smile</td>\n",
       "      <td>Tupac Shakur</td>\n",
       "    </tr>\n",
       "    <tr>\n",
       "      <th>3</th>\n",
       "      <td>/famous/poem/a_total_stranger_one_black_day_408</td>\n",
       "      <td>a total stranger one black day</td>\n",
       "      <td>Edward Estlin (E E) Cummings</td>\n",
       "    </tr>\n",
       "    <tr>\n",
       "      <th>4</th>\n",
       "      <td>/famous/poem/i_float_like_a_butterfly_sting_li...</td>\n",
       "      <td>I float like a butterfly, sting like a bee</td>\n",
       "      <td>Muhammad Ali</td>\n",
       "    </tr>\n",
       "  </tbody>\n",
       "</table>\n",
       "</div>"
      ],
      "text/plain": [
       "                                                 url  \\\n",
       "0             /famous/poem/im_nobody!_who_are_you_41   \n",
       "1                        /famous/poem/the_lesson_115   \n",
       "2            /famous/poem/the_power_of_a_smile_21350   \n",
       "3    /famous/poem/a_total_stranger_one_black_day_408   \n",
       "4  /famous/poem/i_float_like_a_butterfly_sting_li...   \n",
       "\n",
       "                                        title                        author  \n",
       "0                     Im nobody! Who are you?               Emily Dickinson  \n",
       "1                                  The Lesson                  Maya Angelou  \n",
       "2                        The Power of a Smile                  Tupac Shakur  \n",
       "3              a total stranger one black day  Edward Estlin (E E) Cummings  \n",
       "4  I float like a butterfly, sting like a bee                  Muhammad Ali  "
      ]
     },
     "execution_count": 3,
     "metadata": {},
     "output_type": "execute_result"
    }
   ],
   "source": [
    "df = []\n",
    "all_items=main_soup.find_all('tr')\n",
    "for item in all_items[1::]:\n",
    "    info=item.find_all('a')\n",
    "    url = info[0].get('href')\n",
    "    title = info[0].get_text().strip()\n",
    "    author = info[1].get_text().strip()\n",
    "    df.append([url,title,author])\n",
    "df = pd.DataFrame(df,columns=['url','title','author'])\n",
    "df.head()"
   ]
  },
  {
   "cell_type": "markdown",
   "metadata": {},
   "source": [
    "**Now scrape off poems**"
   ]
  },
  {
   "cell_type": "code",
   "execution_count": 5,
   "metadata": {},
   "outputs": [],
   "source": [
    "poems = []\n",
    "for row in df.itertuples():\n",
    "    main = requests.get('https://www.poetrysoup.com'+row[1])\n",
    "    main_soup = BeautifulSoup(main.text,'lxml') \n",
    "    poem = main_soup.find_all('pre')\n",
    "    poems.append(poem[0].get_text())"
   ]
  },
  {
   "cell_type": "markdown",
   "metadata": {},
   "source": [
    "**We now have a dataframe of messy poems**"
   ]
  },
  {
   "cell_type": "code",
   "execution_count": 6,
   "metadata": {},
   "outputs": [
    {
     "data": {
      "text/html": [
       "<div>\n",
       "<style scoped>\n",
       "    .dataframe tbody tr th:only-of-type {\n",
       "        vertical-align: middle;\n",
       "    }\n",
       "\n",
       "    .dataframe tbody tr th {\n",
       "        vertical-align: top;\n",
       "    }\n",
       "\n",
       "    .dataframe thead th {\n",
       "        text-align: right;\n",
       "    }\n",
       "</style>\n",
       "<table border=\"1\" class=\"dataframe\">\n",
       "  <thead>\n",
       "    <tr style=\"text-align: right;\">\n",
       "      <th></th>\n",
       "      <th>url</th>\n",
       "      <th>title</th>\n",
       "      <th>author</th>\n",
       "      <th>poem</th>\n",
       "    </tr>\n",
       "  </thead>\n",
       "  <tbody>\n",
       "    <tr>\n",
       "      <th>0</th>\n",
       "      <td>/famous/poem/im_nobody!_who_are_you_41</td>\n",
       "      <td>Im nobody! Who are you?</td>\n",
       "      <td>Emily Dickinson</td>\n",
       "      <td>I'm nobody! Who are you?\\r\\nAre you nobody, to...</td>\n",
       "    </tr>\n",
       "    <tr>\n",
       "      <th>1</th>\n",
       "      <td>/famous/poem/the_lesson_115</td>\n",
       "      <td>The Lesson</td>\n",
       "      <td>Maya Angelou</td>\n",
       "      <td>I keep on dying again.\\r\\nVeins collapse, open...</td>\n",
       "    </tr>\n",
       "    <tr>\n",
       "      <th>2</th>\n",
       "      <td>/famous/poem/the_power_of_a_smile_21350</td>\n",
       "      <td>The Power of a Smile</td>\n",
       "      <td>Tupac Shakur</td>\n",
       "      <td>The power of a gun can kill\\r\\nand the power o...</td>\n",
       "    </tr>\n",
       "    <tr>\n",
       "      <th>3</th>\n",
       "      <td>/famous/poem/a_total_stranger_one_black_day_408</td>\n",
       "      <td>a total stranger one black day</td>\n",
       "      <td>Edward Estlin (E E) Cummings</td>\n",
       "      <td>a total stranger one black day\\r\\nknocked livi...</td>\n",
       "    </tr>\n",
       "    <tr>\n",
       "      <th>4</th>\n",
       "      <td>/famous/poem/i_float_like_a_butterfly_sting_li...</td>\n",
       "      <td>I float like a butterfly, sting like a bee</td>\n",
       "      <td>Muhammad Ali</td>\n",
       "      <td>I float like a butterfly, sting like a bee</td>\n",
       "    </tr>\n",
       "  </tbody>\n",
       "</table>\n",
       "</div>"
      ],
      "text/plain": [
       "                                                 url  \\\n",
       "0             /famous/poem/im_nobody!_who_are_you_41   \n",
       "1                        /famous/poem/the_lesson_115   \n",
       "2            /famous/poem/the_power_of_a_smile_21350   \n",
       "3    /famous/poem/a_total_stranger_one_black_day_408   \n",
       "4  /famous/poem/i_float_like_a_butterfly_sting_li...   \n",
       "\n",
       "                                        title                        author  \\\n",
       "0                     Im nobody! Who are you?               Emily Dickinson   \n",
       "1                                  The Lesson                  Maya Angelou   \n",
       "2                        The Power of a Smile                  Tupac Shakur   \n",
       "3              a total stranger one black day  Edward Estlin (E E) Cummings   \n",
       "4  I float like a butterfly, sting like a bee                  Muhammad Ali   \n",
       "\n",
       "                                                poem  \n",
       "0  I'm nobody! Who are you?\\r\\nAre you nobody, to...  \n",
       "1  I keep on dying again.\\r\\nVeins collapse, open...  \n",
       "2  The power of a gun can kill\\r\\nand the power o...  \n",
       "3  a total stranger one black day\\r\\nknocked livi...  \n",
       "4         I float like a butterfly, sting like a bee  "
      ]
     },
     "execution_count": 6,
     "metadata": {},
     "output_type": "execute_result"
    }
   ],
   "source": [
    "df['poem'] = poems\n",
    "df.to_pickle('top100_full.pkl')\n",
    "df.to_csv('top100_full.csv',header=['url','title','author','poem'],index=False)\n",
    "df.head()"
   ]
  },
  {
   "cell_type": "markdown",
   "metadata": {},
   "source": [
    "**Let's clean them up**"
   ]
  },
  {
   "cell_type": "code",
   "execution_count": 7,
   "metadata": {},
   "outputs": [
    {
     "data": {
      "text/html": [
       "<div>\n",
       "<style scoped>\n",
       "    .dataframe tbody tr th:only-of-type {\n",
       "        vertical-align: middle;\n",
       "    }\n",
       "\n",
       "    .dataframe tbody tr th {\n",
       "        vertical-align: top;\n",
       "    }\n",
       "\n",
       "    .dataframe thead th {\n",
       "        text-align: right;\n",
       "    }\n",
       "</style>\n",
       "<table border=\"1\" class=\"dataframe\">\n",
       "  <thead>\n",
       "    <tr style=\"text-align: right;\">\n",
       "      <th></th>\n",
       "      <th>url</th>\n",
       "      <th>title</th>\n",
       "      <th>author</th>\n",
       "      <th>poem</th>\n",
       "    </tr>\n",
       "  </thead>\n",
       "  <tbody>\n",
       "    <tr>\n",
       "      <th>0</th>\n",
       "      <td>/famous/poem/im_nobody!_who_are_you_41</td>\n",
       "      <td>Im nobody! Who are you?</td>\n",
       "      <td>Emily Dickinson</td>\n",
       "      <td>I'm nobody! Who are you?  Are you nobody, too?...</td>\n",
       "    </tr>\n",
       "    <tr>\n",
       "      <th>1</th>\n",
       "      <td>/famous/poem/the_lesson_115</td>\n",
       "      <td>The Lesson</td>\n",
       "      <td>Maya Angelou</td>\n",
       "      <td>I keep on dying again.  Veins collapse, openin...</td>\n",
       "    </tr>\n",
       "    <tr>\n",
       "      <th>2</th>\n",
       "      <td>/famous/poem/the_power_of_a_smile_21350</td>\n",
       "      <td>The Power of a Smile</td>\n",
       "      <td>Tupac Shakur</td>\n",
       "      <td>The power of a gun can kill  and the power of ...</td>\n",
       "    </tr>\n",
       "    <tr>\n",
       "      <th>3</th>\n",
       "      <td>/famous/poem/a_total_stranger_one_black_day_408</td>\n",
       "      <td>a total stranger one black day</td>\n",
       "      <td>Edward Estlin (E E) Cummings</td>\n",
       "      <td>a total stranger one black day  knocked living...</td>\n",
       "    </tr>\n",
       "    <tr>\n",
       "      <th>4</th>\n",
       "      <td>/famous/poem/i_float_like_a_butterfly_sting_li...</td>\n",
       "      <td>I float like a butterfly, sting like a bee</td>\n",
       "      <td>Muhammad Ali</td>\n",
       "      <td>I float like a butterfly, sting like a bee</td>\n",
       "    </tr>\n",
       "  </tbody>\n",
       "</table>\n",
       "</div>"
      ],
      "text/plain": [
       "                                                 url  \\\n",
       "0             /famous/poem/im_nobody!_who_are_you_41   \n",
       "1                        /famous/poem/the_lesson_115   \n",
       "2            /famous/poem/the_power_of_a_smile_21350   \n",
       "3    /famous/poem/a_total_stranger_one_black_day_408   \n",
       "4  /famous/poem/i_float_like_a_butterfly_sting_li...   \n",
       "\n",
       "                                        title                        author  \\\n",
       "0                     Im nobody! Who are you?               Emily Dickinson   \n",
       "1                                  The Lesson                  Maya Angelou   \n",
       "2                        The Power of a Smile                  Tupac Shakur   \n",
       "3              a total stranger one black day  Edward Estlin (E E) Cummings   \n",
       "4  I float like a butterfly, sting like a bee                  Muhammad Ali   \n",
       "\n",
       "                                                poem  \n",
       "0  I'm nobody! Who are you?  Are you nobody, too?...  \n",
       "1  I keep on dying again.  Veins collapse, openin...  \n",
       "2  The power of a gun can kill  and the power of ...  \n",
       "3  a total stranger one black day  knocked living...  \n",
       "4         I float like a butterfly, sting like a bee  "
      ]
     },
     "execution_count": 7,
     "metadata": {},
     "output_type": "execute_result"
    }
   ],
   "source": [
    "df['poem']=df['poem'].replace({r'\\r|\\n': ' '}, regex=True)\n",
    "df.head()"
   ]
  },
  {
   "cell_type": "code",
   "execution_count": 8,
   "metadata": {},
   "outputs": [
    {
     "data": {
      "text/html": [
       "<div>\n",
       "<style scoped>\n",
       "    .dataframe tbody tr th:only-of-type {\n",
       "        vertical-align: middle;\n",
       "    }\n",
       "\n",
       "    .dataframe tbody tr th {\n",
       "        vertical-align: top;\n",
       "    }\n",
       "\n",
       "    .dataframe thead th {\n",
       "        text-align: right;\n",
       "    }\n",
       "</style>\n",
       "<table border=\"1\" class=\"dataframe\">\n",
       "  <thead>\n",
       "    <tr style=\"text-align: right;\">\n",
       "      <th></th>\n",
       "      <th>url</th>\n",
       "      <th>title</th>\n",
       "      <th>author</th>\n",
       "      <th>poem</th>\n",
       "    </tr>\n",
       "  </thead>\n",
       "  <tbody>\n",
       "    <tr>\n",
       "      <th>0</th>\n",
       "      <td>/famous/poem/im_nobody!_who_are_you_41</td>\n",
       "      <td>Im nobody! Who are you?</td>\n",
       "      <td>Emily Dickinson</td>\n",
       "      <td>I'm nobody! Who are you?  Are you nobody, too?...</td>\n",
       "    </tr>\n",
       "    <tr>\n",
       "      <th>1</th>\n",
       "      <td>/famous/poem/the_lesson_115</td>\n",
       "      <td>The Lesson</td>\n",
       "      <td>Maya Angelou</td>\n",
       "      <td>I keep on dying again.  Veins collapse, openin...</td>\n",
       "    </tr>\n",
       "    <tr>\n",
       "      <th>2</th>\n",
       "      <td>/famous/poem/the_power_of_a_smile_21350</td>\n",
       "      <td>The Power of a Smile</td>\n",
       "      <td>Tupac Shakur</td>\n",
       "      <td>The power of a gun can kill  and the power of ...</td>\n",
       "    </tr>\n",
       "    <tr>\n",
       "      <th>3</th>\n",
       "      <td>/famous/poem/a_total_stranger_one_black_day_408</td>\n",
       "      <td>a total stranger one black day</td>\n",
       "      <td>Edward Estlin (E E) Cummings</td>\n",
       "      <td>a total stranger one black day  knocked living...</td>\n",
       "    </tr>\n",
       "    <tr>\n",
       "      <th>4</th>\n",
       "      <td>/famous/poem/i_float_like_a_butterfly_sting_li...</td>\n",
       "      <td>I float like a butterfly, sting like a bee</td>\n",
       "      <td>Muhammad Ali</td>\n",
       "      <td>I float like a butterfly, sting like a bee</td>\n",
       "    </tr>\n",
       "  </tbody>\n",
       "</table>\n",
       "</div>"
      ],
      "text/plain": [
       "                                                 url  \\\n",
       "0             /famous/poem/im_nobody!_who_are_you_41   \n",
       "1                        /famous/poem/the_lesson_115   \n",
       "2            /famous/poem/the_power_of_a_smile_21350   \n",
       "3    /famous/poem/a_total_stranger_one_black_day_408   \n",
       "4  /famous/poem/i_float_like_a_butterfly_sting_li...   \n",
       "\n",
       "                                        title                        author  \\\n",
       "0                     Im nobody! Who are you?               Emily Dickinson   \n",
       "1                                  The Lesson                  Maya Angelou   \n",
       "2                        The Power of a Smile                  Tupac Shakur   \n",
       "3              a total stranger one black day  Edward Estlin (E E) Cummings   \n",
       "4  I float like a butterfly, sting like a bee                  Muhammad Ali   \n",
       "\n",
       "                                                poem  \n",
       "0  I'm nobody! Who are you?  Are you nobody, too?...  \n",
       "1  I keep on dying again.  Veins collapse, openin...  \n",
       "2  The power of a gun can kill  and the power of ...  \n",
       "3  a total stranger one black day  knocked living...  \n",
       "4         I float like a butterfly, sting like a bee  "
      ]
     },
     "execution_count": 8,
     "metadata": {},
     "output_type": "execute_result"
    }
   ],
   "source": [
    "df.to_pickle('top100_clean.pkl')\n",
    "df.to_csv('top100_clean.csv',header=['url','title','author','poem'],index=False)\n",
    "df.head()"
   ]
  },
  {
   "cell_type": "markdown",
   "metadata": {},
   "source": [
    "**Done!**"
   ]
  },
  {
   "cell_type": "code",
   "execution_count": 88,
   "metadata": {},
   "outputs": [],
   "source": [
    "df.to_csv?"
   ]
  },
  {
   "cell_type": "code",
   "execution_count": null,
   "metadata": {},
   "outputs": [],
   "source": []
  }
 ],
 "metadata": {
  "kernelspec": {
   "display_name": "Python 3",
   "language": "python",
   "name": "python3"
  },
  "language_info": {
   "codemirror_mode": {
    "name": "ipython",
    "version": 3
   },
   "file_extension": ".py",
   "mimetype": "text/x-python",
   "name": "python",
   "nbconvert_exporter": "python",
   "pygments_lexer": "ipython3",
   "version": "3.6.4"
  }
 },
 "nbformat": 4,
 "nbformat_minor": 2
}
