{
 "cells": [
  {
   "cell_type": "markdown",
   "metadata": {},
   "source": [
    "# This notebook scrapes poets.org for poems by theme"
   ]
  },
  {
   "cell_type": "code",
   "execution_count": 2,
   "metadata": {},
   "outputs": [],
   "source": [
    "from bs4 import BeautifulSoup\n",
    "import numpy as np\n",
    "import requests\n",
    "import pandas as pd\n",
    "import matplotlib\n",
    "from matplotlib import pyplot as plt\n",
    "%matplotlib inline"
   ]
  },
  {
   "cell_type": "markdown",
   "metadata": {},
   "source": [
    "## Part I:  build dataframe that collects all poems and their urls for each theme \n",
    "\n",
    "Establish connection to main poetry page"
   ]
  },
  {
   "cell_type": "code",
   "execution_count": 8,
   "metadata": {},
   "outputs": [],
   "source": [
    "main = requests.get(\"https://www.poets.org/poetsorg/poems\")\n",
    "main_soup = BeautifulSoup(main.text,'lxml') "
   ]
  },
  {
   "cell_type": "markdown",
   "metadata": {},
   "source": [
    "Scrape url of landing page for each occasion (we won't actually use these, but we have the option.)"
   ]
  },
  {
   "cell_type": "code",
   "execution_count": 12,
   "metadata": {},
   "outputs": [
    {
     "data": {
      "text/html": [
       "<div>\n",
       "<style scoped>\n",
       "    .dataframe tbody tr th:only-of-type {\n",
       "        vertical-align: middle;\n",
       "    }\n",
       "\n",
       "    .dataframe tbody tr th {\n",
       "        vertical-align: top;\n",
       "    }\n",
       "\n",
       "    .dataframe thead th {\n",
       "        text-align: right;\n",
       "    }\n",
       "</style>\n",
       "<table border=\"1\" class=\"dataframe\">\n",
       "  <thead>\n",
       "    <tr style=\"text-align: right;\">\n",
       "      <th></th>\n",
       "      <th>url</th>\n",
       "      <th>occasion</th>\n",
       "    </tr>\n",
       "  </thead>\n",
       "  <tbody>\n",
       "    <tr>\n",
       "      <th>0</th>\n",
       "      <td>/poetsorg/poems?field_occasion_tid=476</td>\n",
       "      <td>Anniversary</td>\n",
       "    </tr>\n",
       "    <tr>\n",
       "      <th>1</th>\n",
       "      <td>/poetsorg/poems?field_occasion_tid=1671</td>\n",
       "      <td>Asian/Pacific American Heritage Month</td>\n",
       "    </tr>\n",
       "    <tr>\n",
       "      <th>2</th>\n",
       "      <td>/poetsorg/poems?field_occasion_tid=484</td>\n",
       "      <td>Autumn</td>\n",
       "    </tr>\n",
       "    <tr>\n",
       "      <th>3</th>\n",
       "      <td>/poetsorg/poems?field_occasion_tid=478</td>\n",
       "      <td>Birthdays</td>\n",
       "    </tr>\n",
       "    <tr>\n",
       "      <th>4</th>\n",
       "      <td>/poetsorg/poems?field_occasion_tid=1501</td>\n",
       "      <td>Black History Month</td>\n",
       "    </tr>\n",
       "  </tbody>\n",
       "</table>\n",
       "</div>"
      ],
      "text/plain": [
       "                                       url  \\\n",
       "0   /poetsorg/poems?field_occasion_tid=476   \n",
       "1  /poetsorg/poems?field_occasion_tid=1671   \n",
       "2   /poetsorg/poems?field_occasion_tid=484   \n",
       "3   /poetsorg/poems?field_occasion_tid=478   \n",
       "4  /poetsorg/poems?field_occasion_tid=1501   \n",
       "\n",
       "                                occasion  \n",
       "0                            Anniversary  \n",
       "1  Asian/Pacific American Heritage Month  \n",
       "2                                 Autumn  \n",
       "3                              Birthdays  \n",
       "4                    Black History Month  "
      ]
     },
     "execution_count": 12,
     "metadata": {},
     "output_type": "execute_result"
    }
   ],
   "source": [
    "occasion_urls = []\n",
    "for occasion in main_soup.find_all('div',class_=\"occasions\")[0].find_all('li'):\n",
    "    occasion_url = occasion.contents[0].get('href')\n",
    "    occasion_name = occasion.get_text()\n",
    "    occasion_urls.append([occasion_url,occasion_name])\n",
    "    \n",
    "occasions = pd.DataFrame(occasion_urls,columns=['url','occasion'])\n",
    "occasions.head()"
   ]
  },
  {
   "cell_type": "markdown",
   "metadata": {},
   "source": [
    "Scrape urls of landing page for each theme "
   ]
  },
  {
   "cell_type": "code",
   "execution_count": 13,
   "metadata": {},
   "outputs": [
    {
     "data": {
      "text/html": [
       "<div>\n",
       "<style scoped>\n",
       "    .dataframe tbody tr th:only-of-type {\n",
       "        vertical-align: middle;\n",
       "    }\n",
       "\n",
       "    .dataframe tbody tr th {\n",
       "        vertical-align: top;\n",
       "    }\n",
       "\n",
       "    .dataframe thead th {\n",
       "        text-align: right;\n",
       "    }\n",
       "</style>\n",
       "<table border=\"1\" class=\"dataframe\">\n",
       "  <thead>\n",
       "    <tr style=\"text-align: right;\">\n",
       "      <th></th>\n",
       "      <th>url</th>\n",
       "      <th>theme</th>\n",
       "    </tr>\n",
       "  </thead>\n",
       "  <tbody>\n",
       "    <tr>\n",
       "      <th>0</th>\n",
       "      <td>/poetsorg/poems?field_poem_themes_tid=851</td>\n",
       "      <td>Afterlife</td>\n",
       "    </tr>\n",
       "    <tr>\n",
       "      <th>1</th>\n",
       "      <td>/poetsorg/poems?field_poem_themes_tid=856</td>\n",
       "      <td>Aging</td>\n",
       "    </tr>\n",
       "    <tr>\n",
       "      <th>2</th>\n",
       "      <td>/poetsorg/poems?field_poem_themes_tid=861</td>\n",
       "      <td>Ambition</td>\n",
       "    </tr>\n",
       "    <tr>\n",
       "      <th>3</th>\n",
       "      <td>/poetsorg/poems?field_poem_themes_tid=866</td>\n",
       "      <td>America</td>\n",
       "    </tr>\n",
       "    <tr>\n",
       "      <th>4</th>\n",
       "      <td>/poetsorg/poems?field_poem_themes_tid=871</td>\n",
       "      <td>American Revolution</td>\n",
       "    </tr>\n",
       "  </tbody>\n",
       "</table>\n",
       "</div>"
      ],
      "text/plain": [
       "                                         url                theme\n",
       "0  /poetsorg/poems?field_poem_themes_tid=851            Afterlife\n",
       "1  /poetsorg/poems?field_poem_themes_tid=856                Aging\n",
       "2  /poetsorg/poems?field_poem_themes_tid=861             Ambition\n",
       "3  /poetsorg/poems?field_poem_themes_tid=866              America\n",
       "4  /poetsorg/poems?field_poem_themes_tid=871  American Revolution"
      ]
     },
     "execution_count": 13,
     "metadata": {},
     "output_type": "execute_result"
    }
   ],
   "source": [
    "theme_urls = []\n",
    "for theme in main_soup.find_all('div',class_=\"themes\")[0].find_all('li'):\n",
    "    theme_url = theme.contents[0].get('href')\n",
    "    theme_name = theme.get_text()\n",
    "    theme_urls.append([theme_url,theme_name])\n",
    "    \n",
    "themes = pd.DataFrame(theme_urls,columns=['url','theme'])\n",
    "themes.head()"
   ]
  },
  {
   "cell_type": "markdown",
   "metadata": {},
   "source": [
    "Now build a master list of poem/theme combinations.  This involves some clever webscraping...for each theme, the results are displayed in a variable number of pages.  We need to figure out the number of pages, and use that number to predict the urls of the pages listing poems ('landing pages').  Once we have these landing pages, we scrape poem info from them.\n",
    "\n",
    "In order to implement this scheme, we'll need a helper function that returns the individual poem urls from each landing subpage for a given theme."
   ]
  },
  {
   "cell_type": "code",
   "execution_count": 14,
   "metadata": {},
   "outputs": [],
   "source": [
    "def get_poem_urls(landing_page_url,theme):# assemble list of poems from a landing page\n",
    "    year_title_url_poet_theme = []\n",
    "    main = requests.get(landing_page_url)\n",
    "    main_soup = BeautifulSoup(main.text,'lxml') \n",
    "    odd_entries = main_soup.find_all('tr', class_=\"odd\")\n",
    "    even_entries = main_soup.find_all('tr', class_=\"even\")\n",
    "    all_entries = odd_entries + even_entries\n",
    "    for entry in all_entries:\n",
    "        year = entry.find('span',class_=\"date-display-single\")\n",
    "        if year:\n",
    "            year = year.get_text()\n",
    "        else:\n",
    "            year = ''\n",
    "        titleblob = entry.find('td',class_=\"views-field views-field-title\")\n",
    "        title = titleblob.a.get_text()\n",
    "        poem_url = titleblob.a.get('href')\n",
    "        poet = entry.find('td',class_=\"views-field views-field-field-first-name\")\n",
    "        if poet.find('a'):\n",
    "            poet = poet.a.get_text()\n",
    "        else:\n",
    "            poet = ''\n",
    "        year_title_url_poet_theme.append([year,title,poem_url,poet,theme])\n",
    "\n",
    "    return year_title_url_poet_theme"
   ]
  },
  {
   "cell_type": "markdown",
   "metadata": {},
   "source": [
    "Now we'll simply crawl along each theme, and for each theme crawl along each page, and for each page grab all the poem info.\n",
    "\n",
    "**Caution:** this cell takes a while to run"
   ]
  },
  {
   "cell_type": "code",
   "execution_count": null,
   "metadata": {},
   "outputs": [],
   "source": [
    "# build master list of poem/theme and poem/occasion combos\n",
    "theme_master = []\n",
    "nrows = len(themes)\n",
    "for index, row in themes.iterrows():\n",
    "    url='https://www.poets.org'+row['url']\n",
    "    theme = row['theme']\n",
    "    # for each theme or occasion, figure out how many pages of output there are\n",
    "    main = requests.get(url)\n",
    "    main_soup = BeautifulSoup(main.text,'lxml') \n",
    "    npages=main_soup.find('li',class_=\"pager-item last\")\n",
    "    if npages:\n",
    "        npages = npages.get_text()\n",
    "    else:\n",
    "        npages=main_soup.find('li',class_=\"pager-last last\")\n",
    "        if npages:\n",
    "            npages = npages = npages.get_text()\n",
    "        else:\n",
    "            npages = 1\n",
    "    npages_int = int(npages)\n",
    "    page_urls = [url, theme]\n",
    "    print('theme:  ',theme)\n",
    "    # then run over each such page and get the poem urls\n",
    "    for i in np.arange(1,npages_int):\n",
    "        page_url = url + \"&page=\" + str(i)\n",
    "        poem_info = get_poem_urls(page_url,theme)\n",
    "        theme_master.append(poem_info)"
   ]
  },
  {
   "cell_type": "markdown",
   "metadata": {},
   "source": [
    "Finally, turn all this info into a data frame and save as both csv and pickle. "
   ]
  },
  {
   "cell_type": "code",
   "execution_count": 183,
   "metadata": {},
   "outputs": [],
   "source": [
    "df = pd.DataFrame(temp,columns=['year','title','url','author','theme'])\n",
    "df = df.loc[(df.theme!='Audio') & (df.theme!='Public Domain'),:]\n",
    "df.to_csv('poetsorg_themes.csv',index=False)\n",
    "df.to_pickle('poetsorg_themes.pkl')"
   ]
  },
  {
   "cell_type": "markdown",
   "metadata": {},
   "source": [
    "## Part II:  scrape the poems!\n",
    "\n",
    "\n",
    "OK, now onto the poems themselves!  This will really take a long time:  there are over 10000 labelled poems."
   ]
  },
  {
   "cell_type": "code",
   "execution_count": null,
   "metadata": {},
   "outputs": [],
   "source": [
    "all_poems = []\n",
    "counter = 0\n",
    "for row in reduced_unmatched.itertuples():\n",
    "    url = 'https://www.poets.org' + row[3]\n",
    "    main = requests.get(url)\n",
    "    main_soup = BeautifulSoup(main.text,'lxml') \n",
    "    poem_div=main_soup.find('div',class_=\"field field-name-body field-type-text-with-summary field-label-hidden\")\n",
    "    if poem_div:\n",
    "        text = poem_div.get_text(\" \")\n",
    "        entry = [url, text]\n",
    "    else:\n",
    "        print('missed {}'.format(url))\n",
    "    all_poems.append(entry)\n",
    "    counter+=1\n",
    "    #print out counter to keep track of where we are in this big loop\n",
    "    if np.mod(counter,10)==0:\n",
    "        print(\"counter: \", counter)\n",
    "        print('index: ', index)"
   ]
  },
  {
   "cell_type": "markdown",
   "metadata": {},
   "source": [
    "Turn list into a datafame and save.  Note that linebreaks are saved.  These might be useful for subsequent formatting, but will need to be cleaned out for processing."
   ]
  },
  {
   "cell_type": "code",
   "execution_count": 489,
   "metadata": {},
   "outputs": [],
   "source": [
    "df = pd.DataFrame(all_poems,columns=['url','text'])\n",
    "df.to_csv('poetsorg_full.csv',index=False)\n",
    "df.to_pickle('poetsorg_full.pkl',index=False)\n",
    "df.head()"
   ]
  },
  {
   "cell_type": "markdown",
   "metadata": {},
   "source": [
    "## Part III:  clean the data!"
   ]
  },
  {
   "cell_type": "code",
   "execution_count": 10,
   "metadata": {},
   "outputs": [
    {
     "name": "stdout",
     "output_type": "stream",
     "text": [
      "A total of 10360 poems!\n"
     ]
    }
   ],
   "source": [
    "df = pd.read_csv('poetsorg_full.csv')\n",
    "print(\"A total of {} poems!\".format(len(df)))"
   ]
  },
  {
   "cell_type": "markdown",
   "metadata": {},
   "source": [
    "Drop any record with missing values.  "
   ]
  },
  {
   "cell_type": "code",
   "execution_count": 4,
   "metadata": {},
   "outputs": [
    {
     "data": {
      "text/plain": [
       "10346"
      ]
     },
     "execution_count": 4,
     "metadata": {},
     "output_type": "execute_result"
    }
   ],
   "source": [
    "df = df.dropna(axis=0,subset=['poem','theme'],how='any')\n",
    "len(df)"
   ]
  },
  {
   "cell_type": "markdown",
   "metadata": {},
   "source": [
    "Remove carriage returns."
   ]
  },
  {
   "cell_type": "code",
   "execution_count": 5,
   "metadata": {},
   "outputs": [
    {
     "data": {
      "text/html": [
       "<div>\n",
       "<style scoped>\n",
       "    .dataframe tbody tr th:only-of-type {\n",
       "        vertical-align: middle;\n",
       "    }\n",
       "\n",
       "    .dataframe tbody tr th {\n",
       "        vertical-align: top;\n",
       "    }\n",
       "\n",
       "    .dataframe thead th {\n",
       "        text-align: right;\n",
       "    }\n",
       "</style>\n",
       "<table border=\"1\" class=\"dataframe\">\n",
       "  <thead>\n",
       "    <tr style=\"text-align: right;\">\n",
       "      <th></th>\n",
       "      <th>year</th>\n",
       "      <th>title</th>\n",
       "      <th>url</th>\n",
       "      <th>author</th>\n",
       "      <th>theme</th>\n",
       "      <th>poem</th>\n",
       "    </tr>\n",
       "  </thead>\n",
       "  <tbody>\n",
       "    <tr>\n",
       "      <th>0</th>\n",
       "      <td>2017.0</td>\n",
       "      <td>the dark tree, the cold sea</td>\n",
       "      <td>/poetsorg/poem/dark-tree-cold-sea</td>\n",
       "      <td>Emily Fragos</td>\n",
       "      <td>Afterlife</td>\n",
       "      <td>although I know you can never be found althoug...</td>\n",
       "    </tr>\n",
       "    <tr>\n",
       "      <th>1</th>\n",
       "      <td>2008.0</td>\n",
       "      <td>Populating Heaven</td>\n",
       "      <td>/poetsorg/poem/populating-heaven</td>\n",
       "      <td>Maureen N. McLane</td>\n",
       "      <td>Afterlife</td>\n",
       "      <td>If we belonged   to the dead, if we had our ow...</td>\n",
       "    </tr>\n",
       "    <tr>\n",
       "      <th>2</th>\n",
       "      <td>2006.0</td>\n",
       "      <td>The Night Migrations</td>\n",
       "      <td>/poetsorg/poem/night-migrations</td>\n",
       "      <td>Louise Glück</td>\n",
       "      <td>Afterlife</td>\n",
       "      <td>This is the moment when you see again the red ...</td>\n",
       "    </tr>\n",
       "    <tr>\n",
       "      <th>3</th>\n",
       "      <td>2004.0</td>\n",
       "      <td>Father Lynch Returns from the Dead</td>\n",
       "      <td>/poetsorg/poem/father-lynch-returns-dead</td>\n",
       "      <td>Jean Valentine</td>\n",
       "      <td>Afterlife</td>\n",
       "      <td>There's one day a year they can return,  if th...</td>\n",
       "    </tr>\n",
       "    <tr>\n",
       "      <th>4</th>\n",
       "      <td>1998.0</td>\n",
       "      <td>I heard a Fly buzz (465)</td>\n",
       "      <td>/poetsorg/poem/i-heard-fly-buzz-465</td>\n",
       "      <td>Emily Dickinson</td>\n",
       "      <td>Afterlife</td>\n",
       "      <td>I heard a Fly buzz – when I died –   The Still...</td>\n",
       "    </tr>\n",
       "  </tbody>\n",
       "</table>\n",
       "</div>"
      ],
      "text/plain": [
       "     year                               title  \\\n",
       "0  2017.0        the dark tree, the cold sea    \n",
       "1  2008.0                   Populating Heaven   \n",
       "2  2006.0                The Night Migrations   \n",
       "3  2004.0  Father Lynch Returns from the Dead   \n",
       "4  1998.0            I heard a Fly buzz (465)   \n",
       "\n",
       "                                        url             author      theme  \\\n",
       "0         /poetsorg/poem/dark-tree-cold-sea       Emily Fragos  Afterlife   \n",
       "1          /poetsorg/poem/populating-heaven  Maureen N. McLane  Afterlife   \n",
       "2           /poetsorg/poem/night-migrations       Louise Glück  Afterlife   \n",
       "3  /poetsorg/poem/father-lynch-returns-dead     Jean Valentine  Afterlife   \n",
       "4       /poetsorg/poem/i-heard-fly-buzz-465    Emily Dickinson  Afterlife   \n",
       "\n",
       "                                                poem  \n",
       "0  although I know you can never be found althoug...  \n",
       "1  If we belonged   to the dead, if we had our ow...  \n",
       "2  This is the moment when you see again the red ...  \n",
       "3  There's one day a year they can return,  if th...  \n",
       "4  I heard a Fly buzz – when I died –   The Still...  "
      ]
     },
     "execution_count": 5,
     "metadata": {},
     "output_type": "execute_result"
    }
   ],
   "source": [
    "df = df.replace({r'\\r|\\n': ' '}, regex=True)\n",
    "df.poem = df.poem.str.strip()\n",
    "df.head()"
   ]
  },
  {
   "cell_type": "markdown",
   "metadata": {},
   "source": [
    "Generate and store length information for each poem"
   ]
  },
  {
   "cell_type": "code",
   "execution_count": 6,
   "metadata": {},
   "outputs": [
    {
     "data": {
      "text/plain": [
       "(array([ 227.,  463.,  913., 1358., 1458., 1053.,  831.,  698.,  603.,\n",
       "         443.,  410.,  235.,  227.,  188.,  122.,  127.,   85.,  110.,\n",
       "          82.,   74.]),\n",
       " array([   0. ,  149.9,  299.8,  449.7,  599.6,  749.5,  899.4, 1049.3,\n",
       "        1199.2, 1349.1, 1499. , 1648.9, 1798.8, 1948.7, 2098.6, 2248.5,\n",
       "        2398.4, 2548.3, 2698.2, 2848.1, 2998. ]),\n",
       " <a list of 20 Patch objects>)"
      ]
     },
     "execution_count": 6,
     "metadata": {},
     "output_type": "execute_result"
    },
    {
     "data": {
      "image/png": "[encoded data removed]",
      "text/plain": [
       "<matplotlib.figure.Figure at 0x10e47e6a0>"
      ]
     },
     "metadata": {},
     "output_type": "display_data"
    }
   ],
   "source": [
    "# calculate length for each poem, and plot it in a histogram\n",
    "df['lengths'] = df['poem'].map(lambda x: len(x))\n",
    "max_length = 3000\n",
    "plt.hist(df.lengths.loc[df.lengths<max_length],20)"
   ]
  },
  {
   "cell_type": "code",
   "execution_count": 7,
   "metadata": {},
   "outputs": [
    {
     "data": {
      "text/plain": [
       "theme\n",
       "Afterlife               57\n",
       "Aging                  170\n",
       "Ambition                53\n",
       "America                135\n",
       "American Revolution     11\n",
       "Name: lengths, dtype: int64"
      ]
     },
     "execution_count": 7,
     "metadata": {},
     "output_type": "execute_result"
    }
   ],
   "source": [
    "grouped = df.groupby('theme')\n",
    "grouped.count().lengths[0:5]"
   ]
  },
  {
   "cell_type": "markdown",
   "metadata": {},
   "source": [
    "Store the clean data"
   ]
  },
  {
   "cell_type": "code",
   "execution_count": 8,
   "metadata": {},
   "outputs": [],
   "source": [
    "df.to_csv('poetsorg_clean.csv',index=False)\n",
    "df.to_pickle('poetsorg_clean.pkl')"
   ]
  },
  {
   "cell_type": "code",
   "execution_count": null,
   "metadata": {},
   "outputs": [],
   "source": []
  }
 ],
 "metadata": {
  "kernelspec": {
   "display_name": "Python 3",
   "language": "python",
   "name": "python3"
  },
  "language_info": {
   "codemirror_mode": {
    "name": "ipython",
    "version": 3
   },
   "file_extension": ".py",
   "mimetype": "text/x-python",
   "name": "python",
   "nbconvert_exporter": "python",
   "pygments_lexer": "ipython3",
   "version": "3.6.4"
  }
 },
 "nbformat": 4,
 "nbformat_minor": 2
}
